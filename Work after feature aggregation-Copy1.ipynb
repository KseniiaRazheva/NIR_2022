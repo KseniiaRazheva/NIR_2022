{
 "cells": [
  {
   "cell_type": "markdown",
   "id": "bfdd6027-5d89-4d6d-84c0-03a739c90344",
   "metadata": {},
   "source": [
    "## Загрузка полученных данных"
   ]
  },
  {
   "cell_type": "raw",
   "id": "a62023d5-dae5-4ad4-b15c-665720ece1e3",
   "metadata": {},
   "source": [
    "!pip install xgboost"
   ]
  },
  {
   "cell_type": "code",
   "execution_count": 1,
   "id": "0295498e-a186-45fa-9807-b034c780f746",
   "metadata": {},
   "outputs": [],
   "source": [
    "from sklearn.model_selection import  learning_curve\n",
    "from sklearn.ensemble import RandomForestClassifier\n",
    "from sklearn import metrics\n",
    "from sklearn.model_selection import GridSearchCV\n",
    "import pandas as pd\n",
    "from sklearn.model_selection import train_test_split\n",
    "\n",
    "from xgboost import XGBClassifier\n",
    "from sklearn.model_selection import  learning_curve\n",
    "from sklearn import metrics\n",
    "from sklearn.metrics import precision_score, recall_score, accuracy_score, f1_score, log_loss\n",
    "\n",
    "import torch\n",
    "from torch_geometric.data import Data\n",
    "\n",
    "from sklearn.metrics import precision_score, recall_score, accuracy_score, f1_score, log_loss, roc_auc_score, roc_curve"
   ]
  },
  {
   "cell_type": "markdown",
   "id": "1bcc7a06-dc96-453b-b696-40fae5aa9059",
   "metadata": {},
   "source": [
    "## Загрузка исходных данных"
   ]
  },
  {
   "cell_type": "code",
   "execution_count": 2,
   "id": "2511613f-af5d-452d-a5e0-e4344e55968a",
   "metadata": {},
   "outputs": [],
   "source": [
    "final_data = pd.read_csv('./Data/final_data.csv')"
   ]
  },
  {
   "cell_type": "code",
   "execution_count": 3,
   "id": "9850a53a-a5db-454d-a6e1-dc34afc7ec55",
   "metadata": {},
   "outputs": [
    {
     "data": {
      "text/html": [
       "<div>\n",
       "<style scoped>\n",
       "    .dataframe tbody tr th:only-of-type {\n",
       "        vertical-align: middle;\n",
       "    }\n",
       "\n",
       "    .dataframe tbody tr th {\n",
       "        vertical-align: top;\n",
       "    }\n",
       "\n",
       "    .dataframe thead th {\n",
       "        text-align: right;\n",
       "    }\n",
       "</style>\n",
       "<table border=\"1\" class=\"dataframe\">\n",
       "  <thead>\n",
       "    <tr style=\"text-align: right;\">\n",
       "      <th></th>\n",
       "      <th>amount</th>\n",
       "      <th>client_inn</th>\n",
       "      <th>partner_inn</th>\n",
       "      <th>years</th>\n",
       "      <th>Длина_Отн_в_днях</th>\n",
       "      <th>Клиент_Сегмент_КБ</th>\n",
       "      <th>Клиент_Сегмент_МБ</th>\n",
       "      <th>Клиент_Сегмент_МКП</th>\n",
       "      <th>Клиент_Сегмент_СБ</th>\n",
       "      <th>Клиент_НаличиеЗПпроекта_Д</th>\n",
       "      <th>Клиент_НаличиеЗПпроекта_Н</th>\n",
       "      <th>Fraud_presence</th>\n",
       "      <th>Reject_presence</th>\n",
       "    </tr>\n",
       "  </thead>\n",
       "  <tbody>\n",
       "    <tr>\n",
       "      <th>0</th>\n",
       "      <td>24630.0</td>\n",
       "      <td>1</td>\n",
       "      <td>119556.0</td>\n",
       "      <td>44.0</td>\n",
       "      <td>4886.0</td>\n",
       "      <td>0.0</td>\n",
       "      <td>0.0</td>\n",
       "      <td>1.0</td>\n",
       "      <td>0.0</td>\n",
       "      <td>0.0</td>\n",
       "      <td>1.0</td>\n",
       "      <td>0.0</td>\n",
       "      <td>0.0</td>\n",
       "    </tr>\n",
       "    <tr>\n",
       "      <th>1</th>\n",
       "      <td>1887000.0</td>\n",
       "      <td>1</td>\n",
       "      <td>1039411.0</td>\n",
       "      <td>44.0</td>\n",
       "      <td>4886.0</td>\n",
       "      <td>0.0</td>\n",
       "      <td>0.0</td>\n",
       "      <td>1.0</td>\n",
       "      <td>0.0</td>\n",
       "      <td>0.0</td>\n",
       "      <td>1.0</td>\n",
       "      <td>0.0</td>\n",
       "      <td>0.0</td>\n",
       "    </tr>\n",
       "  </tbody>\n",
       "</table>\n",
       "</div>"
      ],
      "text/plain": [
       "      amount  client_inn  partner_inn  years  Длина_Отн_в_днях  \\\n",
       "0    24630.0           1     119556.0   44.0            4886.0   \n",
       "1  1887000.0           1    1039411.0   44.0            4886.0   \n",
       "\n",
       "   Клиент_Сегмент_КБ  Клиент_Сегмент_МБ  Клиент_Сегмент_МКП  \\\n",
       "0                0.0                0.0                 1.0   \n",
       "1                0.0                0.0                 1.0   \n",
       "\n",
       "   Клиент_Сегмент_СБ  Клиент_НаличиеЗПпроекта_Д  Клиент_НаличиеЗПпроекта_Н  \\\n",
       "0                0.0                        0.0                        1.0   \n",
       "1                0.0                        0.0                        1.0   \n",
       "\n",
       "   Fraud_presence  Reject_presence  \n",
       "0             0.0              0.0  \n",
       "1             0.0              0.0  "
      ]
     },
     "execution_count": 3,
     "metadata": {},
     "output_type": "execute_result"
    }
   ],
   "source": [
    "final_data.head(2)"
   ]
  },
  {
   "cell_type": "code",
   "execution_count": 4,
   "id": "601c8d2e-f001-4d49-a5be-5bc311b3f818",
   "metadata": {},
   "outputs": [
    {
     "data": {
      "text/plain": [
       "(7025564, 13)"
      ]
     },
     "execution_count": 4,
     "metadata": {},
     "output_type": "execute_result"
    }
   ],
   "source": [
    "final_data.shape"
   ]
  },
  {
   "cell_type": "code",
   "execution_count": 5,
   "id": "e255376a-d02c-473e-bfc1-b18e51cf7a0d",
   "metadata": {},
   "outputs": [
    {
     "data": {
      "text/plain": [
       "(63864,)"
      ]
     },
     "execution_count": 5,
     "metadata": {},
     "output_type": "execute_result"
    }
   ],
   "source": [
    "final_data['client_inn'].unique().shape"
   ]
  },
  {
   "cell_type": "code",
   "execution_count": 6,
   "id": "bd5f3799-f4c6-4a75-b94e-c75078075608",
   "metadata": {},
   "outputs": [
    {
     "data": {
      "text/plain": [
       "(7025564, 13)"
      ]
     },
     "execution_count": 6,
     "metadata": {},
     "output_type": "execute_result"
    }
   ],
   "source": [
    "final_data.shape"
   ]
  },
  {
   "cell_type": "code",
   "execution_count": 7,
   "id": "872af0b5-1edc-46f6-8d9d-3c7665a2a311",
   "metadata": {},
   "outputs": [],
   "source": [
    "data_X = final_data.drop(['Fraud_presence'], axis=1)"
   ]
  },
  {
   "cell_type": "code",
   "execution_count": 8,
   "id": "84a876dd-0feb-44a7-beb8-64d77c4dab52",
   "metadata": {},
   "outputs": [
    {
     "data": {
      "text/plain": [
       "(7025564, 12)"
      ]
     },
     "execution_count": 8,
     "metadata": {},
     "output_type": "execute_result"
    }
   ],
   "source": [
    "data_X.shape"
   ]
  },
  {
   "cell_type": "code",
   "execution_count": 9,
   "id": "c44600a4-328d-4b5f-b54e-2ceace5cc5a8",
   "metadata": {},
   "outputs": [],
   "source": [
    "data_Y  = final_data['Fraud_presence']"
   ]
  },
  {
   "cell_type": "code",
   "execution_count": 11,
   "id": "908658d4-4110-47f9-aae1-362bcc03d603",
   "metadata": {},
   "outputs": [
    {
     "name": "stdout",
     "output_type": "stream",
     "text": [
      "           0            1             2         3         4          5  \\\n",
      "0    24630.0    44.000000   4886.000000  0.000000  0.000000   1.000000   \n",
      "1  4972657.0  1210.608032  75453.414062  4.896894  5.418703  13.393207   \n",
      "\n",
      "          6          7          8         9  \n",
      "0  0.000000   0.000000   1.000000  0.000000  \n",
      "1  2.351675  11.579055  14.481414  1.730347  \n"
     ]
    }
   ],
   "source": [
    "# Load the file\n",
    "pt_file_1 = torch.load(\"./graph_hope_1.pt\")\n",
    "\n",
    "pt_file_1 = pd.DataFrame(pt_file_1.numpy())\n",
    "\n",
    "# Print the head of the file\n",
    "print(pt_file_1.head(2))"
   ]
  },
  {
   "cell_type": "code",
   "execution_count": 12,
   "id": "61ad7f4b-1029-4db2-a665-6d4212bc82b5",
   "metadata": {},
   "outputs": [
    {
     "name": "stdout",
     "output_type": "stream",
     "text": [
      "           0            1              2         3         4          5  \\\n",
      "0    24630.0    44.000000    4886.000000  0.000000  0.000000   1.000000   \n",
      "1  9382997.0  1754.972046  108383.671875  7.124747  7.674322  19.626604   \n",
      "\n",
      "          6          7          8         9  \n",
      "0  0.000000   0.000000   1.000000  0.000000  \n",
      "1  3.435207  16.834064  21.026817  2.664571  \n"
     ]
    }
   ],
   "source": [
    "pt_file_2 = torch.load(\"./graph_hope_2.pt\")\n",
    "\n",
    "pt_file_2 = pd.DataFrame(pt_file_2.numpy())\n",
    "\n",
    "# Print the head of the file\n",
    "print(pt_file_2.head(2))"
   ]
  },
  {
   "cell_type": "code",
   "execution_count": 13,
   "id": "3ad320f8-4154-4b49-ad7f-7a09ef89f782",
   "metadata": {},
   "outputs": [
    {
     "data": {
      "text/plain": [
       "(7025564, 10)"
      ]
     },
     "execution_count": 13,
     "metadata": {},
     "output_type": "execute_result"
    }
   ],
   "source": [
    "pt_file_2.shape"
   ]
  },
  {
   "cell_type": "code",
   "execution_count": 14,
   "id": "47344229-9d2f-42b0-a139-2a1a2779b4a9",
   "metadata": {},
   "outputs": [
    {
     "name": "stdout",
     "output_type": "stream",
     "text": [
      "           0            1             2         3        4          5  \\\n",
      "0    24630.0    44.000000   4886.000000  0.000000  0.00000   1.000000   \n",
      "1  6458278.5  1301.647827  80652.882812  5.310198  5.69885  14.519223   \n",
      "\n",
      "          6          7          8        9  \n",
      "0  0.000000   0.000000   1.000000  0.00000  \n",
      "1  2.521633  12.525917  15.523928  1.94499  \n"
     ]
    }
   ],
   "source": [
    "pt_file_3 = torch.load(\"./graph_hope_3.pt\")\n",
    "\n",
    "pt_file_3 = pd.DataFrame(pt_file_3.numpy())\n",
    "\n",
    "# Print the head of the file\n",
    "print(pt_file_3.head(2))"
   ]
  },
  {
   "cell_type": "code",
   "execution_count": 17,
   "id": "0603f2d1-c015-48d8-a549-67650abaad19",
   "metadata": {},
   "outputs": [
    {
     "data": {
      "text/html": [
       "<div>\n",
       "<style scoped>\n",
       "    .dataframe tbody tr th:only-of-type {\n",
       "        vertical-align: middle;\n",
       "    }\n",
       "\n",
       "    .dataframe tbody tr th {\n",
       "        vertical-align: top;\n",
       "    }\n",
       "\n",
       "    .dataframe thead th {\n",
       "        text-align: right;\n",
       "    }\n",
       "</style>\n",
       "<table border=\"1\" class=\"dataframe\">\n",
       "  <thead>\n",
       "    <tr style=\"text-align: right;\">\n",
       "      <th></th>\n",
       "      <th>amount</th>\n",
       "      <th>client_inn</th>\n",
       "      <th>partner_inn</th>\n",
       "      <th>years</th>\n",
       "      <th>Длина_Отн_в_днях</th>\n",
       "      <th>Клиент_Сегмент_КБ</th>\n",
       "      <th>Клиент_Сегмент_МБ</th>\n",
       "      <th>Клиент_Сегмент_МКП</th>\n",
       "      <th>Клиент_Сегмент_СБ</th>\n",
       "      <th>Клиент_НаличиеЗПпроекта_Д</th>\n",
       "      <th>...</th>\n",
       "      <th>0</th>\n",
       "      <th>1</th>\n",
       "      <th>2</th>\n",
       "      <th>3</th>\n",
       "      <th>4</th>\n",
       "      <th>5</th>\n",
       "      <th>6</th>\n",
       "      <th>7</th>\n",
       "      <th>8</th>\n",
       "      <th>9</th>\n",
       "    </tr>\n",
       "  </thead>\n",
       "  <tbody>\n",
       "    <tr>\n",
       "      <th>0</th>\n",
       "      <td>24630.0</td>\n",
       "      <td>1</td>\n",
       "      <td>119556.0</td>\n",
       "      <td>44.0</td>\n",
       "      <td>4886.0</td>\n",
       "      <td>0.0</td>\n",
       "      <td>0.0</td>\n",
       "      <td>1.0</td>\n",
       "      <td>0.0</td>\n",
       "      <td>0.0</td>\n",
       "      <td>...</td>\n",
       "      <td>2.463000e+04</td>\n",
       "      <td>44.000000</td>\n",
       "      <td>4886.000000</td>\n",
       "      <td>0.000000</td>\n",
       "      <td>0.000000</td>\n",
       "      <td>1.000000</td>\n",
       "      <td>0.000000</td>\n",
       "      <td>0.000000</td>\n",
       "      <td>1.000000</td>\n",
       "      <td>0.000000</td>\n",
       "    </tr>\n",
       "    <tr>\n",
       "      <th>1</th>\n",
       "      <td>1887000.0</td>\n",
       "      <td>1</td>\n",
       "      <td>1039411.0</td>\n",
       "      <td>44.0</td>\n",
       "      <td>4886.0</td>\n",
       "      <td>0.0</td>\n",
       "      <td>0.0</td>\n",
       "      <td>1.0</td>\n",
       "      <td>0.0</td>\n",
       "      <td>0.0</td>\n",
       "      <td>...</td>\n",
       "      <td>6.458278e+06</td>\n",
       "      <td>1301.647827</td>\n",
       "      <td>80652.882812</td>\n",
       "      <td>5.310198</td>\n",
       "      <td>5.698850</td>\n",
       "      <td>14.519223</td>\n",
       "      <td>2.521633</td>\n",
       "      <td>12.525917</td>\n",
       "      <td>15.523928</td>\n",
       "      <td>1.944990</td>\n",
       "    </tr>\n",
       "    <tr>\n",
       "      <th>2</th>\n",
       "      <td>983723.6</td>\n",
       "      <td>1</td>\n",
       "      <td>1.0</td>\n",
       "      <td>44.0</td>\n",
       "      <td>4886.0</td>\n",
       "      <td>0.0</td>\n",
       "      <td>0.0</td>\n",
       "      <td>1.0</td>\n",
       "      <td>0.0</td>\n",
       "      <td>0.0</td>\n",
       "      <td>...</td>\n",
       "      <td>9.800780e+04</td>\n",
       "      <td>16.180094</td>\n",
       "      <td>1066.042358</td>\n",
       "      <td>0.055329</td>\n",
       "      <td>0.059258</td>\n",
       "      <td>0.212296</td>\n",
       "      <td>0.024398</td>\n",
       "      <td>0.135572</td>\n",
       "      <td>0.215708</td>\n",
       "      <td>0.023168</td>\n",
       "    </tr>\n",
       "    <tr>\n",
       "      <th>3</th>\n",
       "      <td>50737.0</td>\n",
       "      <td>1</td>\n",
       "      <td>1854478.0</td>\n",
       "      <td>44.0</td>\n",
       "      <td>4886.0</td>\n",
       "      <td>0.0</td>\n",
       "      <td>0.0</td>\n",
       "      <td>1.0</td>\n",
       "      <td>0.0</td>\n",
       "      <td>0.0</td>\n",
       "      <td>...</td>\n",
       "      <td>1.009752e+05</td>\n",
       "      <td>21.040787</td>\n",
       "      <td>1283.950684</td>\n",
       "      <td>0.077280</td>\n",
       "      <td>0.088134</td>\n",
       "      <td>0.254482</td>\n",
       "      <td>0.033558</td>\n",
       "      <td>0.195867</td>\n",
       "      <td>0.257587</td>\n",
       "      <td>0.032577</td>\n",
       "    </tr>\n",
       "    <tr>\n",
       "      <th>4</th>\n",
       "      <td>292000.0</td>\n",
       "      <td>1</td>\n",
       "      <td>454803.0</td>\n",
       "      <td>44.0</td>\n",
       "      <td>4886.0</td>\n",
       "      <td>0.0</td>\n",
       "      <td>0.0</td>\n",
       "      <td>1.0</td>\n",
       "      <td>0.0</td>\n",
       "      <td>0.0</td>\n",
       "      <td>...</td>\n",
       "      <td>2.920000e+05</td>\n",
       "      <td>44.000000</td>\n",
       "      <td>4886.000000</td>\n",
       "      <td>0.000000</td>\n",
       "      <td>0.000000</td>\n",
       "      <td>1.000000</td>\n",
       "      <td>0.000000</td>\n",
       "      <td>0.000000</td>\n",
       "      <td>1.000000</td>\n",
       "      <td>0.000000</td>\n",
       "    </tr>\n",
       "  </tbody>\n",
       "</table>\n",
       "<p>5 rows × 42 columns</p>\n",
       "</div>"
      ],
      "text/plain": [
       "      amount  client_inn  partner_inn  years  Длина_Отн_в_днях  \\\n",
       "0    24630.0           1     119556.0   44.0            4886.0   \n",
       "1  1887000.0           1    1039411.0   44.0            4886.0   \n",
       "2   983723.6           1          1.0   44.0            4886.0   \n",
       "3    50737.0           1    1854478.0   44.0            4886.0   \n",
       "4   292000.0           1     454803.0   44.0            4886.0   \n",
       "\n",
       "   Клиент_Сегмент_КБ  Клиент_Сегмент_МБ  Клиент_Сегмент_МКП  \\\n",
       "0                0.0                0.0                 1.0   \n",
       "1                0.0                0.0                 1.0   \n",
       "2                0.0                0.0                 1.0   \n",
       "3                0.0                0.0                 1.0   \n",
       "4                0.0                0.0                 1.0   \n",
       "\n",
       "   Клиент_Сегмент_СБ  Клиент_НаличиеЗПпроекта_Д  ...             0  \\\n",
       "0                0.0                        0.0  ...  2.463000e+04   \n",
       "1                0.0                        0.0  ...  6.458278e+06   \n",
       "2                0.0                        0.0  ...  9.800780e+04   \n",
       "3                0.0                        0.0  ...  1.009752e+05   \n",
       "4                0.0                        0.0  ...  2.920000e+05   \n",
       "\n",
       "             1             2         3         4          5         6  \\\n",
       "0    44.000000   4886.000000  0.000000  0.000000   1.000000  0.000000   \n",
       "1  1301.647827  80652.882812  5.310198  5.698850  14.519223  2.521633   \n",
       "2    16.180094   1066.042358  0.055329  0.059258   0.212296  0.024398   \n",
       "3    21.040787   1283.950684  0.077280  0.088134   0.254482  0.033558   \n",
       "4    44.000000   4886.000000  0.000000  0.000000   1.000000  0.000000   \n",
       "\n",
       "           7          8         9  \n",
       "0   0.000000   1.000000  0.000000  \n",
       "1  12.525917  15.523928  1.944990  \n",
       "2   0.135572   0.215708  0.023168  \n",
       "3   0.195867   0.257587  0.032577  \n",
       "4   0.000000   1.000000  0.000000  \n",
       "\n",
       "[5 rows x 42 columns]"
      ]
     },
     "execution_count": 17,
     "metadata": {},
     "output_type": "execute_result"
    }
   ],
   "source": [
    "all_feauters = pd.concat([data_X, pt_file_1, pt_file_2, pt_file_3], axis=1)\n",
    "all_feauters.head(5)"
   ]
  },
  {
   "cell_type": "code",
   "execution_count": 18,
   "id": "24fe23f2-1c09-4d44-88f9-36fad612d8ef",
   "metadata": {},
   "outputs": [
    {
     "data": {
      "text/plain": [
       "(7025564, 42)"
      ]
     },
     "execution_count": 18,
     "metadata": {},
     "output_type": "execute_result"
    }
   ],
   "source": [
    "all_feauters.shape"
   ]
  },
  {
   "cell_type": "markdown",
   "id": "9c76b3a7-0b2b-4b57-99cd-3d280126e061",
   "metadata": {},
   "source": [
    "## Разделение данных на train и test"
   ]
  },
  {
   "cell_type": "code",
   "execution_count": 19,
   "id": "f1faf705-a2ab-4a6f-84e0-464b5c5ac582",
   "metadata": {},
   "outputs": [],
   "source": [
    "X_train, X_test, y_train, y_test = train_test_split(all_feauters, data_Y, test_size=0.33, random_state=42)"
   ]
  },
  {
   "cell_type": "markdown",
   "id": "6dded7b7-8adc-4413-98be-628573b2a624",
   "metadata": {},
   "source": [
    "## Random Forest Classifier"
   ]
  },
  {
   "cell_type": "code",
   "execution_count": 20,
   "id": "1c712ca4-a491-4520-8022-1cb4e12052c3",
   "metadata": {},
   "outputs": [],
   "source": [
    "rf=RandomForestClassifier(random_state = 1, max_depth=10, n_estimators=60, n_jobs=-1)"
   ]
  },
  {
   "cell_type": "code",
   "execution_count": 21,
   "id": "1db49e5c-3127-492c-a6f2-c3fe5d229038",
   "metadata": {},
   "outputs": [
    {
     "name": "stderr",
     "output_type": "stream",
     "text": [
      "/data/home/krazheva/.conda/envs/py310/lib/python3.10/site-packages/sklearn/utils/validation.py:1675: FutureWarning: Feature names only support names that are all strings. Got feature names with dtypes: ['int', 'str']. An error will be raised in 1.2.\n",
      "  warnings.warn(\n"
     ]
    },
    {
     "data": {
      "text/plain": [
       "RandomForestClassifier(max_depth=10, n_estimators=60, n_jobs=-1, random_state=1)"
      ]
     },
     "execution_count": 21,
     "metadata": {},
     "output_type": "execute_result"
    }
   ],
   "source": [
    "rf.fit(X_train, y_train)"
   ]
  },
  {
   "cell_type": "code",
   "execution_count": 22,
   "id": "ac4abc08-7778-4223-81aa-682f4a15d9d0",
   "metadata": {},
   "outputs": [
    {
     "name": "stderr",
     "output_type": "stream",
     "text": [
      "/data/home/krazheva/.conda/envs/py310/lib/python3.10/site-packages/sklearn/utils/validation.py:1675: FutureWarning: Feature names only support names that are all strings. Got feature names with dtypes: ['int', 'str']. An error will be raised in 1.2.\n",
      "  warnings.warn(\n"
     ]
    },
    {
     "data": {
      "text/plain": [
       "array([0., 0., 0., ..., 0., 0., 0.])"
      ]
     },
     "execution_count": 22,
     "metadata": {},
     "output_type": "execute_result"
    }
   ],
   "source": [
    "predictions_rf = rf.predict(X_test)\n",
    "predictions_rf"
   ]
  },
  {
   "cell_type": "code",
   "execution_count": 23,
   "id": "00ba3153-bad8-48b8-a8e6-2cad8542c318",
   "metadata": {},
   "outputs": [
    {
     "name": "stdout",
     "output_type": "stream",
     "text": [
      "Precision: 0.8200640686533827\n",
      "Recall:  0.5374377642311655\n",
      "Accuracy:  0.974001018789814\n",
      "F1-score:  0.649330098725355\n",
      "Log_loss:  0.8979772216482764\n"
     ]
    }
   ],
   "source": [
    "print(\"Precision:\", precision_score(y_test, predictions_rf))\n",
    "print(\"Recall: \", recall_score(y_test, predictions_rf))\n",
    "print(\"Accuracy: \", accuracy_score(y_test, predictions_rf))\n",
    "print(\"F1-score: \", f1_score(y_test, predictions_rf))\n",
    "print(\"Log_loss: \", log_loss(y_test, predictions_rf))"
   ]
  },
  {
   "cell_type": "code",
   "execution_count": 24,
   "id": "641a0d49-54db-4ad5-a083-47cb68db5537",
   "metadata": {},
   "outputs": [
    {
     "name": "stderr",
     "output_type": "stream",
     "text": [
      "/data/home/krazheva/.conda/envs/py310/lib/python3.10/site-packages/sklearn/utils/validation.py:1675: FutureWarning: Feature names only support names that are all strings. Got feature names with dtypes: ['int', 'str']. An error will be raised in 1.2.\n",
      "  warnings.warn(\n"
     ]
    },
    {
     "data": {
      "text/plain": [
       "0.9622490763633756"
      ]
     },
     "execution_count": 24,
     "metadata": {},
     "output_type": "execute_result"
    }
   ],
   "source": [
    "roc_auc_score(y_test, rf.predict_proba(X_test)[:,1])"
   ]
  },
  {
   "cell_type": "code",
   "execution_count": 25,
   "id": "55a01379-2334-4f34-aab3-f6a6d6bdda69",
   "metadata": {},
   "outputs": [
    {
     "name": "stderr",
     "output_type": "stream",
     "text": [
      "/data/home/krazheva/.conda/envs/py310/lib/python3.10/site-packages/sklearn/utils/validation.py:1675: FutureWarning: Feature names only support names that are all strings. Got feature names with dtypes: ['int', 'str']. An error will be raised in 1.2.\n",
      "  warnings.warn(\n"
     ]
    }
   ],
   "source": [
    "predict = rf.predict_proba(X_test)\n",
    "pos_param = predict[:, 1]"
   ]
  },
  {
   "cell_type": "code",
   "execution_count": 26,
   "id": "f5957d86-e8bb-45b2-95da-f345c3e28d67",
   "metadata": {},
   "outputs": [],
   "source": [
    "from sklearn.metrics import precision_score, recall_score, accuracy_score, f1_score, log_loss, roc_auc_score, roc_curve\n",
    "\n",
    "from sklearn.metrics import roc_curve, auc\n",
    "from sklearn.metrics import roc_auc_score\n",
    "from matplotlib import pyplot as plt"
   ]
  },
  {
   "cell_type": "code",
   "execution_count": 27,
   "id": "75b7fceb-1075-4843-96bd-ba99e7f54ea4",
   "metadata": {},
   "outputs": [
    {
     "data": {
      "image/png": "[encoded data removed]",
      "text/plain": [
       "<Figure size 640x480 with 1 Axes>"
      ]
     },
     "metadata": {},
     "output_type": "display_data"
    }
   ],
   "source": [
    "fpr, tpr, treshold = roc_curve(y_test, pos_param)\n",
    "roc_auc = auc(fpr, tpr)\n",
    "# строим график\n",
    "plt.plot(fpr, tpr, color='darkorange',\n",
    "         label='ROC кривая (area = %0.2f)' % roc_auc)\n",
    "plt.plot([0, 1], [0, 1], color='navy', linestyle='--')\n",
    "plt.xlim([0.0, 1.0])\n",
    "plt.ylim([0.0, 1.05])\n",
    "plt.xlabel('False Positive Rate')\n",
    "plt.ylabel('True Positive Rate')\n",
    "plt.title('ROC-кривая')\n",
    "plt.legend(loc=\"lower right\")\n",
    "plt.show()"
   ]
  },
  {
   "cell_type": "code",
   "execution_count": null,
   "id": "fa21b1ba-003b-40a6-b516-06dfcb52372d",
   "metadata": {},
   "outputs": [],
   "source": []
  },
  {
   "cell_type": "code",
   "execution_count": null,
   "id": "88522947-5f1e-4a06-b0d4-237dba671f5d",
   "metadata": {},
   "outputs": [],
   "source": []
  }
 ],
 "metadata": {
  "kernelspec": {
   "display_name": "Python [conda env:.conda-py310]",
   "language": "python",
   "name": "conda-env-.conda-py310-py"
  },
  "language_info": {
   "codemirror_mode": {
    "name": "ipython",
    "version": 3
   },
   "file_extension": ".py",
   "mimetype": "text/x-python",
   "name": "python",
   "nbconvert_exporter": "python",
   "pygments_lexer": "ipython3",
   "version": "3.10.9"
  }
 },
 "nbformat": 4,
 "nbformat_minor": 5
}
