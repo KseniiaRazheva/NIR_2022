{
 "cells": [
  {
   "cell_type": "code",
   "execution_count": 30,
   "id": "020a20ab-b07e-45b1-aadd-cc6a015484d9",
   "metadata": {},
   "outputs": [],
   "source": [
    "import numpy as np\n",
    "import matplotlib.pyplot as plt\n",
    "import scipy\n",
    "import pandas as pd\n",
    "\n",
    "\n",
    "%matplotlib inline"
   ]
  },
  {
   "cell_type": "code",
   "execution_count": 31,
   "id": "93133a1c-1363-41e4-a818-4672fabb715c",
   "metadata": {},
   "outputs": [
    {
     "data": {
      "text/html": [
       "<div>\n",
       "<style scoped>\n",
       "    .dataframe tbody tr th:only-of-type {\n",
       "        vertical-align: middle;\n",
       "    }\n",
       "\n",
       "    .dataframe tbody tr th {\n",
       "        vertical-align: top;\n",
       "    }\n",
       "\n",
       "    .dataframe thead th {\n",
       "        text-align: right;\n",
       "    }\n",
       "</style>\n",
       "<table border=\"1\" class=\"dataframe\">\n",
       "  <thead>\n",
       "    <tr style=\"text-align: right;\">\n",
       "      <th></th>\n",
       "      <th>date_key</th>\n",
       "      <th>amount</th>\n",
       "      <th>client_inn</th>\n",
       "      <th>partner_inn</th>\n",
       "      <th>client_bik</th>\n",
       "      <th>partner_bik</th>\n",
       "      <th>direction</th>\n",
       "    </tr>\n",
       "  </thead>\n",
       "  <tbody>\n",
       "    <tr>\n",
       "      <th>0</th>\n",
       "      <td>2018-03-01</td>\n",
       "      <td>41000.00</td>\n",
       "      <td>1279230</td>\n",
       "      <td>1</td>\n",
       "      <td>1503</td>\n",
       "      <td>1503</td>\n",
       "      <td>in</td>\n",
       "    </tr>\n",
       "    <tr>\n",
       "      <th>1</th>\n",
       "      <td>2018-03-01</td>\n",
       "      <td>482300.00</td>\n",
       "      <td>1224261</td>\n",
       "      <td>13022</td>\n",
       "      <td>1503</td>\n",
       "      <td>1441</td>\n",
       "      <td>in</td>\n",
       "    </tr>\n",
       "    <tr>\n",
       "      <th>2</th>\n",
       "      <td>2018-03-01</td>\n",
       "      <td>15.72</td>\n",
       "      <td>1549773</td>\n",
       "      <td>119556</td>\n",
       "      <td>759</td>\n",
       "      <td>759</td>\n",
       "      <td>in</td>\n",
       "    </tr>\n",
       "    <tr>\n",
       "      <th>3</th>\n",
       "      <td>2018-03-01</td>\n",
       "      <td>4217742.30</td>\n",
       "      <td>976651</td>\n",
       "      <td>976651</td>\n",
       "      <td>759</td>\n",
       "      <td>759</td>\n",
       "      <td>in</td>\n",
       "    </tr>\n",
       "    <tr>\n",
       "      <th>4</th>\n",
       "      <td>2018-03-01</td>\n",
       "      <td>11.77</td>\n",
       "      <td>1413113</td>\n",
       "      <td>1003953</td>\n",
       "      <td>1503</td>\n",
       "      <td>1441</td>\n",
       "      <td>in</td>\n",
       "    </tr>\n",
       "  </tbody>\n",
       "</table>\n",
       "</div>"
      ],
      "text/plain": [
       "     date_key      amount  client_inn  partner_inn  client_bik  partner_bik  \\\n",
       "0  2018-03-01    41000.00     1279230            1        1503         1503   \n",
       "1  2018-03-01   482300.00     1224261        13022        1503         1441   \n",
       "2  2018-03-01       15.72     1549773       119556         759          759   \n",
       "3  2018-03-01  4217742.30      976651       976651         759          759   \n",
       "4  2018-03-01       11.77     1413113      1003953        1503         1441   \n",
       "\n",
       "  direction  \n",
       "0        in  \n",
       "1        in  \n",
       "2        in  \n",
       "3        in  \n",
       "4        in  "
      ]
     },
     "execution_count": 31,
     "metadata": {},
     "output_type": "execute_result"
    }
   ],
   "source": [
    "data = pd.read_csv('/data/home/krazheva/transactions_without_text.csv')\n",
    "data_new = data.loc[data['date_key'] > '2021-03-01']\n",
    "data = data.drop(data.index[119833238:123351243])\n",
    "data.head()"
   ]
  },
  {
   "cell_type": "markdown",
   "id": "1483083a-ab9e-4171-9a78-15782e39bba9",
   "metadata": {},
   "source": [
    "Data Clients"
   ]
  },
  {
   "cell_type": "code",
   "execution_count": 32,
   "id": "b9afa847-9e72-4aed-bbc3-929033e1dd77",
   "metadata": {},
   "outputs": [
    {
     "data": {
      "text/html": [
       "<div>\n",
       "<style scoped>\n",
       "    .dataframe tbody tr th:only-of-type {\n",
       "        vertical-align: middle;\n",
       "    }\n",
       "\n",
       "    .dataframe tbody tr th {\n",
       "        vertical-align: top;\n",
       "    }\n",
       "\n",
       "    .dataframe thead th {\n",
       "        text-align: right;\n",
       "    }\n",
       "</style>\n",
       "<table border=\"1\" class=\"dataframe\">\n",
       "  <thead>\n",
       "    <tr style=\"text-align: right;\">\n",
       "      <th></th>\n",
       "      <th>inn</th>\n",
       "      <th>Клиент_ДатаРег.</th>\n",
       "      <th>Клиент_ДатаНачалаОтн</th>\n",
       "      <th>Клиент_Сегмент</th>\n",
       "      <th>years</th>\n",
       "    </tr>\n",
       "  </thead>\n",
       "  <tbody>\n",
       "    <tr>\n",
       "      <th>0</th>\n",
       "      <td>1384214</td>\n",
       "      <td>03.09.2015</td>\n",
       "      <td>26.03.2021</td>\n",
       "      <td>МБ</td>\n",
       "      <td>0</td>\n",
       "    </tr>\n",
       "    <tr>\n",
       "      <th>1</th>\n",
       "      <td>286507</td>\n",
       "      <td>15.10.2013</td>\n",
       "      <td>25.10.2013</td>\n",
       "      <td>МКП</td>\n",
       "      <td>34</td>\n",
       "    </tr>\n",
       "    <tr>\n",
       "      <th>2</th>\n",
       "      <td>648912</td>\n",
       "      <td>12.03.2021</td>\n",
       "      <td>26.03.2021</td>\n",
       "      <td>МБ</td>\n",
       "      <td>0</td>\n",
       "    </tr>\n",
       "    <tr>\n",
       "      <th>3</th>\n",
       "      <td>1436001</td>\n",
       "      <td>05.04.2002</td>\n",
       "      <td>11.02.2005</td>\n",
       "      <td>КБ</td>\n",
       "      <td>53</td>\n",
       "    </tr>\n",
       "    <tr>\n",
       "      <th>4</th>\n",
       "      <td>918092</td>\n",
       "      <td>19.08.2020</td>\n",
       "      <td>26.03.2021</td>\n",
       "      <td>МКП</td>\n",
       "      <td>0</td>\n",
       "    </tr>\n",
       "  </tbody>\n",
       "</table>\n",
       "</div>"
      ],
      "text/plain": [
       "       inn Клиент_ДатаРег. Клиент_ДатаНачалаОтн Клиент_Сегмент  years\n",
       "0  1384214      03.09.2015           26.03.2021             МБ      0\n",
       "1   286507      15.10.2013           25.10.2013            МКП     34\n",
       "2   648912      12.03.2021           26.03.2021             МБ      0\n",
       "3  1436001      05.04.2002           11.02.2005             КБ     53\n",
       "4   918092      19.08.2020           26.03.2021            МКП      0"
      ]
     },
     "execution_count": 32,
     "metadata": {},
     "output_type": "execute_result"
    }
   ],
   "source": [
    "clients_first = pd.read_csv('/data/home/krazheva/data_clients.csv')\n",
    "clients = clients_first.drop(['Клиент_НаличиеЗПпроекта', 'Клиент_ДатаЗавершОтн', 'Клиент_АдресРегистрацииОКАТО', 'Представитель_АдресЖительстваОКАТО', 'Представитель_НачалоДействия', 'Представитель_ОкончаниеДействия'], axis=1)\n",
    "clients.head()"
   ]
  },
  {
   "cell_type": "markdown",
   "id": "cb060dc3-6bbb-44ec-806e-b484ce552307",
   "metadata": {},
   "source": [
    "Fraud"
   ]
  },
  {
   "cell_type": "code",
   "execution_count": 33,
   "id": "173f1527-11f1-4e6e-9628-0bdf476be9cf",
   "metadata": {},
   "outputs": [
    {
     "data": {
      "text/html": [
       "<div>\n",
       "<style scoped>\n",
       "    .dataframe tbody tr th:only-of-type {\n",
       "        vertical-align: middle;\n",
       "    }\n",
       "\n",
       "    .dataframe tbody tr th {\n",
       "        vertical-align: top;\n",
       "    }\n",
       "\n",
       "    .dataframe thead th {\n",
       "        text-align: right;\n",
       "    }\n",
       "</style>\n",
       "<table border=\"1\" class=\"dataframe\">\n",
       "  <thead>\n",
       "    <tr style=\"text-align: right;\">\n",
       "      <th></th>\n",
       "      <th>inn</th>\n",
       "      <th>month_fraud</th>\n",
       "    </tr>\n",
       "  </thead>\n",
       "  <tbody>\n",
       "    <tr>\n",
       "      <th>0</th>\n",
       "      <td>249847</td>\n",
       "      <td>2021-03-01</td>\n",
       "    </tr>\n",
       "    <tr>\n",
       "      <th>1</th>\n",
       "      <td>170435</td>\n",
       "      <td>2020-04-01</td>\n",
       "    </tr>\n",
       "    <tr>\n",
       "      <th>2</th>\n",
       "      <td>1499321</td>\n",
       "      <td>2019-05-01</td>\n",
       "    </tr>\n",
       "    <tr>\n",
       "      <th>3</th>\n",
       "      <td>533212</td>\n",
       "      <td>2021-03-01</td>\n",
       "    </tr>\n",
       "    <tr>\n",
       "      <th>4</th>\n",
       "      <td>1623507</td>\n",
       "      <td>2021-03-01</td>\n",
       "    </tr>\n",
       "  </tbody>\n",
       "</table>\n",
       "</div>"
      ],
      "text/plain": [
       "       inn month_fraud\n",
       "0   249847  2021-03-01\n",
       "1   170435  2020-04-01\n",
       "2  1499321  2019-05-01\n",
       "3   533212  2021-03-01\n",
       "4  1623507  2021-03-01"
      ]
     },
     "execution_count": 33,
     "metadata": {},
     "output_type": "execute_result"
    }
   ],
   "source": [
    "fraud = pd.read_csv('/data/home/krazheva/data_fraud.csv')\n",
    "fraud.head()"
   ]
  },
  {
   "cell_type": "code",
   "execution_count": 34,
   "id": "94ed8501-44f0-4959-94e2-5c7b4604ec5e",
   "metadata": {},
   "outputs": [
    {
     "data": {
      "text/html": [
       "<div>\n",
       "<style scoped>\n",
       "    .dataframe tbody tr th:only-of-type {\n",
       "        vertical-align: middle;\n",
       "    }\n",
       "\n",
       "    .dataframe tbody tr th {\n",
       "        vertical-align: top;\n",
       "    }\n",
       "\n",
       "    .dataframe thead th {\n",
       "        text-align: right;\n",
       "    }\n",
       "</style>\n",
       "<table border=\"1\" class=\"dataframe\">\n",
       "  <thead>\n",
       "    <tr style=\"text-align: right;\">\n",
       "      <th></th>\n",
       "      <th>inn</th>\n",
       "      <th>month_fraud</th>\n",
       "    </tr>\n",
       "  </thead>\n",
       "  <tbody>\n",
       "    <tr>\n",
       "      <th>0</th>\n",
       "      <td>249847</td>\n",
       "      <td>2021-03-01</td>\n",
       "    </tr>\n",
       "    <tr>\n",
       "      <th>120</th>\n",
       "      <td>397979</td>\n",
       "      <td>2021-03-01</td>\n",
       "    </tr>\n",
       "    <tr>\n",
       "      <th>680</th>\n",
       "      <td>1894908</td>\n",
       "      <td>2021-03-01</td>\n",
       "    </tr>\n",
       "    <tr>\n",
       "      <th>184</th>\n",
       "      <td>1409774</td>\n",
       "      <td>2021-03-01</td>\n",
       "    </tr>\n",
       "    <tr>\n",
       "      <th>187</th>\n",
       "      <td>1409646</td>\n",
       "      <td>2021-03-01</td>\n",
       "    </tr>\n",
       "  </tbody>\n",
       "</table>\n",
       "</div>"
      ],
      "text/plain": [
       "         inn month_fraud\n",
       "0     249847  2021-03-01\n",
       "120   397979  2021-03-01\n",
       "680  1894908  2021-03-01\n",
       "184  1409774  2021-03-01\n",
       "187  1409646  2021-03-01"
      ]
     },
     "execution_count": 34,
     "metadata": {},
     "output_type": "execute_result"
    }
   ],
   "source": [
    "fraud_sort = fraud.sort_values(by=['month_fraud'], ascending=False)\n",
    "fraud_sort.head()"
   ]
  },
  {
   "cell_type": "code",
   "execution_count": 35,
   "id": "2e842b54-0ab5-4bbb-af34-6b3533fdc3ac",
   "metadata": {},
   "outputs": [
    {
     "data": {
      "text/html": [
       "<div>\n",
       "<style scoped>\n",
       "    .dataframe tbody tr th:only-of-type {\n",
       "        vertical-align: middle;\n",
       "    }\n",
       "\n",
       "    .dataframe tbody tr th {\n",
       "        vertical-align: top;\n",
       "    }\n",
       "\n",
       "    .dataframe thead th {\n",
       "        text-align: right;\n",
       "    }\n",
       "</style>\n",
       "<table border=\"1\" class=\"dataframe\">\n",
       "  <thead>\n",
       "    <tr style=\"text-align: right;\">\n",
       "      <th></th>\n",
       "      <th>inn</th>\n",
       "      <th>month_fraud</th>\n",
       "    </tr>\n",
       "  </thead>\n",
       "  <tbody>\n",
       "    <tr>\n",
       "      <th>0</th>\n",
       "      <td>249847</td>\n",
       "      <td>2021-03-01</td>\n",
       "    </tr>\n",
       "    <tr>\n",
       "      <th>1</th>\n",
       "      <td>170435</td>\n",
       "      <td>2020-04-01</td>\n",
       "    </tr>\n",
       "    <tr>\n",
       "      <th>2</th>\n",
       "      <td>1499321</td>\n",
       "      <td>2019-05-01</td>\n",
       "    </tr>\n",
       "    <tr>\n",
       "      <th>3</th>\n",
       "      <td>533212</td>\n",
       "      <td>2021-03-01</td>\n",
       "    </tr>\n",
       "    <tr>\n",
       "      <th>4</th>\n",
       "      <td>1623507</td>\n",
       "      <td>2021-03-01</td>\n",
       "    </tr>\n",
       "  </tbody>\n",
       "</table>\n",
       "</div>"
      ],
      "text/plain": [
       "       inn month_fraud\n",
       "0   249847  2021-03-01\n",
       "1   170435  2020-04-01\n",
       "2  1499321  2019-05-01\n",
       "3   533212  2021-03-01\n",
       "4  1623507  2021-03-01"
      ]
     },
     "execution_count": 35,
     "metadata": {},
     "output_type": "execute_result"
    }
   ],
   "source": [
    "fraud_new = fraud.loc[fraud['month_fraud'] < '2018-03-01']\n",
    "index1 = fraud_new.iloc[:,0]\n",
    "index1 = (index1.index.tolist())\n",
    "fraud_new = fraud.loc[fraud['month_fraud'] < '2018-03-01']\n",
    "fraud = fraud.drop(index1)\n",
    "fraud.head()"
   ]
  },
  {
   "cell_type": "code",
   "execution_count": 36,
   "id": "70c3caeb-c3eb-4f92-90cd-df00bfd1823b",
   "metadata": {},
   "outputs": [
    {
     "data": {
      "text/html": [
       "<div>\n",
       "<style scoped>\n",
       "    .dataframe tbody tr th:only-of-type {\n",
       "        vertical-align: middle;\n",
       "    }\n",
       "\n",
       "    .dataframe tbody tr th {\n",
       "        vertical-align: top;\n",
       "    }\n",
       "\n",
       "    .dataframe thead th {\n",
       "        text-align: right;\n",
       "    }\n",
       "</style>\n",
       "<table border=\"1\" class=\"dataframe\">\n",
       "  <thead>\n",
       "    <tr style=\"text-align: right;\">\n",
       "      <th></th>\n",
       "      <th>inn</th>\n",
       "      <th>month_fraud</th>\n",
       "      <th>Fraud_presence</th>\n",
       "    </tr>\n",
       "  </thead>\n",
       "  <tbody>\n",
       "    <tr>\n",
       "      <th>0</th>\n",
       "      <td>249847</td>\n",
       "      <td>2021-03-01</td>\n",
       "      <td>1</td>\n",
       "    </tr>\n",
       "    <tr>\n",
       "      <th>1</th>\n",
       "      <td>170435</td>\n",
       "      <td>2020-04-01</td>\n",
       "      <td>1</td>\n",
       "    </tr>\n",
       "    <tr>\n",
       "      <th>2</th>\n",
       "      <td>1499321</td>\n",
       "      <td>2019-05-01</td>\n",
       "      <td>1</td>\n",
       "    </tr>\n",
       "    <tr>\n",
       "      <th>3</th>\n",
       "      <td>533212</td>\n",
       "      <td>2021-03-01</td>\n",
       "      <td>1</td>\n",
       "    </tr>\n",
       "    <tr>\n",
       "      <th>4</th>\n",
       "      <td>1623507</td>\n",
       "      <td>2021-03-01</td>\n",
       "      <td>1</td>\n",
       "    </tr>\n",
       "  </tbody>\n",
       "</table>\n",
       "</div>"
      ],
      "text/plain": [
       "       inn month_fraud  Fraud_presence\n",
       "0   249847  2021-03-01               1\n",
       "1   170435  2020-04-01               1\n",
       "2  1499321  2019-05-01               1\n",
       "3   533212  2021-03-01               1\n",
       "4  1623507  2021-03-01               1"
      ]
     },
     "execution_count": 36,
     "metadata": {},
     "output_type": "execute_result"
    }
   ],
   "source": [
    "fraud = fraud.assign(Fraud_presence = 1)\n",
    "fraud.head()"
   ]
  },
  {
   "cell_type": "markdown",
   "id": "acbe8197-c049-45a4-b471-4a5114cbd146",
   "metadata": {},
   "source": [
    "Reject"
   ]
  },
  {
   "cell_type": "code",
   "execution_count": 37,
   "id": "2dcbe43f-37a1-415a-9377-12b5f16c4e2f",
   "metadata": {},
   "outputs": [
    {
     "data": {
      "text/html": [
       "<div>\n",
       "<style scoped>\n",
       "    .dataframe tbody tr th:only-of-type {\n",
       "        vertical-align: middle;\n",
       "    }\n",
       "\n",
       "    .dataframe tbody tr th {\n",
       "        vertical-align: top;\n",
       "    }\n",
       "\n",
       "    .dataframe thead th {\n",
       "        text-align: right;\n",
       "    }\n",
       "</style>\n",
       "<table border=\"1\" class=\"dataframe\">\n",
       "  <thead>\n",
       "    <tr style=\"text-align: right;\">\n",
       "      <th></th>\n",
       "      <th>inn</th>\n",
       "      <th>РеестрОтказов_ТипУчастника</th>\n",
       "      <th>РеестрОтказов_КодОтказаСтрокой</th>\n",
       "      <th>month_reject</th>\n",
       "      <th>Reject_presence</th>\n",
       "    </tr>\n",
       "  </thead>\n",
       "  <tbody>\n",
       "    <tr>\n",
       "      <th>0</th>\n",
       "      <td>826229</td>\n",
       "      <td>ИП</td>\n",
       "      <td>Отказ от закл.дог.</td>\n",
       "      <td>2017-07-01</td>\n",
       "      <td>1</td>\n",
       "    </tr>\n",
       "    <tr>\n",
       "      <th>1</th>\n",
       "      <td>183819</td>\n",
       "      <td>ИП</td>\n",
       "      <td>Отказ от закл.дог.</td>\n",
       "      <td>2017-07-01</td>\n",
       "      <td>1</td>\n",
       "    </tr>\n",
       "    <tr>\n",
       "      <th>2</th>\n",
       "      <td>1447227</td>\n",
       "      <td>ИП</td>\n",
       "      <td>Отказ от закл.дог.</td>\n",
       "      <td>2017-07-01</td>\n",
       "      <td>1</td>\n",
       "    </tr>\n",
       "    <tr>\n",
       "      <th>3</th>\n",
       "      <td>346763</td>\n",
       "      <td>Юридическое лицо</td>\n",
       "      <td>Отказ от закл.дог.</td>\n",
       "      <td>2017-07-01</td>\n",
       "      <td>1</td>\n",
       "    </tr>\n",
       "    <tr>\n",
       "      <th>4</th>\n",
       "      <td>1622547</td>\n",
       "      <td>Юридическое лицо</td>\n",
       "      <td>Отказ от закл.дог.</td>\n",
       "      <td>2017-07-01</td>\n",
       "      <td>1</td>\n",
       "    </tr>\n",
       "  </tbody>\n",
       "</table>\n",
       "</div>"
      ],
      "text/plain": [
       "       inn РеестрОтказов_ТипУчастника РеестрОтказов_КодОтказаСтрокой  \\\n",
       "0   826229                         ИП             Отказ от закл.дог.   \n",
       "1   183819                         ИП             Отказ от закл.дог.   \n",
       "2  1447227                         ИП             Отказ от закл.дог.   \n",
       "3   346763           Юридическое лицо             Отказ от закл.дог.   \n",
       "4  1622547           Юридическое лицо             Отказ от закл.дог.   \n",
       "\n",
       "  month_reject  Reject_presence  \n",
       "0   2017-07-01                1  \n",
       "1   2017-07-01                1  \n",
       "2   2017-07-01                1  \n",
       "3   2017-07-01                1  \n",
       "4   2017-07-01                1  "
      ]
     },
     "execution_count": 37,
     "metadata": {},
     "output_type": "execute_result"
    }
   ],
   "source": [
    "reject = pd.read_csv('/data/home/krazheva/data_reject.csv')\n",
    "reject = reject.assign(Reject_presence = 1)\n",
    "reject.head()"
   ]
  },
  {
   "cell_type": "code",
   "execution_count": 38,
   "id": "b2a06c88-a8e1-4e7a-a5ad-49db2a575f6b",
   "metadata": {},
   "outputs": [
    {
     "data": {
      "text/html": [
       "<div>\n",
       "<style scoped>\n",
       "    .dataframe tbody tr th:only-of-type {\n",
       "        vertical-align: middle;\n",
       "    }\n",
       "\n",
       "    .dataframe tbody tr th {\n",
       "        vertical-align: top;\n",
       "    }\n",
       "\n",
       "    .dataframe thead th {\n",
       "        text-align: right;\n",
       "    }\n",
       "</style>\n",
       "<table border=\"1\" class=\"dataframe\">\n",
       "  <thead>\n",
       "    <tr style=\"text-align: right;\">\n",
       "      <th></th>\n",
       "      <th>inn</th>\n",
       "      <th>РеестрОтказов_ТипУчастника</th>\n",
       "      <th>РеестрОтказов_КодОтказаСтрокой</th>\n",
       "      <th>month_reject</th>\n",
       "      <th>Reject_presence</th>\n",
       "    </tr>\n",
       "  </thead>\n",
       "  <tbody>\n",
       "    <tr>\n",
       "      <th>115</th>\n",
       "      <td>309291</td>\n",
       "      <td>Юридическое лицо</td>\n",
       "      <td>Отказ в проведении операции</td>\n",
       "      <td>2018-12-01</td>\n",
       "      <td>1</td>\n",
       "    </tr>\n",
       "    <tr>\n",
       "      <th>166</th>\n",
       "      <td>1753304</td>\n",
       "      <td>Юридическое лицо</td>\n",
       "      <td>Отказ в проведении операции</td>\n",
       "      <td>2019-01-01</td>\n",
       "      <td>1</td>\n",
       "    </tr>\n",
       "    <tr>\n",
       "      <th>197</th>\n",
       "      <td>1238773</td>\n",
       "      <td>ИП</td>\n",
       "      <td>Отказ от закл.дог.</td>\n",
       "      <td>2018-12-01</td>\n",
       "      <td>1</td>\n",
       "    </tr>\n",
       "    <tr>\n",
       "      <th>229</th>\n",
       "      <td>1209749</td>\n",
       "      <td>Юридическое лицо</td>\n",
       "      <td>Отказ в проведении операции</td>\n",
       "      <td>2018-12-01</td>\n",
       "      <td>1</td>\n",
       "    </tr>\n",
       "    <tr>\n",
       "      <th>248</th>\n",
       "      <td>327939</td>\n",
       "      <td>Юридическое лицо</td>\n",
       "      <td>Отказ от закл.дог.</td>\n",
       "      <td>2019-01-01</td>\n",
       "      <td>1</td>\n",
       "    </tr>\n",
       "  </tbody>\n",
       "</table>\n",
       "</div>"
      ],
      "text/plain": [
       "         inn РеестрОтказов_ТипУчастника РеестрОтказов_КодОтказаСтрокой  \\\n",
       "115   309291           Юридическое лицо    Отказ в проведении операции   \n",
       "166  1753304           Юридическое лицо    Отказ в проведении операции   \n",
       "197  1238773                         ИП             Отказ от закл.дог.   \n",
       "229  1209749           Юридическое лицо    Отказ в проведении операции   \n",
       "248   327939           Юридическое лицо             Отказ от закл.дог.   \n",
       "\n",
       "    month_reject  Reject_presence  \n",
       "115   2018-12-01                1  \n",
       "166   2019-01-01                1  \n",
       "197   2018-12-01                1  \n",
       "229   2018-12-01                1  \n",
       "248   2019-01-01                1  "
      ]
     },
     "execution_count": 38,
     "metadata": {},
     "output_type": "execute_result"
    }
   ],
   "source": [
    "reject_new = reject.loc[reject['month_reject'] < '2018-03-01']\n",
    "index2 = reject_new.iloc[:,0]\n",
    "index2 = (index2.index.tolist())\n",
    "reject = reject.drop(index2)\n",
    "reject.head()"
   ]
  },
  {
   "cell_type": "markdown",
   "id": "b89e671a-3932-484e-b713-03bf631089ce",
   "metadata": {},
   "source": [
    "Data Union"
   ]
  },
  {
   "cell_type": "code",
   "execution_count": 39,
   "id": "08e6729c-34c9-4a4a-abf2-bc3cc118a786",
   "metadata": {},
   "outputs": [
    {
     "data": {
      "text/html": [
       "<div>\n",
       "<style scoped>\n",
       "    .dataframe tbody tr th:only-of-type {\n",
       "        vertical-align: middle;\n",
       "    }\n",
       "\n",
       "    .dataframe tbody tr th {\n",
       "        vertical-align: top;\n",
       "    }\n",
       "\n",
       "    .dataframe thead th {\n",
       "        text-align: right;\n",
       "    }\n",
       "</style>\n",
       "<table border=\"1\" class=\"dataframe\">\n",
       "  <thead>\n",
       "    <tr style=\"text-align: right;\">\n",
       "      <th></th>\n",
       "      <th>date_key</th>\n",
       "      <th>amount</th>\n",
       "      <th>client_inn</th>\n",
       "      <th>partner_inn</th>\n",
       "      <th>client_bik</th>\n",
       "      <th>partner_bik</th>\n",
       "      <th>years</th>\n",
       "      <th>Fraud_presence</th>\n",
       "      <th>Reject_presence</th>\n",
       "    </tr>\n",
       "  </thead>\n",
       "  <tbody>\n",
       "    <tr>\n",
       "      <th>0</th>\n",
       "      <td>2018-03-01</td>\n",
       "      <td>24630.00</td>\n",
       "      <td>1.0</td>\n",
       "      <td>119556.0</td>\n",
       "      <td>1503.0</td>\n",
       "      <td>1503.0</td>\n",
       "      <td>0.0</td>\n",
       "      <td>0.0</td>\n",
       "      <td>0.0</td>\n",
       "    </tr>\n",
       "    <tr>\n",
       "      <th>1</th>\n",
       "      <td>2018-03-01</td>\n",
       "      <td>165.81</td>\n",
       "      <td>1.0</td>\n",
       "      <td>119556.0</td>\n",
       "      <td>1503.0</td>\n",
       "      <td>1503.0</td>\n",
       "      <td>0.0</td>\n",
       "      <td>0.0</td>\n",
       "      <td>0.0</td>\n",
       "    </tr>\n",
       "    <tr>\n",
       "      <th>2</th>\n",
       "      <td>2018-03-01</td>\n",
       "      <td>531.00</td>\n",
       "      <td>1.0</td>\n",
       "      <td>119556.0</td>\n",
       "      <td>1503.0</td>\n",
       "      <td>1503.0</td>\n",
       "      <td>0.0</td>\n",
       "      <td>0.0</td>\n",
       "      <td>0.0</td>\n",
       "    </tr>\n",
       "    <tr>\n",
       "      <th>3</th>\n",
       "      <td>2018-03-01</td>\n",
       "      <td>4.95</td>\n",
       "      <td>1.0</td>\n",
       "      <td>119556.0</td>\n",
       "      <td>759.0</td>\n",
       "      <td>759.0</td>\n",
       "      <td>0.0</td>\n",
       "      <td>0.0</td>\n",
       "      <td>0.0</td>\n",
       "    </tr>\n",
       "    <tr>\n",
       "      <th>4</th>\n",
       "      <td>2018-03-01</td>\n",
       "      <td>69.78</td>\n",
       "      <td>1.0</td>\n",
       "      <td>119556.0</td>\n",
       "      <td>759.0</td>\n",
       "      <td>759.0</td>\n",
       "      <td>0.0</td>\n",
       "      <td>0.0</td>\n",
       "      <td>0.0</td>\n",
       "    </tr>\n",
       "  </tbody>\n",
       "</table>\n",
       "</div>"
      ],
      "text/plain": [
       "     date_key    amount  client_inn  partner_inn  client_bik  partner_bik  \\\n",
       "0  2018-03-01  24630.00         1.0     119556.0      1503.0       1503.0   \n",
       "1  2018-03-01    165.81         1.0     119556.0      1503.0       1503.0   \n",
       "2  2018-03-01    531.00         1.0     119556.0      1503.0       1503.0   \n",
       "3  2018-03-01      4.95         1.0     119556.0       759.0        759.0   \n",
       "4  2018-03-01     69.78         1.0     119556.0       759.0        759.0   \n",
       "\n",
       "   years  Fraud_presence  Reject_presence  \n",
       "0    0.0             0.0              0.0  \n",
       "1    0.0             0.0              0.0  \n",
       "2    0.0             0.0              0.0  \n",
       "3    0.0             0.0              0.0  \n",
       "4    0.0             0.0              0.0  "
      ]
     },
     "execution_count": 39,
     "metadata": {},
     "output_type": "execute_result"
    }
   ],
   "source": [
    "step1 = pd.merge(left=data, right=clients, left_on='client_inn', right_on='inn')\n",
    "step1 = step1.drop(['inn'], axis=1)\n",
    "step2 = pd.merge_ordered(left=step1, right=fraud, left_on='client_inn', right_on='inn', fill_method=0)\n",
    "step2 = step2.drop(['inn', 'month_fraud', 'Клиент_ДатаРег.','Клиент_Сегмент', 'Клиент_ДатаНачалаОтн'], axis=1)\n",
    "step2['Fraud_presence'] = step2['Fraud_presence'].fillna(0)\n",
    "step3 = pd.merge_ordered(left=step2, right=reject, left_on='client_inn', right_on='inn', fill_method=0)\n",
    "step3 = step3.drop(['inn', 'РеестрОтказов_ТипУчастника', 'РеестрОтказов_КодОтказаСтрокой', 'month_reject'], axis=1)\n",
    "step3['Reject_presence'] = step3['Reject_presence'].fillna(0)\n",
    "final_data = step3.dropna()\n",
    "final_data = final_data.drop(['direction'], axis=1)\n",
    "final_data.head()"
   ]
  },
  {
   "cell_type": "markdown",
   "id": "b9bdfd8e-8ca0-4dfe-b692-e823ac7f72a2",
   "metadata": {},
   "source": [
    "Divide by year"
   ]
  },
  {
   "cell_type": "code",
   "execution_count": 40,
   "id": "c3d45a7e-bec0-4f0f-85fb-e5540b8c5148",
   "metadata": {},
   "outputs": [],
   "source": [
    "Year_2018 = final_data[final_data.date_key.str.contains('2018')]\n",
    "Year_2019 = final_data[final_data.date_key.str.contains('2019')]\n",
    "Year_2020 = final_data[final_data.date_key.str.contains('2020')]\n",
    "Year_2021 = final_data[final_data.date_key.str.contains('2021')]"
   ]
  },
  {
   "cell_type": "markdown",
   "id": "faaa3f41-1a08-4c40-8dd8-3caf890c08bd",
   "metadata": {},
   "source": [
    "Devide by mounth"
   ]
  },
  {
   "cell_type": "markdown",
   "id": "319450bb-68e3-490b-8fe6-f06fc5afefbf",
   "metadata": {},
   "source": [
    "Year 2018"
   ]
  },
  {
   "cell_type": "code",
   "execution_count": 41,
   "id": "21854059-6b3f-4a6a-87e9-f10003883b97",
   "metadata": {},
   "outputs": [],
   "source": [
    "Year_2018_P1 = Year_2018[Year_2018.date_key < '2018-08-01']\n",
    "Year_2018_P2 = Year_2018[Year_2018.date_key >= '2018-08-01']"
   ]
  },
  {
   "cell_type": "markdown",
   "id": "c2db720c-a547-4dda-b041-3496088cff4a",
   "metadata": {},
   "source": [
    "Year 2019"
   ]
  },
  {
   "cell_type": "code",
   "execution_count": 42,
   "id": "6215d7fe-30a5-44d2-8523-98b2f25d048c",
   "metadata": {},
   "outputs": [],
   "source": [
    "Year_2019_P1 = Year_2019[Year_2019.date_key < '2019-06-01']\n",
    "Year_2019_P2 = Year_2019[Year_2019.date_key >= '2019-06-01']"
   ]
  },
  {
   "cell_type": "markdown",
   "id": "6cfa83b4-4d94-4d93-9c85-d4cae54c61e1",
   "metadata": {},
   "source": [
    "Year 2020"
   ]
  },
  {
   "cell_type": "code",
   "execution_count": 43,
   "id": "e9546464-eef5-44f1-9a31-49ce261c9e1e",
   "metadata": {},
   "outputs": [],
   "source": [
    "Year_2020_P1 = Year_2020[Year_2020.date_key < '2020-06-01']\n",
    "Year_2020_P2 = Year_2020[Year_2020.date_key >= '2020-06-01']"
   ]
  },
  {
   "cell_type": "markdown",
   "id": "60e5ad88-3f07-40cc-8304-72b42069993e",
   "metadata": {},
   "source": [
    "Random Forest"
   ]
  },
  {
   "cell_type": "markdown",
   "id": "bcca5128-78be-4f38-8989-160dd9f948c6",
   "metadata": {},
   "source": [
    "Для 3/1 прогон #1"
   ]
  },
  {
   "cell_type": "code",
   "execution_count": 44,
   "id": "df9326d5-28cf-4697-81f9-afaee9309282",
   "metadata": {},
   "outputs": [],
   "source": [
    "from sklearn.model_selection import  learning_curve\n",
    "from sklearn.ensemble import RandomForestClassifier\n",
    "from sklearn import metrics\n",
    "from sklearn.model_selection import GridSearchCV"
   ]
  },
  {
   "cell_type": "code",
   "execution_count": 45,
   "id": "fcb7ef56-43ad-4a71-9b52-cebb41d1a873",
   "metadata": {},
   "outputs": [],
   "source": [
    "param_grid = {\n",
    "    'max_depth': [10, 100, 1000]\n",
    "}"
   ]
  },
  {
   "cell_type": "code",
   "execution_count": 46,
   "id": "46d5420c-83e9-4abf-b078-149e02ddb314",
   "metadata": {},
   "outputs": [],
   "source": [
    "rf = RandomForestClassifier(random_state = 1)"
   ]
  },
  {
   "cell_type": "code",
   "execution_count": 47,
   "id": "d7749cd6-ae8b-4d78-bb92-b7c3c14d76c7",
   "metadata": {},
   "outputs": [],
   "source": [
    "train = pd.concat([Year_2018_P1, Year_2018_P2, Year_2019_P1], ignore_index=True)\n",
    "train = train.drop(['date_key'], axis=1)\n",
    "train_data = train.drop(['Fraud_presence', 'Reject_presence'], axis=1)\n",
    "train_labels_1 = train['Fraud_presence']"
   ]
  },
  {
   "cell_type": "code",
   "execution_count": null,
   "id": "0f9f7468-57c9-498f-a4c6-8826c840c41d",
   "metadata": {},
   "outputs": [
    {
     "name": "stderr",
     "output_type": "stream",
     "text": [
      "/data/home/krazheva/.conda/envs/py3.5/lib/python3.5/site-packages/sklearn/ensemble/forest.py:248: FutureWarning: The default value of n_estimators will change from 10 in version 0.20 to 100 in 0.22.\n",
      "  \"10 in version 0.20 to 100 in 0.22.\", FutureWarning)\n"
     ]
    }
   ],
   "source": [
    "CV_rfc = GridSearchCV(estimator=rf, param_grid=param_grid, cv= 5)\n",
    "CV_rfc.fit(train_data, train_labels_1)"
   ]
  },
  {
   "cell_type": "code",
   "execution_count": null,
   "id": "e9a8ec4c-1718-4d24-aaa6-1b60cc6821a2",
   "metadata": {},
   "outputs": [],
   "source": [
    "CV_rfc.best_params_"
   ]
  },
  {
   "cell_type": "code",
   "execution_count": null,
   "id": "31194f5f-2067-4e61-aa59-e3cba92c57fe",
   "metadata": {},
   "outputs": [],
   "source": [
    "rf_best_param=RandomForestClassifier(random_state = 1, max_depth=???)"
   ]
  },
  {
   "cell_type": "code",
   "execution_count": null,
   "id": "fde209a3-4328-48b0-b7c7-f9120bcf3aa8",
   "metadata": {},
   "outputs": [],
   "source": [
    "rf_best_param.fit(train_data, train_labels_1)"
   ]
  },
  {
   "cell_type": "code",
   "execution_count": null,
   "id": "a3b4504e-fef4-41bb-b664-5a42fdd1755b",
   "metadata": {},
   "outputs": [],
   "source": [
    "test_data = Year_2019_P2.drop(['Fraud_presence', 'Reject_presence', 'date_key'], axis=1)\n",
    "test_data.head()"
   ]
  },
  {
   "cell_type": "code",
   "execution_count": null,
   "id": "6e2986df-9943-4ffe-b420-aa32227a7d74",
   "metadata": {},
   "outputs": [],
   "source": [
    "predictions_rf = rf.predict(test_data)"
   ]
  },
  {
   "cell_type": "code",
   "execution_count": null,
   "id": "fd661747-f171-4cb3-8cda-864f27edd559",
   "metadata": {},
   "outputs": [],
   "source": [
    "test_labels = Year_2019_P2['Fraud_presence']"
   ]
  },
  {
   "cell_type": "code",
   "execution_count": null,
   "id": "21f0389f-63b0-4b47-a4f1-7aa179feb6da",
   "metadata": {},
   "outputs": [],
   "source": [
    "from sklearn.metrics import precision_score, recall_score, accuracy_score, f1_score, log_loss\n",
    "print(\"Precision:\", precision_score(test_labels, predictions_rf))\n",
    "print(\"Recall: \", recall_score(test_labels, predictions_rf))\n",
    "print(\"Accuracy: \", accuracy_score(test_labels, predictions_rf))\n",
    "print(\"F1-score: \", f1_score(test_labels, predictions_rf))\n",
    "print(\"Log_loss: \", log_loss(test_labels, predictions_rf))"
   ]
  },
  {
   "cell_type": "markdown",
   "id": "8acda2f2-dff6-457d-a1a1-93b66409db2c",
   "metadata": {},
   "source": [
    "----------------------------------"
   ]
  },
  {
   "cell_type": "markdown",
   "id": "02009729-e4ac-4320-bfbb-0e966143228a",
   "metadata": {},
   "source": [
    "Для 3/1 прогон #2"
   ]
  },
  {
   "cell_type": "code",
   "execution_count": null,
   "id": "2aad2226-d648-4322-8f16-ae2818a73e60",
   "metadata": {},
   "outputs": [],
   "source": [
    "train1 = pd.concat([Year_2018_P2, Year_2019_P1, Year_2019_P2], ignore_index=True)\n",
    "train1 = train1.drop(['date_key'], axis=1)\n",
    "train_data1 = train1.drop(['Fraud_presence', 'Reject_presence'], axis=1)\n",
    "train_labels1 = train1['Fraud_presence']\n",
    "test_data1 = Year_2020_P1.drop(['Fraud_presence', 'Reject_presence', 'date_key'], axis=1)\n",
    "test_labels1 = Year_2020_P1['Fraud_presence']"
   ]
  },
  {
   "cell_type": "code",
   "execution_count": null,
   "id": "8c1b653f-e387-489f-af3d-19de685aa3ae",
   "metadata": {},
   "outputs": [],
   "source": [
    "CV_rfc_3_1_2 = GridSearchCV(estimator=rf, param_grid=param_grid, cv= 5)\n",
    "CV_rfc_3_1_2.fit(train_data, train_labels_1)"
   ]
  },
  {
   "cell_type": "code",
   "execution_count": null,
   "id": "e7e15a0a-5f66-4798-ac14-c1495c5c4608",
   "metadata": {},
   "outputs": [],
   "source": [
    "CV_rfc_3_1_2.best_params_"
   ]
  },
  {
   "cell_type": "code",
   "execution_count": null,
   "id": "10968a63-b312-48bc-9d36-619dcf6c3df3",
   "metadata": {},
   "outputs": [],
   "source": [
    "rf_best_param_3_1_2=RandomForestClassifier(random_state = 1, max_depth=???)"
   ]
  },
  {
   "cell_type": "code",
   "execution_count": null,
   "id": "4de98feb-36ff-43ad-8f7c-bc866b2af988",
   "metadata": {},
   "outputs": [],
   "source": [
    "rf_best_param_3_1_2.fit(train_data1, train_labels1)"
   ]
  },
  {
   "cell_type": "code",
   "execution_count": null,
   "id": "d2065f52-67c7-46bc-b476-965f09a64bd8",
   "metadata": {},
   "outputs": [],
   "source": [
    "predictions_rf_3_1_2 = rf.predict(test_data1)"
   ]
  },
  {
   "cell_type": "code",
   "execution_count": null,
   "id": "67acb7f3-9927-48cb-96a5-d3780f336819",
   "metadata": {},
   "outputs": [],
   "source": [
    "print(\"Precision:\", precision_score(test_labels1, predictions_rf_3_1_2))\n",
    "print(\"Recall: \", recall_score(test_labels1, predictions_rf_3_1_2))\n",
    "print(\"Accuracy: \", accuracy_score(test_labels1, predictions_rf_3_1_2))\n",
    "print(\"F1-score: \", f1_score(test_labels1, predictions_rf_3_1_2))\n",
    "print(\"Log_loss: \", log_loss(test_labels1, predictions_rf_3_1_2))"
   ]
  }
 ],
 "metadata": {
  "kernelspec": {
   "display_name": "Python [conda env:.conda-py3.5]",
   "language": "python",
   "name": "conda-env-.conda-py3.5-py"
  },
  "language_info": {
   "codemirror_mode": {
    "name": "ipython",
    "version": 3
   },
   "file_extension": ".py",
   "mimetype": "text/x-python",
   "name": "python",
   "nbconvert_exporter": "python",
   "pygments_lexer": "ipython3",
   "version": "3.5.6"
  }
 },
 "nbformat": 4,
 "nbformat_minor": 5
}
