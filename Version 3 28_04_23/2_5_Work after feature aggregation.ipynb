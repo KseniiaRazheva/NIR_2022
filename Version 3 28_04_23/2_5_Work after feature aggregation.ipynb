{
 "cells": [
  {
   "cell_type": "markdown",
   "id": "bfdd6027-5d89-4d6d-84c0-03a739c90344",
   "metadata": {
    "tags": []
   },
   "source": [
    "## Загрузка полученных данных"
   ]
  },
  {
   "cell_type": "raw",
   "id": "a62023d5-dae5-4ad4-b15c-665720ece1e3",
   "metadata": {},
   "source": [
    "!pip install xgboost"
   ]
  },
  {
   "cell_type": "code",
   "execution_count": 98,
   "id": "0295498e-a186-45fa-9807-b034c780f746",
   "metadata": {},
   "outputs": [],
   "source": [
    "from sklearn.model_selection import  learning_curve\n",
    "from sklearn.ensemble import RandomForestClassifier\n",
    "from sklearn import metrics\n",
    "from sklearn.model_selection import GridSearchCV\n",
    "import pandas as pd\n",
    "from sklearn.model_selection import train_test_split\n",
    "\n",
    "from xgboost import XGBClassifier\n",
    "from sklearn.model_selection import  learning_curve\n",
    "from sklearn import metrics\n",
    "from sklearn.metrics import precision_score, recall_score, accuracy_score, f1_score, log_loss\n",
    "\n",
    "import torch\n",
    "from torch_geometric.data import Data\n",
    "\n",
    "from sklearn.metrics import precision_score, recall_score, accuracy_score, f1_score, log_loss, roc_auc_score, roc_curve"
   ]
  },
  {
   "cell_type": "markdown",
   "id": "1bcc7a06-dc96-453b-b696-40fae5aa9059",
   "metadata": {
    "tags": []
   },
   "source": [
    "## Загрузка исходных данных"
   ]
  },
  {
   "cell_type": "code",
   "execution_count": 99,
   "id": "2511613f-af5d-452d-a5e0-e4344e55968a",
   "metadata": {},
   "outputs": [],
   "source": [
    "final_data = pd.read_csv('./Data/2_full_table_data_GNN.csv')"
   ]
  },
  {
   "cell_type": "code",
   "execution_count": 100,
   "id": "4700386b-6698-47bd-90ac-73d3db7364bc",
   "metadata": {},
   "outputs": [],
   "source": [
    "final_data = final_data.drop(['date_key'], axis=1)"
   ]
  },
  {
   "cell_type": "code",
   "execution_count": 101,
   "id": "9850a53a-a5db-454d-a6e1-dc34afc7ec55",
   "metadata": {},
   "outputs": [
    {
     "data": {
      "text/html": [
       "<div>\n",
       "<style scoped>\n",
       "    .dataframe tbody tr th:only-of-type {\n",
       "        vertical-align: middle;\n",
       "    }\n",
       "\n",
       "    .dataframe tbody tr th {\n",
       "        vertical-align: top;\n",
       "    }\n",
       "\n",
       "    .dataframe thead th {\n",
       "        text-align: right;\n",
       "    }\n",
       "</style>\n",
       "<table border=\"1\" class=\"dataframe\">\n",
       "  <thead>\n",
       "    <tr style=\"text-align: right;\">\n",
       "      <th></th>\n",
       "      <th>amount</th>\n",
       "      <th>client_inn</th>\n",
       "      <th>partner_inn</th>\n",
       "      <th>years</th>\n",
       "      <th>Длина_Отн_в_днях</th>\n",
       "      <th>Клиент_Сегмент_КБ</th>\n",
       "      <th>Клиент_Сегмент_МБ</th>\n",
       "      <th>Клиент_Сегмент_МКП</th>\n",
       "      <th>Клиент_Сегмент_СБ</th>\n",
       "      <th>Клиент_НаличиеЗПпроекта_Д</th>\n",
       "      <th>Клиент_НаличиеЗПпроекта_Н</th>\n",
       "      <th>Fraud_presence</th>\n",
       "      <th>Reject_presence</th>\n",
       "    </tr>\n",
       "  </thead>\n",
       "  <tbody>\n",
       "    <tr>\n",
       "      <th>0</th>\n",
       "      <td>41000.0</td>\n",
       "      <td>1279230</td>\n",
       "      <td>1</td>\n",
       "      <td>54.0</td>\n",
       "      <td>6251.0</td>\n",
       "      <td>1.0</td>\n",
       "      <td>0.0</td>\n",
       "      <td>0.0</td>\n",
       "      <td>0.0</td>\n",
       "      <td>0.0</td>\n",
       "      <td>1.0</td>\n",
       "      <td>0.0</td>\n",
       "      <td>0.0</td>\n",
       "    </tr>\n",
       "    <tr>\n",
       "      <th>1</th>\n",
       "      <td>482300.0</td>\n",
       "      <td>1224261</td>\n",
       "      <td>13022</td>\n",
       "      <td>40.0</td>\n",
       "      <td>1618.0</td>\n",
       "      <td>0.0</td>\n",
       "      <td>0.0</td>\n",
       "      <td>1.0</td>\n",
       "      <td>0.0</td>\n",
       "      <td>0.0</td>\n",
       "      <td>1.0</td>\n",
       "      <td>0.0</td>\n",
       "      <td>0.0</td>\n",
       "    </tr>\n",
       "  </tbody>\n",
       "</table>\n",
       "</div>"
      ],
      "text/plain": [
       "     amount  client_inn  partner_inn  years  Длина_Отн_в_днях  \\\n",
       "0   41000.0     1279230            1   54.0            6251.0   \n",
       "1  482300.0     1224261        13022   40.0            1618.0   \n",
       "\n",
       "   Клиент_Сегмент_КБ  Клиент_Сегмент_МБ  Клиент_Сегмент_МКП  \\\n",
       "0                1.0                0.0                 0.0   \n",
       "1                0.0                0.0                 1.0   \n",
       "\n",
       "   Клиент_Сегмент_СБ  Клиент_НаличиеЗПпроекта_Д  Клиент_НаличиеЗПпроекта_Н  \\\n",
       "0                0.0                        0.0                        1.0   \n",
       "1                0.0                        0.0                        1.0   \n",
       "\n",
       "   Fraud_presence  Reject_presence  \n",
       "0             0.0              0.0  \n",
       "1             0.0              0.0  "
      ]
     },
     "execution_count": 101,
     "metadata": {},
     "output_type": "execute_result"
    }
   ],
   "source": [
    "final_data.head(2)"
   ]
  },
  {
   "cell_type": "code",
   "execution_count": 102,
   "id": "601c8d2e-f001-4d49-a5be-5bc311b3f818",
   "metadata": {},
   "outputs": [
    {
     "data": {
      "text/plain": [
       "(115525128, 13)"
      ]
     },
     "execution_count": 102,
     "metadata": {},
     "output_type": "execute_result"
    }
   ],
   "source": [
    "final_data.shape"
   ]
  },
  {
   "cell_type": "code",
   "execution_count": 103,
   "id": "e255376a-d02c-473e-bfc1-b18e51cf7a0d",
   "metadata": {},
   "outputs": [
    {
     "data": {
      "text/plain": [
       "(64454,)"
      ]
     },
     "execution_count": 103,
     "metadata": {},
     "output_type": "execute_result"
    }
   ],
   "source": [
    "final_data['client_inn'].unique().shape"
   ]
  },
  {
   "cell_type": "code",
   "execution_count": 104,
   "id": "bd5f3799-f4c6-4a75-b94e-c75078075608",
   "metadata": {},
   "outputs": [
    {
     "data": {
      "text/plain": [
       "(115525128, 13)"
      ]
     },
     "execution_count": 104,
     "metadata": {},
     "output_type": "execute_result"
    }
   ],
   "source": [
    "final_data.shape"
   ]
  },
  {
   "cell_type": "code",
   "execution_count": 105,
   "id": "872af0b5-1edc-46f6-8d9d-3c7665a2a311",
   "metadata": {},
   "outputs": [],
   "source": [
    "data_X = final_data.drop(['Fraud_presence'], axis=1)"
   ]
  },
  {
   "cell_type": "code",
   "execution_count": 106,
   "id": "84a876dd-0feb-44a7-beb8-64d77c4dab52",
   "metadata": {},
   "outputs": [
    {
     "data": {
      "text/plain": [
       "(115525128, 12)"
      ]
     },
     "execution_count": 106,
     "metadata": {},
     "output_type": "execute_result"
    }
   ],
   "source": [
    "data_X.shape"
   ]
  },
  {
   "cell_type": "code",
   "execution_count": 107,
   "id": "c44600a4-328d-4b5f-b54e-2ceace5cc5a8",
   "metadata": {},
   "outputs": [],
   "source": [
    "data_Y  = final_data['Fraud_presence']"
   ]
  },
  {
   "cell_type": "code",
   "execution_count": 108,
   "id": "908658d4-4110-47f9-aae1-362bcc03d603",
   "metadata": {},
   "outputs": [
    {
     "name": "stdout",
     "output_type": "stream",
     "text": [
      "             0            1             2          3         4         5   \\\n",
      "0  2.192833e+06  1427.545044  69158.156250  20.182766  0.853016  0.715973   \n",
      "1  7.270557e+04    34.170017   2438.131104   0.625779  0.000000  0.005733   \n",
      "\n",
      "         6          7         8         9             10            11  \n",
      "0  2.821092  20.581282  3.991510  0.011809  1.118243e+06  1.851281e+07  \n",
      "1  0.004828   0.252126  0.384215  0.197520  3.159539e+04  6.766557e+05  \n"
     ]
    }
   ],
   "source": [
    "# Load the file\n",
    "pt_file_1 = torch.load(\"./graph1_hope_1.pt\")\n",
    "\n",
    "pt_file_1 = pd.DataFrame(pt_file_1.numpy())\n",
    "\n",
    "# Print the head of the file\n",
    "print(pt_file_1.head(2))"
   ]
  },
  {
   "cell_type": "code",
   "execution_count": 109,
   "id": "61ad7f4b-1029-4db2-a665-6d4212bc82b5",
   "metadata": {},
   "outputs": [
    {
     "name": "stdout",
     "output_type": "stream",
     "text": [
      "             0            1              2          3         4         5   \\\n",
      "0  4.341373e+06  1965.599854  128323.398438  24.328848  6.005088  5.177354   \n",
      "1  9.008470e+04    36.415588    2345.018799   0.539458  0.054276  0.044689   \n",
      "\n",
      "         6          7          8         9             10           11  \n",
      "0  3.610386  19.661173  19.460478  8.504985  1.556792e+06  29073114.00  \n",
      "1  0.061234   0.346111   0.353546  0.154498  3.066910e+04    583044.75  \n"
     ]
    }
   ],
   "source": [
    "pt_file_2 = torch.load(\"./graph1_hope_2.pt\")\n",
    "\n",
    "pt_file_2 = pd.DataFrame(pt_file_2.numpy())\n",
    "\n",
    "# Print the head of the file\n",
    "print(pt_file_2.head(2))"
   ]
  },
  {
   "cell_type": "code",
   "execution_count": 110,
   "id": "3ad320f8-4154-4b49-ad7f-7a09ef89f782",
   "metadata": {},
   "outputs": [
    {
     "data": {
      "text/plain": [
       "(7015937, 12)"
      ]
     },
     "execution_count": 110,
     "metadata": {},
     "output_type": "execute_result"
    }
   ],
   "source": [
    "pt_file_2.shape"
   ]
  },
  {
   "cell_type": "code",
   "execution_count": 111,
   "id": "47344229-9d2f-42b0-a139-2a1a2779b4a9",
   "metadata": {},
   "outputs": [
    {
     "name": "stdout",
     "output_type": "stream",
     "text": [
      "             0            1             2          3         4         5   \\\n",
      "0  2.901591e+06  1462.082520  84100.078125  19.112059  2.836726  2.429763   \n",
      "1  1.100155e+05    49.994579   3298.087646   0.667906  0.125481  0.107464   \n",
      "\n",
      "         6          7         8         9             10            11  \n",
      "0  2.848527  17.732861  9.494099  3.108360  1.145987e+06  2.033233e+07  \n",
      "1  0.085026   0.483781  0.502096  0.226028  4.055820e+04  7.656247e+05  \n"
     ]
    }
   ],
   "source": [
    "pt_file_3 = torch.load(\"./graph1_hope_3.pt\")\n",
    "\n",
    "pt_file_3 = pd.DataFrame(pt_file_3.numpy())\n",
    "\n",
    "# Print the head of the file\n",
    "print(pt_file_3.head(2))"
   ]
  },
  {
   "cell_type": "code",
   "execution_count": 112,
   "id": "0603f2d1-c015-48d8-a549-67650abaad19",
   "metadata": {},
   "outputs": [
    {
     "data": {
      "text/html": [
       "<div>\n",
       "<style scoped>\n",
       "    .dataframe tbody tr th:only-of-type {\n",
       "        vertical-align: middle;\n",
       "    }\n",
       "\n",
       "    .dataframe tbody tr th {\n",
       "        vertical-align: top;\n",
       "    }\n",
       "\n",
       "    .dataframe thead th {\n",
       "        text-align: right;\n",
       "    }\n",
       "</style>\n",
       "<table border=\"1\" class=\"dataframe\">\n",
       "  <thead>\n",
       "    <tr style=\"text-align: right;\">\n",
       "      <th></th>\n",
       "      <th>amount</th>\n",
       "      <th>client_inn</th>\n",
       "      <th>partner_inn</th>\n",
       "      <th>years</th>\n",
       "      <th>Длина_Отн_в_днях</th>\n",
       "      <th>Клиент_Сегмент_КБ</th>\n",
       "      <th>Клиент_Сегмент_МБ</th>\n",
       "      <th>Клиент_Сегмент_МКП</th>\n",
       "      <th>Клиент_Сегмент_СБ</th>\n",
       "      <th>Клиент_НаличиеЗПпроекта_Д</th>\n",
       "      <th>...</th>\n",
       "      <th>2</th>\n",
       "      <th>3</th>\n",
       "      <th>4</th>\n",
       "      <th>5</th>\n",
       "      <th>6</th>\n",
       "      <th>7</th>\n",
       "      <th>8</th>\n",
       "      <th>9</th>\n",
       "      <th>10</th>\n",
       "      <th>11</th>\n",
       "    </tr>\n",
       "  </thead>\n",
       "  <tbody>\n",
       "    <tr>\n",
       "      <th>0</th>\n",
       "      <td>41000.00</td>\n",
       "      <td>1279230</td>\n",
       "      <td>1</td>\n",
       "      <td>54.0</td>\n",
       "      <td>6251.0</td>\n",
       "      <td>1.0</td>\n",
       "      <td>0.0</td>\n",
       "      <td>0.0</td>\n",
       "      <td>0.0</td>\n",
       "      <td>0.0</td>\n",
       "      <td>...</td>\n",
       "      <td>84100.078125</td>\n",
       "      <td>19.112059</td>\n",
       "      <td>2.836726</td>\n",
       "      <td>2.429763</td>\n",
       "      <td>2.848527</td>\n",
       "      <td>17.732861</td>\n",
       "      <td>9.494099</td>\n",
       "      <td>3.108360</td>\n",
       "      <td>1.145987e+06</td>\n",
       "      <td>2.033233e+07</td>\n",
       "    </tr>\n",
       "    <tr>\n",
       "      <th>1</th>\n",
       "      <td>482300.00</td>\n",
       "      <td>1224261</td>\n",
       "      <td>13022</td>\n",
       "      <td>40.0</td>\n",
       "      <td>1618.0</td>\n",
       "      <td>0.0</td>\n",
       "      <td>0.0</td>\n",
       "      <td>1.0</td>\n",
       "      <td>0.0</td>\n",
       "      <td>0.0</td>\n",
       "      <td>...</td>\n",
       "      <td>3298.087646</td>\n",
       "      <td>0.667906</td>\n",
       "      <td>0.125481</td>\n",
       "      <td>0.107464</td>\n",
       "      <td>0.085026</td>\n",
       "      <td>0.483781</td>\n",
       "      <td>0.502096</td>\n",
       "      <td>0.226028</td>\n",
       "      <td>4.055820e+04</td>\n",
       "      <td>7.656247e+05</td>\n",
       "    </tr>\n",
       "    <tr>\n",
       "      <th>2</th>\n",
       "      <td>15.72</td>\n",
       "      <td>1549773</td>\n",
       "      <td>119556</td>\n",
       "      <td>52.0</td>\n",
       "      <td>7370.0</td>\n",
       "      <td>0.0</td>\n",
       "      <td>1.0</td>\n",
       "      <td>0.0</td>\n",
       "      <td>0.0</td>\n",
       "      <td>0.0</td>\n",
       "      <td>...</td>\n",
       "      <td>4307.255371</td>\n",
       "      <td>0.927595</td>\n",
       "      <td>0.179642</td>\n",
       "      <td>0.146864</td>\n",
       "      <td>0.134246</td>\n",
       "      <td>0.658202</td>\n",
       "      <td>0.730141</td>\n",
       "      <td>0.363939</td>\n",
       "      <td>5.606564e+04</td>\n",
       "      <td>1.039478e+06</td>\n",
       "    </tr>\n",
       "    <tr>\n",
       "      <th>3</th>\n",
       "      <td>4217742.30</td>\n",
       "      <td>976651</td>\n",
       "      <td>976651</td>\n",
       "      <td>51.0</td>\n",
       "      <td>2103.0</td>\n",
       "      <td>0.0</td>\n",
       "      <td>0.0</td>\n",
       "      <td>0.0</td>\n",
       "      <td>1.0</td>\n",
       "      <td>1.0</td>\n",
       "      <td>...</td>\n",
       "      <td>31379.005859</td>\n",
       "      <td>5.894304</td>\n",
       "      <td>1.480769</td>\n",
       "      <td>1.245868</td>\n",
       "      <td>0.862637</td>\n",
       "      <td>4.719183</td>\n",
       "      <td>4.764338</td>\n",
       "      <td>2.073277</td>\n",
       "      <td>3.759357e+05</td>\n",
       "      <td>7.040396e+06</td>\n",
       "    </tr>\n",
       "    <tr>\n",
       "      <th>4</th>\n",
       "      <td>11.77</td>\n",
       "      <td>1413113</td>\n",
       "      <td>1003953</td>\n",
       "      <td>41.0</td>\n",
       "      <td>526.0</td>\n",
       "      <td>0.0</td>\n",
       "      <td>0.0</td>\n",
       "      <td>0.0</td>\n",
       "      <td>1.0</td>\n",
       "      <td>0.0</td>\n",
       "      <td>...</td>\n",
       "      <td>3370.708740</td>\n",
       "      <td>0.613112</td>\n",
       "      <td>0.116228</td>\n",
       "      <td>0.105565</td>\n",
       "      <td>0.102977</td>\n",
       "      <td>0.465389</td>\n",
       "      <td>0.472495</td>\n",
       "      <td>0.145853</td>\n",
       "      <td>3.300685e+04</td>\n",
       "      <td>6.595803e+05</td>\n",
       "    </tr>\n",
       "  </tbody>\n",
       "</table>\n",
       "<p>5 rows × 48 columns</p>\n",
       "</div>"
      ],
      "text/plain": [
       "       amount  client_inn  partner_inn  years  Длина_Отн_в_днях  \\\n",
       "0    41000.00     1279230            1   54.0            6251.0   \n",
       "1   482300.00     1224261        13022   40.0            1618.0   \n",
       "2       15.72     1549773       119556   52.0            7370.0   \n",
       "3  4217742.30      976651       976651   51.0            2103.0   \n",
       "4       11.77     1413113      1003953   41.0             526.0   \n",
       "\n",
       "   Клиент_Сегмент_КБ  Клиент_Сегмент_МБ  Клиент_Сегмент_МКП  \\\n",
       "0                1.0                0.0                 0.0   \n",
       "1                0.0                0.0                 1.0   \n",
       "2                0.0                1.0                 0.0   \n",
       "3                0.0                0.0                 0.0   \n",
       "4                0.0                0.0                 0.0   \n",
       "\n",
       "   Клиент_Сегмент_СБ  Клиент_НаличиеЗПпроекта_Д  ...             2          3  \\\n",
       "0                0.0                        0.0  ...  84100.078125  19.112059   \n",
       "1                0.0                        0.0  ...   3298.087646   0.667906   \n",
       "2                0.0                        0.0  ...   4307.255371   0.927595   \n",
       "3                1.0                        1.0  ...  31379.005859   5.894304   \n",
       "4                1.0                        0.0  ...   3370.708740   0.613112   \n",
       "\n",
       "          4         5         6          7         8         9            10  \\\n",
       "0  2.836726  2.429763  2.848527  17.732861  9.494099  3.108360  1.145987e+06   \n",
       "1  0.125481  0.107464  0.085026   0.483781  0.502096  0.226028  4.055820e+04   \n",
       "2  0.179642  0.146864  0.134246   0.658202  0.730141  0.363939  5.606564e+04   \n",
       "3  1.480769  1.245868  0.862637   4.719183  4.764338  2.073277  3.759357e+05   \n",
       "4  0.116228  0.105565  0.102977   0.465389  0.472495  0.145853  3.300685e+04   \n",
       "\n",
       "             11  \n",
       "0  2.033233e+07  \n",
       "1  7.656247e+05  \n",
       "2  1.039478e+06  \n",
       "3  7.040396e+06  \n",
       "4  6.595803e+05  \n",
       "\n",
       "[5 rows x 48 columns]"
      ]
     },
     "execution_count": 112,
     "metadata": {},
     "output_type": "execute_result"
    }
   ],
   "source": [
    "all_feauters = pd.concat([data_X, pt_file_1, pt_file_2, pt_file_3], axis=1)\n",
    "all_feauters.head(5)"
   ]
  },
  {
   "cell_type": "code",
   "execution_count": 113,
   "id": "24fe23f2-1c09-4d44-88f9-36fad612d8ef",
   "metadata": {},
   "outputs": [
    {
     "data": {
      "text/plain": [
       "(115525128, 48)"
      ]
     },
     "execution_count": 113,
     "metadata": {},
     "output_type": "execute_result"
    }
   ],
   "source": [
    "all_feauters.shape"
   ]
  },
  {
   "cell_type": "markdown",
   "id": "9c76b3a7-0b2b-4b57-99cd-3d280126e061",
   "metadata": {
    "tags": []
   },
   "source": [
    "## Разделение данных на train и test"
   ]
  },
  {
   "cell_type": "code",
   "execution_count": 114,
   "id": "f2d4c1d5-f851-4eab-bc3f-b517183538d6",
   "metadata": {},
   "outputs": [],
   "source": [
    "all_feauters = all_feauters.drop(['partner_inn', 'client_inn'], axis=1)"
   ]
  },
  {
   "cell_type": "code",
   "execution_count": 115,
   "id": "f1faf705-a2ab-4a6f-84e0-464b5c5ac582",
   "metadata": {},
   "outputs": [],
   "source": [
    "X_train, X_test, y_train, y_test = train_test_split(all_feauters, data_Y, test_size=0.33, random_state=42)"
   ]
  },
  {
   "cell_type": "code",
   "execution_count": null,
   "id": "3d9a33d8-3b43-430f-92ae-b2f79c0a447b",
   "metadata": {},
   "outputs": [],
   "source": [
    "import os.path as osp\n",
    "import sys\n",
    "\n",
    "import matplotlib.pyplot as plt\n",
    "import torch\n",
    "from sklearn.manifold import TSNE\n",
    "\n",
    "from torch_geometric.datasets import Planetoid\n",
    "from torch_geometric.nn import Node2Vec\n",
    "from torch_geometric.typing import WITH_TORCH_CLUSTER\n",
    "\n",
    "if not WITH_TORCH_CLUSTER:\n",
    "    quit(\"This example requires 'torch-cluster'\")\n",
    "\n",
    "\n",
    "def main():\n",
    "    '''\n",
    "    dataset = 'Cora'\n",
    "    path = osp.join(osp.dirname(osp.realpath(__file__)), '..', 'data', dataset)\n",
    "    dataset = Planetoid(path, dataset)\n",
    "    data = dataset[0]\n",
    "\n",
    "    device = 'cuda' if torch.cuda.is_available() else 'cpu'\n",
    "    '''\n",
    "    model = Node2Vec(data.edge_index, embedding_dim=128, walk_length=20,\n",
    "                     context_size=10, walks_per_node=10,\n",
    "                     num_negative_samples=1, p=1, q=1, sparse=True).to(device)\n",
    "\n",
    "    num_workers = 0 if sys.platform.startswith('win') else 4\n",
    "    loader = model.loader(batch_size=128, shuffle=True,\n",
    "                          num_workers=num_workers)\n",
    "    optimizer = torch.optim.SparseAdam(list(model.parameters()), lr=0.01)\n",
    "\n",
    "    def train():\n",
    "        model.train()\n",
    "        total_loss = 0\n",
    "        for pos_rw, neg_rw in loader:\n",
    "            optimizer.zero_grad()\n",
    "            loss = model.loss(pos_rw.to(device), neg_rw.to(device))\n",
    "            loss.backward()\n",
    "            optimizer.step()\n",
    "            total_loss += loss.item()\n",
    "        return total_loss / len(loader)\n",
    "\n",
    "    @torch.no_grad()\n",
    "    def test():\n",
    "        model.eval()\n",
    "        z = model()\n",
    "        acc = model.test(z[data.train_mask], data.y[data.train_mask],\n",
    "                         z[data.test_mask], data.y[data.test_mask],\n",
    "                         max_iter=150)\n",
    "        return acc\n",
    "\n",
    "    for epoch in range(1, 101):\n",
    "        loss = train()\n",
    "        acc = test()\n",
    "        print(f'Epoch: {epoch:02d}, Loss: {loss:.4f}, Acc: {acc:.4f}')\n",
    "\n",
    "    @torch.no_grad()\n",
    "    def plot_points(colors):\n",
    "        model.eval()\n",
    "        z = model(torch.arange(data.num_nodes, device=device))\n",
    "        z = TSNE(n_components=2).fit_transform(z.cpu().numpy())\n",
    "        y = data.y.cpu().numpy()\n",
    "\n",
    "        plt.figure(figsize=(8, 8))\n",
    "        for i in range(dataset.num_classes):\n",
    "            plt.scatter(z[y == i, 0], z[y == i, 1], s=20, color=colors[i])\n",
    "        plt.axis('off')\n",
    "        plt.show()\n",
    "\n",
    "    colors = [\n",
    "        '#ffc0cb', '#bada55', '#008080', '#420420', '#7fe5f0', '#065535',\n",
    "        '#ffd700'\n",
    "    ]\n",
    "    plot_points(colors)\n",
    "\n",
    "\n",
    "if __name__ == \"__main__\":\n",
    "    main()"
   ]
  },
  {
   "cell_type": "markdown",
   "id": "6dded7b7-8adc-4413-98be-628573b2a624",
   "metadata": {},
   "source": [
    "## Random Forest Classifier"
   ]
  },
  {
   "cell_type": "code",
   "execution_count": 116,
   "id": "1c712ca4-a491-4520-8022-1cb4e12052c3",
   "metadata": {},
   "outputs": [],
   "source": [
    "rf=RandomForestClassifier(random_state = 1, max_depth=10, n_estimators=60, n_jobs=-1)"
   ]
  },
  {
   "cell_type": "code",
   "execution_count": 117,
   "id": "1db49e5c-3127-492c-a6f2-c3fe5d229038",
   "metadata": {},
   "outputs": [
    {
     "name": "stderr",
     "output_type": "stream",
     "text": [
      "/data/home/krazheva/.conda/envs/py310/lib/python3.10/site-packages/sklearn/utils/validation.py:1675: FutureWarning: Feature names only support names that are all strings. Got feature names with dtypes: ['int', 'str']. An error will be raised in 1.2.\n",
      "  warnings.warn(\n"
     ]
    },
    {
     "ename": "ValueError",
     "evalue": "Input contains NaN, infinity or a value too large for dtype('float32').",
     "output_type": "error",
     "traceback": [
      "\u001b[0;31m---------------------------------------------------------------------------\u001b[0m",
      "\u001b[0;31mValueError\u001b[0m                                Traceback (most recent call last)",
      "\u001b[0;32m/tmp/ipykernel_2529236/2725846524.py\u001b[0m in \u001b[0;36m<module>\u001b[0;34m\u001b[0m\n\u001b[0;32m----> 1\u001b[0;31m \u001b[0mrf\u001b[0m\u001b[0;34m.\u001b[0m\u001b[0mfit\u001b[0m\u001b[0;34m(\u001b[0m\u001b[0mX_train\u001b[0m\u001b[0;34m,\u001b[0m \u001b[0my_train\u001b[0m\u001b[0;34m)\u001b[0m\u001b[0;34m\u001b[0m\u001b[0;34m\u001b[0m\u001b[0m\n\u001b[0m",
      "\u001b[0;32m~/.conda/envs/py310/lib/python3.10/site-packages/sklearn/ensemble/_forest.py\u001b[0m in \u001b[0;36mfit\u001b[0;34m(self, X, y, sample_weight)\u001b[0m\n\u001b[1;32m    325\u001b[0m         \u001b[0;32mif\u001b[0m \u001b[0missparse\u001b[0m\u001b[0;34m(\u001b[0m\u001b[0my\u001b[0m\u001b[0;34m)\u001b[0m\u001b[0;34m:\u001b[0m\u001b[0;34m\u001b[0m\u001b[0;34m\u001b[0m\u001b[0m\n\u001b[1;32m    326\u001b[0m             \u001b[0;32mraise\u001b[0m \u001b[0mValueError\u001b[0m\u001b[0;34m(\u001b[0m\u001b[0;34m\"sparse multilabel-indicator for y is not supported.\"\u001b[0m\u001b[0;34m)\u001b[0m\u001b[0;34m\u001b[0m\u001b[0;34m\u001b[0m\u001b[0m\n\u001b[0;32m--> 327\u001b[0;31m         X, y = self._validate_data(\n\u001b[0m\u001b[1;32m    328\u001b[0m             \u001b[0mX\u001b[0m\u001b[0;34m,\u001b[0m \u001b[0my\u001b[0m\u001b[0;34m,\u001b[0m \u001b[0mmulti_output\u001b[0m\u001b[0;34m=\u001b[0m\u001b[0;32mTrue\u001b[0m\u001b[0;34m,\u001b[0m \u001b[0maccept_sparse\u001b[0m\u001b[0;34m=\u001b[0m\u001b[0;34m\"csc\"\u001b[0m\u001b[0;34m,\u001b[0m \u001b[0mdtype\u001b[0m\u001b[0;34m=\u001b[0m\u001b[0mDTYPE\u001b[0m\u001b[0;34m\u001b[0m\u001b[0;34m\u001b[0m\u001b[0m\n\u001b[1;32m    329\u001b[0m         )\n",
      "\u001b[0;32m~/.conda/envs/py310/lib/python3.10/site-packages/sklearn/base.py\u001b[0m in \u001b[0;36m_validate_data\u001b[0;34m(self, X, y, reset, validate_separately, **check_params)\u001b[0m\n\u001b[1;32m    574\u001b[0m                 \u001b[0my\u001b[0m \u001b[0;34m=\u001b[0m \u001b[0mcheck_array\u001b[0m\u001b[0;34m(\u001b[0m\u001b[0my\u001b[0m\u001b[0;34m,\u001b[0m \u001b[0;34m**\u001b[0m\u001b[0mcheck_y_params\u001b[0m\u001b[0;34m)\u001b[0m\u001b[0;34m\u001b[0m\u001b[0;34m\u001b[0m\u001b[0m\n\u001b[1;32m    575\u001b[0m             \u001b[0;32melse\u001b[0m\u001b[0;34m:\u001b[0m\u001b[0;34m\u001b[0m\u001b[0;34m\u001b[0m\u001b[0m\n\u001b[0;32m--> 576\u001b[0;31m                 \u001b[0mX\u001b[0m\u001b[0;34m,\u001b[0m \u001b[0my\u001b[0m \u001b[0;34m=\u001b[0m \u001b[0mcheck_X_y\u001b[0m\u001b[0;34m(\u001b[0m\u001b[0mX\u001b[0m\u001b[0;34m,\u001b[0m \u001b[0my\u001b[0m\u001b[0;34m,\u001b[0m \u001b[0;34m**\u001b[0m\u001b[0mcheck_params\u001b[0m\u001b[0;34m)\u001b[0m\u001b[0;34m\u001b[0m\u001b[0;34m\u001b[0m\u001b[0m\n\u001b[0m\u001b[1;32m    577\u001b[0m             \u001b[0mout\u001b[0m \u001b[0;34m=\u001b[0m \u001b[0mX\u001b[0m\u001b[0;34m,\u001b[0m \u001b[0my\u001b[0m\u001b[0;34m\u001b[0m\u001b[0;34m\u001b[0m\u001b[0m\n\u001b[1;32m    578\u001b[0m \u001b[0;34m\u001b[0m\u001b[0m\n",
      "\u001b[0;32m~/.conda/envs/py310/lib/python3.10/site-packages/sklearn/utils/validation.py\u001b[0m in \u001b[0;36mcheck_X_y\u001b[0;34m(X, y, accept_sparse, accept_large_sparse, dtype, order, copy, force_all_finite, ensure_2d, allow_nd, multi_output, ensure_min_samples, ensure_min_features, y_numeric, estimator)\u001b[0m\n\u001b[1;32m    954\u001b[0m         \u001b[0;32mraise\u001b[0m \u001b[0mValueError\u001b[0m\u001b[0;34m(\u001b[0m\u001b[0;34m\"y cannot be None\"\u001b[0m\u001b[0;34m)\u001b[0m\u001b[0;34m\u001b[0m\u001b[0;34m\u001b[0m\u001b[0m\n\u001b[1;32m    955\u001b[0m \u001b[0;34m\u001b[0m\u001b[0m\n\u001b[0;32m--> 956\u001b[0;31m     X = check_array(\n\u001b[0m\u001b[1;32m    957\u001b[0m         \u001b[0mX\u001b[0m\u001b[0;34m,\u001b[0m\u001b[0;34m\u001b[0m\u001b[0;34m\u001b[0m\u001b[0m\n\u001b[1;32m    958\u001b[0m         \u001b[0maccept_sparse\u001b[0m\u001b[0;34m=\u001b[0m\u001b[0maccept_sparse\u001b[0m\u001b[0;34m,\u001b[0m\u001b[0;34m\u001b[0m\u001b[0;34m\u001b[0m\u001b[0m\n",
      "\u001b[0;32m~/.conda/envs/py310/lib/python3.10/site-packages/sklearn/utils/validation.py\u001b[0m in \u001b[0;36mcheck_array\u001b[0;34m(array, accept_sparse, accept_large_sparse, dtype, order, copy, force_all_finite, ensure_2d, allow_nd, ensure_min_samples, ensure_min_features, estimator)\u001b[0m\n\u001b[1;32m    790\u001b[0m \u001b[0;34m\u001b[0m\u001b[0m\n\u001b[1;32m    791\u001b[0m         \u001b[0;32mif\u001b[0m \u001b[0mforce_all_finite\u001b[0m\u001b[0;34m:\u001b[0m\u001b[0;34m\u001b[0m\u001b[0;34m\u001b[0m\u001b[0m\n\u001b[0;32m--> 792\u001b[0;31m             \u001b[0m_assert_all_finite\u001b[0m\u001b[0;34m(\u001b[0m\u001b[0marray\u001b[0m\u001b[0;34m,\u001b[0m \u001b[0mallow_nan\u001b[0m\u001b[0;34m=\u001b[0m\u001b[0mforce_all_finite\u001b[0m \u001b[0;34m==\u001b[0m \u001b[0;34m\"allow-nan\"\u001b[0m\u001b[0;34m)\u001b[0m\u001b[0;34m\u001b[0m\u001b[0;34m\u001b[0m\u001b[0m\n\u001b[0m\u001b[1;32m    793\u001b[0m \u001b[0;34m\u001b[0m\u001b[0m\n\u001b[1;32m    794\u001b[0m     \u001b[0;32mif\u001b[0m \u001b[0mensure_min_samples\u001b[0m \u001b[0;34m>\u001b[0m \u001b[0;36m0\u001b[0m\u001b[0;34m:\u001b[0m\u001b[0;34m\u001b[0m\u001b[0;34m\u001b[0m\u001b[0m\n",
      "\u001b[0;32m~/.conda/envs/py310/lib/python3.10/site-packages/sklearn/utils/validation.py\u001b[0m in \u001b[0;36m_assert_all_finite\u001b[0;34m(X, allow_nan, msg_dtype)\u001b[0m\n\u001b[1;32m    112\u001b[0m         ):\n\u001b[1;32m    113\u001b[0m             \u001b[0mtype_err\u001b[0m \u001b[0;34m=\u001b[0m \u001b[0;34m\"infinity\"\u001b[0m \u001b[0;32mif\u001b[0m \u001b[0mallow_nan\u001b[0m \u001b[0;32melse\u001b[0m \u001b[0;34m\"NaN, infinity\"\u001b[0m\u001b[0;34m\u001b[0m\u001b[0;34m\u001b[0m\u001b[0m\n\u001b[0;32m--> 114\u001b[0;31m             raise ValueError(\n\u001b[0m\u001b[1;32m    115\u001b[0m                 msg_err.format(\n\u001b[1;32m    116\u001b[0m                     \u001b[0mtype_err\u001b[0m\u001b[0;34m,\u001b[0m \u001b[0mmsg_dtype\u001b[0m \u001b[0;32mif\u001b[0m \u001b[0mmsg_dtype\u001b[0m \u001b[0;32mis\u001b[0m \u001b[0;32mnot\u001b[0m \u001b[0;32mNone\u001b[0m \u001b[0;32melse\u001b[0m \u001b[0mX\u001b[0m\u001b[0;34m.\u001b[0m\u001b[0mdtype\u001b[0m\u001b[0;34m\u001b[0m\u001b[0;34m\u001b[0m\u001b[0m\n",
      "\u001b[0;31mValueError\u001b[0m: Input contains NaN, infinity or a value too large for dtype('float32')."
     ]
    }
   ],
   "source": [
    "rf.fit(X_train, y_train)"
   ]
  },
  {
   "cell_type": "code",
   "execution_count": null,
   "id": "ac4abc08-7778-4223-81aa-682f4a15d9d0",
   "metadata": {},
   "outputs": [],
   "source": [
    "predictions_rf = rf.predict(X_test)\n",
    "predictions_rf"
   ]
  },
  {
   "cell_type": "code",
   "execution_count": null,
   "id": "00ba3153-bad8-48b8-a8e6-2cad8542c318",
   "metadata": {},
   "outputs": [],
   "source": [
    "print(\"Precision:\", precision_score(y_test, predictions_rf))\n",
    "print(\"Recall: \", recall_score(y_test, predictions_rf))\n",
    "print(\"Accuracy: \", accuracy_score(y_test, predictions_rf))\n",
    "print(\"F1-score: \", f1_score(y_test, predictions_rf))\n",
    "print(\"Log_loss: \", log_loss(y_test, predictions_rf))"
   ]
  },
  {
   "cell_type": "code",
   "execution_count": null,
   "id": "641a0d49-54db-4ad5-a083-47cb68db5537",
   "metadata": {},
   "outputs": [],
   "source": [
    "roc_auc_score(y_test, rf.predict_proba(X_test)[:,1])"
   ]
  },
  {
   "cell_type": "code",
   "execution_count": null,
   "id": "55a01379-2334-4f34-aab3-f6a6d6bdda69",
   "metadata": {},
   "outputs": [],
   "source": [
    "predict = rf.predict_proba(X_test)\n",
    "pos_param = predict[:, 1]"
   ]
  },
  {
   "cell_type": "code",
   "execution_count": null,
   "id": "f5957d86-e8bb-45b2-95da-f345c3e28d67",
   "metadata": {},
   "outputs": [],
   "source": [
    "from sklearn.metrics import precision_score, recall_score, accuracy_score, f1_score, log_loss, roc_auc_score, roc_curve\n",
    "\n",
    "from sklearn.metrics import roc_curve, auc\n",
    "from sklearn.metrics import roc_auc_score\n",
    "from matplotlib import pyplot as plt"
   ]
  },
  {
   "cell_type": "code",
   "execution_count": null,
   "id": "75b7fceb-1075-4843-96bd-ba99e7f54ea4",
   "metadata": {},
   "outputs": [],
   "source": [
    "fpr, tpr, treshold = roc_curve(y_test, pos_param)\n",
    "roc_auc = auc(fpr, tpr)\n",
    "# строим график\n",
    "plt.plot(fpr, tpr, color='darkorange',\n",
    "         label='ROC кривая (area = %0.2f)' % roc_auc)\n",
    "plt.plot([0, 1], [0, 1], color='navy', linestyle='--')\n",
    "plt.xlim([0.0, 1.0])\n",
    "plt.ylim([0.0, 1.05])\n",
    "plt.xlabel('False Positive Rate')\n",
    "plt.ylabel('True Positive Rate')\n",
    "plt.title('ROC-кривая')\n",
    "plt.legend(loc=\"lower right\")\n",
    "plt.show()"
   ]
  },
  {
   "cell_type": "markdown",
   "id": "7fb6873c-4526-45df-9197-5893b47fa9d1",
   "metadata": {},
   "source": [
    "## XGBoosting"
   ]
  },
  {
   "cell_type": "code",
   "execution_count": null,
   "id": "88522947-5f1e-4a06-b0d4-237dba671f5d",
   "metadata": {},
   "outputs": [],
   "source": [
    "xgb = XGBClassifier(learning_rate= 0.1, n_estimators=300, n_jobs=-1)"
   ]
  },
  {
   "cell_type": "code",
   "execution_count": null,
   "id": "bd0ee454-80b5-4fe0-a830-7a0dd74ddaa9",
   "metadata": {},
   "outputs": [],
   "source": [
    "list(X_train)"
   ]
  },
  {
   "cell_type": "code",
   "execution_count": null,
   "id": "8982c464-6dba-44fc-970d-19dcc87b3c70",
   "metadata": {},
   "outputs": [],
   "source": [
    "y_train = pd.DataFrame(y_train)\n",
    "y_train"
   ]
  },
  {
   "cell_type": "code",
   "execution_count": null,
   "id": "5b967bd4-8b58-497d-a345-e48eada3049d",
   "metadata": {},
   "outputs": [],
   "source": [
    "y_train.rename(columns={\"Fraud_presence\": \"Fraud\"})\n",
    "y_train.reset_index(drop=True)"
   ]
  },
  {
   "cell_type": "code",
   "execution_count": null,
   "id": "89bf9e0a-0928-4ceb-baed-fa613903da76",
   "metadata": {},
   "outputs": [],
   "source": [
    "xgb.fit(X_train, y_train)"
   ]
  },
  {
   "cell_type": "code",
   "execution_count": null,
   "id": "f5224f3b-34e5-41b5-917e-36a374bf36e5",
   "metadata": {},
   "outputs": [],
   "source": []
  }
 ],
 "metadata": {
  "kernelspec": {
   "display_name": "Python [conda env:.conda-py310]",
   "language": "python",
   "name": "conda-env-.conda-py310-py"
  },
  "language_info": {
   "codemirror_mode": {
    "name": "ipython",
    "version": 3
   },
   "file_extension": ".py",
   "mimetype": "text/x-python",
   "name": "python",
   "nbconvert_exporter": "python",
   "pygments_lexer": "ipython3",
   "version": "3.10.9"
  }
 },
 "nbformat": 4,
 "nbformat_minor": 5
}
