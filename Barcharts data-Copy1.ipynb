{
 "cells": [
  {
   "cell_type": "code",
   "execution_count": 1,
   "id": "020a20ab-b07e-45b1-aadd-cc6a015484d9",
   "metadata": {},
   "outputs": [],
   "source": [
    "import numpy as np\n",
    "import matplotlib.pyplot as plt\n",
    "import scipy\n",
    "import pandas as pd\n",
    "from sklearn.impute import SimpleImputer\n",
    "from sklearn.compose import ColumnTransformer\n",
    "from sklearn.preprocessing import OneHotEncoder\n",
    "\n",
    "%matplotlib inline\n",
    "\n",
    "import pandas as pd"
   ]
  },
  {
   "cell_type": "code",
   "execution_count": 3,
   "id": "3e2be203-90b1-46b8-9a91-324c56b070b0",
   "metadata": {},
   "outputs": [],
   "source": [
    "data = pd.read_csv('./Data/final_data.csv')"
   ]
  },
  {
   "cell_type": "code",
   "execution_count": 4,
   "id": "2c79fe86-c83c-469e-9fe6-c2c73af92c21",
   "metadata": {},
   "outputs": [
    {
     "data": {
      "text/plain": [
       "(7564056, 13)"
      ]
     },
     "execution_count": 4,
     "metadata": {},
     "output_type": "execute_result"
    }
   ],
   "source": [
    "data.shape"
   ]
  },
  {
   "cell_type": "markdown",
   "id": "fa39f99a-f0b4-4570-afe3-dde5a0dca86f",
   "metadata": {},
   "source": [
    "## Барчарт для сегментов клиентов банка"
   ]
  },
  {
   "cell_type": "code",
   "execution_count": 5,
   "id": "ff829880-0e91-4f47-a82f-27344fcf0de6",
   "metadata": {},
   "outputs": [
    {
     "data": {
      "text/html": [
       "<div>\n",
       "<style scoped>\n",
       "    .dataframe tbody tr th:only-of-type {\n",
       "        vertical-align: middle;\n",
       "    }\n",
       "\n",
       "    .dataframe tbody tr th {\n",
       "        vertical-align: top;\n",
       "    }\n",
       "\n",
       "    .dataframe thead th {\n",
       "        text-align: right;\n",
       "    }\n",
       "</style>\n",
       "<table border=\"1\" class=\"dataframe\">\n",
       "  <thead>\n",
       "    <tr style=\"text-align: right;\">\n",
       "      <th></th>\n",
       "      <th>Клиент_Сегмент_КБ</th>\n",
       "      <th>count</th>\n",
       "    </tr>\n",
       "  </thead>\n",
       "  <tbody>\n",
       "    <tr>\n",
       "      <th>0</th>\n",
       "      <td>0.0</td>\n",
       "      <td>5350581</td>\n",
       "    </tr>\n",
       "    <tr>\n",
       "      <th>1</th>\n",
       "      <td>1.0</td>\n",
       "      <td>1674983</td>\n",
       "    </tr>\n",
       "  </tbody>\n",
       "</table>\n",
       "</div>"
      ],
      "text/plain": [
       "   Клиент_Сегмент_КБ    count\n",
       "0                0.0  5350581\n",
       "1                1.0  1674983"
      ]
     },
     "execution_count": 5,
     "metadata": {},
     "output_type": "execute_result"
    }
   ],
   "source": [
    "array_clients_KB = data.groupby(['Клиент_Сегмент_КБ'])['Клиент_Сегмент_КБ'].count().reset_index(name='count')\n",
    "array_clients_KB"
   ]
  },
  {
   "cell_type": "code",
   "execution_count": 6,
   "id": "1dbf1a97-ee56-4df6-b0d3-f7d051e4039a",
   "metadata": {},
   "outputs": [
    {
     "data": {
      "text/html": [
       "<div>\n",
       "<style scoped>\n",
       "    .dataframe tbody tr th:only-of-type {\n",
       "        vertical-align: middle;\n",
       "    }\n",
       "\n",
       "    .dataframe tbody tr th {\n",
       "        vertical-align: top;\n",
       "    }\n",
       "\n",
       "    .dataframe thead th {\n",
       "        text-align: right;\n",
       "    }\n",
       "</style>\n",
       "<table border=\"1\" class=\"dataframe\">\n",
       "  <thead>\n",
       "    <tr style=\"text-align: right;\">\n",
       "      <th></th>\n",
       "      <th>Клиент_Сегмент_МБ</th>\n",
       "      <th>count</th>\n",
       "    </tr>\n",
       "  </thead>\n",
       "  <tbody>\n",
       "    <tr>\n",
       "      <th>0</th>\n",
       "      <td>0.0</td>\n",
       "      <td>5691306</td>\n",
       "    </tr>\n",
       "    <tr>\n",
       "      <th>1</th>\n",
       "      <td>1.0</td>\n",
       "      <td>1334258</td>\n",
       "    </tr>\n",
       "  </tbody>\n",
       "</table>\n",
       "</div>"
      ],
      "text/plain": [
       "   Клиент_Сегмент_МБ    count\n",
       "0                0.0  5691306\n",
       "1                1.0  1334258"
      ]
     },
     "execution_count": 6,
     "metadata": {},
     "output_type": "execute_result"
    }
   ],
   "source": [
    "array_clients_MB = data.groupby(['Клиент_Сегмент_МБ'])['Клиент_Сегмент_МБ'].count().reset_index(name='count')\n",
    "array_clients_MB"
   ]
  },
  {
   "cell_type": "code",
   "execution_count": 7,
   "id": "59811497-9720-4abc-b181-cad2e5560d9d",
   "metadata": {},
   "outputs": [
    {
     "data": {
      "text/html": [
       "<div>\n",
       "<style scoped>\n",
       "    .dataframe tbody tr th:only-of-type {\n",
       "        vertical-align: middle;\n",
       "    }\n",
       "\n",
       "    .dataframe tbody tr th {\n",
       "        vertical-align: top;\n",
       "    }\n",
       "\n",
       "    .dataframe thead th {\n",
       "        text-align: right;\n",
       "    }\n",
       "</style>\n",
       "<table border=\"1\" class=\"dataframe\">\n",
       "  <thead>\n",
       "    <tr style=\"text-align: right;\">\n",
       "      <th></th>\n",
       "      <th>Клиент_Сегмент_МКП</th>\n",
       "      <th>count</th>\n",
       "    </tr>\n",
       "  </thead>\n",
       "  <tbody>\n",
       "    <tr>\n",
       "      <th>0</th>\n",
       "      <td>0.0</td>\n",
       "      <td>3712464</td>\n",
       "    </tr>\n",
       "    <tr>\n",
       "      <th>1</th>\n",
       "      <td>1.0</td>\n",
       "      <td>3313100</td>\n",
       "    </tr>\n",
       "  </tbody>\n",
       "</table>\n",
       "</div>"
      ],
      "text/plain": [
       "   Клиент_Сегмент_МКП    count\n",
       "0                 0.0  3712464\n",
       "1                 1.0  3313100"
      ]
     },
     "execution_count": 7,
     "metadata": {},
     "output_type": "execute_result"
    }
   ],
   "source": [
    "array_clients_MKP = data.groupby(['Клиент_Сегмент_МКП'])['Клиент_Сегмент_МКП'].count().reset_index(name='count')\n",
    "array_clients_MKP"
   ]
  },
  {
   "cell_type": "code",
   "execution_count": 8,
   "id": "c26a5008-730c-4d18-84be-0d87687baa64",
   "metadata": {},
   "outputs": [
    {
     "data": {
      "text/html": [
       "<div>\n",
       "<style scoped>\n",
       "    .dataframe tbody tr th:only-of-type {\n",
       "        vertical-align: middle;\n",
       "    }\n",
       "\n",
       "    .dataframe tbody tr th {\n",
       "        vertical-align: top;\n",
       "    }\n",
       "\n",
       "    .dataframe thead th {\n",
       "        text-align: right;\n",
       "    }\n",
       "</style>\n",
       "<table border=\"1\" class=\"dataframe\">\n",
       "  <thead>\n",
       "    <tr style=\"text-align: right;\">\n",
       "      <th></th>\n",
       "      <th>Клиент_Сегмент_СБ</th>\n",
       "      <th>count</th>\n",
       "    </tr>\n",
       "  </thead>\n",
       "  <tbody>\n",
       "    <tr>\n",
       "      <th>0</th>\n",
       "      <td>0.0</td>\n",
       "      <td>6322341</td>\n",
       "    </tr>\n",
       "    <tr>\n",
       "      <th>1</th>\n",
       "      <td>1.0</td>\n",
       "      <td>703223</td>\n",
       "    </tr>\n",
       "  </tbody>\n",
       "</table>\n",
       "</div>"
      ],
      "text/plain": [
       "   Клиент_Сегмент_СБ    count\n",
       "0                0.0  6322341\n",
       "1                1.0   703223"
      ]
     },
     "execution_count": 8,
     "metadata": {},
     "output_type": "execute_result"
    }
   ],
   "source": [
    "array_clients_SB = data.groupby(['Клиент_Сегмент_СБ'])['Клиент_Сегмент_СБ'].count().reset_index(name='count')\n",
    "array_clients_SB"
   ]
  },
  {
   "cell_type": "code",
   "execution_count": 9,
   "id": "779b1423-a7d4-46d9-a267-35949026152e",
   "metadata": {},
   "outputs": [],
   "source": [
    "array = {'count': [array_clients_KB.iloc[1]['count'], array_clients_MB.iloc[1]['count'], array_clients_MKP.iloc[1]['count'], array_clients_SB.iloc[1]['count']]}\n",
    "clients1 = pd.DataFrame(array)\n",
    "clients = clients1['count']"
   ]
  },
  {
   "cell_type": "code",
   "execution_count": 10,
   "id": "45c69cbe-364a-48cb-9941-793693189ae5",
   "metadata": {},
   "outputs": [],
   "source": [
    "names1 = {'names': ['BB', 'SB', 'MBE', 'MB']}\n",
    "clients_names = pd.DataFrame(names1)\n",
    "names = names1['names']"
   ]
  },
  {
   "cell_type": "code",
   "execution_count": 11,
   "id": "4a14098c-f9a7-4003-839f-6cad2afd134a",
   "metadata": {},
   "outputs": [
    {
     "data": {
      "text/plain": [
       "Text(0.5, 0, 'Clients by segments')"
      ]
     },
     "execution_count": 11,
     "metadata": {},
     "output_type": "execute_result"
    },
    {
     "data": {
      "image/png": "[encoded data removed]",
      "text/plain": [
       "<Figure size 640x480 with 1 Axes>"
      ]
     },
     "metadata": {},
     "output_type": "display_data"
    }
   ],
   "source": [
    "plt.bar(names, clients)\n",
    "plt.ylabel('Amount')\n",
    "plt.xlabel('Clients by segments')"
   ]
  },
  {
   "cell_type": "code",
   "execution_count": 12,
   "id": "68d066cf-2a4d-4511-82d2-0ae60562fbb0",
   "metadata": {},
   "outputs": [
    {
     "data": {
      "text/html": [
       "<div>\n",
       "<style scoped>\n",
       "    .dataframe tbody tr th:only-of-type {\n",
       "        vertical-align: middle;\n",
       "    }\n",
       "\n",
       "    .dataframe tbody tr th {\n",
       "        vertical-align: top;\n",
       "    }\n",
       "\n",
       "    .dataframe thead th {\n",
       "        text-align: right;\n",
       "    }\n",
       "</style>\n",
       "<table border=\"1\" class=\"dataframe\">\n",
       "  <thead>\n",
       "    <tr style=\"text-align: right;\">\n",
       "      <th></th>\n",
       "      <th>Клиент_НаличиеЗПпроекта_Д</th>\n",
       "      <th>count</th>\n",
       "    </tr>\n",
       "  </thead>\n",
       "  <tbody>\n",
       "    <tr>\n",
       "      <th>0</th>\n",
       "      <td>0.0</td>\n",
       "      <td>3937464</td>\n",
       "    </tr>\n",
       "    <tr>\n",
       "      <th>1</th>\n",
       "      <td>1.0</td>\n",
       "      <td>3088100</td>\n",
       "    </tr>\n",
       "  </tbody>\n",
       "</table>\n",
       "</div>"
      ],
      "text/plain": [
       "   Клиент_НаличиеЗПпроекта_Д    count\n",
       "0                        0.0  3937464\n",
       "1                        1.0  3088100"
      ]
     },
     "execution_count": 12,
     "metadata": {},
     "output_type": "execute_result"
    }
   ],
   "source": [
    "salary_Y = data.groupby(['Клиент_НаличиеЗПпроекта_Д'])['Клиент_НаличиеЗПпроекта_Д'].count().reset_index(name='count')\n",
    "salary_Y"
   ]
  },
  {
   "cell_type": "code",
   "execution_count": 13,
   "id": "7e6cb06d-fea1-4e57-b560-0d9ee7f9c0e9",
   "metadata": {},
   "outputs": [
    {
     "data": {
      "text/html": [
       "<div>\n",
       "<style scoped>\n",
       "    .dataframe tbody tr th:only-of-type {\n",
       "        vertical-align: middle;\n",
       "    }\n",
       "\n",
       "    .dataframe tbody tr th {\n",
       "        vertical-align: top;\n",
       "    }\n",
       "\n",
       "    .dataframe thead th {\n",
       "        text-align: right;\n",
       "    }\n",
       "</style>\n",
       "<table border=\"1\" class=\"dataframe\">\n",
       "  <thead>\n",
       "    <tr style=\"text-align: right;\">\n",
       "      <th></th>\n",
       "      <th>Клиент_НаличиеЗПпроекта_Н</th>\n",
       "      <th>count</th>\n",
       "    </tr>\n",
       "  </thead>\n",
       "  <tbody>\n",
       "    <tr>\n",
       "      <th>0</th>\n",
       "      <td>0.0</td>\n",
       "      <td>3088100</td>\n",
       "    </tr>\n",
       "    <tr>\n",
       "      <th>1</th>\n",
       "      <td>1.0</td>\n",
       "      <td>3937464</td>\n",
       "    </tr>\n",
       "  </tbody>\n",
       "</table>\n",
       "</div>"
      ],
      "text/plain": [
       "   Клиент_НаличиеЗПпроекта_Н    count\n",
       "0                        0.0  3088100\n",
       "1                        1.0  3937464"
      ]
     },
     "execution_count": 13,
     "metadata": {},
     "output_type": "execute_result"
    }
   ],
   "source": [
    "salary_N = data.groupby(['Клиент_НаличиеЗПпроекта_Н'])['Клиент_НаличиеЗПпроекта_Н'].count().reset_index(name='count')\n",
    "salary_N"
   ]
  },
  {
   "cell_type": "code",
   "execution_count": 14,
   "id": "5c1eccc2-1ee5-4e0d-a103-3664b510303a",
   "metadata": {},
   "outputs": [],
   "source": [
    "array_salary = {'count': [salary_Y.iloc[1]['count'], salary_N.iloc[1]['count']]}\n",
    "array_salary_dataframe = pd.DataFrame(array_salary)\n",
    "array_salary_final = array_salary_dataframe['count']"
   ]
  },
  {
   "cell_type": "code",
   "execution_count": 15,
   "id": "0a365c1c-9c9c-431e-ab5c-c19875092792",
   "metadata": {},
   "outputs": [],
   "source": [
    "names_salary = {'names': ['Yes', 'No']}\n",
    "names_salary_dataframe = pd.DataFrame(names_salary)\n",
    "names_salary_final = names_salary_dataframe['names']"
   ]
  },
  {
   "cell_type": "code",
   "execution_count": 16,
   "id": "f25e3003-213e-4cbb-88ab-5d6d68416675",
   "metadata": {},
   "outputs": [
    {
     "data": {
      "text/plain": [
       "Text(0.5, 0, 'The presence of a salary project')"
      ]
     },
     "execution_count": 16,
     "metadata": {},
     "output_type": "execute_result"
    },
    {
     "data": {
      "image/png": "[encoded data removed]",
      "text/plain": [
       "<Figure size 640x480 with 1 Axes>"
      ]
     },
     "metadata": {},
     "output_type": "display_data"
    }
   ],
   "source": [
    "plt.bar(names_salary_final, array_salary_final)\n",
    "plt.ylabel('Amount')\n",
    "plt.xlabel('The presence of a salary project')"
   ]
  },
  {
   "cell_type": "code",
   "execution_count": null,
   "id": "52c3fb05-1531-4b93-b4b7-b357b54e918f",
   "metadata": {},
   "outputs": [],
   "source": []
  }
 ],
 "metadata": {
  "kernelspec": {
   "display_name": "Python [conda env:.conda-py310]",
   "language": "python",
   "name": "conda-env-.conda-py310-py"
  },
  "language_info": {
   "codemirror_mode": {
    "name": "ipython",
    "version": 3
   },
   "file_extension": ".py",
   "mimetype": "text/x-python",
   "name": "python",
   "nbconvert_exporter": "python",
   "pygments_lexer": "ipython3",
   "version": "3.10.9"
  }
 },
 "nbformat": 4,
 "nbformat_minor": 5
}
