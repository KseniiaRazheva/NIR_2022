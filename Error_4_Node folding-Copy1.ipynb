{
 "cells": [
  {
   "cell_type": "code",
   "execution_count": 2,
   "id": "e4f699e5-0de0-4613-8afb-d7b0e7f90c05",
   "metadata": {},
   "outputs": [],
   "source": [
    "import numpy as np\n",
    "import matplotlib.pyplot as plt\n",
    "import scipy\n",
    "import pandas as pd\n",
    "from sklearn.impute import SimpleImputer\n",
    "from sklearn.compose import ColumnTransformer\n",
    "from sklearn.preprocessing import OneHotEncoder\n",
    "\n",
    "%matplotlib inline\n",
    "\n",
    "import argparse\n",
    "from tqdm import tqdm\n",
    "\n",
    "import torch\n",
    "import torch.nn.functional as F\n",
    "from torch_sparse import SparseTensor\n",
    "from torch_geometric.utils import to_undirected, dropout_adj\n",
    "import os\n",
    "import os.path as osp\n",
    "\n",
    "from ogb.nodeproppred import PygNodePropPredDataset\n",
    "\n",
    "import torch\n",
    "from torch_geometric.data import Data\n",
    "\n",
    "import os.path as osp"
   ]
  },
  {
   "cell_type": "markdown",
   "id": "e571ad7c-14f0-424c-813e-87dd449f37c2",
   "metadata": {
    "tags": []
   },
   "source": [
    "## Загрузка данных"
   ]
  },
  {
   "cell_type": "code",
   "execution_count": 3,
   "id": "5df74e3a-44c8-4bfc-8f1b-4023dce47f88",
   "metadata": {},
   "outputs": [],
   "source": [
    "data = pd.read_csv('./Data/agg_final_data.csv')"
   ]
  },
  {
   "cell_type": "code",
   "execution_count": 4,
   "id": "26e8d405-d077-4185-8aea-d0b999e1ff77",
   "metadata": {},
   "outputs": [
    {
     "data": {
      "text/plain": [
       "(63864, 12)"
      ]
     },
     "execution_count": 4,
     "metadata": {},
     "output_type": "execute_result"
    }
   ],
   "source": [
    "data.shape"
   ]
  },
  {
   "cell_type": "code",
   "execution_count": 5,
   "id": "618cc592-fb7f-48c2-84bc-59eb029dad51",
   "metadata": {},
   "outputs": [
    {
     "data": {
      "text/html": [
       "<div>\n",
       "<style scoped>\n",
       "    .dataframe tbody tr th:only-of-type {\n",
       "        vertical-align: middle;\n",
       "    }\n",
       "\n",
       "    .dataframe tbody tr th {\n",
       "        vertical-align: top;\n",
       "    }\n",
       "\n",
       "    .dataframe thead th {\n",
       "        text-align: right;\n",
       "    }\n",
       "</style>\n",
       "<table border=\"1\" class=\"dataframe\">\n",
       "  <thead>\n",
       "    <tr style=\"text-align: right;\">\n",
       "      <th></th>\n",
       "      <th>('amount', 'mean')</th>\n",
       "      <th>client_inn</th>\n",
       "      <th>years</th>\n",
       "      <th>Длина_Отн_в_днях</th>\n",
       "      <th>Клиент_Сегмент_КБ</th>\n",
       "      <th>Клиент_Сегмент_МБ</th>\n",
       "      <th>Клиент_Сегмент_МКП</th>\n",
       "      <th>Клиент_Сегмент_СБ</th>\n",
       "      <th>Клиент_НаличиеЗПпроекта_Д</th>\n",
       "      <th>Клиент_НаличиеЗПпроекта_Н</th>\n",
       "      <th>Fraud_presence</th>\n",
       "      <th>Reject_presence</th>\n",
       "    </tr>\n",
       "  </thead>\n",
       "  <tbody>\n",
       "    <tr>\n",
       "      <th>0</th>\n",
       "      <td>9.948950e+05</td>\n",
       "      <td>1</td>\n",
       "      <td>44.0</td>\n",
       "      <td>4886.0</td>\n",
       "      <td>0</td>\n",
       "      <td>0</td>\n",
       "      <td>1</td>\n",
       "      <td>0</td>\n",
       "      <td>0</td>\n",
       "      <td>1</td>\n",
       "      <td>0.0</td>\n",
       "      <td>0.0</td>\n",
       "    </tr>\n",
       "    <tr>\n",
       "      <th>1</th>\n",
       "      <td>6.072894e+03</td>\n",
       "      <td>94</td>\n",
       "      <td>39.0</td>\n",
       "      <td>1510.0</td>\n",
       "      <td>1</td>\n",
       "      <td>0</td>\n",
       "      <td>0</td>\n",
       "      <td>0</td>\n",
       "      <td>0</td>\n",
       "      <td>1</td>\n",
       "      <td>0.0</td>\n",
       "      <td>0.0</td>\n",
       "    </tr>\n",
       "    <tr>\n",
       "      <th>2</th>\n",
       "      <td>2.787111e+05</td>\n",
       "      <td>114</td>\n",
       "      <td>60.0</td>\n",
       "      <td>2826.0</td>\n",
       "      <td>1</td>\n",
       "      <td>0</td>\n",
       "      <td>0</td>\n",
       "      <td>0</td>\n",
       "      <td>0</td>\n",
       "      <td>1</td>\n",
       "      <td>0.0</td>\n",
       "      <td>0.0</td>\n",
       "    </tr>\n",
       "    <tr>\n",
       "      <th>3</th>\n",
       "      <td>5.241910e+05</td>\n",
       "      <td>129</td>\n",
       "      <td>44.0</td>\n",
       "      <td>5479.0</td>\n",
       "      <td>1</td>\n",
       "      <td>0</td>\n",
       "      <td>0</td>\n",
       "      <td>0</td>\n",
       "      <td>1</td>\n",
       "      <td>0</td>\n",
       "      <td>0.0</td>\n",
       "      <td>0.0</td>\n",
       "    </tr>\n",
       "    <tr>\n",
       "      <th>4</th>\n",
       "      <td>4.365950e+04</td>\n",
       "      <td>166</td>\n",
       "      <td>32.0</td>\n",
       "      <td>608.0</td>\n",
       "      <td>0</td>\n",
       "      <td>0</td>\n",
       "      <td>1</td>\n",
       "      <td>0</td>\n",
       "      <td>0</td>\n",
       "      <td>1</td>\n",
       "      <td>0.0</td>\n",
       "      <td>0.0</td>\n",
       "    </tr>\n",
       "    <tr>\n",
       "      <th>...</th>\n",
       "      <td>...</td>\n",
       "      <td>...</td>\n",
       "      <td>...</td>\n",
       "      <td>...</td>\n",
       "      <td>...</td>\n",
       "      <td>...</td>\n",
       "      <td>...</td>\n",
       "      <td>...</td>\n",
       "      <td>...</td>\n",
       "      <td>...</td>\n",
       "      <td>...</td>\n",
       "      <td>...</td>\n",
       "    </tr>\n",
       "    <tr>\n",
       "      <th>63859</th>\n",
       "      <td>2.565470e+04</td>\n",
       "      <td>1920916</td>\n",
       "      <td>47.0</td>\n",
       "      <td>3463.0</td>\n",
       "      <td>0</td>\n",
       "      <td>0</td>\n",
       "      <td>1</td>\n",
       "      <td>0</td>\n",
       "      <td>0</td>\n",
       "      <td>1</td>\n",
       "      <td>0.0</td>\n",
       "      <td>0.0</td>\n",
       "    </tr>\n",
       "    <tr>\n",
       "      <th>63860</th>\n",
       "      <td>1.027485e+06</td>\n",
       "      <td>1920997</td>\n",
       "      <td>53.0</td>\n",
       "      <td>3429.0</td>\n",
       "      <td>1</td>\n",
       "      <td>0</td>\n",
       "      <td>0</td>\n",
       "      <td>0</td>\n",
       "      <td>1</td>\n",
       "      <td>0</td>\n",
       "      <td>0.0</td>\n",
       "      <td>0.0</td>\n",
       "    </tr>\n",
       "    <tr>\n",
       "      <th>63861</th>\n",
       "      <td>4.958946e+04</td>\n",
       "      <td>1921028</td>\n",
       "      <td>30.0</td>\n",
       "      <td>2806.0</td>\n",
       "      <td>0</td>\n",
       "      <td>0</td>\n",
       "      <td>1</td>\n",
       "      <td>0</td>\n",
       "      <td>0</td>\n",
       "      <td>1</td>\n",
       "      <td>0.0</td>\n",
       "      <td>0.0</td>\n",
       "    </tr>\n",
       "    <tr>\n",
       "      <th>63862</th>\n",
       "      <td>9.089023e+04</td>\n",
       "      <td>1921064</td>\n",
       "      <td>33.0</td>\n",
       "      <td>3457.0</td>\n",
       "      <td>0</td>\n",
       "      <td>1</td>\n",
       "      <td>0</td>\n",
       "      <td>0</td>\n",
       "      <td>0</td>\n",
       "      <td>1</td>\n",
       "      <td>0.0</td>\n",
       "      <td>0.0</td>\n",
       "    </tr>\n",
       "    <tr>\n",
       "      <th>63863</th>\n",
       "      <td>7.247473e+05</td>\n",
       "      <td>1921084</td>\n",
       "      <td>47.0</td>\n",
       "      <td>1673.0</td>\n",
       "      <td>0</td>\n",
       "      <td>0</td>\n",
       "      <td>0</td>\n",
       "      <td>1</td>\n",
       "      <td>1</td>\n",
       "      <td>0</td>\n",
       "      <td>0.0</td>\n",
       "      <td>0.0</td>\n",
       "    </tr>\n",
       "  </tbody>\n",
       "</table>\n",
       "<p>63864 rows × 12 columns</p>\n",
       "</div>"
      ],
      "text/plain": [
       "       ('amount', 'mean')  client_inn  years  Длина_Отн_в_днях  \\\n",
       "0            9.948950e+05           1   44.0            4886.0   \n",
       "1            6.072894e+03          94   39.0            1510.0   \n",
       "2            2.787111e+05         114   60.0            2826.0   \n",
       "3            5.241910e+05         129   44.0            5479.0   \n",
       "4            4.365950e+04         166   32.0             608.0   \n",
       "...                   ...         ...    ...               ...   \n",
       "63859        2.565470e+04     1920916   47.0            3463.0   \n",
       "63860        1.027485e+06     1920997   53.0            3429.0   \n",
       "63861        4.958946e+04     1921028   30.0            2806.0   \n",
       "63862        9.089023e+04     1921064   33.0            3457.0   \n",
       "63863        7.247473e+05     1921084   47.0            1673.0   \n",
       "\n",
       "       Клиент_Сегмент_КБ  Клиент_Сегмент_МБ  Клиент_Сегмент_МКП  \\\n",
       "0                      0                  0                   1   \n",
       "1                      1                  0                   0   \n",
       "2                      1                  0                   0   \n",
       "3                      1                  0                   0   \n",
       "4                      0                  0                   1   \n",
       "...                  ...                ...                 ...   \n",
       "63859                  0                  0                   1   \n",
       "63860                  1                  0                   0   \n",
       "63861                  0                  0                   1   \n",
       "63862                  0                  1                   0   \n",
       "63863                  0                  0                   0   \n",
       "\n",
       "       Клиент_Сегмент_СБ  Клиент_НаличиеЗПпроекта_Д  \\\n",
       "0                      0                          0   \n",
       "1                      0                          0   \n",
       "2                      0                          0   \n",
       "3                      0                          1   \n",
       "4                      0                          0   \n",
       "...                  ...                        ...   \n",
       "63859                  0                          0   \n",
       "63860                  0                          1   \n",
       "63861                  0                          0   \n",
       "63862                  0                          0   \n",
       "63863                  1                          1   \n",
       "\n",
       "       Клиент_НаличиеЗПпроекта_Н  Fraud_presence  Reject_presence  \n",
       "0                              1             0.0              0.0  \n",
       "1                              1             0.0              0.0  \n",
       "2                              1             0.0              0.0  \n",
       "3                              0             0.0              0.0  \n",
       "4                              1             0.0              0.0  \n",
       "...                          ...             ...              ...  \n",
       "63859                          1             0.0              0.0  \n",
       "63860                          0             0.0              0.0  \n",
       "63861                          1             0.0              0.0  \n",
       "63862                          1             0.0              0.0  \n",
       "63863                          0             0.0              0.0  \n",
       "\n",
       "[63864 rows x 12 columns]"
      ]
     },
     "execution_count": 5,
     "metadata": {},
     "output_type": "execute_result"
    }
   ],
   "source": [
    "data"
   ]
  },
  {
   "cell_type": "code",
   "execution_count": 6,
   "id": "02f8bc40-ad22-44ba-9aa3-144f9582a29d",
   "metadata": {},
   "outputs": [],
   "source": [
    "unique_inn = data.client_inn.unique()"
   ]
  },
  {
   "cell_type": "code",
   "execution_count": 7,
   "id": "8c12c9c0-ca77-4b3f-95fc-ca978be2021b",
   "metadata": {},
   "outputs": [
    {
     "data": {
      "text/plain": [
       "array([      1,      94,     114, ..., 1921028, 1921064, 1921084])"
      ]
     },
     "execution_count": 7,
     "metadata": {},
     "output_type": "execute_result"
    }
   ],
   "source": [
    "unique_inn"
   ]
  },
  {
   "cell_type": "code",
   "execution_count": 8,
   "id": "92ca0267-0076-41cd-864e-8010fbbec076",
   "metadata": {},
   "outputs": [
    {
     "data": {
      "text/plain": [
       "(63864,)"
      ]
     },
     "execution_count": 8,
     "metadata": {},
     "output_type": "execute_result"
    }
   ],
   "source": [
    "unique_inn.shape"
   ]
  },
  {
   "cell_type": "markdown",
   "id": "2ac3c220-4d03-4eb8-b614-c2075ce04cba",
   "metadata": {
    "tags": []
   },
   "source": [
    "# Нужно ли убирать в данных для x client_inn и partner_inn???"
   ]
  },
  {
   "cell_type": "code",
   "execution_count": 9,
   "id": "6a471885-00cb-464d-a51a-6e53daeea3d8",
   "metadata": {},
   "outputs": [],
   "source": [
    "data_with_inn = data"
   ]
  },
  {
   "cell_type": "code",
   "execution_count": 10,
   "id": "6562429f-fd94-4071-9340-12462d489d10",
   "metadata": {},
   "outputs": [
    {
     "name": "stderr",
     "output_type": "stream",
     "text": [
      "WARNING:root:The OGB package is out of date. Your version is 1.3.5, while the latest version is 1.3.6.\n"
     ]
    }
   ],
   "source": [
    "data = data.drop(['client_inn'], axis=1) #, 'partner_inn'], axis=1)"
   ]
  },
  {
   "cell_type": "code",
   "execution_count": 11,
   "id": "f3ee2b31-a656-4de0-80b3-1f73421029a9",
   "metadata": {},
   "outputs": [
    {
     "data": {
      "text/html": [
       "<div>\n",
       "<style scoped>\n",
       "    .dataframe tbody tr th:only-of-type {\n",
       "        vertical-align: middle;\n",
       "    }\n",
       "\n",
       "    .dataframe tbody tr th {\n",
       "        vertical-align: top;\n",
       "    }\n",
       "\n",
       "    .dataframe thead th {\n",
       "        text-align: right;\n",
       "    }\n",
       "</style>\n",
       "<table border=\"1\" class=\"dataframe\">\n",
       "  <thead>\n",
       "    <tr style=\"text-align: right;\">\n",
       "      <th></th>\n",
       "      <th>('amount', 'mean')</th>\n",
       "      <th>years</th>\n",
       "      <th>Длина_Отн_в_днях</th>\n",
       "      <th>Клиент_Сегмент_КБ</th>\n",
       "      <th>Клиент_Сегмент_МБ</th>\n",
       "      <th>Клиент_Сегмент_МКП</th>\n",
       "      <th>Клиент_Сегмент_СБ</th>\n",
       "      <th>Клиент_НаличиеЗПпроекта_Д</th>\n",
       "      <th>Клиент_НаличиеЗПпроекта_Н</th>\n",
       "      <th>Fraud_presence</th>\n",
       "      <th>Reject_presence</th>\n",
       "    </tr>\n",
       "  </thead>\n",
       "  <tbody>\n",
       "    <tr>\n",
       "      <th>0</th>\n",
       "      <td>9.948950e+05</td>\n",
       "      <td>44.0</td>\n",
       "      <td>4886.0</td>\n",
       "      <td>0</td>\n",
       "      <td>0</td>\n",
       "      <td>1</td>\n",
       "      <td>0</td>\n",
       "      <td>0</td>\n",
       "      <td>1</td>\n",
       "      <td>0.0</td>\n",
       "      <td>0.0</td>\n",
       "    </tr>\n",
       "    <tr>\n",
       "      <th>1</th>\n",
       "      <td>6.072894e+03</td>\n",
       "      <td>39.0</td>\n",
       "      <td>1510.0</td>\n",
       "      <td>1</td>\n",
       "      <td>0</td>\n",
       "      <td>0</td>\n",
       "      <td>0</td>\n",
       "      <td>0</td>\n",
       "      <td>1</td>\n",
       "      <td>0.0</td>\n",
       "      <td>0.0</td>\n",
       "    </tr>\n",
       "    <tr>\n",
       "      <th>2</th>\n",
       "      <td>2.787111e+05</td>\n",
       "      <td>60.0</td>\n",
       "      <td>2826.0</td>\n",
       "      <td>1</td>\n",
       "      <td>0</td>\n",
       "      <td>0</td>\n",
       "      <td>0</td>\n",
       "      <td>0</td>\n",
       "      <td>1</td>\n",
       "      <td>0.0</td>\n",
       "      <td>0.0</td>\n",
       "    </tr>\n",
       "    <tr>\n",
       "      <th>3</th>\n",
       "      <td>5.241910e+05</td>\n",
       "      <td>44.0</td>\n",
       "      <td>5479.0</td>\n",
       "      <td>1</td>\n",
       "      <td>0</td>\n",
       "      <td>0</td>\n",
       "      <td>0</td>\n",
       "      <td>1</td>\n",
       "      <td>0</td>\n",
       "      <td>0.0</td>\n",
       "      <td>0.0</td>\n",
       "    </tr>\n",
       "    <tr>\n",
       "      <th>4</th>\n",
       "      <td>4.365950e+04</td>\n",
       "      <td>32.0</td>\n",
       "      <td>608.0</td>\n",
       "      <td>0</td>\n",
       "      <td>0</td>\n",
       "      <td>1</td>\n",
       "      <td>0</td>\n",
       "      <td>0</td>\n",
       "      <td>1</td>\n",
       "      <td>0.0</td>\n",
       "      <td>0.0</td>\n",
       "    </tr>\n",
       "    <tr>\n",
       "      <th>...</th>\n",
       "      <td>...</td>\n",
       "      <td>...</td>\n",
       "      <td>...</td>\n",
       "      <td>...</td>\n",
       "      <td>...</td>\n",
       "      <td>...</td>\n",
       "      <td>...</td>\n",
       "      <td>...</td>\n",
       "      <td>...</td>\n",
       "      <td>...</td>\n",
       "      <td>...</td>\n",
       "    </tr>\n",
       "    <tr>\n",
       "      <th>63859</th>\n",
       "      <td>2.565470e+04</td>\n",
       "      <td>47.0</td>\n",
       "      <td>3463.0</td>\n",
       "      <td>0</td>\n",
       "      <td>0</td>\n",
       "      <td>1</td>\n",
       "      <td>0</td>\n",
       "      <td>0</td>\n",
       "      <td>1</td>\n",
       "      <td>0.0</td>\n",
       "      <td>0.0</td>\n",
       "    </tr>\n",
       "    <tr>\n",
       "      <th>63860</th>\n",
       "      <td>1.027485e+06</td>\n",
       "      <td>53.0</td>\n",
       "      <td>3429.0</td>\n",
       "      <td>1</td>\n",
       "      <td>0</td>\n",
       "      <td>0</td>\n",
       "      <td>0</td>\n",
       "      <td>1</td>\n",
       "      <td>0</td>\n",
       "      <td>0.0</td>\n",
       "      <td>0.0</td>\n",
       "    </tr>\n",
       "    <tr>\n",
       "      <th>63861</th>\n",
       "      <td>4.958946e+04</td>\n",
       "      <td>30.0</td>\n",
       "      <td>2806.0</td>\n",
       "      <td>0</td>\n",
       "      <td>0</td>\n",
       "      <td>1</td>\n",
       "      <td>0</td>\n",
       "      <td>0</td>\n",
       "      <td>1</td>\n",
       "      <td>0.0</td>\n",
       "      <td>0.0</td>\n",
       "    </tr>\n",
       "    <tr>\n",
       "      <th>63862</th>\n",
       "      <td>9.089023e+04</td>\n",
       "      <td>33.0</td>\n",
       "      <td>3457.0</td>\n",
       "      <td>0</td>\n",
       "      <td>1</td>\n",
       "      <td>0</td>\n",
       "      <td>0</td>\n",
       "      <td>0</td>\n",
       "      <td>1</td>\n",
       "      <td>0.0</td>\n",
       "      <td>0.0</td>\n",
       "    </tr>\n",
       "    <tr>\n",
       "      <th>63863</th>\n",
       "      <td>7.247473e+05</td>\n",
       "      <td>47.0</td>\n",
       "      <td>1673.0</td>\n",
       "      <td>0</td>\n",
       "      <td>0</td>\n",
       "      <td>0</td>\n",
       "      <td>1</td>\n",
       "      <td>1</td>\n",
       "      <td>0</td>\n",
       "      <td>0.0</td>\n",
       "      <td>0.0</td>\n",
       "    </tr>\n",
       "  </tbody>\n",
       "</table>\n",
       "<p>63864 rows × 11 columns</p>\n",
       "</div>"
      ],
      "text/plain": [
       "       ('amount', 'mean')  years  Длина_Отн_в_днях  Клиент_Сегмент_КБ  \\\n",
       "0            9.948950e+05   44.0            4886.0                  0   \n",
       "1            6.072894e+03   39.0            1510.0                  1   \n",
       "2            2.787111e+05   60.0            2826.0                  1   \n",
       "3            5.241910e+05   44.0            5479.0                  1   \n",
       "4            4.365950e+04   32.0             608.0                  0   \n",
       "...                   ...    ...               ...                ...   \n",
       "63859        2.565470e+04   47.0            3463.0                  0   \n",
       "63860        1.027485e+06   53.0            3429.0                  1   \n",
       "63861        4.958946e+04   30.0            2806.0                  0   \n",
       "63862        9.089023e+04   33.0            3457.0                  0   \n",
       "63863        7.247473e+05   47.0            1673.0                  0   \n",
       "\n",
       "       Клиент_Сегмент_МБ  Клиент_Сегмент_МКП  Клиент_Сегмент_СБ  \\\n",
       "0                      0                   1                  0   \n",
       "1                      0                   0                  0   \n",
       "2                      0                   0                  0   \n",
       "3                      0                   0                  0   \n",
       "4                      0                   1                  0   \n",
       "...                  ...                 ...                ...   \n",
       "63859                  0                   1                  0   \n",
       "63860                  0                   0                  0   \n",
       "63861                  0                   1                  0   \n",
       "63862                  1                   0                  0   \n",
       "63863                  0                   0                  1   \n",
       "\n",
       "       Клиент_НаличиеЗПпроекта_Д  Клиент_НаличиеЗПпроекта_Н  Fraud_presence  \\\n",
       "0                              0                          1             0.0   \n",
       "1                              0                          1             0.0   \n",
       "2                              0                          1             0.0   \n",
       "3                              1                          0             0.0   \n",
       "4                              0                          1             0.0   \n",
       "...                          ...                        ...             ...   \n",
       "63859                          0                          1             0.0   \n",
       "63860                          1                          0             0.0   \n",
       "63861                          0                          1             0.0   \n",
       "63862                          0                          1             0.0   \n",
       "63863                          1                          0             0.0   \n",
       "\n",
       "       Reject_presence  \n",
       "0                  0.0  \n",
       "1                  0.0  \n",
       "2                  0.0  \n",
       "3                  0.0  \n",
       "4                  0.0  \n",
       "...                ...  \n",
       "63859              0.0  \n",
       "63860              0.0  \n",
       "63861              0.0  \n",
       "63862              0.0  \n",
       "63863              0.0  \n",
       "\n",
       "[63864 rows x 11 columns]"
      ]
     },
     "execution_count": 11,
     "metadata": {},
     "output_type": "execute_result"
    }
   ],
   "source": [
    "data"
   ]
  },
  {
   "cell_type": "code",
   "execution_count": 12,
   "id": "44407c2d-8b4b-415e-b523-22ae9eb228e9",
   "metadata": {},
   "outputs": [
    {
     "data": {
      "text/plain": [
       "(63864, 11)"
      ]
     },
     "execution_count": 12,
     "metadata": {},
     "output_type": "execute_result"
    }
   ],
   "source": [
    "data.shape"
   ]
  },
  {
   "cell_type": "code",
   "execution_count": 13,
   "id": "7f1cfa86-0e50-4164-9e28-e5ee948b6ae0",
   "metadata": {},
   "outputs": [
    {
     "data": {
      "text/html": [
       "<div>\n",
       "<style scoped>\n",
       "    .dataframe tbody tr th:only-of-type {\n",
       "        vertical-align: middle;\n",
       "    }\n",
       "\n",
       "    .dataframe tbody tr th {\n",
       "        vertical-align: top;\n",
       "    }\n",
       "\n",
       "    .dataframe thead th {\n",
       "        text-align: right;\n",
       "    }\n",
       "</style>\n",
       "<table border=\"1\" class=\"dataframe\">\n",
       "  <thead>\n",
       "    <tr style=\"text-align: right;\">\n",
       "      <th></th>\n",
       "      <th>('amount', 'mean')</th>\n",
       "      <th>client_inn</th>\n",
       "      <th>years</th>\n",
       "      <th>Длина_Отн_в_днях</th>\n",
       "      <th>Клиент_Сегмент_КБ</th>\n",
       "      <th>Клиент_Сегмент_МБ</th>\n",
       "      <th>Клиент_Сегмент_МКП</th>\n",
       "      <th>Клиент_Сегмент_СБ</th>\n",
       "      <th>Клиент_НаличиеЗПпроекта_Д</th>\n",
       "      <th>Клиент_НаличиеЗПпроекта_Н</th>\n",
       "      <th>Fraud_presence</th>\n",
       "      <th>Reject_presence</th>\n",
       "    </tr>\n",
       "  </thead>\n",
       "  <tbody>\n",
       "    <tr>\n",
       "      <th>0</th>\n",
       "      <td>9.948950e+05</td>\n",
       "      <td>1</td>\n",
       "      <td>44.0</td>\n",
       "      <td>4886.0</td>\n",
       "      <td>0</td>\n",
       "      <td>0</td>\n",
       "      <td>1</td>\n",
       "      <td>0</td>\n",
       "      <td>0</td>\n",
       "      <td>1</td>\n",
       "      <td>0.0</td>\n",
       "      <td>0.0</td>\n",
       "    </tr>\n",
       "    <tr>\n",
       "      <th>1</th>\n",
       "      <td>6.072894e+03</td>\n",
       "      <td>94</td>\n",
       "      <td>39.0</td>\n",
       "      <td>1510.0</td>\n",
       "      <td>1</td>\n",
       "      <td>0</td>\n",
       "      <td>0</td>\n",
       "      <td>0</td>\n",
       "      <td>0</td>\n",
       "      <td>1</td>\n",
       "      <td>0.0</td>\n",
       "      <td>0.0</td>\n",
       "    </tr>\n",
       "    <tr>\n",
       "      <th>2</th>\n",
       "      <td>2.787111e+05</td>\n",
       "      <td>114</td>\n",
       "      <td>60.0</td>\n",
       "      <td>2826.0</td>\n",
       "      <td>1</td>\n",
       "      <td>0</td>\n",
       "      <td>0</td>\n",
       "      <td>0</td>\n",
       "      <td>0</td>\n",
       "      <td>1</td>\n",
       "      <td>0.0</td>\n",
       "      <td>0.0</td>\n",
       "    </tr>\n",
       "    <tr>\n",
       "      <th>3</th>\n",
       "      <td>5.241910e+05</td>\n",
       "      <td>129</td>\n",
       "      <td>44.0</td>\n",
       "      <td>5479.0</td>\n",
       "      <td>1</td>\n",
       "      <td>0</td>\n",
       "      <td>0</td>\n",
       "      <td>0</td>\n",
       "      <td>1</td>\n",
       "      <td>0</td>\n",
       "      <td>0.0</td>\n",
       "      <td>0.0</td>\n",
       "    </tr>\n",
       "    <tr>\n",
       "      <th>4</th>\n",
       "      <td>4.365950e+04</td>\n",
       "      <td>166</td>\n",
       "      <td>32.0</td>\n",
       "      <td>608.0</td>\n",
       "      <td>0</td>\n",
       "      <td>0</td>\n",
       "      <td>1</td>\n",
       "      <td>0</td>\n",
       "      <td>0</td>\n",
       "      <td>1</td>\n",
       "      <td>0.0</td>\n",
       "      <td>0.0</td>\n",
       "    </tr>\n",
       "    <tr>\n",
       "      <th>...</th>\n",
       "      <td>...</td>\n",
       "      <td>...</td>\n",
       "      <td>...</td>\n",
       "      <td>...</td>\n",
       "      <td>...</td>\n",
       "      <td>...</td>\n",
       "      <td>...</td>\n",
       "      <td>...</td>\n",
       "      <td>...</td>\n",
       "      <td>...</td>\n",
       "      <td>...</td>\n",
       "      <td>...</td>\n",
       "    </tr>\n",
       "    <tr>\n",
       "      <th>63859</th>\n",
       "      <td>2.565470e+04</td>\n",
       "      <td>1920916</td>\n",
       "      <td>47.0</td>\n",
       "      <td>3463.0</td>\n",
       "      <td>0</td>\n",
       "      <td>0</td>\n",
       "      <td>1</td>\n",
       "      <td>0</td>\n",
       "      <td>0</td>\n",
       "      <td>1</td>\n",
       "      <td>0.0</td>\n",
       "      <td>0.0</td>\n",
       "    </tr>\n",
       "    <tr>\n",
       "      <th>63860</th>\n",
       "      <td>1.027485e+06</td>\n",
       "      <td>1920997</td>\n",
       "      <td>53.0</td>\n",
       "      <td>3429.0</td>\n",
       "      <td>1</td>\n",
       "      <td>0</td>\n",
       "      <td>0</td>\n",
       "      <td>0</td>\n",
       "      <td>1</td>\n",
       "      <td>0</td>\n",
       "      <td>0.0</td>\n",
       "      <td>0.0</td>\n",
       "    </tr>\n",
       "    <tr>\n",
       "      <th>63861</th>\n",
       "      <td>4.958946e+04</td>\n",
       "      <td>1921028</td>\n",
       "      <td>30.0</td>\n",
       "      <td>2806.0</td>\n",
       "      <td>0</td>\n",
       "      <td>0</td>\n",
       "      <td>1</td>\n",
       "      <td>0</td>\n",
       "      <td>0</td>\n",
       "      <td>1</td>\n",
       "      <td>0.0</td>\n",
       "      <td>0.0</td>\n",
       "    </tr>\n",
       "    <tr>\n",
       "      <th>63862</th>\n",
       "      <td>9.089023e+04</td>\n",
       "      <td>1921064</td>\n",
       "      <td>33.0</td>\n",
       "      <td>3457.0</td>\n",
       "      <td>0</td>\n",
       "      <td>1</td>\n",
       "      <td>0</td>\n",
       "      <td>0</td>\n",
       "      <td>0</td>\n",
       "      <td>1</td>\n",
       "      <td>0.0</td>\n",
       "      <td>0.0</td>\n",
       "    </tr>\n",
       "    <tr>\n",
       "      <th>63863</th>\n",
       "      <td>7.247473e+05</td>\n",
       "      <td>1921084</td>\n",
       "      <td>47.0</td>\n",
       "      <td>1673.0</td>\n",
       "      <td>0</td>\n",
       "      <td>0</td>\n",
       "      <td>0</td>\n",
       "      <td>1</td>\n",
       "      <td>1</td>\n",
       "      <td>0</td>\n",
       "      <td>0.0</td>\n",
       "      <td>0.0</td>\n",
       "    </tr>\n",
       "  </tbody>\n",
       "</table>\n",
       "<p>63864 rows × 12 columns</p>\n",
       "</div>"
      ],
      "text/plain": [
       "       ('amount', 'mean')  client_inn  years  Длина_Отн_в_днях  \\\n",
       "0            9.948950e+05           1   44.0            4886.0   \n",
       "1            6.072894e+03          94   39.0            1510.0   \n",
       "2            2.787111e+05         114   60.0            2826.0   \n",
       "3            5.241910e+05         129   44.0            5479.0   \n",
       "4            4.365950e+04         166   32.0             608.0   \n",
       "...                   ...         ...    ...               ...   \n",
       "63859        2.565470e+04     1920916   47.0            3463.0   \n",
       "63860        1.027485e+06     1920997   53.0            3429.0   \n",
       "63861        4.958946e+04     1921028   30.0            2806.0   \n",
       "63862        9.089023e+04     1921064   33.0            3457.0   \n",
       "63863        7.247473e+05     1921084   47.0            1673.0   \n",
       "\n",
       "       Клиент_Сегмент_КБ  Клиент_Сегмент_МБ  Клиент_Сегмент_МКП  \\\n",
       "0                      0                  0                   1   \n",
       "1                      1                  0                   0   \n",
       "2                      1                  0                   0   \n",
       "3                      1                  0                   0   \n",
       "4                      0                  0                   1   \n",
       "...                  ...                ...                 ...   \n",
       "63859                  0                  0                   1   \n",
       "63860                  1                  0                   0   \n",
       "63861                  0                  0                   1   \n",
       "63862                  0                  1                   0   \n",
       "63863                  0                  0                   0   \n",
       "\n",
       "       Клиент_Сегмент_СБ  Клиент_НаличиеЗПпроекта_Д  \\\n",
       "0                      0                          0   \n",
       "1                      0                          0   \n",
       "2                      0                          0   \n",
       "3                      0                          1   \n",
       "4                      0                          0   \n",
       "...                  ...                        ...   \n",
       "63859                  0                          0   \n",
       "63860                  0                          1   \n",
       "63861                  0                          0   \n",
       "63862                  0                          0   \n",
       "63863                  1                          1   \n",
       "\n",
       "       Клиент_НаличиеЗПпроекта_Н  Fraud_presence  Reject_presence  \n",
       "0                              1             0.0              0.0  \n",
       "1                              1             0.0              0.0  \n",
       "2                              1             0.0              0.0  \n",
       "3                              0             0.0              0.0  \n",
       "4                              1             0.0              0.0  \n",
       "...                          ...             ...              ...  \n",
       "63859                          1             0.0              0.0  \n",
       "63860                          0             0.0              0.0  \n",
       "63861                          1             0.0              0.0  \n",
       "63862                          1             0.0              0.0  \n",
       "63863                          0             0.0              0.0  \n",
       "\n",
       "[63864 rows x 12 columns]"
      ]
     },
     "execution_count": 13,
     "metadata": {},
     "output_type": "execute_result"
    }
   ],
   "source": [
    "data_with_inn.drop_duplicates(subset=['client_inn'])"
   ]
  },
  {
   "cell_type": "markdown",
   "id": "cd34fbe0-c6b3-4da0-ba4b-544b878a3636",
   "metadata": {},
   "source": [
    "## Перевод исходного датасета в датасет для графов"
   ]
  },
  {
   "cell_type": "code",
   "execution_count": 14,
   "id": "4cb5728f-aac9-4549-84fb-65dfd6463533",
   "metadata": {},
   "outputs": [],
   "source": [
    "features_dataset = data.drop(['Fraud_presence'], axis=1)"
   ]
  },
  {
   "cell_type": "code",
   "execution_count": 15,
   "id": "67ba137c-7c46-44a1-ba42-7dc2ee51788c",
   "metadata": {},
   "outputs": [
    {
     "data": {
      "text/html": [
       "<div>\n",
       "<style scoped>\n",
       "    .dataframe tbody tr th:only-of-type {\n",
       "        vertical-align: middle;\n",
       "    }\n",
       "\n",
       "    .dataframe tbody tr th {\n",
       "        vertical-align: top;\n",
       "    }\n",
       "\n",
       "    .dataframe thead th {\n",
       "        text-align: right;\n",
       "    }\n",
       "</style>\n",
       "<table border=\"1\" class=\"dataframe\">\n",
       "  <thead>\n",
       "    <tr style=\"text-align: right;\">\n",
       "      <th></th>\n",
       "      <th>('amount', 'mean')</th>\n",
       "      <th>years</th>\n",
       "      <th>Длина_Отн_в_днях</th>\n",
       "      <th>Клиент_Сегмент_КБ</th>\n",
       "      <th>Клиент_Сегмент_МБ</th>\n",
       "      <th>Клиент_Сегмент_МКП</th>\n",
       "      <th>Клиент_Сегмент_СБ</th>\n",
       "      <th>Клиент_НаличиеЗПпроекта_Д</th>\n",
       "      <th>Клиент_НаличиеЗПпроекта_Н</th>\n",
       "      <th>Reject_presence</th>\n",
       "    </tr>\n",
       "  </thead>\n",
       "  <tbody>\n",
       "    <tr>\n",
       "      <th>0</th>\n",
       "      <td>9.948950e+05</td>\n",
       "      <td>44.0</td>\n",
       "      <td>4886.0</td>\n",
       "      <td>0</td>\n",
       "      <td>0</td>\n",
       "      <td>1</td>\n",
       "      <td>0</td>\n",
       "      <td>0</td>\n",
       "      <td>1</td>\n",
       "      <td>0.0</td>\n",
       "    </tr>\n",
       "    <tr>\n",
       "      <th>1</th>\n",
       "      <td>6.072894e+03</td>\n",
       "      <td>39.0</td>\n",
       "      <td>1510.0</td>\n",
       "      <td>1</td>\n",
       "      <td>0</td>\n",
       "      <td>0</td>\n",
       "      <td>0</td>\n",
       "      <td>0</td>\n",
       "      <td>1</td>\n",
       "      <td>0.0</td>\n",
       "    </tr>\n",
       "    <tr>\n",
       "      <th>2</th>\n",
       "      <td>2.787111e+05</td>\n",
       "      <td>60.0</td>\n",
       "      <td>2826.0</td>\n",
       "      <td>1</td>\n",
       "      <td>0</td>\n",
       "      <td>0</td>\n",
       "      <td>0</td>\n",
       "      <td>0</td>\n",
       "      <td>1</td>\n",
       "      <td>0.0</td>\n",
       "    </tr>\n",
       "    <tr>\n",
       "      <th>3</th>\n",
       "      <td>5.241910e+05</td>\n",
       "      <td>44.0</td>\n",
       "      <td>5479.0</td>\n",
       "      <td>1</td>\n",
       "      <td>0</td>\n",
       "      <td>0</td>\n",
       "      <td>0</td>\n",
       "      <td>1</td>\n",
       "      <td>0</td>\n",
       "      <td>0.0</td>\n",
       "    </tr>\n",
       "    <tr>\n",
       "      <th>4</th>\n",
       "      <td>4.365950e+04</td>\n",
       "      <td>32.0</td>\n",
       "      <td>608.0</td>\n",
       "      <td>0</td>\n",
       "      <td>0</td>\n",
       "      <td>1</td>\n",
       "      <td>0</td>\n",
       "      <td>0</td>\n",
       "      <td>1</td>\n",
       "      <td>0.0</td>\n",
       "    </tr>\n",
       "    <tr>\n",
       "      <th>...</th>\n",
       "      <td>...</td>\n",
       "      <td>...</td>\n",
       "      <td>...</td>\n",
       "      <td>...</td>\n",
       "      <td>...</td>\n",
       "      <td>...</td>\n",
       "      <td>...</td>\n",
       "      <td>...</td>\n",
       "      <td>...</td>\n",
       "      <td>...</td>\n",
       "    </tr>\n",
       "    <tr>\n",
       "      <th>63859</th>\n",
       "      <td>2.565470e+04</td>\n",
       "      <td>47.0</td>\n",
       "      <td>3463.0</td>\n",
       "      <td>0</td>\n",
       "      <td>0</td>\n",
       "      <td>1</td>\n",
       "      <td>0</td>\n",
       "      <td>0</td>\n",
       "      <td>1</td>\n",
       "      <td>0.0</td>\n",
       "    </tr>\n",
       "    <tr>\n",
       "      <th>63860</th>\n",
       "      <td>1.027485e+06</td>\n",
       "      <td>53.0</td>\n",
       "      <td>3429.0</td>\n",
       "      <td>1</td>\n",
       "      <td>0</td>\n",
       "      <td>0</td>\n",
       "      <td>0</td>\n",
       "      <td>1</td>\n",
       "      <td>0</td>\n",
       "      <td>0.0</td>\n",
       "    </tr>\n",
       "    <tr>\n",
       "      <th>63861</th>\n",
       "      <td>4.958946e+04</td>\n",
       "      <td>30.0</td>\n",
       "      <td>2806.0</td>\n",
       "      <td>0</td>\n",
       "      <td>0</td>\n",
       "      <td>1</td>\n",
       "      <td>0</td>\n",
       "      <td>0</td>\n",
       "      <td>1</td>\n",
       "      <td>0.0</td>\n",
       "    </tr>\n",
       "    <tr>\n",
       "      <th>63862</th>\n",
       "      <td>9.089023e+04</td>\n",
       "      <td>33.0</td>\n",
       "      <td>3457.0</td>\n",
       "      <td>0</td>\n",
       "      <td>1</td>\n",
       "      <td>0</td>\n",
       "      <td>0</td>\n",
       "      <td>0</td>\n",
       "      <td>1</td>\n",
       "      <td>0.0</td>\n",
       "    </tr>\n",
       "    <tr>\n",
       "      <th>63863</th>\n",
       "      <td>7.247473e+05</td>\n",
       "      <td>47.0</td>\n",
       "      <td>1673.0</td>\n",
       "      <td>0</td>\n",
       "      <td>0</td>\n",
       "      <td>0</td>\n",
       "      <td>1</td>\n",
       "      <td>1</td>\n",
       "      <td>0</td>\n",
       "      <td>0.0</td>\n",
       "    </tr>\n",
       "  </tbody>\n",
       "</table>\n",
       "<p>63864 rows × 10 columns</p>\n",
       "</div>"
      ],
      "text/plain": [
       "       ('amount', 'mean')  years  Длина_Отн_в_днях  Клиент_Сегмент_КБ  \\\n",
       "0            9.948950e+05   44.0            4886.0                  0   \n",
       "1            6.072894e+03   39.0            1510.0                  1   \n",
       "2            2.787111e+05   60.0            2826.0                  1   \n",
       "3            5.241910e+05   44.0            5479.0                  1   \n",
       "4            4.365950e+04   32.0             608.0                  0   \n",
       "...                   ...    ...               ...                ...   \n",
       "63859        2.565470e+04   47.0            3463.0                  0   \n",
       "63860        1.027485e+06   53.0            3429.0                  1   \n",
       "63861        4.958946e+04   30.0            2806.0                  0   \n",
       "63862        9.089023e+04   33.0            3457.0                  0   \n",
       "63863        7.247473e+05   47.0            1673.0                  0   \n",
       "\n",
       "       Клиент_Сегмент_МБ  Клиент_Сегмент_МКП  Клиент_Сегмент_СБ  \\\n",
       "0                      0                   1                  0   \n",
       "1                      0                   0                  0   \n",
       "2                      0                   0                  0   \n",
       "3                      0                   0                  0   \n",
       "4                      0                   1                  0   \n",
       "...                  ...                 ...                ...   \n",
       "63859                  0                   1                  0   \n",
       "63860                  0                   0                  0   \n",
       "63861                  0                   1                  0   \n",
       "63862                  1                   0                  0   \n",
       "63863                  0                   0                  1   \n",
       "\n",
       "       Клиент_НаличиеЗПпроекта_Д  Клиент_НаличиеЗПпроекта_Н  Reject_presence  \n",
       "0                              0                          1              0.0  \n",
       "1                              0                          1              0.0  \n",
       "2                              0                          1              0.0  \n",
       "3                              1                          0              0.0  \n",
       "4                              0                          1              0.0  \n",
       "...                          ...                        ...              ...  \n",
       "63859                          0                          1              0.0  \n",
       "63860                          1                          0              0.0  \n",
       "63861                          0                          1              0.0  \n",
       "63862                          0                          1              0.0  \n",
       "63863                          1                          0              0.0  \n",
       "\n",
       "[63864 rows x 10 columns]"
      ]
     },
     "execution_count": 15,
     "metadata": {},
     "output_type": "execute_result"
    }
   ],
   "source": [
    "features_dataset"
   ]
  },
  {
   "cell_type": "code",
   "execution_count": 16,
   "id": "fa3fdf08-662d-4ece-ba1d-d727d43d43be",
   "metadata": {},
   "outputs": [
    {
     "data": {
      "text/plain": [
       "(63864, 10)"
      ]
     },
     "execution_count": 16,
     "metadata": {},
     "output_type": "execute_result"
    }
   ],
   "source": [
    "features_dataset.shape"
   ]
  },
  {
   "cell_type": "code",
   "execution_count": 17,
   "id": "3c4ca2a7-c479-4923-963e-056eec539dc4",
   "metadata": {},
   "outputs": [],
   "source": [
    "x = torch.tensor(features_dataset.values.astype(np.float32)) "
   ]
  },
  {
   "cell_type": "code",
   "execution_count": 18,
   "id": "bb15eade-1573-4d9a-b808-0e25f6e4d0e0",
   "metadata": {},
   "outputs": [],
   "source": [
    "y = torch.tensor(data['Fraud_presence'].values.astype(np.float32))"
   ]
  },
  {
   "cell_type": "code",
   "execution_count": 59,
   "id": "3cba1542-f873-4770-ba6b-9533666b11ff",
   "metadata": {},
   "outputs": [
    {
     "ename": "NameError",
     "evalue": "name 'preprocessing' is not defined",
     "output_type": "error",
     "traceback": [
      "\u001b[0;31m---------------------------------------------------------------------------\u001b[0m",
      "\u001b[0;31mNameError\u001b[0m                                 Traceback (most recent call last)",
      "\u001b[0;32m/tmp/ipykernel_2324422/1896853399.py\u001b[0m in \u001b[0;36m<module>\u001b[0;34m\u001b[0m\n\u001b[0;32m----> 1\u001b[0;31m \u001b[0mlabelencoder\u001b[0m \u001b[0;34m=\u001b[0m \u001b[0mpreprocessing\u001b[0m\u001b[0;34m.\u001b[0m\u001b[0mLabelEncoder\u001b[0m\u001b[0;34m(\u001b[0m\u001b[0;34m)\u001b[0m\u001b[0;34m\u001b[0m\u001b[0;34m\u001b[0m\u001b[0m\n\u001b[0m\u001b[1;32m      2\u001b[0m \u001b[0mdata_with_inn\u001b[0m\u001b[0;34m[\u001b[0m\u001b[0;34m'number_inn'\u001b[0m\u001b[0;34m]\u001b[0m \u001b[0;34m=\u001b[0m \u001b[0mlabelencoder\u001b[0m\u001b[0;34m.\u001b[0m\u001b[0mfit_transform\u001b[0m\u001b[0;34m(\u001b[0m\u001b[0mdata_with_inn\u001b[0m\u001b[0;34m[\u001b[0m\u001b[0;34m'client_inn'\u001b[0m\u001b[0;34m]\u001b[0m\u001b[0;34m)\u001b[0m\u001b[0;34m\u001b[0m\u001b[0;34m\u001b[0m\u001b[0m\n\u001b[1;32m      3\u001b[0m \u001b[0mdata_with_inn\u001b[0m\u001b[0;34m\u001b[0m\u001b[0;34m\u001b[0m\u001b[0m\n",
      "\u001b[0;31mNameError\u001b[0m: name 'preprocessing' is not defined"
     ]
    }
   ],
   "source": [
    "labelencoder = preprocessing.LabelEncoder()\n",
    "data_with_inn['number_inn'] = labelencoder.fit_transform(data_with_inn['client_inn'])\n",
    "data_with_inn"
   ]
  },
  {
   "cell_type": "code",
   "execution_count": null,
   "id": "1f0c4bdb-3499-4561-8420-13e44e70ec17",
   "metadata": {},
   "outputs": [],
   "source": [
    "\n",
    ">>> le.fit(data_with_inn[['client_inn']])\n",
    "\n",
    ">>> le.transform([\"tokyo\", \"tokyo\", \"paris\"])\n",
    "array([2, 2, 1]...)\n",
    ">>> list(le.inverse_transform([2, 2, 1]))\n",
    "['tokyo', 'tokyo', 'paris']"
   ]
  },
  {
   "cell_type": "code",
   "execution_count": 46,
   "id": "36aae887-7483-4738-8d8b-adbb055f8d39",
   "metadata": {},
   "outputs": [],
   "source": [
    "edge_index = data_with_inn[['client_inn']].values.T  # 'partner_inn']].values.T\n",
    "edge_index = torch.tensor(edge_index).to(dtype=torch.long)"
   ]
  },
  {
   "cell_type": "code",
   "execution_count": 47,
   "id": "f332cf75-7a51-4fc3-a4ab-b8c494667102",
   "metadata": {},
   "outputs": [
    {
     "data": {
      "text/plain": [
       "tensor([[      1,      94,     114,  ..., 1921028, 1921064, 1921084]])"
      ]
     },
     "execution_count": 47,
     "metadata": {},
     "output_type": "execute_result"
    }
   ],
   "source": [
    "edge_index"
   ]
  },
  {
   "cell_type": "code",
   "execution_count": 48,
   "id": "0f0280c8-f019-4a42-bc67-1b49936e220a",
   "metadata": {},
   "outputs": [],
   "source": [
    "#Перевод данных в датасет для графа\n",
    "data_graph = Data(x=x, y=y, edge_index=edge_index)"
   ]
  },
  {
   "cell_type": "code",
   "execution_count": 49,
   "id": "aa1ac470-d7d2-44e9-b82f-2ba37c12204a",
   "metadata": {},
   "outputs": [
    {
     "data": {
      "text/plain": [
       "Data(x=[63864, 10], edge_index=[1, 63864], y=[63864])"
      ]
     },
     "execution_count": 49,
     "metadata": {},
     "output_type": "execute_result"
    }
   ],
   "source": [
    "data_graph"
   ]
  },
  {
   "cell_type": "code",
   "execution_count": 50,
   "id": "d1da8b84-53b5-47ba-b496-1a6be2b91d0b",
   "metadata": {},
   "outputs": [],
   "source": [
    "x = data_graph.x\n",
    "N = data_graph.num_nodes"
   ]
  },
  {
   "cell_type": "code",
   "execution_count": 51,
   "id": "d816c667-a68a-4d62-8146-d21612d8c6b2",
   "metadata": {},
   "outputs": [
    {
     "name": "stdout",
     "output_type": "stream",
     "text": [
      "63864\n"
     ]
    }
   ],
   "source": [
    "print(N)"
   ]
  },
  {
   "cell_type": "code",
   "execution_count": 52,
   "id": "f08fecb0-af86-435a-93b6-8d7604d750e0",
   "metadata": {},
   "outputs": [
    {
     "data": {
      "text/plain": [
       "tensor([[      1,      94,     114,  ..., 1921028, 1921064, 1921084]])"
      ]
     },
     "execution_count": 52,
     "metadata": {},
     "output_type": "execute_result"
    }
   ],
   "source": [
    "data_graph.edge_index"
   ]
  },
  {
   "cell_type": "code",
   "execution_count": 53,
   "id": "4d2c14ce-0cd3-4891-8a35-789f7b5284db",
   "metadata": {},
   "outputs": [
    {
     "data": {
      "text/plain": [
       "torch.Size([1, 63864])"
      ]
     },
     "execution_count": 53,
     "metadata": {},
     "output_type": "execute_result"
    }
   ],
   "source": [
    "data_graph.edge_index.shape"
   ]
  },
  {
   "cell_type": "code",
   "execution_count": 54,
   "id": "2727eb77-a946-42d8-83e5-2f617c2f33ee",
   "metadata": {},
   "outputs": [
    {
     "name": "stdout",
     "output_type": "stream",
     "text": [
      "Making the graph undirected.\n"
     ]
    },
    {
     "name": "stderr",
     "output_type": "stream",
     "text": [
      "/data/home/krazheva/.conda/envs/py310/lib/python3.10/site-packages/torch_geometric/deprecation.py:12: UserWarning: 'dropout_adj' is deprecated, use 'dropout_edge' instead\n",
      "  warnings.warn(out)\n"
     ]
    },
    {
     "data": {
      "text/plain": [
       "tensor([[      1,      94,     114,  ..., 1921028, 1921064, 1921084]])"
      ]
     },
     "execution_count": 54,
     "metadata": {},
     "output_type": "execute_result"
    }
   ],
   "source": [
    "path = './adj_gcn.pt'\n",
    "print('Making the graph undirected.')\n",
    "\n",
    "data_graph.edge_index, _ = dropout_adj(\n",
    "       data_graph.edge_index, p=0, num_nodes=data_graph.num_nodes)\n",
    "\n",
    "data_graph.edge_index"
   ]
  },
  {
   "cell_type": "code",
   "execution_count": 55,
   "id": "4284c7a1-23b3-42c4-92c1-15d44b63ffaa",
   "metadata": {},
   "outputs": [
    {
     "data": {
      "text/plain": [
       "Data(x=[63864, 10], edge_index=[1, 63864], y=[63864])"
      ]
     },
     "execution_count": 55,
     "metadata": {},
     "output_type": "execute_result"
    }
   ],
   "source": [
    "data_graph"
   ]
  },
  {
   "cell_type": "code",
   "execution_count": 56,
   "id": "ddc4b78e-cb71-4617-90a8-7d4876ebc486",
   "metadata": {},
   "outputs": [
    {
     "data": {
      "text/plain": [
       "63864"
      ]
     },
     "execution_count": 56,
     "metadata": {},
     "output_type": "execute_result"
    }
   ],
   "source": [
    "data_graph.num_nodes"
   ]
  },
  {
   "cell_type": "code",
   "execution_count": 57,
   "id": "bc9f0e2b-90c3-4f22-9478-04aaf2a3664e",
   "metadata": {},
   "outputs": [
    {
     "data": {
      "text/plain": [
       "torch.Size([1, 63864])"
      ]
     },
     "execution_count": 57,
     "metadata": {},
     "output_type": "execute_result"
    }
   ],
   "source": [
    "data_graph.edge_index.shape"
   ]
  },
  {
   "cell_type": "code",
   "execution_count": 58,
   "id": "150657bc-8b33-4404-a44b-8a74a3bde516",
   "metadata": {},
   "outputs": [
    {
     "ename": "IndexError",
     "evalue": "index 1 is out of bounds for dimension 0 with size 1",
     "output_type": "error",
     "traceback": [
      "\u001b[0;31m---------------------------------------------------------------------------\u001b[0m",
      "\u001b[0;31mIndexError\u001b[0m                                Traceback (most recent call last)",
      "\u001b[0;32m/tmp/ipykernel_2324422/4248510490.py\u001b[0m in \u001b[0;36m<module>\u001b[0;34m\u001b[0m\n\u001b[0;32m----> 1\u001b[0;31m \u001b[0mdata_graph\u001b[0m\u001b[0;34m.\u001b[0m\u001b[0medge_index\u001b[0m \u001b[0;34m=\u001b[0m \u001b[0mto_undirected\u001b[0m\u001b[0;34m(\u001b[0m\u001b[0mdata_graph\u001b[0m\u001b[0;34m.\u001b[0m\u001b[0medge_index\u001b[0m\u001b[0;34m,\u001b[0m \u001b[0mnum_nodes\u001b[0m\u001b[0;34m=\u001b[0m\u001b[0mdata_graph\u001b[0m\u001b[0;34m.\u001b[0m\u001b[0mnum_nodes\u001b[0m\u001b[0;34m)\u001b[0m\u001b[0;34m\u001b[0m\u001b[0;34m\u001b[0m\u001b[0m\n\u001b[0m",
      "\u001b[0;32m~/.conda/envs/py310/lib/python3.10/site-packages/torch_geometric/utils/undirected.py\u001b[0m in \u001b[0;36mto_undirected\u001b[0;34m(edge_index, edge_attr, num_nodes, reduce)\u001b[0m\n\u001b[1;32m    154\u001b[0m         \u001b[0mnum_nodes\u001b[0m \u001b[0;34m=\u001b[0m \u001b[0medge_attr\u001b[0m\u001b[0;34m\u001b[0m\u001b[0;34m\u001b[0m\u001b[0m\n\u001b[1;32m    155\u001b[0m \u001b[0;34m\u001b[0m\u001b[0m\n\u001b[0;32m--> 156\u001b[0;31m     \u001b[0mrow\u001b[0m\u001b[0;34m,\u001b[0m \u001b[0mcol\u001b[0m \u001b[0;34m=\u001b[0m \u001b[0medge_index\u001b[0m\u001b[0;34m[\u001b[0m\u001b[0;36m0\u001b[0m\u001b[0;34m]\u001b[0m\u001b[0;34m,\u001b[0m \u001b[0medge_index\u001b[0m\u001b[0;34m[\u001b[0m\u001b[0;36m1\u001b[0m\u001b[0;34m]\u001b[0m\u001b[0;34m\u001b[0m\u001b[0;34m\u001b[0m\u001b[0m\n\u001b[0m\u001b[1;32m    157\u001b[0m     \u001b[0mrow\u001b[0m\u001b[0;34m,\u001b[0m \u001b[0mcol\u001b[0m \u001b[0;34m=\u001b[0m \u001b[0mtorch\u001b[0m\u001b[0;34m.\u001b[0m\u001b[0mcat\u001b[0m\u001b[0;34m(\u001b[0m\u001b[0;34m[\u001b[0m\u001b[0mrow\u001b[0m\u001b[0;34m,\u001b[0m \u001b[0mcol\u001b[0m\u001b[0;34m]\u001b[0m\u001b[0;34m,\u001b[0m \u001b[0mdim\u001b[0m\u001b[0;34m=\u001b[0m\u001b[0;36m0\u001b[0m\u001b[0;34m)\u001b[0m\u001b[0;34m,\u001b[0m \u001b[0mtorch\u001b[0m\u001b[0;34m.\u001b[0m\u001b[0mcat\u001b[0m\u001b[0;34m(\u001b[0m\u001b[0;34m[\u001b[0m\u001b[0mcol\u001b[0m\u001b[0;34m,\u001b[0m \u001b[0mrow\u001b[0m\u001b[0;34m]\u001b[0m\u001b[0;34m,\u001b[0m \u001b[0mdim\u001b[0m\u001b[0;34m=\u001b[0m\u001b[0;36m0\u001b[0m\u001b[0;34m)\u001b[0m\u001b[0;34m\u001b[0m\u001b[0;34m\u001b[0m\u001b[0m\n\u001b[1;32m    158\u001b[0m     \u001b[0medge_index\u001b[0m \u001b[0;34m=\u001b[0m \u001b[0mtorch\u001b[0m\u001b[0;34m.\u001b[0m\u001b[0mstack\u001b[0m\u001b[0;34m(\u001b[0m\u001b[0;34m[\u001b[0m\u001b[0mrow\u001b[0m\u001b[0;34m,\u001b[0m \u001b[0mcol\u001b[0m\u001b[0;34m]\u001b[0m\u001b[0;34m,\u001b[0m \u001b[0mdim\u001b[0m\u001b[0;34m=\u001b[0m\u001b[0;36m0\u001b[0m\u001b[0;34m)\u001b[0m\u001b[0;34m\u001b[0m\u001b[0;34m\u001b[0m\u001b[0m\n",
      "\u001b[0;31mIndexError\u001b[0m: index 1 is out of bounds for dimension 0 with size 1"
     ]
    }
   ],
   "source": [
    "data_graph.edge_index = to_undirected(data_graph.edge_index, num_nodes=data_graph.num_nodes)"
   ]
  },
  {
   "cell_type": "code",
   "execution_count": 28,
   "id": "c67d8f5d-e1d1-4293-a406-d6c7f5812c28",
   "metadata": {},
   "outputs": [
    {
     "name": "stdout",
     "output_type": "stream",
     "text": [
      "tensor([[      1,       1,       1,  ..., 1921219, 1921220, 1921222],\n",
      "        [      1,     114,     129,  ..., 1448163, 1244954, 1492763]])\n"
     ]
    }
   ],
   "source": [
    "print(data_graph.edge_index)"
   ]
  },
  {
   "cell_type": "code",
   "execution_count": 29,
   "id": "8059ada3-92da-4ccc-8e0d-e7ac2f242be9",
   "metadata": {},
   "outputs": [
    {
     "data": {
      "text/plain": [
       "torch.Tensor"
      ]
     },
     "execution_count": 29,
     "metadata": {},
     "output_type": "execute_result"
    }
   ],
   "source": [
    "type(data_graph.edge_index)"
   ]
  },
  {
   "cell_type": "code",
   "execution_count": 30,
   "id": "cfb10d89-62ba-4dc6-a05c-88068bdc8c2b",
   "metadata": {},
   "outputs": [
    {
     "data": {
      "text/plain": [
       "tensor(1921222)"
      ]
     },
     "execution_count": 30,
     "metadata": {},
     "output_type": "execute_result"
    }
   ],
   "source": [
    "torch.max(data_graph.edge_index)"
   ]
  },
  {
   "cell_type": "code",
   "execution_count": 32,
   "id": "fddb36ca-8ee1-4c59-87e7-5b9c1bce538e",
   "metadata": {},
   "outputs": [
    {
     "name": "stdout",
     "output_type": "stream",
     "text": [
      "Computing adj...\n",
      "Start processing\n"
     ]
    }
   ],
   "source": [
    "row, col = data_graph.edge_index\n",
    "print('Computing adj...')\n",
    "\n",
    "adj = SparseTensor(row=row, col=col, sparse_sizes=(N, N))\n",
    "adj = adj.set_diag()\n",
    "deg = adj.sum(dim=1).to(torch.float)\n",
    "deg_inv_sqrt = deg.pow(-0.5)\n",
    "deg_inv_sqrt[deg_inv_sqrt == float('inf')] = 0\n",
    "adj = deg_inv_sqrt.view(-1, 1) * adj * deg_inv_sqrt.view(1, -1)\n",
    "adj = adj.to_scipy(layout='csr')\n",
    "\n",
    "def sparse_mx_to_torch_sparse_tensor(sparse_mx):\n",
    "    \"\"\"Convert a scipy sparse matrix to a torch sparse tensor.\"\"\"\n",
    "    sparse_mx = sparse_mx.tocoo().astype(np.float32)\n",
    "    indices = torch.from_numpy(np.vstack((sparse_mx.row, sparse_mx.col)).astype(np.int64))\n",
    "    values = torch.from_numpy(sparse_mx.data)\n",
    "    shape = torch.Size(sparse_mx.shape)\n",
    "    return torch.sparse.FloatTensor(indices, values, shape)\n",
    "adj=sparse_mx_to_torch_sparse_tensor(adj)\n",
    "print('Start processing')"
   ]
  },
  {
   "cell_type": "code",
   "execution_count": 33,
   "id": "9063593d-66e2-4f49-b1d0-c60889bbd7e9",
   "metadata": {},
   "outputs": [
    {
     "name": "stderr",
     "output_type": "stream",
     "text": [
      "100%|██████████| 3/3 [00:10<00:00,  3.60s/it]\n"
     ]
    }
   ],
   "source": [
    "num_hops = 3\n",
    "#saved = torch.cat((x[train_idx], x[valid_idx], x[test_idx]), dim=0)\n",
    "torch.save(data_graph, f'./graph.pt')\n",
    "\n",
    "for i in tqdm(range(num_hops)):\n",
    "    x = adj @ x\n",
    "    torch.save(x, f'./graph_hope_{i+1}.pt')"
   ]
  },
  {
   "cell_type": "code",
   "execution_count": null,
   "id": "ad3fd4c4-6abb-4e9d-8a24-517d4999d803",
   "metadata": {},
   "outputs": [],
   "source": []
  }
 ],
 "metadata": {
  "kernelspec": {
   "display_name": "Python [conda env:.conda-py310]",
   "language": "python",
   "name": "conda-env-.conda-py310-py"
  },
  "language_info": {
   "codemirror_mode": {
    "name": "ipython",
    "version": 3
   },
   "file_extension": ".py",
   "mimetype": "text/x-python",
   "name": "python",
   "nbconvert_exporter": "python",
   "pygments_lexer": "ipython3",
   "version": "3.10.9"
  }
 },
 "nbformat": 4,
 "nbformat_minor": 5
}
