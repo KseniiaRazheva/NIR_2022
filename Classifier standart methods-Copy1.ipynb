{
 "cells": [
  {
   "cell_type": "code",
   "execution_count": 16,
   "id": "49fbfea7-391a-4b62-86e4-d54c00270ddd",
   "metadata": {},
   "outputs": [],
   "source": [
    "from sklearn.model_selection import  learning_curve\n",
    "from sklearn.ensemble import RandomForestClassifier\n",
    "from sklearn import metrics\n",
    "from sklearn.model_selection import GridSearchCV\n",
    "import pandas as pd\n",
    "from sklearn.model_selection import train_test_split\n",
    "\n",
    "from xgboost import XGBClassifier\n",
    "from sklearn.model_selection import  learning_curve\n",
    "from sklearn import metrics\n",
    "from sklearn.metrics import precision_score, recall_score, accuracy_score, f1_score, log_loss\n",
    "\n",
    "import torch\n",
    "from torch_geometric.data import Data\n",
    "\n",
    "from sklearn.metrics import precision_score, recall_score, accuracy_score, f1_score, log_loss, roc_auc_score, roc_curve\n",
    "\n",
    "from sklearn.metrics import roc_curve, auc\n",
    "from sklearn.metrics import roc_auc_score\n",
    "from matplotlib import pyplot as plt"
   ]
  },
  {
   "cell_type": "code",
   "execution_count": 17,
   "id": "2c3060af-8d66-4767-b6fa-1834825b2977",
   "metadata": {},
   "outputs": [],
   "source": [
    "data = pd.read_csv('./Data/final_data.csv')"
   ]
  },
  {
   "cell_type": "code",
   "execution_count": 18,
   "id": "b96ff0bb-3713-4008-8745-9b577bdd5784",
   "metadata": {},
   "outputs": [
    {
     "data": {
      "text/plain": [
       "(7025564, 13)"
      ]
     },
     "execution_count": 18,
     "metadata": {},
     "output_type": "execute_result"
    }
   ],
   "source": [
    "data.shape"
   ]
  },
  {
   "cell_type": "code",
   "execution_count": 19,
   "id": "dd3abcab-a9de-4ed9-a97f-233f73c6b481",
   "metadata": {},
   "outputs": [
    {
     "data": {
      "text/html": [
       "<div>\n",
       "<style scoped>\n",
       "    .dataframe tbody tr th:only-of-type {\n",
       "        vertical-align: middle;\n",
       "    }\n",
       "\n",
       "    .dataframe tbody tr th {\n",
       "        vertical-align: top;\n",
       "    }\n",
       "\n",
       "    .dataframe thead th {\n",
       "        text-align: right;\n",
       "    }\n",
       "</style>\n",
       "<table border=\"1\" class=\"dataframe\">\n",
       "  <thead>\n",
       "    <tr style=\"text-align: right;\">\n",
       "      <th></th>\n",
       "      <th>amount</th>\n",
       "      <th>client_inn</th>\n",
       "      <th>partner_inn</th>\n",
       "      <th>years</th>\n",
       "      <th>Длина_Отн_в_днях</th>\n",
       "      <th>Клиент_Сегмент_КБ</th>\n",
       "      <th>Клиент_Сегмент_МБ</th>\n",
       "      <th>Клиент_Сегмент_МКП</th>\n",
       "      <th>Клиент_Сегмент_СБ</th>\n",
       "      <th>Клиент_НаличиеЗПпроекта_Д</th>\n",
       "      <th>Клиент_НаличиеЗПпроекта_Н</th>\n",
       "      <th>Fraud_presence</th>\n",
       "      <th>Reject_presence</th>\n",
       "    </tr>\n",
       "  </thead>\n",
       "  <tbody>\n",
       "    <tr>\n",
       "      <th>0</th>\n",
       "      <td>24630.00</td>\n",
       "      <td>1</td>\n",
       "      <td>119556.0</td>\n",
       "      <td>44.0</td>\n",
       "      <td>4886.0</td>\n",
       "      <td>0.0</td>\n",
       "      <td>0.0</td>\n",
       "      <td>1.0</td>\n",
       "      <td>0.0</td>\n",
       "      <td>0.0</td>\n",
       "      <td>1.0</td>\n",
       "      <td>0.0</td>\n",
       "      <td>0.0</td>\n",
       "    </tr>\n",
       "    <tr>\n",
       "      <th>1</th>\n",
       "      <td>1887000.00</td>\n",
       "      <td>1</td>\n",
       "      <td>1039411.0</td>\n",
       "      <td>44.0</td>\n",
       "      <td>4886.0</td>\n",
       "      <td>0.0</td>\n",
       "      <td>0.0</td>\n",
       "      <td>1.0</td>\n",
       "      <td>0.0</td>\n",
       "      <td>0.0</td>\n",
       "      <td>1.0</td>\n",
       "      <td>0.0</td>\n",
       "      <td>0.0</td>\n",
       "    </tr>\n",
       "    <tr>\n",
       "      <th>2</th>\n",
       "      <td>983723.60</td>\n",
       "      <td>1</td>\n",
       "      <td>1.0</td>\n",
       "      <td>44.0</td>\n",
       "      <td>4886.0</td>\n",
       "      <td>0.0</td>\n",
       "      <td>0.0</td>\n",
       "      <td>1.0</td>\n",
       "      <td>0.0</td>\n",
       "      <td>0.0</td>\n",
       "      <td>1.0</td>\n",
       "      <td>0.0</td>\n",
       "      <td>0.0</td>\n",
       "    </tr>\n",
       "    <tr>\n",
       "      <th>3</th>\n",
       "      <td>50737.00</td>\n",
       "      <td>1</td>\n",
       "      <td>1854478.0</td>\n",
       "      <td>44.0</td>\n",
       "      <td>4886.0</td>\n",
       "      <td>0.0</td>\n",
       "      <td>0.0</td>\n",
       "      <td>1.0</td>\n",
       "      <td>0.0</td>\n",
       "      <td>0.0</td>\n",
       "      <td>1.0</td>\n",
       "      <td>0.0</td>\n",
       "      <td>0.0</td>\n",
       "    </tr>\n",
       "    <tr>\n",
       "      <th>4</th>\n",
       "      <td>292000.00</td>\n",
       "      <td>1</td>\n",
       "      <td>454803.0</td>\n",
       "      <td>44.0</td>\n",
       "      <td>4886.0</td>\n",
       "      <td>0.0</td>\n",
       "      <td>0.0</td>\n",
       "      <td>1.0</td>\n",
       "      <td>0.0</td>\n",
       "      <td>0.0</td>\n",
       "      <td>1.0</td>\n",
       "      <td>0.0</td>\n",
       "      <td>0.0</td>\n",
       "    </tr>\n",
       "    <tr>\n",
       "      <th>...</th>\n",
       "      <td>...</td>\n",
       "      <td>...</td>\n",
       "      <td>...</td>\n",
       "      <td>...</td>\n",
       "      <td>...</td>\n",
       "      <td>...</td>\n",
       "      <td>...</td>\n",
       "      <td>...</td>\n",
       "      <td>...</td>\n",
       "      <td>...</td>\n",
       "      <td>...</td>\n",
       "      <td>...</td>\n",
       "      <td>...</td>\n",
       "    </tr>\n",
       "    <tr>\n",
       "      <th>7025559</th>\n",
       "      <td>204563.02</td>\n",
       "      <td>1921084</td>\n",
       "      <td>219290.0</td>\n",
       "      <td>47.0</td>\n",
       "      <td>1673.0</td>\n",
       "      <td>0.0</td>\n",
       "      <td>0.0</td>\n",
       "      <td>0.0</td>\n",
       "      <td>1.0</td>\n",
       "      <td>1.0</td>\n",
       "      <td>0.0</td>\n",
       "      <td>0.0</td>\n",
       "      <td>0.0</td>\n",
       "    </tr>\n",
       "    <tr>\n",
       "      <th>7025560</th>\n",
       "      <td>189905.84</td>\n",
       "      <td>1921084</td>\n",
       "      <td>1456878.0</td>\n",
       "      <td>47.0</td>\n",
       "      <td>1673.0</td>\n",
       "      <td>0.0</td>\n",
       "      <td>0.0</td>\n",
       "      <td>0.0</td>\n",
       "      <td>1.0</td>\n",
       "      <td>1.0</td>\n",
       "      <td>0.0</td>\n",
       "      <td>0.0</td>\n",
       "      <td>0.0</td>\n",
       "    </tr>\n",
       "    <tr>\n",
       "      <th>7025561</th>\n",
       "      <td>3000.00</td>\n",
       "      <td>1921084</td>\n",
       "      <td>1322063.0</td>\n",
       "      <td>47.0</td>\n",
       "      <td>1673.0</td>\n",
       "      <td>0.0</td>\n",
       "      <td>0.0</td>\n",
       "      <td>0.0</td>\n",
       "      <td>1.0</td>\n",
       "      <td>1.0</td>\n",
       "      <td>0.0</td>\n",
       "      <td>0.0</td>\n",
       "      <td>0.0</td>\n",
       "    </tr>\n",
       "    <tr>\n",
       "      <th>7025562</th>\n",
       "      <td>201002.91</td>\n",
       "      <td>1921084</td>\n",
       "      <td>1387332.0</td>\n",
       "      <td>47.0</td>\n",
       "      <td>1673.0</td>\n",
       "      <td>0.0</td>\n",
       "      <td>0.0</td>\n",
       "      <td>0.0</td>\n",
       "      <td>1.0</td>\n",
       "      <td>1.0</td>\n",
       "      <td>0.0</td>\n",
       "      <td>0.0</td>\n",
       "      <td>0.0</td>\n",
       "    </tr>\n",
       "    <tr>\n",
       "      <th>7025563</th>\n",
       "      <td>2000.00</td>\n",
       "      <td>1921084</td>\n",
       "      <td>1423769.0</td>\n",
       "      <td>47.0</td>\n",
       "      <td>1673.0</td>\n",
       "      <td>0.0</td>\n",
       "      <td>0.0</td>\n",
       "      <td>0.0</td>\n",
       "      <td>1.0</td>\n",
       "      <td>1.0</td>\n",
       "      <td>0.0</td>\n",
       "      <td>0.0</td>\n",
       "      <td>0.0</td>\n",
       "    </tr>\n",
       "  </tbody>\n",
       "</table>\n",
       "<p>7025564 rows × 13 columns</p>\n",
       "</div>"
      ],
      "text/plain": [
       "             amount  client_inn  partner_inn  years  Длина_Отн_в_днях  \\\n",
       "0          24630.00           1     119556.0   44.0            4886.0   \n",
       "1        1887000.00           1    1039411.0   44.0            4886.0   \n",
       "2         983723.60           1          1.0   44.0            4886.0   \n",
       "3          50737.00           1    1854478.0   44.0            4886.0   \n",
       "4         292000.00           1     454803.0   44.0            4886.0   \n",
       "...             ...         ...          ...    ...               ...   \n",
       "7025559   204563.02     1921084     219290.0   47.0            1673.0   \n",
       "7025560   189905.84     1921084    1456878.0   47.0            1673.0   \n",
       "7025561     3000.00     1921084    1322063.0   47.0            1673.0   \n",
       "7025562   201002.91     1921084    1387332.0   47.0            1673.0   \n",
       "7025563     2000.00     1921084    1423769.0   47.0            1673.0   \n",
       "\n",
       "         Клиент_Сегмент_КБ  Клиент_Сегмент_МБ  Клиент_Сегмент_МКП  \\\n",
       "0                      0.0                0.0                 1.0   \n",
       "1                      0.0                0.0                 1.0   \n",
       "2                      0.0                0.0                 1.0   \n",
       "3                      0.0                0.0                 1.0   \n",
       "4                      0.0                0.0                 1.0   \n",
       "...                    ...                ...                 ...   \n",
       "7025559                0.0                0.0                 0.0   \n",
       "7025560                0.0                0.0                 0.0   \n",
       "7025561                0.0                0.0                 0.0   \n",
       "7025562                0.0                0.0                 0.0   \n",
       "7025563                0.0                0.0                 0.0   \n",
       "\n",
       "         Клиент_Сегмент_СБ  Клиент_НаличиеЗПпроекта_Д  \\\n",
       "0                      0.0                        0.0   \n",
       "1                      0.0                        0.0   \n",
       "2                      0.0                        0.0   \n",
       "3                      0.0                        0.0   \n",
       "4                      0.0                        0.0   \n",
       "...                    ...                        ...   \n",
       "7025559                1.0                        1.0   \n",
       "7025560                1.0                        1.0   \n",
       "7025561                1.0                        1.0   \n",
       "7025562                1.0                        1.0   \n",
       "7025563                1.0                        1.0   \n",
       "\n",
       "         Клиент_НаличиеЗПпроекта_Н  Fraud_presence  Reject_presence  \n",
       "0                              1.0             0.0              0.0  \n",
       "1                              1.0             0.0              0.0  \n",
       "2                              1.0             0.0              0.0  \n",
       "3                              1.0             0.0              0.0  \n",
       "4                              1.0             0.0              0.0  \n",
       "...                            ...             ...              ...  \n",
       "7025559                        0.0             0.0              0.0  \n",
       "7025560                        0.0             0.0              0.0  \n",
       "7025561                        0.0             0.0              0.0  \n",
       "7025562                        0.0             0.0              0.0  \n",
       "7025563                        0.0             0.0              0.0  \n",
       "\n",
       "[7025564 rows x 13 columns]"
      ]
     },
     "execution_count": 19,
     "metadata": {},
     "output_type": "execute_result"
    }
   ],
   "source": [
    "data"
   ]
  },
  {
   "cell_type": "code",
   "execution_count": 20,
   "id": "ddd09fa5-75dc-4ec0-a956-eec6555e2247",
   "metadata": {},
   "outputs": [],
   "source": [
    "data_X = data.drop(['Fraud_presence', 'Reject_presence', 'client_inn'], axis=1)"
   ]
  },
  {
   "cell_type": "code",
   "execution_count": 21,
   "id": "7ad8acf2-7a80-41b6-ab71-873e0b43897c",
   "metadata": {},
   "outputs": [
    {
     "data": {
      "text/html": [
       "<div>\n",
       "<style scoped>\n",
       "    .dataframe tbody tr th:only-of-type {\n",
       "        vertical-align: middle;\n",
       "    }\n",
       "\n",
       "    .dataframe tbody tr th {\n",
       "        vertical-align: top;\n",
       "    }\n",
       "\n",
       "    .dataframe thead th {\n",
       "        text-align: right;\n",
       "    }\n",
       "</style>\n",
       "<table border=\"1\" class=\"dataframe\">\n",
       "  <thead>\n",
       "    <tr style=\"text-align: right;\">\n",
       "      <th></th>\n",
       "      <th>amount</th>\n",
       "      <th>partner_inn</th>\n",
       "      <th>years</th>\n",
       "      <th>Длина_Отн_в_днях</th>\n",
       "      <th>Клиент_Сегмент_КБ</th>\n",
       "      <th>Клиент_Сегмент_МБ</th>\n",
       "      <th>Клиент_Сегмент_МКП</th>\n",
       "      <th>Клиент_Сегмент_СБ</th>\n",
       "      <th>Клиент_НаличиеЗПпроекта_Д</th>\n",
       "      <th>Клиент_НаличиеЗПпроекта_Н</th>\n",
       "    </tr>\n",
       "  </thead>\n",
       "  <tbody>\n",
       "    <tr>\n",
       "      <th>0</th>\n",
       "      <td>24630.00</td>\n",
       "      <td>119556.0</td>\n",
       "      <td>44.0</td>\n",
       "      <td>4886.0</td>\n",
       "      <td>0.0</td>\n",
       "      <td>0.0</td>\n",
       "      <td>1.0</td>\n",
       "      <td>0.0</td>\n",
       "      <td>0.0</td>\n",
       "      <td>1.0</td>\n",
       "    </tr>\n",
       "    <tr>\n",
       "      <th>1</th>\n",
       "      <td>1887000.00</td>\n",
       "      <td>1039411.0</td>\n",
       "      <td>44.0</td>\n",
       "      <td>4886.0</td>\n",
       "      <td>0.0</td>\n",
       "      <td>0.0</td>\n",
       "      <td>1.0</td>\n",
       "      <td>0.0</td>\n",
       "      <td>0.0</td>\n",
       "      <td>1.0</td>\n",
       "    </tr>\n",
       "    <tr>\n",
       "      <th>2</th>\n",
       "      <td>983723.60</td>\n",
       "      <td>1.0</td>\n",
       "      <td>44.0</td>\n",
       "      <td>4886.0</td>\n",
       "      <td>0.0</td>\n",
       "      <td>0.0</td>\n",
       "      <td>1.0</td>\n",
       "      <td>0.0</td>\n",
       "      <td>0.0</td>\n",
       "      <td>1.0</td>\n",
       "    </tr>\n",
       "    <tr>\n",
       "      <th>3</th>\n",
       "      <td>50737.00</td>\n",
       "      <td>1854478.0</td>\n",
       "      <td>44.0</td>\n",
       "      <td>4886.0</td>\n",
       "      <td>0.0</td>\n",
       "      <td>0.0</td>\n",
       "      <td>1.0</td>\n",
       "      <td>0.0</td>\n",
       "      <td>0.0</td>\n",
       "      <td>1.0</td>\n",
       "    </tr>\n",
       "    <tr>\n",
       "      <th>4</th>\n",
       "      <td>292000.00</td>\n",
       "      <td>454803.0</td>\n",
       "      <td>44.0</td>\n",
       "      <td>4886.0</td>\n",
       "      <td>0.0</td>\n",
       "      <td>0.0</td>\n",
       "      <td>1.0</td>\n",
       "      <td>0.0</td>\n",
       "      <td>0.0</td>\n",
       "      <td>1.0</td>\n",
       "    </tr>\n",
       "    <tr>\n",
       "      <th>...</th>\n",
       "      <td>...</td>\n",
       "      <td>...</td>\n",
       "      <td>...</td>\n",
       "      <td>...</td>\n",
       "      <td>...</td>\n",
       "      <td>...</td>\n",
       "      <td>...</td>\n",
       "      <td>...</td>\n",
       "      <td>...</td>\n",
       "      <td>...</td>\n",
       "    </tr>\n",
       "    <tr>\n",
       "      <th>7025559</th>\n",
       "      <td>204563.02</td>\n",
       "      <td>219290.0</td>\n",
       "      <td>47.0</td>\n",
       "      <td>1673.0</td>\n",
       "      <td>0.0</td>\n",
       "      <td>0.0</td>\n",
       "      <td>0.0</td>\n",
       "      <td>1.0</td>\n",
       "      <td>1.0</td>\n",
       "      <td>0.0</td>\n",
       "    </tr>\n",
       "    <tr>\n",
       "      <th>7025560</th>\n",
       "      <td>189905.84</td>\n",
       "      <td>1456878.0</td>\n",
       "      <td>47.0</td>\n",
       "      <td>1673.0</td>\n",
       "      <td>0.0</td>\n",
       "      <td>0.0</td>\n",
       "      <td>0.0</td>\n",
       "      <td>1.0</td>\n",
       "      <td>1.0</td>\n",
       "      <td>0.0</td>\n",
       "    </tr>\n",
       "    <tr>\n",
       "      <th>7025561</th>\n",
       "      <td>3000.00</td>\n",
       "      <td>1322063.0</td>\n",
       "      <td>47.0</td>\n",
       "      <td>1673.0</td>\n",
       "      <td>0.0</td>\n",
       "      <td>0.0</td>\n",
       "      <td>0.0</td>\n",
       "      <td>1.0</td>\n",
       "      <td>1.0</td>\n",
       "      <td>0.0</td>\n",
       "    </tr>\n",
       "    <tr>\n",
       "      <th>7025562</th>\n",
       "      <td>201002.91</td>\n",
       "      <td>1387332.0</td>\n",
       "      <td>47.0</td>\n",
       "      <td>1673.0</td>\n",
       "      <td>0.0</td>\n",
       "      <td>0.0</td>\n",
       "      <td>0.0</td>\n",
       "      <td>1.0</td>\n",
       "      <td>1.0</td>\n",
       "      <td>0.0</td>\n",
       "    </tr>\n",
       "    <tr>\n",
       "      <th>7025563</th>\n",
       "      <td>2000.00</td>\n",
       "      <td>1423769.0</td>\n",
       "      <td>47.0</td>\n",
       "      <td>1673.0</td>\n",
       "      <td>0.0</td>\n",
       "      <td>0.0</td>\n",
       "      <td>0.0</td>\n",
       "      <td>1.0</td>\n",
       "      <td>1.0</td>\n",
       "      <td>0.0</td>\n",
       "    </tr>\n",
       "  </tbody>\n",
       "</table>\n",
       "<p>7025564 rows × 10 columns</p>\n",
       "</div>"
      ],
      "text/plain": [
       "             amount  partner_inn  years  Длина_Отн_в_днях  Клиент_Сегмент_КБ  \\\n",
       "0          24630.00     119556.0   44.0            4886.0                0.0   \n",
       "1        1887000.00    1039411.0   44.0            4886.0                0.0   \n",
       "2         983723.60          1.0   44.0            4886.0                0.0   \n",
       "3          50737.00    1854478.0   44.0            4886.0                0.0   \n",
       "4         292000.00     454803.0   44.0            4886.0                0.0   \n",
       "...             ...          ...    ...               ...                ...   \n",
       "7025559   204563.02     219290.0   47.0            1673.0                0.0   \n",
       "7025560   189905.84    1456878.0   47.0            1673.0                0.0   \n",
       "7025561     3000.00    1322063.0   47.0            1673.0                0.0   \n",
       "7025562   201002.91    1387332.0   47.0            1673.0                0.0   \n",
       "7025563     2000.00    1423769.0   47.0            1673.0                0.0   \n",
       "\n",
       "         Клиент_Сегмент_МБ  Клиент_Сегмент_МКП  Клиент_Сегмент_СБ  \\\n",
       "0                      0.0                 1.0                0.0   \n",
       "1                      0.0                 1.0                0.0   \n",
       "2                      0.0                 1.0                0.0   \n",
       "3                      0.0                 1.0                0.0   \n",
       "4                      0.0                 1.0                0.0   \n",
       "...                    ...                 ...                ...   \n",
       "7025559                0.0                 0.0                1.0   \n",
       "7025560                0.0                 0.0                1.0   \n",
       "7025561                0.0                 0.0                1.0   \n",
       "7025562                0.0                 0.0                1.0   \n",
       "7025563                0.0                 0.0                1.0   \n",
       "\n",
       "         Клиент_НаличиеЗПпроекта_Д  Клиент_НаличиеЗПпроекта_Н  \n",
       "0                              0.0                        1.0  \n",
       "1                              0.0                        1.0  \n",
       "2                              0.0                        1.0  \n",
       "3                              0.0                        1.0  \n",
       "4                              0.0                        1.0  \n",
       "...                            ...                        ...  \n",
       "7025559                        1.0                        0.0  \n",
       "7025560                        1.0                        0.0  \n",
       "7025561                        1.0                        0.0  \n",
       "7025562                        1.0                        0.0  \n",
       "7025563                        1.0                        0.0  \n",
       "\n",
       "[7025564 rows x 10 columns]"
      ]
     },
     "execution_count": 21,
     "metadata": {},
     "output_type": "execute_result"
    }
   ],
   "source": [
    "data_X"
   ]
  },
  {
   "cell_type": "code",
   "execution_count": 22,
   "id": "09012f59-02d9-400d-a25c-9ca2fe4c5214",
   "metadata": {},
   "outputs": [],
   "source": [
    "data_Y = data[['Fraud_presence']]"
   ]
  },
  {
   "cell_type": "code",
   "execution_count": 23,
   "id": "72a97024-e4df-43ac-bf46-bb9a52cabccf",
   "metadata": {},
   "outputs": [
    {
     "data": {
      "text/html": [
       "<div>\n",
       "<style scoped>\n",
       "    .dataframe tbody tr th:only-of-type {\n",
       "        vertical-align: middle;\n",
       "    }\n",
       "\n",
       "    .dataframe tbody tr th {\n",
       "        vertical-align: top;\n",
       "    }\n",
       "\n",
       "    .dataframe thead th {\n",
       "        text-align: right;\n",
       "    }\n",
       "</style>\n",
       "<table border=\"1\" class=\"dataframe\">\n",
       "  <thead>\n",
       "    <tr style=\"text-align: right;\">\n",
       "      <th></th>\n",
       "      <th>Fraud_presence</th>\n",
       "    </tr>\n",
       "  </thead>\n",
       "  <tbody>\n",
       "    <tr>\n",
       "      <th>0</th>\n",
       "      <td>0.0</td>\n",
       "    </tr>\n",
       "    <tr>\n",
       "      <th>1</th>\n",
       "      <td>0.0</td>\n",
       "    </tr>\n",
       "    <tr>\n",
       "      <th>2</th>\n",
       "      <td>0.0</td>\n",
       "    </tr>\n",
       "    <tr>\n",
       "      <th>3</th>\n",
       "      <td>0.0</td>\n",
       "    </tr>\n",
       "    <tr>\n",
       "      <th>4</th>\n",
       "      <td>0.0</td>\n",
       "    </tr>\n",
       "    <tr>\n",
       "      <th>...</th>\n",
       "      <td>...</td>\n",
       "    </tr>\n",
       "    <tr>\n",
       "      <th>7025559</th>\n",
       "      <td>0.0</td>\n",
       "    </tr>\n",
       "    <tr>\n",
       "      <th>7025560</th>\n",
       "      <td>0.0</td>\n",
       "    </tr>\n",
       "    <tr>\n",
       "      <th>7025561</th>\n",
       "      <td>0.0</td>\n",
       "    </tr>\n",
       "    <tr>\n",
       "      <th>7025562</th>\n",
       "      <td>0.0</td>\n",
       "    </tr>\n",
       "    <tr>\n",
       "      <th>7025563</th>\n",
       "      <td>0.0</td>\n",
       "    </tr>\n",
       "  </tbody>\n",
       "</table>\n",
       "<p>7025564 rows × 1 columns</p>\n",
       "</div>"
      ],
      "text/plain": [
       "         Fraud_presence\n",
       "0                   0.0\n",
       "1                   0.0\n",
       "2                   0.0\n",
       "3                   0.0\n",
       "4                   0.0\n",
       "...                 ...\n",
       "7025559             0.0\n",
       "7025560             0.0\n",
       "7025561             0.0\n",
       "7025562             0.0\n",
       "7025563             0.0\n",
       "\n",
       "[7025564 rows x 1 columns]"
      ]
     },
     "execution_count": 23,
     "metadata": {},
     "output_type": "execute_result"
    }
   ],
   "source": [
    "data_Y"
   ]
  },
  {
   "cell_type": "code",
   "execution_count": 24,
   "id": "67a90a7e-711f-4b95-87be-f87957a0212e",
   "metadata": {},
   "outputs": [],
   "source": [
    "X_train, X_test, y_train, y_test = train_test_split(data_X, data_Y, test_size=0.33, random_state=42)"
   ]
  },
  {
   "cell_type": "code",
   "execution_count": 25,
   "id": "02a8233b-061d-4d5f-8ca4-ad573a04dec8",
   "metadata": {},
   "outputs": [
    {
     "data": {
      "text/plain": [
       "amount                       0\n",
       "partner_inn                  0\n",
       "years                        0\n",
       "Длина_Отн_в_днях             0\n",
       "Клиент_Сегмент_КБ            0\n",
       "Клиент_Сегмент_МБ            0\n",
       "Клиент_Сегмент_МКП           0\n",
       "Клиент_Сегмент_СБ            0\n",
       "Клиент_НаличиеЗПпроекта_Д    0\n",
       "Клиент_НаличиеЗПпроекта_Н    0\n",
       "dtype: int64"
      ]
     },
     "execution_count": 25,
     "metadata": {},
     "output_type": "execute_result"
    }
   ],
   "source": [
    "X_train.isna().sum()"
   ]
  },
  {
   "cell_type": "markdown",
   "id": "59d7e147-0405-42e9-ab6f-4336bc4eae04",
   "metadata": {},
   "source": [
    "## Random Forest Classifier"
   ]
  },
  {
   "cell_type": "code",
   "execution_count": 26,
   "id": "72af1fe9-0ab7-40ae-96ab-2e481c293ea1",
   "metadata": {},
   "outputs": [],
   "source": [
    "rf = RandomForestClassifier(random_state = 1, n_jobs=-1)"
   ]
  },
  {
   "cell_type": "code",
   "execution_count": 33,
   "id": "864217b8-5dab-43de-96c4-afef5d5d7f6f",
   "metadata": {},
   "outputs": [],
   "source": [
    "param_grid = {\n",
    "    'max_depth': [1,2],\n",
    "    'n_estimators': [10,20]\n",
    "}"
   ]
  },
  {
   "cell_type": "code",
   "execution_count": 34,
   "id": "709de484-5774-4ccc-aa1d-7ff904a0742e",
   "metadata": {
    "scrolled": true,
    "tags": []
   },
   "outputs": [
    {
     "name": "stderr",
     "output_type": "stream",
     "text": [
      "/data/home/krazheva/.conda/envs/py310/lib/python3.10/site-packages/sklearn/model_selection/_validation.py:681: DataConversionWarning: A column-vector y was passed when a 1d array was expected. Please change the shape of y to (n_samples,), for example using ravel().\n",
      "  estimator.fit(X_train, y_train, **fit_params)\n",
      "/data/home/krazheva/.conda/envs/py310/lib/python3.10/site-packages/sklearn/model_selection/_validation.py:681: DataConversionWarning: A column-vector y was passed when a 1d array was expected. Please change the shape of y to (n_samples,), for example using ravel().\n",
      "  estimator.fit(X_train, y_train, **fit_params)\n",
      "/data/home/krazheva/.conda/envs/py310/lib/python3.10/site-packages/sklearn/model_selection/_validation.py:681: DataConversionWarning: A column-vector y was passed when a 1d array was expected. Please change the shape of y to (n_samples,), for example using ravel().\n",
      "  estimator.fit(X_train, y_train, **fit_params)\n",
      "/data/home/krazheva/.conda/envs/py310/lib/python3.10/site-packages/sklearn/model_selection/_validation.py:681: DataConversionWarning: A column-vector y was passed when a 1d array was expected. Please change the shape of y to (n_samples,), for example using ravel().\n",
      "  estimator.fit(X_train, y_train, **fit_params)\n",
      "/data/home/krazheva/.conda/envs/py310/lib/python3.10/site-packages/sklearn/model_selection/_validation.py:681: DataConversionWarning: A column-vector y was passed when a 1d array was expected. Please change the shape of y to (n_samples,), for example using ravel().\n",
      "  estimator.fit(X_train, y_train, **fit_params)\n",
      "/data/home/krazheva/.conda/envs/py310/lib/python3.10/site-packages/sklearn/model_selection/_validation.py:681: DataConversionWarning: A column-vector y was passed when a 1d array was expected. Please change the shape of y to (n_samples,), for example using ravel().\n",
      "  estimator.fit(X_train, y_train, **fit_params)\n",
      "/data/home/krazheva/.conda/envs/py310/lib/python3.10/site-packages/sklearn/model_selection/_validation.py:681: DataConversionWarning: A column-vector y was passed when a 1d array was expected. Please change the shape of y to (n_samples,), for example using ravel().\n",
      "  estimator.fit(X_train, y_train, **fit_params)\n",
      "/data/home/krazheva/.conda/envs/py310/lib/python3.10/site-packages/sklearn/model_selection/_validation.py:681: DataConversionWarning: A column-vector y was passed when a 1d array was expected. Please change the shape of y to (n_samples,), for example using ravel().\n",
      "  estimator.fit(X_train, y_train, **fit_params)\n",
      "/data/home/krazheva/.conda/envs/py310/lib/python3.10/site-packages/sklearn/model_selection/_validation.py:681: DataConversionWarning: A column-vector y was passed when a 1d array was expected. Please change the shape of y to (n_samples,), for example using ravel().\n",
      "  estimator.fit(X_train, y_train, **fit_params)\n",
      "/data/home/krazheva/.conda/envs/py310/lib/python3.10/site-packages/sklearn/model_selection/_validation.py:681: DataConversionWarning: A column-vector y was passed when a 1d array was expected. Please change the shape of y to (n_samples,), for example using ravel().\n",
      "  estimator.fit(X_train, y_train, **fit_params)\n",
      "/data/home/krazheva/.conda/envs/py310/lib/python3.10/site-packages/sklearn/model_selection/_validation.py:681: DataConversionWarning: A column-vector y was passed when a 1d array was expected. Please change the shape of y to (n_samples,), for example using ravel().\n",
      "  estimator.fit(X_train, y_train, **fit_params)\n",
      "/data/home/krazheva/.conda/envs/py310/lib/python3.10/site-packages/sklearn/model_selection/_validation.py:681: DataConversionWarning: A column-vector y was passed when a 1d array was expected. Please change the shape of y to (n_samples,), for example using ravel().\n",
      "  estimator.fit(X_train, y_train, **fit_params)\n",
      "/data/home/krazheva/.conda/envs/py310/lib/python3.10/site-packages/sklearn/model_selection/_search.py:926: DataConversionWarning: A column-vector y was passed when a 1d array was expected. Please change the shape of y to (n_samples,), for example using ravel().\n",
      "  self.best_estimator_.fit(X, y, **fit_params)\n"
     ]
    },
    {
     "data": {
      "text/plain": [
       "GridSearchCV(cv=3, estimator=RandomForestClassifier(n_jobs=-1, random_state=1),\n",
       "             n_jobs=-1,\n",
       "             param_grid={'max_depth': [1, 2], 'n_estimators': [10, 20]})"
      ]
     },
     "execution_count": 34,
     "metadata": {},
     "output_type": "execute_result"
    }
   ],
   "source": [
    "CV_rfc = GridSearchCV(estimator=rf, param_grid=param_grid, cv=3, n_jobs=-1)\n",
    "CV_rfc.fit(X_train, y_train)"
   ]
  },
  {
   "cell_type": "code",
   "execution_count": 35,
   "id": "d01d13b8-c7ad-436f-af42-7111ac24e738",
   "metadata": {},
   "outputs": [
    {
     "data": {
      "text/plain": [
       "{'max_depth': 1, 'n_estimators': 10}"
      ]
     },
     "execution_count": 35,
     "metadata": {},
     "output_type": "execute_result"
    }
   ],
   "source": [
    "CV_rfc.best_params_"
   ]
  },
  {
   "cell_type": "code",
   "execution_count": 43,
   "id": "42fa8d24-79b5-4ebe-981b-6279ccd349d0",
   "metadata": {},
   "outputs": [],
   "source": [
    "rf_best_param=RandomForestClassifier(random_state = 1, max_depth=10, n_estimators=100, n_jobs=-1)"
   ]
  },
  {
   "cell_type": "code",
   "execution_count": 44,
   "id": "73314d81-7920-46f6-b050-685a6419c186",
   "metadata": {},
   "outputs": [
    {
     "name": "stderr",
     "output_type": "stream",
     "text": [
      "/tmp/ipykernel_441222/3673881811.py:1: DataConversionWarning: A column-vector y was passed when a 1d array was expected. Please change the shape of y to (n_samples,), for example using ravel().\n",
      "  rf_best_param.fit(X_train, y_train)\n"
     ]
    },
    {
     "data": {
      "text/plain": [
       "RandomForestClassifier(max_depth=10, n_jobs=-1, random_state=1)"
      ]
     },
     "execution_count": 44,
     "metadata": {},
     "output_type": "execute_result"
    }
   ],
   "source": [
    "rf_best_param.fit(X_train, y_train)"
   ]
  },
  {
   "cell_type": "code",
   "execution_count": 45,
   "id": "8fbdc110-21c5-47ce-a087-f47f82026579",
   "metadata": {},
   "outputs": [
    {
     "data": {
      "text/plain": [
       "array([0., 0., 0., ..., 0., 0., 0.])"
      ]
     },
     "execution_count": 45,
     "metadata": {},
     "output_type": "execute_result"
    }
   ],
   "source": [
    "predictions_rf = rf_best_param.predict(X_test)\n",
    "predictions_rf"
   ]
  },
  {
   "cell_type": "code",
   "execution_count": 46,
   "id": "d5338ba1-881e-420b-9d5b-836383a2159f",
   "metadata": {},
   "outputs": [
    {
     "name": "stdout",
     "output_type": "stream",
     "text": [
      "Precision: 0.8046068943453571\n",
      "Recall:  0.29064224424349233\n",
      "Accuracy:  0.9650678452767963\n",
      "F1-score:  0.42703115714407\n",
      "Log_loss:  1.2065164086497049\n"
     ]
    }
   ],
   "source": [
    "print(\"Precision:\", precision_score(y_test, predictions_rf))\n",
    "print(\"Recall: \", recall_score(y_test, predictions_rf))\n",
    "print(\"Accuracy: \", accuracy_score(y_test, predictions_rf))\n",
    "print(\"F1-score: \", f1_score(y_test, predictions_rf))\n",
    "print(\"Log_loss: \", log_loss(y_test, predictions_rf))"
   ]
  },
  {
   "cell_type": "code",
   "execution_count": 47,
   "id": "54fb1805-99b5-45a8-8f00-8789a24e5138",
   "metadata": {},
   "outputs": [
    {
     "data": {
      "text/plain": [
       "0.942700664576794"
      ]
     },
     "execution_count": 47,
     "metadata": {},
     "output_type": "execute_result"
    }
   ],
   "source": [
    "roc_auc_score(y_test, rf_best_param.predict_proba(X_test)[:,1])"
   ]
  },
  {
   "cell_type": "code",
   "execution_count": 48,
   "id": "663cd1fe-2333-484c-b736-319cc4b65b48",
   "metadata": {},
   "outputs": [],
   "source": [
    "predict = rf_best_param.predict_proba(X_test)\n",
    "pos_param = predict[:, 1]"
   ]
  },
  {
   "cell_type": "code",
   "execution_count": 49,
   "id": "85e81b8e-df50-46fa-95e0-03c2d5ec98b3",
   "metadata": {},
   "outputs": [
    {
     "data": {
      "image/png": "[encoded data removed]",
      "text/plain": [
       "<Figure size 640x480 with 1 Axes>"
      ]
     },
     "metadata": {},
     "output_type": "display_data"
    }
   ],
   "source": [
    "fpr, tpr, treshold = roc_curve(y_test, pos_param)\n",
    "roc_auc = auc(fpr, tpr)\n",
    "# строим график\n",
    "plt.plot(fpr, tpr, color='darkorange',\n",
    "         label='ROC curve (area = %0.2f)' % roc_auc)\n",
    "plt.plot([0, 1], [0, 1], color='navy', linestyle='--')\n",
    "plt.xlim([0.0, 1.0])\n",
    "plt.ylim([0.0, 1.05])\n",
    "plt.xlabel('False Positive Rate')\n",
    "plt.ylabel('True Positive Rate')\n",
    "plt.title('ROC-кривая')\n",
    "plt.legend(loc=\"lower right\")\n",
    "plt.show()"
   ]
  },
  {
   "cell_type": "markdown",
   "id": "25f614b9-a805-4291-95fe-0886ada23b74",
   "metadata": {},
   "source": [
    "## XGBoosting"
   ]
  },
  {
   "cell_type": "code",
   "execution_count": 50,
   "id": "8613893e-c555-48d4-b7fa-eb7deccf786a",
   "metadata": {},
   "outputs": [],
   "source": [
    "xgbc = XGBClassifier(n_jobs=-1)"
   ]
  },
  {
   "cell_type": "code",
   "execution_count": 51,
   "id": "7f589003-1af3-4376-b13d-22e14e3abd09",
   "metadata": {},
   "outputs": [],
   "source": [
    "param_grid = {\n",
    "    \"learning_rate\": [0.001, 0.01, 0.1, 1],\n",
    "    'n_estimators': [100, 200, 300, 400]\n",
    "}"
   ]
  },
  {
   "cell_type": "code",
   "execution_count": null,
   "id": "8e0a64ca-6ec7-40a4-9420-439efa69b450",
   "metadata": {},
   "outputs": [],
   "source": [
    "CV_xgb = GridSearchCV(estimator=xgbc, param_grid=param_grid, cv=3, n_jobs=-1)\n",
    "CV_xgb.fit(X_train, y_train)"
   ]
  },
  {
   "cell_type": "code",
   "execution_count": null,
   "id": "a0898eae-f1a9-40c1-a0f0-b22ec9868abb",
   "metadata": {},
   "outputs": [],
   "source": [
    "CV_xgb.best_params_"
   ]
  },
  {
   "cell_type": "code",
   "execution_count": 53,
   "id": "8e478b7b-809c-45c4-8a5d-432d1ae4e15a",
   "metadata": {},
   "outputs": [],
   "source": [
    "xgb_best_param=XGBClassifier(learning_rate= 0.1, n_estimators=300, n_jobs=-1)"
   ]
  },
  {
   "cell_type": "code",
   "execution_count": 54,
   "id": "b3389883-bd2a-4c7c-a3f2-99e3d6d7f92e",
   "metadata": {},
   "outputs": [
    {
     "data": {
      "text/plain": [
       "XGBClassifier(base_score=None, booster=None, callbacks=None,\n",
       "              colsample_bylevel=None, colsample_bynode=None,\n",
       "              colsample_bytree=None, early_stopping_rounds=None,\n",
       "              enable_categorical=False, eval_metric=None, feature_types=None,\n",
       "              gamma=None, gpu_id=None, grow_policy=None, importance_type=None,\n",
       "              interaction_constraints=None, learning_rate=0.1, max_bin=None,\n",
       "              max_cat_threshold=None, max_cat_to_onehot=None,\n",
       "              max_delta_step=None, max_depth=None, max_leaves=None,\n",
       "              min_child_weight=None, missing=nan, monotone_constraints=None,\n",
       "              n_estimators=300, n_jobs=-1, num_parallel_tree=None,\n",
       "              predictor=None, random_state=None, ...)"
      ]
     },
     "execution_count": 54,
     "metadata": {},
     "output_type": "execute_result"
    }
   ],
   "source": [
    "xgb_best_param.fit(X_train, y_train)"
   ]
  },
  {
   "cell_type": "code",
   "execution_count": 55,
   "id": "d4401b4e-4276-496e-89ba-60c0de6bcba4",
   "metadata": {},
   "outputs": [
    {
     "data": {
      "text/plain": [
       "array([0, 0, 0, ..., 0, 0, 0])"
      ]
     },
     "execution_count": 55,
     "metadata": {},
     "output_type": "execute_result"
    }
   ],
   "source": [
    "predictions_xgb = xgb_best_param.predict(X_test)\n",
    "predictions_xgb"
   ]
  },
  {
   "cell_type": "code",
   "execution_count": 56,
   "id": "0a734f10-c02c-4882-8d2d-a3aeca8f29b2",
   "metadata": {},
   "outputs": [
    {
     "name": "stdout",
     "output_type": "stream",
     "text": [
      "Precision: 0.8565303597756274\n",
      "Recall:  0.4867439016169262\n",
      "Accuracy:  0.9733605010617067\n",
      "F1-score:  0.6207383572411083\n",
      "Log_loss:  0.9200986169105826\n"
     ]
    }
   ],
   "source": [
    "print(\"Precision:\", precision_score(y_test, predictions_xgb))\n",
    "print(\"Recall: \", recall_score(y_test, predictions_xgb))\n",
    "print(\"Accuracy: \", accuracy_score(y_test, predictions_xgb))\n",
    "print(\"F1-score: \", f1_score(y_test, predictions_xgb))\n",
    "print(\"Log_loss: \", log_loss(y_test, predictions_xgb))"
   ]
  },
  {
   "cell_type": "code",
   "execution_count": 57,
   "id": "e27a77aa-bd20-4bba-a2e8-805897246b71",
   "metadata": {},
   "outputs": [
    {
     "data": {
      "text/plain": [
       "0.9742191783307623"
      ]
     },
     "execution_count": 57,
     "metadata": {},
     "output_type": "execute_result"
    }
   ],
   "source": [
    "roc_auc_score(y_test, xgb_best_param.predict_proba(X_test)[:,1])"
   ]
  },
  {
   "cell_type": "code",
   "execution_count": 58,
   "id": "5601ddd0-a914-43c3-b2d1-f65dc9d44d4c",
   "metadata": {},
   "outputs": [],
   "source": [
    "predict_xgb = xgb_best_param.predict_proba(X_test)\n",
    "pos_param_xgb = predict_xgb[:, 1]"
   ]
  },
  {
   "cell_type": "code",
   "execution_count": 59,
   "id": "a4dfc433-c9b0-4baf-b7cf-ba9e14f6df92",
   "metadata": {},
   "outputs": [
    {
     "data": {
      "image/png": "[encoded data removed]",
      "text/plain": [
       "<Figure size 640x480 with 1 Axes>"
      ]
     },
     "metadata": {},
     "output_type": "display_data"
    }
   ],
   "source": [
    "fpr, tpr, treshold = roc_curve(y_test, pos_param_xgb)\n",
    "roc_auc = auc(fpr, tpr)\n",
    "# строим график\n",
    "plt.plot(fpr, tpr, color='darkorange',\n",
    "         label='ROC curve (area = %0.2f)' % roc_auc)\n",
    "plt.plot([0, 1], [0, 1], color='navy', linestyle='--')\n",
    "plt.xlim([0.0, 1.0])\n",
    "plt.ylim([0.0, 1.05])\n",
    "plt.xlabel('False Positive Rate')\n",
    "plt.ylabel('True Positive Rate')\n",
    "plt.title('ROC-кривая')\n",
    "plt.legend(loc=\"lower right\")\n",
    "plt.show()"
   ]
  },
  {
   "cell_type": "code",
   "execution_count": null,
   "id": "76444194-e558-4c56-964e-f03069575452",
   "metadata": {},
   "outputs": [],
   "source": []
  }
 ],
 "metadata": {
  "kernelspec": {
   "display_name": "Python [conda env:.conda-py310]",
   "language": "python",
   "name": "conda-env-.conda-py310-py"
  },
  "language_info": {
   "codemirror_mode": {
    "name": "ipython",
    "version": 3
   },
   "file_extension": ".py",
   "mimetype": "text/x-python",
   "name": "python",
   "nbconvert_exporter": "python",
   "pygments_lexer": "ipython3",
   "version": "3.10.9"
  }
 },
 "nbformat": 4,
 "nbformat_minor": 5
}
