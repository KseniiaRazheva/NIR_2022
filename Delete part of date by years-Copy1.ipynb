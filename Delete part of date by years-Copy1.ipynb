{
 "cells": [
  {
   "cell_type": "code",
   "execution_count": 2,
   "id": "020a20ab-b07e-45b1-aadd-cc6a015484d9",
   "metadata": {},
   "outputs": [],
   "source": [
    "import numpy as np\n",
    "import matplotlib.pyplot as plt\n",
    "import scipy\n",
    "import pandas as pd\n",
    "from sklearn.impute import SimpleImputer\n",
    "from sklearn.compose import ColumnTransformer\n",
    "from sklearn.preprocessing import OneHotEncoder\n",
    "\n",
    "%matplotlib inline\n",
    "\n",
    "import pandas as pd"
   ]
  },
  {
   "cell_type": "code",
   "execution_count": 4,
   "id": "3e2be203-90b1-46b8-9a91-324c56b070b0",
   "metadata": {},
   "outputs": [],
   "source": [
    "data = pd.read_csv('./Data after preprocessing no dupl/final_data.csv')"
   ]
  },
  {
   "cell_type": "code",
   "execution_count": 6,
   "id": "7858d00f-5052-42f2-aa60-dc2cafc92d5a",
   "metadata": {},
   "outputs": [],
   "source": [
    "data = data.drop(['Unnamed: 0'], axis=1)"
   ]
  },
  {
   "cell_type": "code",
   "execution_count": 8,
   "id": "2c79fe86-c83c-469e-9fe6-c2c73af92c21",
   "metadata": {},
   "outputs": [
    {
     "data": {
      "text/plain": [
       "(63865, 13)"
      ]
     },
     "execution_count": 8,
     "metadata": {},
     "output_type": "execute_result"
    }
   ],
   "source": [
    "data.shape"
   ]
  },
  {
   "cell_type": "markdown",
   "id": "fa39f99a-f0b4-4570-afe3-dde5a0dca86f",
   "metadata": {},
   "source": [
    "## Барчарт для сегментов клиентов банка"
   ]
  },
  {
   "cell_type": "code",
   "execution_count": 7,
   "id": "ff829880-0e91-4f47-a82f-27344fcf0de6",
   "metadata": {},
   "outputs": [
    {
     "data": {
      "text/html": [
       "<div>\n",
       "<style scoped>\n",
       "    .dataframe tbody tr th:only-of-type {\n",
       "        vertical-align: middle;\n",
       "    }\n",
       "\n",
       "    .dataframe tbody tr th {\n",
       "        vertical-align: top;\n",
       "    }\n",
       "\n",
       "    .dataframe thead th {\n",
       "        text-align: right;\n",
       "    }\n",
       "</style>\n",
       "<table border=\"1\" class=\"dataframe\">\n",
       "  <thead>\n",
       "    <tr style=\"text-align: right;\">\n",
       "      <th></th>\n",
       "      <th>Клиент_Сегмент_КБ</th>\n",
       "      <th>count</th>\n",
       "    </tr>\n",
       "  </thead>\n",
       "  <tbody>\n",
       "    <tr>\n",
       "      <th>0</th>\n",
       "      <td>0.0</td>\n",
       "      <td>59002</td>\n",
       "    </tr>\n",
       "    <tr>\n",
       "      <th>1</th>\n",
       "      <td>1.0</td>\n",
       "      <td>4863</td>\n",
       "    </tr>\n",
       "  </tbody>\n",
       "</table>\n",
       "</div>"
      ],
      "text/plain": [
       "   Клиент_Сегмент_КБ  count\n",
       "0                0.0  59002\n",
       "1                1.0   4863"
      ]
     },
     "execution_count": 7,
     "metadata": {},
     "output_type": "execute_result"
    }
   ],
   "source": [
    "array_clients_KB = data.groupby(['Клиент_Сегмент_КБ'])['Клиент_Сегмент_КБ'].count().reset_index(name='count')\n",
    "array_clients_KB"
   ]
  },
  {
   "cell_type": "code",
   "execution_count": 9,
   "id": "1dbf1a97-ee56-4df6-b0d3-f7d051e4039a",
   "metadata": {},
   "outputs": [
    {
     "data": {
      "text/html": [
       "<div>\n",
       "<style scoped>\n",
       "    .dataframe tbody tr th:only-of-type {\n",
       "        vertical-align: middle;\n",
       "    }\n",
       "\n",
       "    .dataframe tbody tr th {\n",
       "        vertical-align: top;\n",
       "    }\n",
       "\n",
       "    .dataframe thead th {\n",
       "        text-align: right;\n",
       "    }\n",
       "</style>\n",
       "<table border=\"1\" class=\"dataframe\">\n",
       "  <thead>\n",
       "    <tr style=\"text-align: right;\">\n",
       "      <th></th>\n",
       "      <th>Клиент_Сегмент_МБ</th>\n",
       "      <th>count</th>\n",
       "    </tr>\n",
       "  </thead>\n",
       "  <tbody>\n",
       "    <tr>\n",
       "      <th>0</th>\n",
       "      <td>0.0</td>\n",
       "      <td>55470</td>\n",
       "    </tr>\n",
       "    <tr>\n",
       "      <th>1</th>\n",
       "      <td>1.0</td>\n",
       "      <td>8395</td>\n",
       "    </tr>\n",
       "  </tbody>\n",
       "</table>\n",
       "</div>"
      ],
      "text/plain": [
       "   Клиент_Сегмент_МБ  count\n",
       "0                0.0  55470\n",
       "1                1.0   8395"
      ]
     },
     "execution_count": 9,
     "metadata": {},
     "output_type": "execute_result"
    }
   ],
   "source": [
    "array_clients_MB = data.groupby(['Клиент_Сегмент_МБ'])['Клиент_Сегмент_МБ'].count().reset_index(name='count')\n",
    "array_clients_MB"
   ]
  },
  {
   "cell_type": "code",
   "execution_count": 10,
   "id": "59811497-9720-4abc-b181-cad2e5560d9d",
   "metadata": {},
   "outputs": [
    {
     "data": {
      "text/html": [
       "<div>\n",
       "<style scoped>\n",
       "    .dataframe tbody tr th:only-of-type {\n",
       "        vertical-align: middle;\n",
       "    }\n",
       "\n",
       "    .dataframe tbody tr th {\n",
       "        vertical-align: top;\n",
       "    }\n",
       "\n",
       "    .dataframe thead th {\n",
       "        text-align: right;\n",
       "    }\n",
       "</style>\n",
       "<table border=\"1\" class=\"dataframe\">\n",
       "  <thead>\n",
       "    <tr style=\"text-align: right;\">\n",
       "      <th></th>\n",
       "      <th>Клиент_Сегмент_МКП</th>\n",
       "      <th>count</th>\n",
       "    </tr>\n",
       "  </thead>\n",
       "  <tbody>\n",
       "    <tr>\n",
       "      <th>0</th>\n",
       "      <td>0.0</td>\n",
       "      <td>17316</td>\n",
       "    </tr>\n",
       "    <tr>\n",
       "      <th>1</th>\n",
       "      <td>1.0</td>\n",
       "      <td>46549</td>\n",
       "    </tr>\n",
       "  </tbody>\n",
       "</table>\n",
       "</div>"
      ],
      "text/plain": [
       "   Клиент_Сегмент_МКП  count\n",
       "0                 0.0  17316\n",
       "1                 1.0  46549"
      ]
     },
     "execution_count": 10,
     "metadata": {},
     "output_type": "execute_result"
    }
   ],
   "source": [
    "array_clients_MKP = data.groupby(['Клиент_Сегмент_МКП'])['Клиент_Сегмент_МКП'].count().reset_index(name='count')\n",
    "array_clients_MKP"
   ]
  },
  {
   "cell_type": "code",
   "execution_count": 11,
   "id": "c26a5008-730c-4d18-84be-0d87687baa64",
   "metadata": {},
   "outputs": [
    {
     "data": {
      "text/html": [
       "<div>\n",
       "<style scoped>\n",
       "    .dataframe tbody tr th:only-of-type {\n",
       "        vertical-align: middle;\n",
       "    }\n",
       "\n",
       "    .dataframe tbody tr th {\n",
       "        vertical-align: top;\n",
       "    }\n",
       "\n",
       "    .dataframe thead th {\n",
       "        text-align: right;\n",
       "    }\n",
       "</style>\n",
       "<table border=\"1\" class=\"dataframe\">\n",
       "  <thead>\n",
       "    <tr style=\"text-align: right;\">\n",
       "      <th></th>\n",
       "      <th>Клиент_Сегмент_СБ</th>\n",
       "      <th>count</th>\n",
       "    </tr>\n",
       "  </thead>\n",
       "  <tbody>\n",
       "    <tr>\n",
       "      <th>0</th>\n",
       "      <td>0.0</td>\n",
       "      <td>59807</td>\n",
       "    </tr>\n",
       "    <tr>\n",
       "      <th>1</th>\n",
       "      <td>1.0</td>\n",
       "      <td>4058</td>\n",
       "    </tr>\n",
       "  </tbody>\n",
       "</table>\n",
       "</div>"
      ],
      "text/plain": [
       "   Клиент_Сегмент_СБ  count\n",
       "0                0.0  59807\n",
       "1                1.0   4058"
      ]
     },
     "execution_count": 11,
     "metadata": {},
     "output_type": "execute_result"
    }
   ],
   "source": [
    "array_clients_SB = data.groupby(['Клиент_Сегмент_СБ'])['Клиент_Сегмент_СБ'].count().reset_index(name='count')\n",
    "array_clients_SB"
   ]
  },
  {
   "cell_type": "code",
   "execution_count": 12,
   "id": "779b1423-a7d4-46d9-a267-35949026152e",
   "metadata": {},
   "outputs": [],
   "source": [
    "array = {'count': [array_clients_KB.iloc[1]['count'], array_clients_MB.iloc[1]['count'], array_clients_MKP.iloc[1]['count'], array_clients_SB.iloc[1]['count']]}\n",
    "clients1 = pd.DataFrame(array)\n",
    "clients = clients1['count']"
   ]
  },
  {
   "cell_type": "code",
   "execution_count": 13,
   "id": "45c69cbe-364a-48cb-9941-793693189ae5",
   "metadata": {},
   "outputs": [],
   "source": [
    "names1 = {'names': ['BB', 'SB', 'MBE', 'MB']}\n",
    "clients_names = pd.DataFrame(names1)\n",
    "names = names1['names']"
   ]
  },
  {
   "cell_type": "code",
   "execution_count": 14,
   "id": "4a14098c-f9a7-4003-839f-6cad2afd134a",
   "metadata": {},
   "outputs": [
    {
     "data": {
      "text/plain": [
       "Text(0.5, 0, 'Clients by segments')"
      ]
     },
     "execution_count": 14,
     "metadata": {},
     "output_type": "execute_result"
    },
    {
     "data": {
      "image/png": "[encoded data removed]",
      "text/plain": [
       "<Figure size 640x480 with 1 Axes>"
      ]
     },
     "metadata": {},
     "output_type": "display_data"
    }
   ],
   "source": [
    "plt.bar(names, clients)\n",
    "plt.ylabel('Amount')\n",
    "plt.xlabel('Clients by segments')"
   ]
  },
  {
   "cell_type": "code",
   "execution_count": 15,
   "id": "68d066cf-2a4d-4511-82d2-0ae60562fbb0",
   "metadata": {},
   "outputs": [
    {
     "data": {
      "text/html": [
       "<div>\n",
       "<style scoped>\n",
       "    .dataframe tbody tr th:only-of-type {\n",
       "        vertical-align: middle;\n",
       "    }\n",
       "\n",
       "    .dataframe tbody tr th {\n",
       "        vertical-align: top;\n",
       "    }\n",
       "\n",
       "    .dataframe thead th {\n",
       "        text-align: right;\n",
       "    }\n",
       "</style>\n",
       "<table border=\"1\" class=\"dataframe\">\n",
       "  <thead>\n",
       "    <tr style=\"text-align: right;\">\n",
       "      <th></th>\n",
       "      <th>Клиент_НаличиеЗПпроекта_Д</th>\n",
       "      <th>count</th>\n",
       "    </tr>\n",
       "  </thead>\n",
       "  <tbody>\n",
       "    <tr>\n",
       "      <th>0</th>\n",
       "      <td>0.0</td>\n",
       "      <td>50123</td>\n",
       "    </tr>\n",
       "    <tr>\n",
       "      <th>1</th>\n",
       "      <td>1.0</td>\n",
       "      <td>13742</td>\n",
       "    </tr>\n",
       "  </tbody>\n",
       "</table>\n",
       "</div>"
      ],
      "text/plain": [
       "   Клиент_НаличиеЗПпроекта_Д  count\n",
       "0                        0.0  50123\n",
       "1                        1.0  13742"
      ]
     },
     "execution_count": 15,
     "metadata": {},
     "output_type": "execute_result"
    }
   ],
   "source": [
    "salary_Y = data.groupby(['Клиент_НаличиеЗПпроекта_Д'])['Клиент_НаличиеЗПпроекта_Д'].count().reset_index(name='count')\n",
    "salary_Y"
   ]
  },
  {
   "cell_type": "code",
   "execution_count": 16,
   "id": "7e6cb06d-fea1-4e57-b560-0d9ee7f9c0e9",
   "metadata": {},
   "outputs": [
    {
     "data": {
      "text/html": [
       "<div>\n",
       "<style scoped>\n",
       "    .dataframe tbody tr th:only-of-type {\n",
       "        vertical-align: middle;\n",
       "    }\n",
       "\n",
       "    .dataframe tbody tr th {\n",
       "        vertical-align: top;\n",
       "    }\n",
       "\n",
       "    .dataframe thead th {\n",
       "        text-align: right;\n",
       "    }\n",
       "</style>\n",
       "<table border=\"1\" class=\"dataframe\">\n",
       "  <thead>\n",
       "    <tr style=\"text-align: right;\">\n",
       "      <th></th>\n",
       "      <th>Клиент_НаличиеЗПпроекта_Н</th>\n",
       "      <th>count</th>\n",
       "    </tr>\n",
       "  </thead>\n",
       "  <tbody>\n",
       "    <tr>\n",
       "      <th>0</th>\n",
       "      <td>0.0</td>\n",
       "      <td>13742</td>\n",
       "    </tr>\n",
       "    <tr>\n",
       "      <th>1</th>\n",
       "      <td>1.0</td>\n",
       "      <td>50123</td>\n",
       "    </tr>\n",
       "  </tbody>\n",
       "</table>\n",
       "</div>"
      ],
      "text/plain": [
       "   Клиент_НаличиеЗПпроекта_Н  count\n",
       "0                        0.0  13742\n",
       "1                        1.0  50123"
      ]
     },
     "execution_count": 16,
     "metadata": {},
     "output_type": "execute_result"
    }
   ],
   "source": [
    "salary_N = data.groupby(['Клиент_НаличиеЗПпроекта_Н'])['Клиент_НаличиеЗПпроекта_Н'].count().reset_index(name='count')\n",
    "salary_N"
   ]
  },
  {
   "cell_type": "code",
   "execution_count": 17,
   "id": "5c1eccc2-1ee5-4e0d-a103-3664b510303a",
   "metadata": {},
   "outputs": [],
   "source": [
    "array_salary = {'count': [salary_Y.iloc[1]['count'], salary_N.iloc[1]['count']]}\n",
    "array_salary_dataframe = pd.DataFrame(array_salary)\n",
    "array_salary_final = array_salary_dataframe['count']"
   ]
  },
  {
   "cell_type": "code",
   "execution_count": 18,
   "id": "0a365c1c-9c9c-431e-ab5c-c19875092792",
   "metadata": {},
   "outputs": [],
   "source": [
    "names_salary = {'names': ['Yes', 'No']}\n",
    "names_salary_dataframe = pd.DataFrame(names_salary)\n",
    "names_salary_final = names_salary_dataframe['names']"
   ]
  },
  {
   "cell_type": "code",
   "execution_count": 19,
   "id": "f25e3003-213e-4cbb-88ab-5d6d68416675",
   "metadata": {},
   "outputs": [
    {
     "data": {
      "text/plain": [
       "Text(0.5, 0, 'The presence of a salary project')"
      ]
     },
     "execution_count": 19,
     "metadata": {},
     "output_type": "execute_result"
    },
    {
     "data": {
      "image/png": "[encoded data removed]",
      "text/plain": [
       "<Figure size 640x480 with 1 Axes>"
      ]
     },
     "metadata": {},
     "output_type": "display_data"
    }
   ],
   "source": [
    "plt.bar(names_salary_final, array_salary_final)\n",
    "plt.ylabel('Amount')\n",
    "plt.xlabel('The presence of a salary project')"
   ]
  },
  {
   "cell_type": "markdown",
   "id": "b9bdfd8e-8ca0-4dfe-b692-e823ac7f72a2",
   "metadata": {},
   "source": [
    "Divide by year"
   ]
  },
  {
   "cell_type": "code",
   "execution_count": 142,
   "id": "c3d45a7e-bec0-4f0f-85fb-e5540b8c5148",
   "metadata": {},
   "outputs": [],
   "source": [
    "Year_2018 = final_data[final_data.date_key.str.contains('2018')]\n",
    "Year_2019 = final_data[final_data.date_key.str.contains('2019')]\n",
    "Year_2020 = final_data[final_data.date_key.str.contains('2020')]\n",
    "Year_2021 = final_data[final_data.date_key.str.contains('2021')]"
   ]
  },
  {
   "cell_type": "markdown",
   "id": "faaa3f41-1a08-4c40-8dd8-3caf890c08bd",
   "metadata": {},
   "source": [
    "Devide by mounth"
   ]
  },
  {
   "cell_type": "markdown",
   "id": "319450bb-68e3-490b-8fe6-f06fc5afefbf",
   "metadata": {},
   "source": [
    "Year 2018"
   ]
  },
  {
   "cell_type": "code",
   "execution_count": 143,
   "id": "21854059-6b3f-4a6a-87e9-f10003883b97",
   "metadata": {},
   "outputs": [
    {
     "data": {
      "text/html": [
       "<div>\n",
       "<style scoped>\n",
       "    .dataframe tbody tr th:only-of-type {\n",
       "        vertical-align: middle;\n",
       "    }\n",
       "\n",
       "    .dataframe tbody tr th {\n",
       "        vertical-align: top;\n",
       "    }\n",
       "\n",
       "    .dataframe thead th {\n",
       "        text-align: right;\n",
       "    }\n",
       "</style>\n",
       "<table border=\"1\" class=\"dataframe\">\n",
       "  <thead>\n",
       "    <tr style=\"text-align: right;\">\n",
       "      <th></th>\n",
       "      <th>date_key</th>\n",
       "      <th>amount</th>\n",
       "      <th>client_inn</th>\n",
       "      <th>partner_inn</th>\n",
       "      <th>years</th>\n",
       "      <th>Длина_Отн_в_днях</th>\n",
       "      <th>Клиент_Сегмент_КБ</th>\n",
       "      <th>Клиент_Сегмент_МБ</th>\n",
       "      <th>Клиент_Сегмент_МКП</th>\n",
       "      <th>Клиент_Сегмент_СБ</th>\n",
       "      <th>Клиент_НаличиеЗПпроекта_Д</th>\n",
       "      <th>Клиент_НаличиеЗПпроекта_Н</th>\n",
       "      <th>Fraud_presence</th>\n",
       "      <th>Reject_presence</th>\n",
       "    </tr>\n",
       "  </thead>\n",
       "  <tbody>\n",
       "    <tr>\n",
       "      <th>38</th>\n",
       "      <td>2018-03-01</td>\n",
       "      <td>13500.00</td>\n",
       "      <td>129.0</td>\n",
       "      <td>1910650.0</td>\n",
       "      <td>44</td>\n",
       "      <td>5479</td>\n",
       "      <td>1.0</td>\n",
       "      <td>0.0</td>\n",
       "      <td>0.0</td>\n",
       "      <td>0.0</td>\n",
       "      <td>1.0</td>\n",
       "      <td>0.0</td>\n",
       "      <td>0.0</td>\n",
       "      <td>0.0</td>\n",
       "    </tr>\n",
       "    <tr>\n",
       "      <th>39</th>\n",
       "      <td>2018-03-01</td>\n",
       "      <td>8.00</td>\n",
       "      <td>129.0</td>\n",
       "      <td>119556.0</td>\n",
       "      <td>44</td>\n",
       "      <td>5479</td>\n",
       "      <td>1.0</td>\n",
       "      <td>0.0</td>\n",
       "      <td>0.0</td>\n",
       "      <td>0.0</td>\n",
       "      <td>1.0</td>\n",
       "      <td>0.0</td>\n",
       "      <td>0.0</td>\n",
       "      <td>0.0</td>\n",
       "    </tr>\n",
       "    <tr>\n",
       "      <th>40</th>\n",
       "      <td>2018-03-01</td>\n",
       "      <td>4000.00</td>\n",
       "      <td>129.0</td>\n",
       "      <td>496375.0</td>\n",
       "      <td>44</td>\n",
       "      <td>5479</td>\n",
       "      <td>1.0</td>\n",
       "      <td>0.0</td>\n",
       "      <td>0.0</td>\n",
       "      <td>0.0</td>\n",
       "      <td>1.0</td>\n",
       "      <td>0.0</td>\n",
       "      <td>0.0</td>\n",
       "      <td>0.0</td>\n",
       "    </tr>\n",
       "    <tr>\n",
       "      <th>41</th>\n",
       "      <td>2018-03-01</td>\n",
       "      <td>1453597.61</td>\n",
       "      <td>129.0</td>\n",
       "      <td>569265.0</td>\n",
       "      <td>44</td>\n",
       "      <td>5479</td>\n",
       "      <td>1.0</td>\n",
       "      <td>0.0</td>\n",
       "      <td>0.0</td>\n",
       "      <td>0.0</td>\n",
       "      <td>1.0</td>\n",
       "      <td>0.0</td>\n",
       "      <td>0.0</td>\n",
       "      <td>0.0</td>\n",
       "    </tr>\n",
       "    <tr>\n",
       "      <th>42</th>\n",
       "      <td>2018-03-01</td>\n",
       "      <td>690.00</td>\n",
       "      <td>129.0</td>\n",
       "      <td>1382934.0</td>\n",
       "      <td>44</td>\n",
       "      <td>5479</td>\n",
       "      <td>1.0</td>\n",
       "      <td>0.0</td>\n",
       "      <td>0.0</td>\n",
       "      <td>0.0</td>\n",
       "      <td>1.0</td>\n",
       "      <td>0.0</td>\n",
       "      <td>0.0</td>\n",
       "      <td>0.0</td>\n",
       "    </tr>\n",
       "  </tbody>\n",
       "</table>\n",
       "</div>"
      ],
      "text/plain": [
       "      date_key      amount  client_inn  partner_inn years Длина_Отн_в_днях  \\\n",
       "38  2018-03-01    13500.00       129.0    1910650.0    44             5479   \n",
       "39  2018-03-01        8.00       129.0     119556.0    44             5479   \n",
       "40  2018-03-01     4000.00       129.0     496375.0    44             5479   \n",
       "41  2018-03-01  1453597.61       129.0     569265.0    44             5479   \n",
       "42  2018-03-01      690.00       129.0    1382934.0    44             5479   \n",
       "\n",
       "    Клиент_Сегмент_КБ  Клиент_Сегмент_МБ  Клиент_Сегмент_МКП  \\\n",
       "38                1.0                0.0                 0.0   \n",
       "39                1.0                0.0                 0.0   \n",
       "40                1.0                0.0                 0.0   \n",
       "41                1.0                0.0                 0.0   \n",
       "42                1.0                0.0                 0.0   \n",
       "\n",
       "    Клиент_Сегмент_СБ  Клиент_НаличиеЗПпроекта_Д  Клиент_НаличиеЗПпроекта_Н  \\\n",
       "38                0.0                        1.0                        0.0   \n",
       "39                0.0                        1.0                        0.0   \n",
       "40                0.0                        1.0                        0.0   \n",
       "41                0.0                        1.0                        0.0   \n",
       "42                0.0                        1.0                        0.0   \n",
       "\n",
       "    Fraud_presence  Reject_presence  \n",
       "38             0.0              0.0  \n",
       "39             0.0              0.0  \n",
       "40             0.0              0.0  \n",
       "41             0.0              0.0  \n",
       "42             0.0              0.0  "
      ]
     },
     "execution_count": 143,
     "metadata": {},
     "output_type": "execute_result"
    }
   ],
   "source": [
    "Year_2018_P1 = Year_2018[Year_2018.date_key < '2018-08-01']\n",
    "Year_2018_P1.head()"
   ]
  },
  {
   "cell_type": "code",
   "execution_count": 144,
   "id": "2d84d69f-9200-4806-aa16-444f87e45ec7",
   "metadata": {},
   "outputs": [
    {
     "data": {
      "text/plain": [
       "8596454"
      ]
     },
     "execution_count": 144,
     "metadata": {},
     "output_type": "execute_result"
    }
   ],
   "source": [
    "Year_2018_P1.shape[0]"
   ]
  },
  {
   "cell_type": "code",
   "execution_count": 145,
   "id": "f3060f2e-8638-4c08-aa12-718c3ff0ad67",
   "metadata": {},
   "outputs": [
    {
     "data": {
      "text/html": [
       "<div>\n",
       "<style scoped>\n",
       "    .dataframe tbody tr th:only-of-type {\n",
       "        vertical-align: middle;\n",
       "    }\n",
       "\n",
       "    .dataframe tbody tr th {\n",
       "        vertical-align: top;\n",
       "    }\n",
       "\n",
       "    .dataframe thead th {\n",
       "        text-align: right;\n",
       "    }\n",
       "</style>\n",
       "<table border=\"1\" class=\"dataframe\">\n",
       "  <thead>\n",
       "    <tr style=\"text-align: right;\">\n",
       "      <th></th>\n",
       "      <th>Fraud_presence</th>\n",
       "      <th>count</th>\n",
       "    </tr>\n",
       "  </thead>\n",
       "  <tbody>\n",
       "    <tr>\n",
       "      <th>0</th>\n",
       "      <td>0.0</td>\n",
       "      <td>8396443</td>\n",
       "    </tr>\n",
       "    <tr>\n",
       "      <th>1</th>\n",
       "      <td>1.0</td>\n",
       "      <td>200011</td>\n",
       "    </tr>\n",
       "  </tbody>\n",
       "</table>\n",
       "</div>"
      ],
      "text/plain": [
       "   Fraud_presence    count\n",
       "0             0.0  8396443\n",
       "1             1.0   200011"
      ]
     },
     "execution_count": 145,
     "metadata": {},
     "output_type": "execute_result"
    }
   ],
   "source": [
    "Year_2018_P1_count = Year_2018_P1.groupby(['Fraud_presence'])['Fraud_presence'].count().reset_index(name='count')\n",
    "Year_2018_P1_count"
   ]
  },
  {
   "cell_type": "code",
   "execution_count": 146,
   "id": "b2661971-9f4d-4b88-8e52-827039614fe8",
   "metadata": {},
   "outputs": [
    {
     "data": {
      "text/html": [
       "<div>\n",
       "<style scoped>\n",
       "    .dataframe tbody tr th:only-of-type {\n",
       "        vertical-align: middle;\n",
       "    }\n",
       "\n",
       "    .dataframe tbody tr th {\n",
       "        vertical-align: top;\n",
       "    }\n",
       "\n",
       "    .dataframe thead th {\n",
       "        text-align: right;\n",
       "    }\n",
       "</style>\n",
       "<table border=\"1\" class=\"dataframe\">\n",
       "  <thead>\n",
       "    <tr style=\"text-align: right;\">\n",
       "      <th></th>\n",
       "      <th>date_key</th>\n",
       "      <th>amount</th>\n",
       "      <th>client_inn</th>\n",
       "      <th>partner_inn</th>\n",
       "      <th>years</th>\n",
       "      <th>Длина_Отн_в_днях</th>\n",
       "      <th>Клиент_Сегмент_КБ</th>\n",
       "      <th>Клиент_Сегмент_МБ</th>\n",
       "      <th>Клиент_Сегмент_МКП</th>\n",
       "      <th>Клиент_Сегмент_СБ</th>\n",
       "      <th>Клиент_НаличиеЗПпроекта_Д</th>\n",
       "      <th>Клиент_НаличиеЗПпроекта_Н</th>\n",
       "      <th>Fraud_presence</th>\n",
       "      <th>Reject_presence</th>\n",
       "    </tr>\n",
       "  </thead>\n",
       "  <tbody>\n",
       "    <tr>\n",
       "      <th>117</th>\n",
       "      <td>2018-03-02</td>\n",
       "      <td>13338.43</td>\n",
       "      <td>129.0</td>\n",
       "      <td>443412.0</td>\n",
       "      <td>44</td>\n",
       "      <td>5479</td>\n",
       "      <td>1.0</td>\n",
       "      <td>0.0</td>\n",
       "      <td>0.0</td>\n",
       "      <td>0.0</td>\n",
       "      <td>1.0</td>\n",
       "      <td>0.0</td>\n",
       "      <td>0.0</td>\n",
       "      <td>0.0</td>\n",
       "    </tr>\n",
       "    <tr>\n",
       "      <th>123</th>\n",
       "      <td>2018-03-02</td>\n",
       "      <td>54080.00</td>\n",
       "      <td>129.0</td>\n",
       "      <td>302746.0</td>\n",
       "      <td>44</td>\n",
       "      <td>5479</td>\n",
       "      <td>1.0</td>\n",
       "      <td>0.0</td>\n",
       "      <td>0.0</td>\n",
       "      <td>0.0</td>\n",
       "      <td>1.0</td>\n",
       "      <td>0.0</td>\n",
       "      <td>0.0</td>\n",
       "      <td>0.0</td>\n",
       "    </tr>\n",
       "    <tr>\n",
       "      <th>175</th>\n",
       "      <td>2018-03-02</td>\n",
       "      <td>150000.00</td>\n",
       "      <td>129.0</td>\n",
       "      <td>320928.0</td>\n",
       "      <td>44</td>\n",
       "      <td>5479</td>\n",
       "      <td>1.0</td>\n",
       "      <td>0.0</td>\n",
       "      <td>0.0</td>\n",
       "      <td>0.0</td>\n",
       "      <td>1.0</td>\n",
       "      <td>0.0</td>\n",
       "      <td>0.0</td>\n",
       "      <td>0.0</td>\n",
       "    </tr>\n",
       "    <tr>\n",
       "      <th>210</th>\n",
       "      <td>2018-03-05</td>\n",
       "      <td>530339.16</td>\n",
       "      <td>129.0</td>\n",
       "      <td>301050.0</td>\n",
       "      <td>44</td>\n",
       "      <td>5479</td>\n",
       "      <td>1.0</td>\n",
       "      <td>0.0</td>\n",
       "      <td>0.0</td>\n",
       "      <td>0.0</td>\n",
       "      <td>1.0</td>\n",
       "      <td>0.0</td>\n",
       "      <td>0.0</td>\n",
       "      <td>0.0</td>\n",
       "    </tr>\n",
       "    <tr>\n",
       "      <th>280</th>\n",
       "      <td>2018-03-05</td>\n",
       "      <td>3000.00</td>\n",
       "      <td>129.0</td>\n",
       "      <td>647677.0</td>\n",
       "      <td>44</td>\n",
       "      <td>5479</td>\n",
       "      <td>1.0</td>\n",
       "      <td>0.0</td>\n",
       "      <td>0.0</td>\n",
       "      <td>0.0</td>\n",
       "      <td>1.0</td>\n",
       "      <td>0.0</td>\n",
       "      <td>0.0</td>\n",
       "      <td>0.0</td>\n",
       "    </tr>\n",
       "  </tbody>\n",
       "</table>\n",
       "</div>"
      ],
      "text/plain": [
       "       date_key     amount  client_inn  partner_inn years Длина_Отн_в_днях  \\\n",
       "117  2018-03-02   13338.43       129.0     443412.0    44             5479   \n",
       "123  2018-03-02   54080.00       129.0     302746.0    44             5479   \n",
       "175  2018-03-02  150000.00       129.0     320928.0    44             5479   \n",
       "210  2018-03-05  530339.16       129.0     301050.0    44             5479   \n",
       "280  2018-03-05    3000.00       129.0     647677.0    44             5479   \n",
       "\n",
       "     Клиент_Сегмент_КБ  Клиент_Сегмент_МБ  Клиент_Сегмент_МКП  \\\n",
       "117                1.0                0.0                 0.0   \n",
       "123                1.0                0.0                 0.0   \n",
       "175                1.0                0.0                 0.0   \n",
       "210                1.0                0.0                 0.0   \n",
       "280                1.0                0.0                 0.0   \n",
       "\n",
       "     Клиент_Сегмент_СБ  Клиент_НаличиеЗПпроекта_Д  Клиент_НаличиеЗПпроекта_Н  \\\n",
       "117                0.0                        1.0                        0.0   \n",
       "123                0.0                        1.0                        0.0   \n",
       "175                0.0                        1.0                        0.0   \n",
       "210                0.0                        1.0                        0.0   \n",
       "280                0.0                        1.0                        0.0   \n",
       "\n",
       "     Fraud_presence  Reject_presence  \n",
       "117             0.0              0.0  \n",
       "123             0.0              0.0  \n",
       "175             0.0              0.0  \n",
       "210             0.0              0.0  \n",
       "280             0.0              0.0  "
      ]
     },
     "execution_count": 146,
     "metadata": {},
     "output_type": "execute_result"
    }
   ],
   "source": [
    "Year_2018_P1 = Year_2018_P1.drop(Year_2018_P1.query('Fraud_presence == 0').sample(n = 8192514).index)\n",
    "Year_2018_P1.head()"
   ]
  },
  {
   "cell_type": "code",
   "execution_count": 147,
   "id": "d57ece01-7b31-4e9c-9ccc-7d4a1898d461",
   "metadata": {},
   "outputs": [
    {
     "data": {
      "text/plain": [
       "403940"
      ]
     },
     "execution_count": 147,
     "metadata": {},
     "output_type": "execute_result"
    }
   ],
   "source": [
    "Year_2018_P1.shape[0]"
   ]
  },
  {
   "cell_type": "code",
   "execution_count": 148,
   "id": "6c9577b4-b17f-4755-911f-10fd3dab2504",
   "metadata": {},
   "outputs": [
    {
     "data": {
      "text/html": [
       "<div>\n",
       "<style scoped>\n",
       "    .dataframe tbody tr th:only-of-type {\n",
       "        vertical-align: middle;\n",
       "    }\n",
       "\n",
       "    .dataframe tbody tr th {\n",
       "        vertical-align: top;\n",
       "    }\n",
       "\n",
       "    .dataframe thead th {\n",
       "        text-align: right;\n",
       "    }\n",
       "</style>\n",
       "<table border=\"1\" class=\"dataframe\">\n",
       "  <thead>\n",
       "    <tr style=\"text-align: right;\">\n",
       "      <th></th>\n",
       "      <th>Fraud_presence</th>\n",
       "      <th>count</th>\n",
       "    </tr>\n",
       "  </thead>\n",
       "  <tbody>\n",
       "    <tr>\n",
       "      <th>0</th>\n",
       "      <td>0.0</td>\n",
       "      <td>203929</td>\n",
       "    </tr>\n",
       "    <tr>\n",
       "      <th>1</th>\n",
       "      <td>1.0</td>\n",
       "      <td>200011</td>\n",
       "    </tr>\n",
       "  </tbody>\n",
       "</table>\n",
       "</div>"
      ],
      "text/plain": [
       "   Fraud_presence   count\n",
       "0             0.0  203929\n",
       "1             1.0  200011"
      ]
     },
     "execution_count": 148,
     "metadata": {},
     "output_type": "execute_result"
    }
   ],
   "source": [
    "Year_2018_P1_count = Year_2018_P1.groupby(['Fraud_presence'])['Fraud_presence'].count().reset_index(name='count')\n",
    "Year_2018_P1_count"
   ]
  },
  {
   "cell_type": "markdown",
   "id": "5f66ad8d-5f37-43d3-89b9-5024dd89dbf5",
   "metadata": {},
   "source": [
    "----"
   ]
  },
  {
   "cell_type": "code",
   "execution_count": 149,
   "id": "9e3f6bce-68d5-43de-94b6-1a40ea458e4b",
   "metadata": {},
   "outputs": [
    {
     "data": {
      "text/html": [
       "<div>\n",
       "<style scoped>\n",
       "    .dataframe tbody tr th:only-of-type {\n",
       "        vertical-align: middle;\n",
       "    }\n",
       "\n",
       "    .dataframe tbody tr th {\n",
       "        vertical-align: top;\n",
       "    }\n",
       "\n",
       "    .dataframe thead th {\n",
       "        text-align: right;\n",
       "    }\n",
       "</style>\n",
       "<table border=\"1\" class=\"dataframe\">\n",
       "  <thead>\n",
       "    <tr style=\"text-align: right;\">\n",
       "      <th></th>\n",
       "      <th>date_key</th>\n",
       "      <th>amount</th>\n",
       "      <th>client_inn</th>\n",
       "      <th>partner_inn</th>\n",
       "      <th>years</th>\n",
       "      <th>Длина_Отн_в_днях</th>\n",
       "      <th>Клиент_Сегмент_КБ</th>\n",
       "      <th>Клиент_Сегмент_МБ</th>\n",
       "      <th>Клиент_Сегмент_МКП</th>\n",
       "      <th>Клиент_Сегмент_СБ</th>\n",
       "      <th>Клиент_НаличиеЗПпроекта_Д</th>\n",
       "      <th>Клиент_НаличиеЗПпроекта_Н</th>\n",
       "      <th>Fraud_presence</th>\n",
       "      <th>Reject_presence</th>\n",
       "    </tr>\n",
       "  </thead>\n",
       "  <tbody>\n",
       "    <tr>\n",
       "      <th>9557</th>\n",
       "      <td>2018-08-01</td>\n",
       "      <td>4.00</td>\n",
       "      <td>129.0</td>\n",
       "      <td>119556.0</td>\n",
       "      <td>44</td>\n",
       "      <td>5479</td>\n",
       "      <td>1.0</td>\n",
       "      <td>0.0</td>\n",
       "      <td>0.0</td>\n",
       "      <td>0.0</td>\n",
       "      <td>1.0</td>\n",
       "      <td>0.0</td>\n",
       "      <td>0.0</td>\n",
       "      <td>0.0</td>\n",
       "    </tr>\n",
       "    <tr>\n",
       "      <th>9558</th>\n",
       "      <td>2018-08-01</td>\n",
       "      <td>5600.00</td>\n",
       "      <td>129.0</td>\n",
       "      <td>1805262.0</td>\n",
       "      <td>44</td>\n",
       "      <td>5479</td>\n",
       "      <td>1.0</td>\n",
       "      <td>0.0</td>\n",
       "      <td>0.0</td>\n",
       "      <td>0.0</td>\n",
       "      <td>1.0</td>\n",
       "      <td>0.0</td>\n",
       "      <td>0.0</td>\n",
       "      <td>0.0</td>\n",
       "    </tr>\n",
       "    <tr>\n",
       "      <th>9559</th>\n",
       "      <td>2018-08-01</td>\n",
       "      <td>148007.51</td>\n",
       "      <td>129.0</td>\n",
       "      <td>331032.0</td>\n",
       "      <td>44</td>\n",
       "      <td>5479</td>\n",
       "      <td>1.0</td>\n",
       "      <td>0.0</td>\n",
       "      <td>0.0</td>\n",
       "      <td>0.0</td>\n",
       "      <td>1.0</td>\n",
       "      <td>0.0</td>\n",
       "      <td>0.0</td>\n",
       "      <td>0.0</td>\n",
       "    </tr>\n",
       "    <tr>\n",
       "      <th>9560</th>\n",
       "      <td>2018-08-01</td>\n",
       "      <td>30339.45</td>\n",
       "      <td>129.0</td>\n",
       "      <td>459242.0</td>\n",
       "      <td>44</td>\n",
       "      <td>5479</td>\n",
       "      <td>1.0</td>\n",
       "      <td>0.0</td>\n",
       "      <td>0.0</td>\n",
       "      <td>0.0</td>\n",
       "      <td>1.0</td>\n",
       "      <td>0.0</td>\n",
       "      <td>0.0</td>\n",
       "      <td>0.0</td>\n",
       "    </tr>\n",
       "    <tr>\n",
       "      <th>9561</th>\n",
       "      <td>2018-08-01</td>\n",
       "      <td>5876.40</td>\n",
       "      <td>129.0</td>\n",
       "      <td>552104.0</td>\n",
       "      <td>44</td>\n",
       "      <td>5479</td>\n",
       "      <td>1.0</td>\n",
       "      <td>0.0</td>\n",
       "      <td>0.0</td>\n",
       "      <td>0.0</td>\n",
       "      <td>1.0</td>\n",
       "      <td>0.0</td>\n",
       "      <td>0.0</td>\n",
       "      <td>0.0</td>\n",
       "    </tr>\n",
       "  </tbody>\n",
       "</table>\n",
       "</div>"
      ],
      "text/plain": [
       "        date_key     amount  client_inn  partner_inn years Длина_Отн_в_днях  \\\n",
       "9557  2018-08-01       4.00       129.0     119556.0    44             5479   \n",
       "9558  2018-08-01    5600.00       129.0    1805262.0    44             5479   \n",
       "9559  2018-08-01  148007.51       129.0     331032.0    44             5479   \n",
       "9560  2018-08-01   30339.45       129.0     459242.0    44             5479   \n",
       "9561  2018-08-01    5876.40       129.0     552104.0    44             5479   \n",
       "\n",
       "      Клиент_Сегмент_КБ  Клиент_Сегмент_МБ  Клиент_Сегмент_МКП  \\\n",
       "9557                1.0                0.0                 0.0   \n",
       "9558                1.0                0.0                 0.0   \n",
       "9559                1.0                0.0                 0.0   \n",
       "9560                1.0                0.0                 0.0   \n",
       "9561                1.0                0.0                 0.0   \n",
       "\n",
       "      Клиент_Сегмент_СБ  Клиент_НаличиеЗПпроекта_Д  Клиент_НаличиеЗПпроекта_Н  \\\n",
       "9557                0.0                        1.0                        0.0   \n",
       "9558                0.0                        1.0                        0.0   \n",
       "9559                0.0                        1.0                        0.0   \n",
       "9560                0.0                        1.0                        0.0   \n",
       "9561                0.0                        1.0                        0.0   \n",
       "\n",
       "      Fraud_presence  Reject_presence  \n",
       "9557             0.0              0.0  \n",
       "9558             0.0              0.0  \n",
       "9559             0.0              0.0  \n",
       "9560             0.0              0.0  \n",
       "9561             0.0              0.0  "
      ]
     },
     "execution_count": 149,
     "metadata": {},
     "output_type": "execute_result"
    }
   ],
   "source": [
    "Year_2018_P2 = Year_2018[Year_2018.date_key >= '2018-08-01']\n",
    "Year_2018_P2.head()"
   ]
  },
  {
   "cell_type": "code",
   "execution_count": 150,
   "id": "882f27ec-9ea4-44ec-9cf7-4ccad9e7c80e",
   "metadata": {},
   "outputs": [
    {
     "data": {
      "text/plain": [
       "9464241"
      ]
     },
     "execution_count": 150,
     "metadata": {},
     "output_type": "execute_result"
    }
   ],
   "source": [
    "Year_2018_P2.shape[0]"
   ]
  },
  {
   "cell_type": "code",
   "execution_count": 151,
   "id": "e037f54e-2bc2-4501-96f0-6b78625af385",
   "metadata": {},
   "outputs": [
    {
     "data": {
      "text/html": [
       "<div>\n",
       "<style scoped>\n",
       "    .dataframe tbody tr th:only-of-type {\n",
       "        vertical-align: middle;\n",
       "    }\n",
       "\n",
       "    .dataframe tbody tr th {\n",
       "        vertical-align: top;\n",
       "    }\n",
       "\n",
       "    .dataframe thead th {\n",
       "        text-align: right;\n",
       "    }\n",
       "</style>\n",
       "<table border=\"1\" class=\"dataframe\">\n",
       "  <thead>\n",
       "    <tr style=\"text-align: right;\">\n",
       "      <th></th>\n",
       "      <th>Fraud_presence</th>\n",
       "      <th>count</th>\n",
       "    </tr>\n",
       "  </thead>\n",
       "  <tbody>\n",
       "    <tr>\n",
       "      <th>0</th>\n",
       "      <td>0.0</td>\n",
       "      <td>9233881</td>\n",
       "    </tr>\n",
       "    <tr>\n",
       "      <th>1</th>\n",
       "      <td>1.0</td>\n",
       "      <td>230360</td>\n",
       "    </tr>\n",
       "  </tbody>\n",
       "</table>\n",
       "</div>"
      ],
      "text/plain": [
       "   Fraud_presence    count\n",
       "0             0.0  9233881\n",
       "1             1.0   230360"
      ]
     },
     "execution_count": 151,
     "metadata": {},
     "output_type": "execute_result"
    }
   ],
   "source": [
    "Year_2018_P2_count = Year_2018_P2.groupby(['Fraud_presence'])['Fraud_presence'].count().reset_index(name='count')\n",
    "Year_2018_P2_count"
   ]
  },
  {
   "cell_type": "code",
   "execution_count": 152,
   "id": "8a4fe8e9-06be-4f35-9ec8-ac040f7371d9",
   "metadata": {},
   "outputs": [
    {
     "data": {
      "text/html": [
       "<div>\n",
       "<style scoped>\n",
       "    .dataframe tbody tr th:only-of-type {\n",
       "        vertical-align: middle;\n",
       "    }\n",
       "\n",
       "    .dataframe tbody tr th {\n",
       "        vertical-align: top;\n",
       "    }\n",
       "\n",
       "    .dataframe thead th {\n",
       "        text-align: right;\n",
       "    }\n",
       "</style>\n",
       "<table border=\"1\" class=\"dataframe\">\n",
       "  <thead>\n",
       "    <tr style=\"text-align: right;\">\n",
       "      <th></th>\n",
       "      <th>date_key</th>\n",
       "      <th>amount</th>\n",
       "      <th>client_inn</th>\n",
       "      <th>partner_inn</th>\n",
       "      <th>years</th>\n",
       "      <th>Длина_Отн_в_днях</th>\n",
       "      <th>Клиент_Сегмент_КБ</th>\n",
       "      <th>Клиент_Сегмент_МБ</th>\n",
       "      <th>Клиент_Сегмент_МКП</th>\n",
       "      <th>Клиент_Сегмент_СБ</th>\n",
       "      <th>Клиент_НаличиеЗПпроекта_Д</th>\n",
       "      <th>Клиент_НаличиеЗПпроекта_Н</th>\n",
       "      <th>Fraud_presence</th>\n",
       "      <th>Reject_presence</th>\n",
       "    </tr>\n",
       "  </thead>\n",
       "  <tbody>\n",
       "    <tr>\n",
       "      <th>9562</th>\n",
       "      <td>2018-08-01</td>\n",
       "      <td>64400.00</td>\n",
       "      <td>129.0</td>\n",
       "      <td>880720.0</td>\n",
       "      <td>44</td>\n",
       "      <td>5479</td>\n",
       "      <td>1.0</td>\n",
       "      <td>0.0</td>\n",
       "      <td>0.0</td>\n",
       "      <td>0.0</td>\n",
       "      <td>1.0</td>\n",
       "      <td>0.0</td>\n",
       "      <td>0.0</td>\n",
       "      <td>0.0</td>\n",
       "    </tr>\n",
       "    <tr>\n",
       "      <th>9576</th>\n",
       "      <td>2018-08-01</td>\n",
       "      <td>6050.00</td>\n",
       "      <td>129.0</td>\n",
       "      <td>802616.0</td>\n",
       "      <td>44</td>\n",
       "      <td>5479</td>\n",
       "      <td>1.0</td>\n",
       "      <td>0.0</td>\n",
       "      <td>0.0</td>\n",
       "      <td>0.0</td>\n",
       "      <td>1.0</td>\n",
       "      <td>0.0</td>\n",
       "      <td>0.0</td>\n",
       "      <td>0.0</td>\n",
       "    </tr>\n",
       "    <tr>\n",
       "      <th>9591</th>\n",
       "      <td>2018-08-01</td>\n",
       "      <td>7580.00</td>\n",
       "      <td>129.0</td>\n",
       "      <td>216600.0</td>\n",
       "      <td>44</td>\n",
       "      <td>5479</td>\n",
       "      <td>1.0</td>\n",
       "      <td>0.0</td>\n",
       "      <td>0.0</td>\n",
       "      <td>0.0</td>\n",
       "      <td>1.0</td>\n",
       "      <td>0.0</td>\n",
       "      <td>0.0</td>\n",
       "      <td>0.0</td>\n",
       "    </tr>\n",
       "    <tr>\n",
       "      <th>9647</th>\n",
       "      <td>2018-08-02</td>\n",
       "      <td>26849.53</td>\n",
       "      <td>129.0</td>\n",
       "      <td>119556.0</td>\n",
       "      <td>44</td>\n",
       "      <td>5479</td>\n",
       "      <td>1.0</td>\n",
       "      <td>0.0</td>\n",
       "      <td>0.0</td>\n",
       "      <td>0.0</td>\n",
       "      <td>1.0</td>\n",
       "      <td>0.0</td>\n",
       "      <td>0.0</td>\n",
       "      <td>0.0</td>\n",
       "    </tr>\n",
       "    <tr>\n",
       "      <th>9687</th>\n",
       "      <td>2018-08-03</td>\n",
       "      <td>82216.44</td>\n",
       "      <td>129.0</td>\n",
       "      <td>357698.0</td>\n",
       "      <td>44</td>\n",
       "      <td>5479</td>\n",
       "      <td>1.0</td>\n",
       "      <td>0.0</td>\n",
       "      <td>0.0</td>\n",
       "      <td>0.0</td>\n",
       "      <td>1.0</td>\n",
       "      <td>0.0</td>\n",
       "      <td>0.0</td>\n",
       "      <td>0.0</td>\n",
       "    </tr>\n",
       "  </tbody>\n",
       "</table>\n",
       "</div>"
      ],
      "text/plain": [
       "        date_key    amount  client_inn  partner_inn years Длина_Отн_в_днях  \\\n",
       "9562  2018-08-01  64400.00       129.0     880720.0    44             5479   \n",
       "9576  2018-08-01   6050.00       129.0     802616.0    44             5479   \n",
       "9591  2018-08-01   7580.00       129.0     216600.0    44             5479   \n",
       "9647  2018-08-02  26849.53       129.0     119556.0    44             5479   \n",
       "9687  2018-08-03  82216.44       129.0     357698.0    44             5479   \n",
       "\n",
       "      Клиент_Сегмент_КБ  Клиент_Сегмент_МБ  Клиент_Сегмент_МКП  \\\n",
       "9562                1.0                0.0                 0.0   \n",
       "9576                1.0                0.0                 0.0   \n",
       "9591                1.0                0.0                 0.0   \n",
       "9647                1.0                0.0                 0.0   \n",
       "9687                1.0                0.0                 0.0   \n",
       "\n",
       "      Клиент_Сегмент_СБ  Клиент_НаличиеЗПпроекта_Д  Клиент_НаличиеЗПпроекта_Н  \\\n",
       "9562                0.0                        1.0                        0.0   \n",
       "9576                0.0                        1.0                        0.0   \n",
       "9591                0.0                        1.0                        0.0   \n",
       "9647                0.0                        1.0                        0.0   \n",
       "9687                0.0                        1.0                        0.0   \n",
       "\n",
       "      Fraud_presence  Reject_presence  \n",
       "9562             0.0              0.0  \n",
       "9576             0.0              0.0  \n",
       "9591             0.0              0.0  \n",
       "9647             0.0              0.0  \n",
       "9687             0.0              0.0  "
      ]
     },
     "execution_count": 152,
     "metadata": {},
     "output_type": "execute_result"
    }
   ],
   "source": [
    "Year_2018_P2 = Year_2018_P2.drop(Year_2018_P2.query('Fraud_presence == 0').sample(n = 9000104).index)\n",
    "Year_2018_P2.head()"
   ]
  },
  {
   "cell_type": "code",
   "execution_count": 153,
   "id": "1d21b2c5-5ec6-46c5-bb34-b8b3246c4015",
   "metadata": {},
   "outputs": [
    {
     "data": {
      "text/plain": [
       "464137"
      ]
     },
     "execution_count": 153,
     "metadata": {},
     "output_type": "execute_result"
    }
   ],
   "source": [
    "Year_2018_P2.shape[0]"
   ]
  },
  {
   "cell_type": "code",
   "execution_count": 154,
   "id": "e55b3bd2-2839-4dda-bf93-0fa9c334bb25",
   "metadata": {},
   "outputs": [
    {
     "data": {
      "text/html": [
       "<div>\n",
       "<style scoped>\n",
       "    .dataframe tbody tr th:only-of-type {\n",
       "        vertical-align: middle;\n",
       "    }\n",
       "\n",
       "    .dataframe tbody tr th {\n",
       "        vertical-align: top;\n",
       "    }\n",
       "\n",
       "    .dataframe thead th {\n",
       "        text-align: right;\n",
       "    }\n",
       "</style>\n",
       "<table border=\"1\" class=\"dataframe\">\n",
       "  <thead>\n",
       "    <tr style=\"text-align: right;\">\n",
       "      <th></th>\n",
       "      <th>Fraud_presence</th>\n",
       "      <th>count</th>\n",
       "    </tr>\n",
       "  </thead>\n",
       "  <tbody>\n",
       "    <tr>\n",
       "      <th>0</th>\n",
       "      <td>0.0</td>\n",
       "      <td>233777</td>\n",
       "    </tr>\n",
       "    <tr>\n",
       "      <th>1</th>\n",
       "      <td>1.0</td>\n",
       "      <td>230360</td>\n",
       "    </tr>\n",
       "  </tbody>\n",
       "</table>\n",
       "</div>"
      ],
      "text/plain": [
       "   Fraud_presence   count\n",
       "0             0.0  233777\n",
       "1             1.0  230360"
      ]
     },
     "execution_count": 154,
     "metadata": {},
     "output_type": "execute_result"
    }
   ],
   "source": [
    "Year_2018_P2_count = Year_2018_P2.groupby(['Fraud_presence'])['Fraud_presence'].count().reset_index(name='count')\n",
    "Year_2018_P2_count"
   ]
  },
  {
   "cell_type": "markdown",
   "id": "1ba17e07-0355-451b-933e-313610d85c12",
   "metadata": {},
   "source": [
    "----\n",
    "----"
   ]
  },
  {
   "cell_type": "markdown",
   "id": "c2db720c-a547-4dda-b041-3496088cff4a",
   "metadata": {},
   "source": [
    "Year 2019"
   ]
  },
  {
   "cell_type": "code",
   "execution_count": 155,
   "id": "6215d7fe-30a5-44d2-8523-98b2f25d048c",
   "metadata": {},
   "outputs": [
    {
     "data": {
      "text/html": [
       "<div>\n",
       "<style scoped>\n",
       "    .dataframe tbody tr th:only-of-type {\n",
       "        vertical-align: middle;\n",
       "    }\n",
       "\n",
       "    .dataframe tbody tr th {\n",
       "        vertical-align: top;\n",
       "    }\n",
       "\n",
       "    .dataframe thead th {\n",
       "        text-align: right;\n",
       "    }\n",
       "</style>\n",
       "<table border=\"1\" class=\"dataframe\">\n",
       "  <thead>\n",
       "    <tr style=\"text-align: right;\">\n",
       "      <th></th>\n",
       "      <th>date_key</th>\n",
       "      <th>amount</th>\n",
       "      <th>client_inn</th>\n",
       "      <th>partner_inn</th>\n",
       "      <th>years</th>\n",
       "      <th>Длина_Отн_в_днях</th>\n",
       "      <th>Клиент_Сегмент_КБ</th>\n",
       "      <th>Клиент_Сегмент_МБ</th>\n",
       "      <th>Клиент_Сегмент_МКП</th>\n",
       "      <th>Клиент_Сегмент_СБ</th>\n",
       "      <th>Клиент_НаличиеЗПпроекта_Д</th>\n",
       "      <th>Клиент_НаличиеЗПпроекта_Н</th>\n",
       "      <th>Fraud_presence</th>\n",
       "      <th>Reject_presence</th>\n",
       "    </tr>\n",
       "  </thead>\n",
       "  <tbody>\n",
       "    <tr>\n",
       "      <th>16873</th>\n",
       "      <td>2019-01-09</td>\n",
       "      <td>14000.00</td>\n",
       "      <td>129.0</td>\n",
       "      <td>1719319.0</td>\n",
       "      <td>44</td>\n",
       "      <td>5479</td>\n",
       "      <td>1.0</td>\n",
       "      <td>0.0</td>\n",
       "      <td>0.0</td>\n",
       "      <td>0.0</td>\n",
       "      <td>1.0</td>\n",
       "      <td>0.0</td>\n",
       "      <td>0.0</td>\n",
       "      <td>0.0</td>\n",
       "    </tr>\n",
       "    <tr>\n",
       "      <th>16874</th>\n",
       "      <td>2019-01-09</td>\n",
       "      <td>49893.47</td>\n",
       "      <td>129.0</td>\n",
       "      <td>198880.0</td>\n",
       "      <td>44</td>\n",
       "      <td>5479</td>\n",
       "      <td>1.0</td>\n",
       "      <td>0.0</td>\n",
       "      <td>0.0</td>\n",
       "      <td>0.0</td>\n",
       "      <td>1.0</td>\n",
       "      <td>0.0</td>\n",
       "      <td>0.0</td>\n",
       "      <td>0.0</td>\n",
       "    </tr>\n",
       "    <tr>\n",
       "      <th>16875</th>\n",
       "      <td>2019-01-09</td>\n",
       "      <td>400.00</td>\n",
       "      <td>129.0</td>\n",
       "      <td>802616.0</td>\n",
       "      <td>44</td>\n",
       "      <td>5479</td>\n",
       "      <td>1.0</td>\n",
       "      <td>0.0</td>\n",
       "      <td>0.0</td>\n",
       "      <td>0.0</td>\n",
       "      <td>1.0</td>\n",
       "      <td>0.0</td>\n",
       "      <td>0.0</td>\n",
       "      <td>0.0</td>\n",
       "    </tr>\n",
       "    <tr>\n",
       "      <th>16876</th>\n",
       "      <td>2019-01-09</td>\n",
       "      <td>1040.00</td>\n",
       "      <td>129.0</td>\n",
       "      <td>1659481.0</td>\n",
       "      <td>44</td>\n",
       "      <td>5479</td>\n",
       "      <td>1.0</td>\n",
       "      <td>0.0</td>\n",
       "      <td>0.0</td>\n",
       "      <td>0.0</td>\n",
       "      <td>1.0</td>\n",
       "      <td>0.0</td>\n",
       "      <td>0.0</td>\n",
       "      <td>0.0</td>\n",
       "    </tr>\n",
       "    <tr>\n",
       "      <th>16877</th>\n",
       "      <td>2019-01-09</td>\n",
       "      <td>6000.22</td>\n",
       "      <td>129.0</td>\n",
       "      <td>464864.0</td>\n",
       "      <td>44</td>\n",
       "      <td>5479</td>\n",
       "      <td>1.0</td>\n",
       "      <td>0.0</td>\n",
       "      <td>0.0</td>\n",
       "      <td>0.0</td>\n",
       "      <td>1.0</td>\n",
       "      <td>0.0</td>\n",
       "      <td>0.0</td>\n",
       "      <td>0.0</td>\n",
       "    </tr>\n",
       "  </tbody>\n",
       "</table>\n",
       "</div>"
      ],
      "text/plain": [
       "         date_key    amount  client_inn  partner_inn years Длина_Отн_в_днях  \\\n",
       "16873  2019-01-09  14000.00       129.0    1719319.0    44             5479   \n",
       "16874  2019-01-09  49893.47       129.0     198880.0    44             5479   \n",
       "16875  2019-01-09    400.00       129.0     802616.0    44             5479   \n",
       "16876  2019-01-09   1040.00       129.0    1659481.0    44             5479   \n",
       "16877  2019-01-09   6000.22       129.0     464864.0    44             5479   \n",
       "\n",
       "       Клиент_Сегмент_КБ  Клиент_Сегмент_МБ  Клиент_Сегмент_МКП  \\\n",
       "16873                1.0                0.0                 0.0   \n",
       "16874                1.0                0.0                 0.0   \n",
       "16875                1.0                0.0                 0.0   \n",
       "16876                1.0                0.0                 0.0   \n",
       "16877                1.0                0.0                 0.0   \n",
       "\n",
       "       Клиент_Сегмент_СБ  Клиент_НаличиеЗПпроекта_Д  \\\n",
       "16873                0.0                        1.0   \n",
       "16874                0.0                        1.0   \n",
       "16875                0.0                        1.0   \n",
       "16876                0.0                        1.0   \n",
       "16877                0.0                        1.0   \n",
       "\n",
       "       Клиент_НаличиеЗПпроекта_Н  Fraud_presence  Reject_presence  \n",
       "16873                        0.0             0.0              0.0  \n",
       "16874                        0.0             0.0              0.0  \n",
       "16875                        0.0             0.0              0.0  \n",
       "16876                        0.0             0.0              0.0  \n",
       "16877                        0.0             0.0              0.0  "
      ]
     },
     "execution_count": 155,
     "metadata": {},
     "output_type": "execute_result"
    }
   ],
   "source": [
    "Year_2019_P1 = Year_2019[Year_2019.date_key < '2019-06-01']\n",
    "Year_2019_P1.head()"
   ]
  },
  {
   "cell_type": "code",
   "execution_count": 156,
   "id": "3d2a63bd-29d8-4de1-ad90-605b2c560938",
   "metadata": {},
   "outputs": [
    {
     "data": {
      "text/plain": [
       "8335785"
      ]
     },
     "execution_count": 156,
     "metadata": {},
     "output_type": "execute_result"
    }
   ],
   "source": [
    "Year_2019_P1.shape[0]"
   ]
  },
  {
   "cell_type": "code",
   "execution_count": 157,
   "id": "ebeba306-53ce-41f9-b668-50ae04835d85",
   "metadata": {},
   "outputs": [
    {
     "data": {
      "text/html": [
       "<div>\n",
       "<style scoped>\n",
       "    .dataframe tbody tr th:only-of-type {\n",
       "        vertical-align: middle;\n",
       "    }\n",
       "\n",
       "    .dataframe tbody tr th {\n",
       "        vertical-align: top;\n",
       "    }\n",
       "\n",
       "    .dataframe thead th {\n",
       "        text-align: right;\n",
       "    }\n",
       "</style>\n",
       "<table border=\"1\" class=\"dataframe\">\n",
       "  <thead>\n",
       "    <tr style=\"text-align: right;\">\n",
       "      <th></th>\n",
       "      <th>Fraud_presence</th>\n",
       "      <th>count</th>\n",
       "    </tr>\n",
       "  </thead>\n",
       "  <tbody>\n",
       "    <tr>\n",
       "      <th>0</th>\n",
       "      <td>0.0</td>\n",
       "      <td>8200812</td>\n",
       "    </tr>\n",
       "    <tr>\n",
       "      <th>1</th>\n",
       "      <td>1.0</td>\n",
       "      <td>134973</td>\n",
       "    </tr>\n",
       "  </tbody>\n",
       "</table>\n",
       "</div>"
      ],
      "text/plain": [
       "   Fraud_presence    count\n",
       "0             0.0  8200812\n",
       "1             1.0   134973"
      ]
     },
     "execution_count": 157,
     "metadata": {},
     "output_type": "execute_result"
    }
   ],
   "source": [
    "Year_2019_P1_count = Year_2019_P1.groupby(['Fraud_presence'])['Fraud_presence'].count().reset_index(name='count')\n",
    "Year_2019_P1_count"
   ]
  },
  {
   "cell_type": "code",
   "execution_count": 158,
   "id": "dbb75ae6-8247-462f-9067-924a9d9afc2f",
   "metadata": {},
   "outputs": [
    {
     "data": {
      "text/html": [
       "<div>\n",
       "<style scoped>\n",
       "    .dataframe tbody tr th:only-of-type {\n",
       "        vertical-align: middle;\n",
       "    }\n",
       "\n",
       "    .dataframe tbody tr th {\n",
       "        vertical-align: top;\n",
       "    }\n",
       "\n",
       "    .dataframe thead th {\n",
       "        text-align: right;\n",
       "    }\n",
       "</style>\n",
       "<table border=\"1\" class=\"dataframe\">\n",
       "  <thead>\n",
       "    <tr style=\"text-align: right;\">\n",
       "      <th></th>\n",
       "      <th>date_key</th>\n",
       "      <th>amount</th>\n",
       "      <th>client_inn</th>\n",
       "      <th>partner_inn</th>\n",
       "      <th>years</th>\n",
       "      <th>Длина_Отн_в_днях</th>\n",
       "      <th>Клиент_Сегмент_КБ</th>\n",
       "      <th>Клиент_Сегмент_МБ</th>\n",
       "      <th>Клиент_Сегмент_МКП</th>\n",
       "      <th>Клиент_Сегмент_СБ</th>\n",
       "      <th>Клиент_НаличиеЗПпроекта_Д</th>\n",
       "      <th>Клиент_НаличиеЗПпроекта_Н</th>\n",
       "      <th>Fraud_presence</th>\n",
       "      <th>Reject_presence</th>\n",
       "    </tr>\n",
       "  </thead>\n",
       "  <tbody>\n",
       "    <tr>\n",
       "      <th>16920</th>\n",
       "      <td>2019-01-09</td>\n",
       "      <td>72000.0</td>\n",
       "      <td>129.0</td>\n",
       "      <td>1719319.0</td>\n",
       "      <td>44</td>\n",
       "      <td>5479</td>\n",
       "      <td>1.0</td>\n",
       "      <td>0.0</td>\n",
       "      <td>0.0</td>\n",
       "      <td>0.0</td>\n",
       "      <td>1.0</td>\n",
       "      <td>0.0</td>\n",
       "      <td>0.0</td>\n",
       "      <td>0.0</td>\n",
       "    </tr>\n",
       "    <tr>\n",
       "      <th>16922</th>\n",
       "      <td>2019-01-09</td>\n",
       "      <td>76650.0</td>\n",
       "      <td>129.0</td>\n",
       "      <td>1719319.0</td>\n",
       "      <td>44</td>\n",
       "      <td>5479</td>\n",
       "      <td>1.0</td>\n",
       "      <td>0.0</td>\n",
       "      <td>0.0</td>\n",
       "      <td>0.0</td>\n",
       "      <td>1.0</td>\n",
       "      <td>0.0</td>\n",
       "      <td>0.0</td>\n",
       "      <td>0.0</td>\n",
       "    </tr>\n",
       "    <tr>\n",
       "      <th>16950</th>\n",
       "      <td>2019-01-09</td>\n",
       "      <td>1000.0</td>\n",
       "      <td>129.0</td>\n",
       "      <td>802616.0</td>\n",
       "      <td>44</td>\n",
       "      <td>5479</td>\n",
       "      <td>1.0</td>\n",
       "      <td>0.0</td>\n",
       "      <td>0.0</td>\n",
       "      <td>0.0</td>\n",
       "      <td>1.0</td>\n",
       "      <td>0.0</td>\n",
       "      <td>0.0</td>\n",
       "      <td>0.0</td>\n",
       "    </tr>\n",
       "    <tr>\n",
       "      <th>16980</th>\n",
       "      <td>2019-01-10</td>\n",
       "      <td>138705.0</td>\n",
       "      <td>129.0</td>\n",
       "      <td>1719319.0</td>\n",
       "      <td>44</td>\n",
       "      <td>5479</td>\n",
       "      <td>1.0</td>\n",
       "      <td>0.0</td>\n",
       "      <td>0.0</td>\n",
       "      <td>0.0</td>\n",
       "      <td>1.0</td>\n",
       "      <td>0.0</td>\n",
       "      <td>0.0</td>\n",
       "      <td>0.0</td>\n",
       "    </tr>\n",
       "    <tr>\n",
       "      <th>17065</th>\n",
       "      <td>2019-01-14</td>\n",
       "      <td>50800.0</td>\n",
       "      <td>129.0</td>\n",
       "      <td>678882.0</td>\n",
       "      <td>44</td>\n",
       "      <td>5479</td>\n",
       "      <td>1.0</td>\n",
       "      <td>0.0</td>\n",
       "      <td>0.0</td>\n",
       "      <td>0.0</td>\n",
       "      <td>1.0</td>\n",
       "      <td>0.0</td>\n",
       "      <td>0.0</td>\n",
       "      <td>0.0</td>\n",
       "    </tr>\n",
       "  </tbody>\n",
       "</table>\n",
       "</div>"
      ],
      "text/plain": [
       "         date_key    amount  client_inn  partner_inn years Длина_Отн_в_днях  \\\n",
       "16920  2019-01-09   72000.0       129.0    1719319.0    44             5479   \n",
       "16922  2019-01-09   76650.0       129.0    1719319.0    44             5479   \n",
       "16950  2019-01-09    1000.0       129.0     802616.0    44             5479   \n",
       "16980  2019-01-10  138705.0       129.0    1719319.0    44             5479   \n",
       "17065  2019-01-14   50800.0       129.0     678882.0    44             5479   \n",
       "\n",
       "       Клиент_Сегмент_КБ  Клиент_Сегмент_МБ  Клиент_Сегмент_МКП  \\\n",
       "16920                1.0                0.0                 0.0   \n",
       "16922                1.0                0.0                 0.0   \n",
       "16950                1.0                0.0                 0.0   \n",
       "16980                1.0                0.0                 0.0   \n",
       "17065                1.0                0.0                 0.0   \n",
       "\n",
       "       Клиент_Сегмент_СБ  Клиент_НаличиеЗПпроекта_Д  \\\n",
       "16920                0.0                        1.0   \n",
       "16922                0.0                        1.0   \n",
       "16950                0.0                        1.0   \n",
       "16980                0.0                        1.0   \n",
       "17065                0.0                        1.0   \n",
       "\n",
       "       Клиент_НаличиеЗПпроекта_Н  Fraud_presence  Reject_presence  \n",
       "16920                        0.0             0.0              0.0  \n",
       "16922                        0.0             0.0              0.0  \n",
       "16950                        0.0             0.0              0.0  \n",
       "16980                        0.0             0.0              0.0  \n",
       "17065                        0.0             0.0              0.0  "
      ]
     },
     "execution_count": 158,
     "metadata": {},
     "output_type": "execute_result"
    }
   ],
   "source": [
    "Year_2019_P1 = Year_2019_P1.drop(Year_2019_P1.query('Fraud_presence == 0').sample(n = 8062634).index)\n",
    "Year_2019_P1.head()"
   ]
  },
  {
   "cell_type": "code",
   "execution_count": 159,
   "id": "84f0e2e8-f345-48f4-b876-eaf2ce93bf83",
   "metadata": {},
   "outputs": [
    {
     "data": {
      "text/plain": [
       "273151"
      ]
     },
     "execution_count": 159,
     "metadata": {},
     "output_type": "execute_result"
    }
   ],
   "source": [
    "Year_2019_P1.shape[0]"
   ]
  },
  {
   "cell_type": "code",
   "execution_count": 160,
   "id": "9780e0a7-22a4-4a9e-b937-30cc12fdc2a3",
   "metadata": {},
   "outputs": [
    {
     "data": {
      "text/html": [
       "<div>\n",
       "<style scoped>\n",
       "    .dataframe tbody tr th:only-of-type {\n",
       "        vertical-align: middle;\n",
       "    }\n",
       "\n",
       "    .dataframe tbody tr th {\n",
       "        vertical-align: top;\n",
       "    }\n",
       "\n",
       "    .dataframe thead th {\n",
       "        text-align: right;\n",
       "    }\n",
       "</style>\n",
       "<table border=\"1\" class=\"dataframe\">\n",
       "  <thead>\n",
       "    <tr style=\"text-align: right;\">\n",
       "      <th></th>\n",
       "      <th>Fraud_presence</th>\n",
       "      <th>count</th>\n",
       "    </tr>\n",
       "  </thead>\n",
       "  <tbody>\n",
       "    <tr>\n",
       "      <th>0</th>\n",
       "      <td>0.0</td>\n",
       "      <td>138178</td>\n",
       "    </tr>\n",
       "    <tr>\n",
       "      <th>1</th>\n",
       "      <td>1.0</td>\n",
       "      <td>134973</td>\n",
       "    </tr>\n",
       "  </tbody>\n",
       "</table>\n",
       "</div>"
      ],
      "text/plain": [
       "   Fraud_presence   count\n",
       "0             0.0  138178\n",
       "1             1.0  134973"
      ]
     },
     "execution_count": 160,
     "metadata": {},
     "output_type": "execute_result"
    }
   ],
   "source": [
    "Year_2019_P1_count = Year_2019_P1.groupby(['Fraud_presence'])['Fraud_presence'].count().reset_index(name='count')\n",
    "Year_2019_P1_count"
   ]
  },
  {
   "cell_type": "markdown",
   "id": "ce9b8825-bb1e-417f-b2f3-cfce0ecc441b",
   "metadata": {},
   "source": [
    "----"
   ]
  },
  {
   "cell_type": "code",
   "execution_count": 161,
   "id": "48f3a5bc-1f0d-474b-9ba3-9d3030b62b0a",
   "metadata": {},
   "outputs": [
    {
     "data": {
      "text/html": [
       "<div>\n",
       "<style scoped>\n",
       "    .dataframe tbody tr th:only-of-type {\n",
       "        vertical-align: middle;\n",
       "    }\n",
       "\n",
       "    .dataframe tbody tr th {\n",
       "        vertical-align: top;\n",
       "    }\n",
       "\n",
       "    .dataframe thead th {\n",
       "        text-align: right;\n",
       "    }\n",
       "</style>\n",
       "<table border=\"1\" class=\"dataframe\">\n",
       "  <thead>\n",
       "    <tr style=\"text-align: right;\">\n",
       "      <th></th>\n",
       "      <th>date_key</th>\n",
       "      <th>amount</th>\n",
       "      <th>client_inn</th>\n",
       "      <th>partner_inn</th>\n",
       "      <th>years</th>\n",
       "      <th>Длина_Отн_в_днях</th>\n",
       "      <th>Клиент_Сегмент_КБ</th>\n",
       "      <th>Клиент_Сегмент_МБ</th>\n",
       "      <th>Клиент_Сегмент_МКП</th>\n",
       "      <th>Клиент_Сегмент_СБ</th>\n",
       "      <th>Клиент_НаличиеЗПпроекта_Д</th>\n",
       "      <th>Клиент_НаличиеЗПпроекта_Н</th>\n",
       "      <th>Fraud_presence</th>\n",
       "      <th>Reject_presence</th>\n",
       "    </tr>\n",
       "  </thead>\n",
       "  <tbody>\n",
       "    <tr>\n",
       "      <th>22297</th>\n",
       "      <td>2019-06-02</td>\n",
       "      <td>2910.0</td>\n",
       "      <td>129.0</td>\n",
       "      <td>119556.0</td>\n",
       "      <td>44</td>\n",
       "      <td>5479</td>\n",
       "      <td>1.0</td>\n",
       "      <td>0.0</td>\n",
       "      <td>0.0</td>\n",
       "      <td>0.0</td>\n",
       "      <td>1.0</td>\n",
       "      <td>0.0</td>\n",
       "      <td>0.0</td>\n",
       "      <td>0.0</td>\n",
       "    </tr>\n",
       "    <tr>\n",
       "      <th>22298</th>\n",
       "      <td>2019-06-03</td>\n",
       "      <td>880.0</td>\n",
       "      <td>129.0</td>\n",
       "      <td>647677.0</td>\n",
       "      <td>44</td>\n",
       "      <td>5479</td>\n",
       "      <td>1.0</td>\n",
       "      <td>0.0</td>\n",
       "      <td>0.0</td>\n",
       "      <td>0.0</td>\n",
       "      <td>1.0</td>\n",
       "      <td>0.0</td>\n",
       "      <td>0.0</td>\n",
       "      <td>0.0</td>\n",
       "    </tr>\n",
       "    <tr>\n",
       "      <th>22299</th>\n",
       "      <td>2019-06-03</td>\n",
       "      <td>6504.0</td>\n",
       "      <td>129.0</td>\n",
       "      <td>1448163.0</td>\n",
       "      <td>44</td>\n",
       "      <td>5479</td>\n",
       "      <td>1.0</td>\n",
       "      <td>0.0</td>\n",
       "      <td>0.0</td>\n",
       "      <td>0.0</td>\n",
       "      <td>1.0</td>\n",
       "      <td>0.0</td>\n",
       "      <td>0.0</td>\n",
       "      <td>0.0</td>\n",
       "    </tr>\n",
       "    <tr>\n",
       "      <th>22300</th>\n",
       "      <td>2019-06-03</td>\n",
       "      <td>2700.0</td>\n",
       "      <td>129.0</td>\n",
       "      <td>876594.0</td>\n",
       "      <td>44</td>\n",
       "      <td>5479</td>\n",
       "      <td>1.0</td>\n",
       "      <td>0.0</td>\n",
       "      <td>0.0</td>\n",
       "      <td>0.0</td>\n",
       "      <td>1.0</td>\n",
       "      <td>0.0</td>\n",
       "      <td>0.0</td>\n",
       "      <td>0.0</td>\n",
       "    </tr>\n",
       "    <tr>\n",
       "      <th>22301</th>\n",
       "      <td>2019-06-03</td>\n",
       "      <td>7993.0</td>\n",
       "      <td>129.0</td>\n",
       "      <td>500094.0</td>\n",
       "      <td>44</td>\n",
       "      <td>5479</td>\n",
       "      <td>1.0</td>\n",
       "      <td>0.0</td>\n",
       "      <td>0.0</td>\n",
       "      <td>0.0</td>\n",
       "      <td>1.0</td>\n",
       "      <td>0.0</td>\n",
       "      <td>0.0</td>\n",
       "      <td>0.0</td>\n",
       "    </tr>\n",
       "  </tbody>\n",
       "</table>\n",
       "</div>"
      ],
      "text/plain": [
       "         date_key  amount  client_inn  partner_inn years Длина_Отн_в_днях  \\\n",
       "22297  2019-06-02  2910.0       129.0     119556.0    44             5479   \n",
       "22298  2019-06-03   880.0       129.0     647677.0    44             5479   \n",
       "22299  2019-06-03  6504.0       129.0    1448163.0    44             5479   \n",
       "22300  2019-06-03  2700.0       129.0     876594.0    44             5479   \n",
       "22301  2019-06-03  7993.0       129.0     500094.0    44             5479   \n",
       "\n",
       "       Клиент_Сегмент_КБ  Клиент_Сегмент_МБ  Клиент_Сегмент_МКП  \\\n",
       "22297                1.0                0.0                 0.0   \n",
       "22298                1.0                0.0                 0.0   \n",
       "22299                1.0                0.0                 0.0   \n",
       "22300                1.0                0.0                 0.0   \n",
       "22301                1.0                0.0                 0.0   \n",
       "\n",
       "       Клиент_Сегмент_СБ  Клиент_НаличиеЗПпроекта_Д  \\\n",
       "22297                0.0                        1.0   \n",
       "22298                0.0                        1.0   \n",
       "22299                0.0                        1.0   \n",
       "22300                0.0                        1.0   \n",
       "22301                0.0                        1.0   \n",
       "\n",
       "       Клиент_НаличиеЗПпроекта_Н  Fraud_presence  Reject_presence  \n",
       "22297                        0.0             0.0              0.0  \n",
       "22298                        0.0             0.0              0.0  \n",
       "22299                        0.0             0.0              0.0  \n",
       "22300                        0.0             0.0              0.0  \n",
       "22301                        0.0             0.0              0.0  "
      ]
     },
     "execution_count": 161,
     "metadata": {},
     "output_type": "execute_result"
    }
   ],
   "source": [
    "Year_2019_P2 = Year_2019[Year_2019.date_key >= '2019-06-01']\n",
    "Year_2019_P2.head()"
   ]
  },
  {
   "cell_type": "code",
   "execution_count": 162,
   "id": "6450ea0d-dc5b-474a-ac8a-bb5af0044a6a",
   "metadata": {},
   "outputs": [
    {
     "data": {
      "text/plain": [
       "13631721"
      ]
     },
     "execution_count": 162,
     "metadata": {},
     "output_type": "execute_result"
    }
   ],
   "source": [
    "Year_2019_P2.shape[0]"
   ]
  },
  {
   "cell_type": "code",
   "execution_count": 163,
   "id": "1c863296-8560-49f0-b47c-61f722fad7fd",
   "metadata": {},
   "outputs": [
    {
     "data": {
      "text/html": [
       "<div>\n",
       "<style scoped>\n",
       "    .dataframe tbody tr th:only-of-type {\n",
       "        vertical-align: middle;\n",
       "    }\n",
       "\n",
       "    .dataframe tbody tr th {\n",
       "        vertical-align: top;\n",
       "    }\n",
       "\n",
       "    .dataframe thead th {\n",
       "        text-align: right;\n",
       "    }\n",
       "</style>\n",
       "<table border=\"1\" class=\"dataframe\">\n",
       "  <thead>\n",
       "    <tr style=\"text-align: right;\">\n",
       "      <th></th>\n",
       "      <th>Fraud_presence</th>\n",
       "      <th>count</th>\n",
       "    </tr>\n",
       "  </thead>\n",
       "  <tbody>\n",
       "    <tr>\n",
       "      <th>0</th>\n",
       "      <td>0.0</td>\n",
       "      <td>13454236</td>\n",
       "    </tr>\n",
       "    <tr>\n",
       "      <th>1</th>\n",
       "      <td>1.0</td>\n",
       "      <td>177485</td>\n",
       "    </tr>\n",
       "  </tbody>\n",
       "</table>\n",
       "</div>"
      ],
      "text/plain": [
       "   Fraud_presence     count\n",
       "0             0.0  13454236\n",
       "1             1.0    177485"
      ]
     },
     "execution_count": 163,
     "metadata": {},
     "output_type": "execute_result"
    }
   ],
   "source": [
    "Year_2019_P2_count = Year_2019_P2.groupby(['Fraud_presence'])['Fraud_presence'].count().reset_index(name='count')\n",
    "Year_2019_P2_count"
   ]
  },
  {
   "cell_type": "code",
   "execution_count": 164,
   "id": "cafacb9c-4b6d-4069-b728-cb1599a3dc3f",
   "metadata": {},
   "outputs": [
    {
     "data": {
      "text/html": [
       "<div>\n",
       "<style scoped>\n",
       "    .dataframe tbody tr th:only-of-type {\n",
       "        vertical-align: middle;\n",
       "    }\n",
       "\n",
       "    .dataframe tbody tr th {\n",
       "        vertical-align: top;\n",
       "    }\n",
       "\n",
       "    .dataframe thead th {\n",
       "        text-align: right;\n",
       "    }\n",
       "</style>\n",
       "<table border=\"1\" class=\"dataframe\">\n",
       "  <thead>\n",
       "    <tr style=\"text-align: right;\">\n",
       "      <th></th>\n",
       "      <th>date_key</th>\n",
       "      <th>amount</th>\n",
       "      <th>client_inn</th>\n",
       "      <th>partner_inn</th>\n",
       "      <th>years</th>\n",
       "      <th>Длина_Отн_в_днях</th>\n",
       "      <th>Клиент_Сегмент_КБ</th>\n",
       "      <th>Клиент_Сегмент_МБ</th>\n",
       "      <th>Клиент_Сегмент_МКП</th>\n",
       "      <th>Клиент_Сегмент_СБ</th>\n",
       "      <th>Клиент_НаличиеЗПпроекта_Д</th>\n",
       "      <th>Клиент_НаличиеЗПпроекта_Н</th>\n",
       "      <th>Fraud_presence</th>\n",
       "      <th>Reject_presence</th>\n",
       "    </tr>\n",
       "  </thead>\n",
       "  <tbody>\n",
       "    <tr>\n",
       "      <th>22374</th>\n",
       "      <td>2019-06-03</td>\n",
       "      <td>90000.00</td>\n",
       "      <td>129.0</td>\n",
       "      <td>298988.0</td>\n",
       "      <td>44</td>\n",
       "      <td>5479</td>\n",
       "      <td>1.0</td>\n",
       "      <td>0.0</td>\n",
       "      <td>0.0</td>\n",
       "      <td>0.0</td>\n",
       "      <td>1.0</td>\n",
       "      <td>0.0</td>\n",
       "      <td>0.0</td>\n",
       "      <td>0.0</td>\n",
       "    </tr>\n",
       "    <tr>\n",
       "      <th>22413</th>\n",
       "      <td>2019-06-04</td>\n",
       "      <td>750.00</td>\n",
       "      <td>129.0</td>\n",
       "      <td>802616.0</td>\n",
       "      <td>44</td>\n",
       "      <td>5479</td>\n",
       "      <td>1.0</td>\n",
       "      <td>0.0</td>\n",
       "      <td>0.0</td>\n",
       "      <td>0.0</td>\n",
       "      <td>1.0</td>\n",
       "      <td>0.0</td>\n",
       "      <td>0.0</td>\n",
       "      <td>0.0</td>\n",
       "    </tr>\n",
       "    <tr>\n",
       "      <th>22475</th>\n",
       "      <td>2019-06-06</td>\n",
       "      <td>13913364.96</td>\n",
       "      <td>129.0</td>\n",
       "      <td>1713941.0</td>\n",
       "      <td>44</td>\n",
       "      <td>5479</td>\n",
       "      <td>1.0</td>\n",
       "      <td>0.0</td>\n",
       "      <td>0.0</td>\n",
       "      <td>0.0</td>\n",
       "      <td>1.0</td>\n",
       "      <td>0.0</td>\n",
       "      <td>0.0</td>\n",
       "      <td>0.0</td>\n",
       "    </tr>\n",
       "    <tr>\n",
       "      <th>22521</th>\n",
       "      <td>2019-06-07</td>\n",
       "      <td>10221.79</td>\n",
       "      <td>129.0</td>\n",
       "      <td>464864.0</td>\n",
       "      <td>44</td>\n",
       "      <td>5479</td>\n",
       "      <td>1.0</td>\n",
       "      <td>0.0</td>\n",
       "      <td>0.0</td>\n",
       "      <td>0.0</td>\n",
       "      <td>1.0</td>\n",
       "      <td>0.0</td>\n",
       "      <td>0.0</td>\n",
       "      <td>0.0</td>\n",
       "    </tr>\n",
       "    <tr>\n",
       "      <th>22573</th>\n",
       "      <td>2019-06-07</td>\n",
       "      <td>6844.30</td>\n",
       "      <td>129.0</td>\n",
       "      <td>464864.0</td>\n",
       "      <td>44</td>\n",
       "      <td>5479</td>\n",
       "      <td>1.0</td>\n",
       "      <td>0.0</td>\n",
       "      <td>0.0</td>\n",
       "      <td>0.0</td>\n",
       "      <td>1.0</td>\n",
       "      <td>0.0</td>\n",
       "      <td>0.0</td>\n",
       "      <td>0.0</td>\n",
       "    </tr>\n",
       "  </tbody>\n",
       "</table>\n",
       "</div>"
      ],
      "text/plain": [
       "         date_key       amount  client_inn  partner_inn years  \\\n",
       "22374  2019-06-03     90000.00       129.0     298988.0    44   \n",
       "22413  2019-06-04       750.00       129.0     802616.0    44   \n",
       "22475  2019-06-06  13913364.96       129.0    1713941.0    44   \n",
       "22521  2019-06-07     10221.79       129.0     464864.0    44   \n",
       "22573  2019-06-07      6844.30       129.0     464864.0    44   \n",
       "\n",
       "      Длина_Отн_в_днях  Клиент_Сегмент_КБ  Клиент_Сегмент_МБ  \\\n",
       "22374             5479                1.0                0.0   \n",
       "22413             5479                1.0                0.0   \n",
       "22475             5479                1.0                0.0   \n",
       "22521             5479                1.0                0.0   \n",
       "22573             5479                1.0                0.0   \n",
       "\n",
       "       Клиент_Сегмент_МКП  Клиент_Сегмент_СБ  Клиент_НаличиеЗПпроекта_Д  \\\n",
       "22374                 0.0                0.0                        1.0   \n",
       "22413                 0.0                0.0                        1.0   \n",
       "22475                 0.0                0.0                        1.0   \n",
       "22521                 0.0                0.0                        1.0   \n",
       "22573                 0.0                0.0                        1.0   \n",
       "\n",
       "       Клиент_НаличиеЗПпроекта_Н  Fraud_presence  Reject_presence  \n",
       "22374                        0.0             0.0              0.0  \n",
       "22413                        0.0             0.0              0.0  \n",
       "22475                        0.0             0.0              0.0  \n",
       "22521                        0.0             0.0              0.0  \n",
       "22573                        0.0             0.0              0.0  "
      ]
     },
     "execution_count": 164,
     "metadata": {},
     "output_type": "execute_result"
    }
   ],
   "source": [
    "Year_2019_P2 = Year_2019_P2.drop(Year_2019_P2.query('Fraud_presence == 0').sample(n = 13271668).index)\n",
    "Year_2019_P2.head()"
   ]
  },
  {
   "cell_type": "code",
   "execution_count": 165,
   "id": "41574a69-8c1e-4ae3-95c0-53e5aabb4383",
   "metadata": {},
   "outputs": [
    {
     "data": {
      "text/plain": [
       "360053"
      ]
     },
     "execution_count": 165,
     "metadata": {},
     "output_type": "execute_result"
    }
   ],
   "source": [
    "Year_2019_P2.shape[0]"
   ]
  },
  {
   "cell_type": "code",
   "execution_count": 166,
   "id": "9ea58f82-f757-474d-9f10-5215632ca3e3",
   "metadata": {},
   "outputs": [
    {
     "data": {
      "text/html": [
       "<div>\n",
       "<style scoped>\n",
       "    .dataframe tbody tr th:only-of-type {\n",
       "        vertical-align: middle;\n",
       "    }\n",
       "\n",
       "    .dataframe tbody tr th {\n",
       "        vertical-align: top;\n",
       "    }\n",
       "\n",
       "    .dataframe thead th {\n",
       "        text-align: right;\n",
       "    }\n",
       "</style>\n",
       "<table border=\"1\" class=\"dataframe\">\n",
       "  <thead>\n",
       "    <tr style=\"text-align: right;\">\n",
       "      <th></th>\n",
       "      <th>Fraud_presence</th>\n",
       "      <th>count</th>\n",
       "    </tr>\n",
       "  </thead>\n",
       "  <tbody>\n",
       "    <tr>\n",
       "      <th>0</th>\n",
       "      <td>0.0</td>\n",
       "      <td>182568</td>\n",
       "    </tr>\n",
       "    <tr>\n",
       "      <th>1</th>\n",
       "      <td>1.0</td>\n",
       "      <td>177485</td>\n",
       "    </tr>\n",
       "  </tbody>\n",
       "</table>\n",
       "</div>"
      ],
      "text/plain": [
       "   Fraud_presence   count\n",
       "0             0.0  182568\n",
       "1             1.0  177485"
      ]
     },
     "execution_count": 166,
     "metadata": {},
     "output_type": "execute_result"
    }
   ],
   "source": [
    "Year_2019_P2_count = Year_2019_P2.groupby(['Fraud_presence'])['Fraud_presence'].count().reset_index(name='count')\n",
    "Year_2019_P2_count"
   ]
  },
  {
   "cell_type": "markdown",
   "id": "3b9bcf47-bfbf-46dc-bb31-2fdc8b62b192",
   "metadata": {},
   "source": [
    "---\n",
    "---"
   ]
  },
  {
   "cell_type": "markdown",
   "id": "6cfa83b4-4d94-4d93-9c85-d4cae54c61e1",
   "metadata": {},
   "source": [
    "Year 2020"
   ]
  },
  {
   "cell_type": "code",
   "execution_count": 167,
   "id": "e9546464-eef5-44f1-9a31-49ce261c9e1e",
   "metadata": {},
   "outputs": [
    {
     "data": {
      "text/html": [
       "<div>\n",
       "<style scoped>\n",
       "    .dataframe tbody tr th:only-of-type {\n",
       "        vertical-align: middle;\n",
       "    }\n",
       "\n",
       "    .dataframe tbody tr th {\n",
       "        vertical-align: top;\n",
       "    }\n",
       "\n",
       "    .dataframe thead th {\n",
       "        text-align: right;\n",
       "    }\n",
       "</style>\n",
       "<table border=\"1\" class=\"dataframe\">\n",
       "  <thead>\n",
       "    <tr style=\"text-align: right;\">\n",
       "      <th></th>\n",
       "      <th>date_key</th>\n",
       "      <th>amount</th>\n",
       "      <th>client_inn</th>\n",
       "      <th>partner_inn</th>\n",
       "      <th>years</th>\n",
       "      <th>Длина_Отн_в_днях</th>\n",
       "      <th>Клиент_Сегмент_КБ</th>\n",
       "      <th>Клиент_Сегмент_МБ</th>\n",
       "      <th>Клиент_Сегмент_МКП</th>\n",
       "      <th>Клиент_Сегмент_СБ</th>\n",
       "      <th>Клиент_НаличиеЗПпроекта_Д</th>\n",
       "      <th>Клиент_НаличиеЗПпроекта_Н</th>\n",
       "      <th>Fraud_presence</th>\n",
       "      <th>Reject_presence</th>\n",
       "    </tr>\n",
       "  </thead>\n",
       "  <tbody>\n",
       "    <tr>\n",
       "      <th>28947</th>\n",
       "      <td>2020-01-09</td>\n",
       "      <td>56000.00</td>\n",
       "      <td>129.0</td>\n",
       "      <td>1361832.0</td>\n",
       "      <td>44</td>\n",
       "      <td>5479</td>\n",
       "      <td>1.0</td>\n",
       "      <td>0.0</td>\n",
       "      <td>0.0</td>\n",
       "      <td>0.0</td>\n",
       "      <td>1.0</td>\n",
       "      <td>0.0</td>\n",
       "      <td>0.0</td>\n",
       "      <td>0.0</td>\n",
       "    </tr>\n",
       "    <tr>\n",
       "      <th>28948</th>\n",
       "      <td>2020-01-09</td>\n",
       "      <td>343264.66</td>\n",
       "      <td>129.0</td>\n",
       "      <td>302746.0</td>\n",
       "      <td>44</td>\n",
       "      <td>5479</td>\n",
       "      <td>1.0</td>\n",
       "      <td>0.0</td>\n",
       "      <td>0.0</td>\n",
       "      <td>0.0</td>\n",
       "      <td>1.0</td>\n",
       "      <td>0.0</td>\n",
       "      <td>0.0</td>\n",
       "      <td>0.0</td>\n",
       "    </tr>\n",
       "    <tr>\n",
       "      <th>28949</th>\n",
       "      <td>2020-01-09</td>\n",
       "      <td>2483.20</td>\n",
       "      <td>129.0</td>\n",
       "      <td>496375.0</td>\n",
       "      <td>44</td>\n",
       "      <td>5479</td>\n",
       "      <td>1.0</td>\n",
       "      <td>0.0</td>\n",
       "      <td>0.0</td>\n",
       "      <td>0.0</td>\n",
       "      <td>1.0</td>\n",
       "      <td>0.0</td>\n",
       "      <td>0.0</td>\n",
       "      <td>0.0</td>\n",
       "    </tr>\n",
       "    <tr>\n",
       "      <th>28950</th>\n",
       "      <td>2020-01-09</td>\n",
       "      <td>67643.26</td>\n",
       "      <td>129.0</td>\n",
       "      <td>526597.0</td>\n",
       "      <td>44</td>\n",
       "      <td>5479</td>\n",
       "      <td>1.0</td>\n",
       "      <td>0.0</td>\n",
       "      <td>0.0</td>\n",
       "      <td>0.0</td>\n",
       "      <td>1.0</td>\n",
       "      <td>0.0</td>\n",
       "      <td>0.0</td>\n",
       "      <td>0.0</td>\n",
       "    </tr>\n",
       "    <tr>\n",
       "      <th>28951</th>\n",
       "      <td>2020-01-09</td>\n",
       "      <td>23120.00</td>\n",
       "      <td>129.0</td>\n",
       "      <td>495913.0</td>\n",
       "      <td>44</td>\n",
       "      <td>5479</td>\n",
       "      <td>1.0</td>\n",
       "      <td>0.0</td>\n",
       "      <td>0.0</td>\n",
       "      <td>0.0</td>\n",
       "      <td>1.0</td>\n",
       "      <td>0.0</td>\n",
       "      <td>0.0</td>\n",
       "      <td>0.0</td>\n",
       "    </tr>\n",
       "  </tbody>\n",
       "</table>\n",
       "</div>"
      ],
      "text/plain": [
       "         date_key     amount  client_inn  partner_inn years Длина_Отн_в_днях  \\\n",
       "28947  2020-01-09   56000.00       129.0    1361832.0    44             5479   \n",
       "28948  2020-01-09  343264.66       129.0     302746.0    44             5479   \n",
       "28949  2020-01-09    2483.20       129.0     496375.0    44             5479   \n",
       "28950  2020-01-09   67643.26       129.0     526597.0    44             5479   \n",
       "28951  2020-01-09   23120.00       129.0     495913.0    44             5479   \n",
       "\n",
       "       Клиент_Сегмент_КБ  Клиент_Сегмент_МБ  Клиент_Сегмент_МКП  \\\n",
       "28947                1.0                0.0                 0.0   \n",
       "28948                1.0                0.0                 0.0   \n",
       "28949                1.0                0.0                 0.0   \n",
       "28950                1.0                0.0                 0.0   \n",
       "28951                1.0                0.0                 0.0   \n",
       "\n",
       "       Клиент_Сегмент_СБ  Клиент_НаличиеЗПпроекта_Д  \\\n",
       "28947                0.0                        1.0   \n",
       "28948                0.0                        1.0   \n",
       "28949                0.0                        1.0   \n",
       "28950                0.0                        1.0   \n",
       "28951                0.0                        1.0   \n",
       "\n",
       "       Клиент_НаличиеЗПпроекта_Н  Fraud_presence  Reject_presence  \n",
       "28947                        0.0             0.0              0.0  \n",
       "28948                        0.0             0.0              0.0  \n",
       "28949                        0.0             0.0              0.0  \n",
       "28950                        0.0             0.0              0.0  \n",
       "28951                        0.0             0.0              0.0  "
      ]
     },
     "execution_count": 167,
     "metadata": {},
     "output_type": "execute_result"
    }
   ],
   "source": [
    "Year_2020_P1 = Year_2020[Year_2020.date_key < '2020-06-01']\n",
    "Year_2020_P1.head()"
   ]
  },
  {
   "cell_type": "code",
   "execution_count": 168,
   "id": "475d0f53-df10-4d4e-92fd-d53169edb93e",
   "metadata": {},
   "outputs": [
    {
     "data": {
      "text/plain": [
       "7895128"
      ]
     },
     "execution_count": 168,
     "metadata": {},
     "output_type": "execute_result"
    }
   ],
   "source": [
    "Year_2020_P1.shape[0]"
   ]
  },
  {
   "cell_type": "code",
   "execution_count": 169,
   "id": "f5cfa333-81fa-4577-ad2a-9013f5639e84",
   "metadata": {},
   "outputs": [
    {
     "data": {
      "text/html": [
       "<div>\n",
       "<style scoped>\n",
       "    .dataframe tbody tr th:only-of-type {\n",
       "        vertical-align: middle;\n",
       "    }\n",
       "\n",
       "    .dataframe tbody tr th {\n",
       "        vertical-align: top;\n",
       "    }\n",
       "\n",
       "    .dataframe thead th {\n",
       "        text-align: right;\n",
       "    }\n",
       "</style>\n",
       "<table border=\"1\" class=\"dataframe\">\n",
       "  <thead>\n",
       "    <tr style=\"text-align: right;\">\n",
       "      <th></th>\n",
       "      <th>Fraud_presence</th>\n",
       "      <th>count</th>\n",
       "    </tr>\n",
       "  </thead>\n",
       "  <tbody>\n",
       "    <tr>\n",
       "      <th>0</th>\n",
       "      <td>0.0</td>\n",
       "      <td>7807731</td>\n",
       "    </tr>\n",
       "    <tr>\n",
       "      <th>1</th>\n",
       "      <td>1.0</td>\n",
       "      <td>87397</td>\n",
       "    </tr>\n",
       "  </tbody>\n",
       "</table>\n",
       "</div>"
      ],
      "text/plain": [
       "   Fraud_presence    count\n",
       "0             0.0  7807731\n",
       "1             1.0    87397"
      ]
     },
     "execution_count": 169,
     "metadata": {},
     "output_type": "execute_result"
    }
   ],
   "source": [
    "Year_2020_P1_count = Year_2020_P1.groupby(['Fraud_presence'])['Fraud_presence'].count().reset_index(name='count')\n",
    "Year_2020_P1_count"
   ]
  },
  {
   "cell_type": "code",
   "execution_count": 170,
   "id": "eb353025-8cde-4749-9748-a858e4c5395b",
   "metadata": {},
   "outputs": [
    {
     "data": {
      "text/html": [
       "<div>\n",
       "<style scoped>\n",
       "    .dataframe tbody tr th:only-of-type {\n",
       "        vertical-align: middle;\n",
       "    }\n",
       "\n",
       "    .dataframe tbody tr th {\n",
       "        vertical-align: top;\n",
       "    }\n",
       "\n",
       "    .dataframe thead th {\n",
       "        text-align: right;\n",
       "    }\n",
       "</style>\n",
       "<table border=\"1\" class=\"dataframe\">\n",
       "  <thead>\n",
       "    <tr style=\"text-align: right;\">\n",
       "      <th></th>\n",
       "      <th>date_key</th>\n",
       "      <th>amount</th>\n",
       "      <th>client_inn</th>\n",
       "      <th>partner_inn</th>\n",
       "      <th>years</th>\n",
       "      <th>Длина_Отн_в_днях</th>\n",
       "      <th>Клиент_Сегмент_КБ</th>\n",
       "      <th>Клиент_Сегмент_МБ</th>\n",
       "      <th>Клиент_Сегмент_МКП</th>\n",
       "      <th>Клиент_Сегмент_СБ</th>\n",
       "      <th>Клиент_НаличиеЗПпроекта_Д</th>\n",
       "      <th>Клиент_НаличиеЗПпроекта_Н</th>\n",
       "      <th>Fraud_presence</th>\n",
       "      <th>Reject_presence</th>\n",
       "    </tr>\n",
       "  </thead>\n",
       "  <tbody>\n",
       "    <tr>\n",
       "      <th>29055</th>\n",
       "      <td>2020-01-13</td>\n",
       "      <td>92439.00</td>\n",
       "      <td>129.0</td>\n",
       "      <td>666239.0</td>\n",
       "      <td>44</td>\n",
       "      <td>5479</td>\n",
       "      <td>1.0</td>\n",
       "      <td>0.0</td>\n",
       "      <td>0.0</td>\n",
       "      <td>0.0</td>\n",
       "      <td>1.0</td>\n",
       "      <td>0.0</td>\n",
       "      <td>0.0</td>\n",
       "      <td>0.0</td>\n",
       "    </tr>\n",
       "    <tr>\n",
       "      <th>29060</th>\n",
       "      <td>2020-01-13</td>\n",
       "      <td>3500.00</td>\n",
       "      <td>129.0</td>\n",
       "      <td>647677.0</td>\n",
       "      <td>44</td>\n",
       "      <td>5479</td>\n",
       "      <td>1.0</td>\n",
       "      <td>0.0</td>\n",
       "      <td>0.0</td>\n",
       "      <td>0.0</td>\n",
       "      <td>1.0</td>\n",
       "      <td>0.0</td>\n",
       "      <td>0.0</td>\n",
       "      <td>0.0</td>\n",
       "    </tr>\n",
       "    <tr>\n",
       "      <th>29132</th>\n",
       "      <td>2020-01-16</td>\n",
       "      <td>1809.12</td>\n",
       "      <td>129.0</td>\n",
       "      <td>1423769.0</td>\n",
       "      <td>44</td>\n",
       "      <td>5479</td>\n",
       "      <td>1.0</td>\n",
       "      <td>0.0</td>\n",
       "      <td>0.0</td>\n",
       "      <td>0.0</td>\n",
       "      <td>1.0</td>\n",
       "      <td>0.0</td>\n",
       "      <td>0.0</td>\n",
       "      <td>0.0</td>\n",
       "    </tr>\n",
       "    <tr>\n",
       "      <th>29193</th>\n",
       "      <td>2020-01-17</td>\n",
       "      <td>21410.14</td>\n",
       "      <td>129.0</td>\n",
       "      <td>119556.0</td>\n",
       "      <td>44</td>\n",
       "      <td>5479</td>\n",
       "      <td>1.0</td>\n",
       "      <td>0.0</td>\n",
       "      <td>0.0</td>\n",
       "      <td>0.0</td>\n",
       "      <td>1.0</td>\n",
       "      <td>0.0</td>\n",
       "      <td>0.0</td>\n",
       "      <td>0.0</td>\n",
       "    </tr>\n",
       "    <tr>\n",
       "      <th>29220</th>\n",
       "      <td>2020-01-20</td>\n",
       "      <td>21675.00</td>\n",
       "      <td>129.0</td>\n",
       "      <td>573585.0</td>\n",
       "      <td>44</td>\n",
       "      <td>5479</td>\n",
       "      <td>1.0</td>\n",
       "      <td>0.0</td>\n",
       "      <td>0.0</td>\n",
       "      <td>0.0</td>\n",
       "      <td>1.0</td>\n",
       "      <td>0.0</td>\n",
       "      <td>0.0</td>\n",
       "      <td>0.0</td>\n",
       "    </tr>\n",
       "  </tbody>\n",
       "</table>\n",
       "</div>"
      ],
      "text/plain": [
       "         date_key    amount  client_inn  partner_inn years Длина_Отн_в_днях  \\\n",
       "29055  2020-01-13  92439.00       129.0     666239.0    44             5479   \n",
       "29060  2020-01-13   3500.00       129.0     647677.0    44             5479   \n",
       "29132  2020-01-16   1809.12       129.0    1423769.0    44             5479   \n",
       "29193  2020-01-17  21410.14       129.0     119556.0    44             5479   \n",
       "29220  2020-01-20  21675.00       129.0     573585.0    44             5479   \n",
       "\n",
       "       Клиент_Сегмент_КБ  Клиент_Сегмент_МБ  Клиент_Сегмент_МКП  \\\n",
       "29055                1.0                0.0                 0.0   \n",
       "29060                1.0                0.0                 0.0   \n",
       "29132                1.0                0.0                 0.0   \n",
       "29193                1.0                0.0                 0.0   \n",
       "29220                1.0                0.0                 0.0   \n",
       "\n",
       "       Клиент_Сегмент_СБ  Клиент_НаличиеЗПпроекта_Д  \\\n",
       "29055                0.0                        1.0   \n",
       "29060                0.0                        1.0   \n",
       "29132                0.0                        1.0   \n",
       "29193                0.0                        1.0   \n",
       "29220                0.0                        1.0   \n",
       "\n",
       "       Клиент_НаличиеЗПпроекта_Н  Fraud_presence  Reject_presence  \n",
       "29055                        0.0             0.0              0.0  \n",
       "29060                        0.0             0.0              0.0  \n",
       "29132                        0.0             0.0              0.0  \n",
       "29193                        0.0             0.0              0.0  \n",
       "29220                        0.0             0.0              0.0  "
      ]
     },
     "execution_count": 170,
     "metadata": {},
     "output_type": "execute_result"
    }
   ],
   "source": [
    "Year_2020_P1 = Year_2020_P1.drop(Year_2020_P1.query('Fraud_presence == 0').sample(n = 7717665).index)\n",
    "Year_2020_P1.head()"
   ]
  },
  {
   "cell_type": "code",
   "execution_count": 171,
   "id": "7cc404f0-1382-4719-a394-cd33f3831ae8",
   "metadata": {},
   "outputs": [
    {
     "data": {
      "text/plain": [
       "177463"
      ]
     },
     "execution_count": 171,
     "metadata": {},
     "output_type": "execute_result"
    }
   ],
   "source": [
    "Year_2020_P1.shape[0]"
   ]
  },
  {
   "cell_type": "code",
   "execution_count": 172,
   "id": "435f971d-60f9-41d0-ac07-3a027d19eb0c",
   "metadata": {},
   "outputs": [
    {
     "data": {
      "text/html": [
       "<div>\n",
       "<style scoped>\n",
       "    .dataframe tbody tr th:only-of-type {\n",
       "        vertical-align: middle;\n",
       "    }\n",
       "\n",
       "    .dataframe tbody tr th {\n",
       "        vertical-align: top;\n",
       "    }\n",
       "\n",
       "    .dataframe thead th {\n",
       "        text-align: right;\n",
       "    }\n",
       "</style>\n",
       "<table border=\"1\" class=\"dataframe\">\n",
       "  <thead>\n",
       "    <tr style=\"text-align: right;\">\n",
       "      <th></th>\n",
       "      <th>Fraud_presence</th>\n",
       "      <th>count</th>\n",
       "    </tr>\n",
       "  </thead>\n",
       "  <tbody>\n",
       "    <tr>\n",
       "      <th>0</th>\n",
       "      <td>0.0</td>\n",
       "      <td>90066</td>\n",
       "    </tr>\n",
       "    <tr>\n",
       "      <th>1</th>\n",
       "      <td>1.0</td>\n",
       "      <td>87397</td>\n",
       "    </tr>\n",
       "  </tbody>\n",
       "</table>\n",
       "</div>"
      ],
      "text/plain": [
       "   Fraud_presence  count\n",
       "0             0.0  90066\n",
       "1             1.0  87397"
      ]
     },
     "execution_count": 172,
     "metadata": {},
     "output_type": "execute_result"
    }
   ],
   "source": [
    "Year_2020_P1_count = Year_2020_P1.groupby(['Fraud_presence'])['Fraud_presence'].count().reset_index(name='count')\n",
    "Year_2020_P1_count"
   ]
  },
  {
   "cell_type": "markdown",
   "id": "39ca334c-1a7a-4c51-89a2-439c42e28409",
   "metadata": {},
   "source": [
    "---"
   ]
  },
  {
   "cell_type": "code",
   "execution_count": 173,
   "id": "b54c7853-3958-4052-9225-f7ea0a9b567d",
   "metadata": {},
   "outputs": [
    {
     "data": {
      "text/html": [
       "<div>\n",
       "<style scoped>\n",
       "    .dataframe tbody tr th:only-of-type {\n",
       "        vertical-align: middle;\n",
       "    }\n",
       "\n",
       "    .dataframe tbody tr th {\n",
       "        vertical-align: top;\n",
       "    }\n",
       "\n",
       "    .dataframe thead th {\n",
       "        text-align: right;\n",
       "    }\n",
       "</style>\n",
       "<table border=\"1\" class=\"dataframe\">\n",
       "  <thead>\n",
       "    <tr style=\"text-align: right;\">\n",
       "      <th></th>\n",
       "      <th>date_key</th>\n",
       "      <th>amount</th>\n",
       "      <th>client_inn</th>\n",
       "      <th>partner_inn</th>\n",
       "      <th>years</th>\n",
       "      <th>Длина_Отн_в_днях</th>\n",
       "      <th>Клиент_Сегмент_КБ</th>\n",
       "      <th>Клиент_Сегмент_МБ</th>\n",
       "      <th>Клиент_Сегмент_МКП</th>\n",
       "      <th>Клиент_Сегмент_СБ</th>\n",
       "      <th>Клиент_НаличиеЗПпроекта_Д</th>\n",
       "      <th>Клиент_НаличиеЗПпроекта_Н</th>\n",
       "      <th>Fraud_presence</th>\n",
       "      <th>Reject_presence</th>\n",
       "    </tr>\n",
       "  </thead>\n",
       "  <tbody>\n",
       "    <tr>\n",
       "      <th>33279</th>\n",
       "      <td>2020-06-01</td>\n",
       "      <td>45740.00</td>\n",
       "      <td>129.0</td>\n",
       "      <td>526597.0</td>\n",
       "      <td>44</td>\n",
       "      <td>5479</td>\n",
       "      <td>1.0</td>\n",
       "      <td>0.0</td>\n",
       "      <td>0.0</td>\n",
       "      <td>0.0</td>\n",
       "      <td>1.0</td>\n",
       "      <td>0.0</td>\n",
       "      <td>0.0</td>\n",
       "      <td>0.0</td>\n",
       "    </tr>\n",
       "    <tr>\n",
       "      <th>33280</th>\n",
       "      <td>2020-06-01</td>\n",
       "      <td>13230.00</td>\n",
       "      <td>129.0</td>\n",
       "      <td>464864.0</td>\n",
       "      <td>44</td>\n",
       "      <td>5479</td>\n",
       "      <td>1.0</td>\n",
       "      <td>0.0</td>\n",
       "      <td>0.0</td>\n",
       "      <td>0.0</td>\n",
       "      <td>1.0</td>\n",
       "      <td>0.0</td>\n",
       "      <td>0.0</td>\n",
       "      <td>0.0</td>\n",
       "    </tr>\n",
       "    <tr>\n",
       "      <th>33281</th>\n",
       "      <td>2020-06-01</td>\n",
       "      <td>14800.44</td>\n",
       "      <td>129.0</td>\n",
       "      <td>129.0</td>\n",
       "      <td>44</td>\n",
       "      <td>5479</td>\n",
       "      <td>1.0</td>\n",
       "      <td>0.0</td>\n",
       "      <td>0.0</td>\n",
       "      <td>0.0</td>\n",
       "      <td>1.0</td>\n",
       "      <td>0.0</td>\n",
       "      <td>0.0</td>\n",
       "      <td>0.0</td>\n",
       "    </tr>\n",
       "    <tr>\n",
       "      <th>33282</th>\n",
       "      <td>2020-06-01</td>\n",
       "      <td>353242.00</td>\n",
       "      <td>129.0</td>\n",
       "      <td>587927.0</td>\n",
       "      <td>44</td>\n",
       "      <td>5479</td>\n",
       "      <td>1.0</td>\n",
       "      <td>0.0</td>\n",
       "      <td>0.0</td>\n",
       "      <td>0.0</td>\n",
       "      <td>1.0</td>\n",
       "      <td>0.0</td>\n",
       "      <td>0.0</td>\n",
       "      <td>0.0</td>\n",
       "    </tr>\n",
       "    <tr>\n",
       "      <th>33283</th>\n",
       "      <td>2020-06-01</td>\n",
       "      <td>1282002.87</td>\n",
       "      <td>129.0</td>\n",
       "      <td>1365526.0</td>\n",
       "      <td>44</td>\n",
       "      <td>5479</td>\n",
       "      <td>1.0</td>\n",
       "      <td>0.0</td>\n",
       "      <td>0.0</td>\n",
       "      <td>0.0</td>\n",
       "      <td>1.0</td>\n",
       "      <td>0.0</td>\n",
       "      <td>0.0</td>\n",
       "      <td>0.0</td>\n",
       "    </tr>\n",
       "  </tbody>\n",
       "</table>\n",
       "</div>"
      ],
      "text/plain": [
       "         date_key      amount  client_inn  partner_inn years Длина_Отн_в_днях  \\\n",
       "33279  2020-06-01    45740.00       129.0     526597.0    44             5479   \n",
       "33280  2020-06-01    13230.00       129.0     464864.0    44             5479   \n",
       "33281  2020-06-01    14800.44       129.0        129.0    44             5479   \n",
       "33282  2020-06-01   353242.00       129.0     587927.0    44             5479   \n",
       "33283  2020-06-01  1282002.87       129.0    1365526.0    44             5479   \n",
       "\n",
       "       Клиент_Сегмент_КБ  Клиент_Сегмент_МБ  Клиент_Сегмент_МКП  \\\n",
       "33279                1.0                0.0                 0.0   \n",
       "33280                1.0                0.0                 0.0   \n",
       "33281                1.0                0.0                 0.0   \n",
       "33282                1.0                0.0                 0.0   \n",
       "33283                1.0                0.0                 0.0   \n",
       "\n",
       "       Клиент_Сегмент_СБ  Клиент_НаличиеЗПпроекта_Д  \\\n",
       "33279                0.0                        1.0   \n",
       "33280                0.0                        1.0   \n",
       "33281                0.0                        1.0   \n",
       "33282                0.0                        1.0   \n",
       "33283                0.0                        1.0   \n",
       "\n",
       "       Клиент_НаличиеЗПпроекта_Н  Fraud_presence  Reject_presence  \n",
       "33279                        0.0             0.0              0.0  \n",
       "33280                        0.0             0.0              0.0  \n",
       "33281                        0.0             0.0              0.0  \n",
       "33282                        0.0             0.0              0.0  \n",
       "33283                        0.0             0.0              0.0  "
      ]
     },
     "execution_count": 173,
     "metadata": {},
     "output_type": "execute_result"
    }
   ],
   "source": [
    "Year_2020_P2 = Year_2020[Year_2020.date_key >= '2020-06-01']\n",
    "Year_2020_P2.head()"
   ]
  },
  {
   "cell_type": "code",
   "execution_count": 174,
   "id": "cf5eb1aa-99f5-4a60-830b-3d0560155917",
   "metadata": {},
   "outputs": [
    {
     "data": {
      "text/plain": [
       "13094783"
      ]
     },
     "execution_count": 174,
     "metadata": {},
     "output_type": "execute_result"
    }
   ],
   "source": [
    "Year_2020_P2.shape[0]"
   ]
  },
  {
   "cell_type": "code",
   "execution_count": 175,
   "id": "99484056-1eb7-4cda-b92d-b022525e59fa",
   "metadata": {},
   "outputs": [
    {
     "data": {
      "text/html": [
       "<div>\n",
       "<style scoped>\n",
       "    .dataframe tbody tr th:only-of-type {\n",
       "        vertical-align: middle;\n",
       "    }\n",
       "\n",
       "    .dataframe tbody tr th {\n",
       "        vertical-align: top;\n",
       "    }\n",
       "\n",
       "    .dataframe thead th {\n",
       "        text-align: right;\n",
       "    }\n",
       "</style>\n",
       "<table border=\"1\" class=\"dataframe\">\n",
       "  <thead>\n",
       "    <tr style=\"text-align: right;\">\n",
       "      <th></th>\n",
       "      <th>Fraud_presence</th>\n",
       "      <th>count</th>\n",
       "    </tr>\n",
       "  </thead>\n",
       "  <tbody>\n",
       "    <tr>\n",
       "      <th>0</th>\n",
       "      <td>0.0</td>\n",
       "      <td>12986729</td>\n",
       "    </tr>\n",
       "    <tr>\n",
       "      <th>1</th>\n",
       "      <td>1.0</td>\n",
       "      <td>108054</td>\n",
       "    </tr>\n",
       "  </tbody>\n",
       "</table>\n",
       "</div>"
      ],
      "text/plain": [
       "   Fraud_presence     count\n",
       "0             0.0  12986729\n",
       "1             1.0    108054"
      ]
     },
     "execution_count": 175,
     "metadata": {},
     "output_type": "execute_result"
    }
   ],
   "source": [
    "Year_2020_P2_count = Year_2020_P2.groupby(['Fraud_presence'])['Fraud_presence'].count().reset_index(name='count')\n",
    "Year_2020_P2_count"
   ]
  },
  {
   "cell_type": "code",
   "execution_count": 176,
   "id": "2ed6f45b-855f-484b-b5f8-d8881ea9a4ed",
   "metadata": {},
   "outputs": [
    {
     "data": {
      "text/html": [
       "<div>\n",
       "<style scoped>\n",
       "    .dataframe tbody tr th:only-of-type {\n",
       "        vertical-align: middle;\n",
       "    }\n",
       "\n",
       "    .dataframe tbody tr th {\n",
       "        vertical-align: top;\n",
       "    }\n",
       "\n",
       "    .dataframe thead th {\n",
       "        text-align: right;\n",
       "    }\n",
       "</style>\n",
       "<table border=\"1\" class=\"dataframe\">\n",
       "  <thead>\n",
       "    <tr style=\"text-align: right;\">\n",
       "      <th></th>\n",
       "      <th>date_key</th>\n",
       "      <th>amount</th>\n",
       "      <th>client_inn</th>\n",
       "      <th>partner_inn</th>\n",
       "      <th>years</th>\n",
       "      <th>Длина_Отн_в_днях</th>\n",
       "      <th>Клиент_Сегмент_КБ</th>\n",
       "      <th>Клиент_Сегмент_МБ</th>\n",
       "      <th>Клиент_Сегмент_МКП</th>\n",
       "      <th>Клиент_Сегмент_СБ</th>\n",
       "      <th>Клиент_НаличиеЗПпроекта_Д</th>\n",
       "      <th>Клиент_НаличиеЗПпроекта_Н</th>\n",
       "      <th>Fraud_presence</th>\n",
       "      <th>Reject_presence</th>\n",
       "    </tr>\n",
       "  </thead>\n",
       "  <tbody>\n",
       "    <tr>\n",
       "      <th>33341</th>\n",
       "      <td>2020-06-02</td>\n",
       "      <td>433825.0</td>\n",
       "      <td>129.0</td>\n",
       "      <td>230103.0</td>\n",
       "      <td>44</td>\n",
       "      <td>5479</td>\n",
       "      <td>1.0</td>\n",
       "      <td>0.0</td>\n",
       "      <td>0.0</td>\n",
       "      <td>0.0</td>\n",
       "      <td>1.0</td>\n",
       "      <td>0.0</td>\n",
       "      <td>0.0</td>\n",
       "      <td>0.0</td>\n",
       "    </tr>\n",
       "    <tr>\n",
       "      <th>33454</th>\n",
       "      <td>2020-06-04</td>\n",
       "      <td>4350.0</td>\n",
       "      <td>129.0</td>\n",
       "      <td>285123.0</td>\n",
       "      <td>44</td>\n",
       "      <td>5479</td>\n",
       "      <td>1.0</td>\n",
       "      <td>0.0</td>\n",
       "      <td>0.0</td>\n",
       "      <td>0.0</td>\n",
       "      <td>1.0</td>\n",
       "      <td>0.0</td>\n",
       "      <td>0.0</td>\n",
       "      <td>0.0</td>\n",
       "    </tr>\n",
       "    <tr>\n",
       "      <th>33537</th>\n",
       "      <td>2020-06-09</td>\n",
       "      <td>550545.0</td>\n",
       "      <td>129.0</td>\n",
       "      <td>1389940.0</td>\n",
       "      <td>44</td>\n",
       "      <td>5479</td>\n",
       "      <td>1.0</td>\n",
       "      <td>0.0</td>\n",
       "      <td>0.0</td>\n",
       "      <td>0.0</td>\n",
       "      <td>1.0</td>\n",
       "      <td>0.0</td>\n",
       "      <td>0.0</td>\n",
       "      <td>0.0</td>\n",
       "    </tr>\n",
       "    <tr>\n",
       "      <th>33630</th>\n",
       "      <td>2020-06-11</td>\n",
       "      <td>10957.0</td>\n",
       "      <td>129.0</td>\n",
       "      <td>464864.0</td>\n",
       "      <td>44</td>\n",
       "      <td>5479</td>\n",
       "      <td>1.0</td>\n",
       "      <td>0.0</td>\n",
       "      <td>0.0</td>\n",
       "      <td>0.0</td>\n",
       "      <td>1.0</td>\n",
       "      <td>0.0</td>\n",
       "      <td>0.0</td>\n",
       "      <td>0.0</td>\n",
       "    </tr>\n",
       "    <tr>\n",
       "      <th>33660</th>\n",
       "      <td>2020-06-11</td>\n",
       "      <td>112510.3</td>\n",
       "      <td>129.0</td>\n",
       "      <td>1454617.0</td>\n",
       "      <td>44</td>\n",
       "      <td>5479</td>\n",
       "      <td>1.0</td>\n",
       "      <td>0.0</td>\n",
       "      <td>0.0</td>\n",
       "      <td>0.0</td>\n",
       "      <td>1.0</td>\n",
       "      <td>0.0</td>\n",
       "      <td>0.0</td>\n",
       "      <td>0.0</td>\n",
       "    </tr>\n",
       "  </tbody>\n",
       "</table>\n",
       "</div>"
      ],
      "text/plain": [
       "         date_key    amount  client_inn  partner_inn years Длина_Отн_в_днях  \\\n",
       "33341  2020-06-02  433825.0       129.0     230103.0    44             5479   \n",
       "33454  2020-06-04    4350.0       129.0     285123.0    44             5479   \n",
       "33537  2020-06-09  550545.0       129.0    1389940.0    44             5479   \n",
       "33630  2020-06-11   10957.0       129.0     464864.0    44             5479   \n",
       "33660  2020-06-11  112510.3       129.0    1454617.0    44             5479   \n",
       "\n",
       "       Клиент_Сегмент_КБ  Клиент_Сегмент_МБ  Клиент_Сегмент_МКП  \\\n",
       "33341                1.0                0.0                 0.0   \n",
       "33454                1.0                0.0                 0.0   \n",
       "33537                1.0                0.0                 0.0   \n",
       "33630                1.0                0.0                 0.0   \n",
       "33660                1.0                0.0                 0.0   \n",
       "\n",
       "       Клиент_Сегмент_СБ  Клиент_НаличиеЗПпроекта_Д  \\\n",
       "33341                0.0                        1.0   \n",
       "33454                0.0                        1.0   \n",
       "33537                0.0                        1.0   \n",
       "33630                0.0                        1.0   \n",
       "33660                0.0                        1.0   \n",
       "\n",
       "       Клиент_НаличиеЗПпроекта_Н  Fraud_presence  Reject_presence  \n",
       "33341                        0.0             0.0              0.0  \n",
       "33454                        0.0             0.0              0.0  \n",
       "33537                        0.0             0.0              0.0  \n",
       "33630                        0.0             0.0              0.0  \n",
       "33660                        0.0             0.0              0.0  "
      ]
     },
     "execution_count": 176,
     "metadata": {},
     "output_type": "execute_result"
    }
   ],
   "source": [
    "Year_2020_P2 = Year_2020_P2.drop(Year_2020_P2.query('Fraud_presence == 0').sample(n = 12875534).index)\n",
    "Year_2020_P2.head()"
   ]
  },
  {
   "cell_type": "code",
   "execution_count": 177,
   "id": "f6a28aa2-cc15-4d95-a2d1-17c411e6ae1b",
   "metadata": {},
   "outputs": [
    {
     "data": {
      "text/plain": [
       "219249"
      ]
     },
     "execution_count": 177,
     "metadata": {},
     "output_type": "execute_result"
    }
   ],
   "source": [
    "Year_2020_P2.shape[0]"
   ]
  },
  {
   "cell_type": "code",
   "execution_count": 178,
   "id": "06ff041f-f1d4-4202-94d3-8b903e207791",
   "metadata": {},
   "outputs": [
    {
     "data": {
      "text/html": [
       "<div>\n",
       "<style scoped>\n",
       "    .dataframe tbody tr th:only-of-type {\n",
       "        vertical-align: middle;\n",
       "    }\n",
       "\n",
       "    .dataframe tbody tr th {\n",
       "        vertical-align: top;\n",
       "    }\n",
       "\n",
       "    .dataframe thead th {\n",
       "        text-align: right;\n",
       "    }\n",
       "</style>\n",
       "<table border=\"1\" class=\"dataframe\">\n",
       "  <thead>\n",
       "    <tr style=\"text-align: right;\">\n",
       "      <th></th>\n",
       "      <th>Fraud_presence</th>\n",
       "      <th>count</th>\n",
       "    </tr>\n",
       "  </thead>\n",
       "  <tbody>\n",
       "    <tr>\n",
       "      <th>0</th>\n",
       "      <td>0.0</td>\n",
       "      <td>111195</td>\n",
       "    </tr>\n",
       "    <tr>\n",
       "      <th>1</th>\n",
       "      <td>1.0</td>\n",
       "      <td>108054</td>\n",
       "    </tr>\n",
       "  </tbody>\n",
       "</table>\n",
       "</div>"
      ],
      "text/plain": [
       "   Fraud_presence   count\n",
       "0             0.0  111195\n",
       "1             1.0  108054"
      ]
     },
     "execution_count": 178,
     "metadata": {},
     "output_type": "execute_result"
    }
   ],
   "source": [
    "Year_2020_P2_count = Year_2020_P2.groupby(['Fraud_presence'])['Fraud_presence'].count().reset_index(name='count')\n",
    "Year_2020_P2_count"
   ]
  },
  {
   "cell_type": "markdown",
   "id": "10b8d80a-d522-4562-95b8-7ae7687d0230",
   "metadata": {},
   "source": [
    "---\n",
    "---"
   ]
  },
  {
   "cell_type": "markdown",
   "id": "9227beca-6616-4835-b804-8f7b25473359",
   "metadata": {},
   "source": [
    "Year 2021"
   ]
  },
  {
   "cell_type": "code",
   "execution_count": 179,
   "id": "ce38e423-0c18-47ef-930f-145d7098142e",
   "metadata": {},
   "outputs": [
    {
     "data": {
      "text/html": [
       "<div>\n",
       "<style scoped>\n",
       "    .dataframe tbody tr th:only-of-type {\n",
       "        vertical-align: middle;\n",
       "    }\n",
       "\n",
       "    .dataframe tbody tr th {\n",
       "        vertical-align: top;\n",
       "    }\n",
       "\n",
       "    .dataframe thead th {\n",
       "        text-align: right;\n",
       "    }\n",
       "</style>\n",
       "<table border=\"1\" class=\"dataframe\">\n",
       "  <thead>\n",
       "    <tr style=\"text-align: right;\">\n",
       "      <th></th>\n",
       "      <th>date_key</th>\n",
       "      <th>amount</th>\n",
       "      <th>client_inn</th>\n",
       "      <th>partner_inn</th>\n",
       "      <th>years</th>\n",
       "      <th>Длина_Отн_в_днях</th>\n",
       "      <th>Клиент_Сегмент_КБ</th>\n",
       "      <th>Клиент_Сегмент_МБ</th>\n",
       "      <th>Клиент_Сегмент_МКП</th>\n",
       "      <th>Клиент_Сегмент_СБ</th>\n",
       "      <th>Клиент_НаличиеЗПпроекта_Д</th>\n",
       "      <th>Клиент_НаличиеЗПпроекта_Н</th>\n",
       "      <th>Fraud_presence</th>\n",
       "      <th>Reject_presence</th>\n",
       "    </tr>\n",
       "  </thead>\n",
       "  <tbody>\n",
       "    <tr>\n",
       "      <th>41593</th>\n",
       "      <td>2021-01-01</td>\n",
       "      <td>59.00</td>\n",
       "      <td>129.0</td>\n",
       "      <td>119556.0</td>\n",
       "      <td>44</td>\n",
       "      <td>5479</td>\n",
       "      <td>1.0</td>\n",
       "      <td>0.0</td>\n",
       "      <td>0.0</td>\n",
       "      <td>0.0</td>\n",
       "      <td>1.0</td>\n",
       "      <td>0.0</td>\n",
       "      <td>0.0</td>\n",
       "      <td>0.0</td>\n",
       "    </tr>\n",
       "    <tr>\n",
       "      <th>41594</th>\n",
       "      <td>2021-01-11</td>\n",
       "      <td>93712.00</td>\n",
       "      <td>129.0</td>\n",
       "      <td>1322063.0</td>\n",
       "      <td>44</td>\n",
       "      <td>5479</td>\n",
       "      <td>1.0</td>\n",
       "      <td>0.0</td>\n",
       "      <td>0.0</td>\n",
       "      <td>0.0</td>\n",
       "      <td>1.0</td>\n",
       "      <td>0.0</td>\n",
       "      <td>0.0</td>\n",
       "      <td>0.0</td>\n",
       "    </tr>\n",
       "    <tr>\n",
       "      <th>41595</th>\n",
       "      <td>2021-01-11</td>\n",
       "      <td>11400.00</td>\n",
       "      <td>129.0</td>\n",
       "      <td>464864.0</td>\n",
       "      <td>44</td>\n",
       "      <td>5479</td>\n",
       "      <td>1.0</td>\n",
       "      <td>0.0</td>\n",
       "      <td>0.0</td>\n",
       "      <td>0.0</td>\n",
       "      <td>1.0</td>\n",
       "      <td>0.0</td>\n",
       "      <td>0.0</td>\n",
       "      <td>0.0</td>\n",
       "    </tr>\n",
       "    <tr>\n",
       "      <th>41596</th>\n",
       "      <td>2021-01-11</td>\n",
       "      <td>9163.52</td>\n",
       "      <td>129.0</td>\n",
       "      <td>464864.0</td>\n",
       "      <td>44</td>\n",
       "      <td>5479</td>\n",
       "      <td>1.0</td>\n",
       "      <td>0.0</td>\n",
       "      <td>0.0</td>\n",
       "      <td>0.0</td>\n",
       "      <td>1.0</td>\n",
       "      <td>0.0</td>\n",
       "      <td>0.0</td>\n",
       "      <td>0.0</td>\n",
       "    </tr>\n",
       "    <tr>\n",
       "      <th>41597</th>\n",
       "      <td>2021-01-11</td>\n",
       "      <td>10374.90</td>\n",
       "      <td>129.0</td>\n",
       "      <td>464864.0</td>\n",
       "      <td>44</td>\n",
       "      <td>5479</td>\n",
       "      <td>1.0</td>\n",
       "      <td>0.0</td>\n",
       "      <td>0.0</td>\n",
       "      <td>0.0</td>\n",
       "      <td>1.0</td>\n",
       "      <td>0.0</td>\n",
       "      <td>0.0</td>\n",
       "      <td>0.0</td>\n",
       "    </tr>\n",
       "  </tbody>\n",
       "</table>\n",
       "</div>"
      ],
      "text/plain": [
       "         date_key    amount  client_inn  partner_inn years Длина_Отн_в_днях  \\\n",
       "41593  2021-01-01     59.00       129.0     119556.0    44             5479   \n",
       "41594  2021-01-11  93712.00       129.0    1322063.0    44             5479   \n",
       "41595  2021-01-11  11400.00       129.0     464864.0    44             5479   \n",
       "41596  2021-01-11   9163.52       129.0     464864.0    44             5479   \n",
       "41597  2021-01-11  10374.90       129.0     464864.0    44             5479   \n",
       "\n",
       "       Клиент_Сегмент_КБ  Клиент_Сегмент_МБ  Клиент_Сегмент_МКП  \\\n",
       "41593                1.0                0.0                 0.0   \n",
       "41594                1.0                0.0                 0.0   \n",
       "41595                1.0                0.0                 0.0   \n",
       "41596                1.0                0.0                 0.0   \n",
       "41597                1.0                0.0                 0.0   \n",
       "\n",
       "       Клиент_Сегмент_СБ  Клиент_НаличиеЗПпроекта_Д  \\\n",
       "41593                0.0                        1.0   \n",
       "41594                0.0                        1.0   \n",
       "41595                0.0                        1.0   \n",
       "41596                0.0                        1.0   \n",
       "41597                0.0                        1.0   \n",
       "\n",
       "       Клиент_НаличиеЗПпроекта_Н  Fraud_presence  Reject_presence  \n",
       "41593                        0.0             0.0              0.0  \n",
       "41594                        0.0             0.0              0.0  \n",
       "41595                        0.0             0.0              0.0  \n",
       "41596                        0.0             0.0              0.0  \n",
       "41597                        0.0             0.0              0.0  "
      ]
     },
     "execution_count": 179,
     "metadata": {},
     "output_type": "execute_result"
    }
   ],
   "source": [
    "Year_2021.head()"
   ]
  },
  {
   "cell_type": "code",
   "execution_count": 180,
   "id": "2eb01186-95c9-48b9-8167-2006310099b0",
   "metadata": {},
   "outputs": [
    {
     "data": {
      "text/plain": [
       "2962694"
      ]
     },
     "execution_count": 180,
     "metadata": {},
     "output_type": "execute_result"
    }
   ],
   "source": [
    "Year_2021.shape[0]"
   ]
  },
  {
   "cell_type": "code",
   "execution_count": 181,
   "id": "ca9c24c4-8952-4546-a851-a51903a9b3ba",
   "metadata": {},
   "outputs": [
    {
     "data": {
      "text/html": [
       "<div>\n",
       "<style scoped>\n",
       "    .dataframe tbody tr th:only-of-type {\n",
       "        vertical-align: middle;\n",
       "    }\n",
       "\n",
       "    .dataframe tbody tr th {\n",
       "        vertical-align: top;\n",
       "    }\n",
       "\n",
       "    .dataframe thead th {\n",
       "        text-align: right;\n",
       "    }\n",
       "</style>\n",
       "<table border=\"1\" class=\"dataframe\">\n",
       "  <thead>\n",
       "    <tr style=\"text-align: right;\">\n",
       "      <th></th>\n",
       "      <th>Fraud_presence</th>\n",
       "      <th>count</th>\n",
       "    </tr>\n",
       "  </thead>\n",
       "  <tbody>\n",
       "    <tr>\n",
       "      <th>0</th>\n",
       "      <td>0.0</td>\n",
       "      <td>2948475</td>\n",
       "    </tr>\n",
       "    <tr>\n",
       "      <th>1</th>\n",
       "      <td>1.0</td>\n",
       "      <td>14219</td>\n",
       "    </tr>\n",
       "  </tbody>\n",
       "</table>\n",
       "</div>"
      ],
      "text/plain": [
       "   Fraud_presence    count\n",
       "0             0.0  2948475\n",
       "1             1.0    14219"
      ]
     },
     "execution_count": 181,
     "metadata": {},
     "output_type": "execute_result"
    }
   ],
   "source": [
    "Year_2021_count = Year_2021.groupby(['Fraud_presence'])['Fraud_presence'].count().reset_index(name='count')\n",
    "Year_2021_count"
   ]
  },
  {
   "cell_type": "code",
   "execution_count": 182,
   "id": "6f165119-009e-4b25-8983-dfa945a74515",
   "metadata": {},
   "outputs": [
    {
     "data": {
      "text/html": [
       "<div>\n",
       "<style scoped>\n",
       "    .dataframe tbody tr th:only-of-type {\n",
       "        vertical-align: middle;\n",
       "    }\n",
       "\n",
       "    .dataframe tbody tr th {\n",
       "        vertical-align: top;\n",
       "    }\n",
       "\n",
       "    .dataframe thead th {\n",
       "        text-align: right;\n",
       "    }\n",
       "</style>\n",
       "<table border=\"1\" class=\"dataframe\">\n",
       "  <thead>\n",
       "    <tr style=\"text-align: right;\">\n",
       "      <th></th>\n",
       "      <th>date_key</th>\n",
       "      <th>amount</th>\n",
       "      <th>client_inn</th>\n",
       "      <th>partner_inn</th>\n",
       "      <th>years</th>\n",
       "      <th>Длина_Отн_в_днях</th>\n",
       "      <th>Клиент_Сегмент_КБ</th>\n",
       "      <th>Клиент_Сегмент_МБ</th>\n",
       "      <th>Клиент_Сегмент_МКП</th>\n",
       "      <th>Клиент_Сегмент_СБ</th>\n",
       "      <th>Клиент_НаличиеЗПпроекта_Д</th>\n",
       "      <th>Клиент_НаличиеЗПпроекта_Н</th>\n",
       "      <th>Fraud_presence</th>\n",
       "      <th>Reject_presence</th>\n",
       "    </tr>\n",
       "  </thead>\n",
       "  <tbody>\n",
       "    <tr>\n",
       "      <th>41659</th>\n",
       "      <td>2021-01-12</td>\n",
       "      <td>20970.0</td>\n",
       "      <td>129.0</td>\n",
       "      <td>1036317.0</td>\n",
       "      <td>44</td>\n",
       "      <td>5479</td>\n",
       "      <td>1.0</td>\n",
       "      <td>0.0</td>\n",
       "      <td>0.0</td>\n",
       "      <td>0.0</td>\n",
       "      <td>1.0</td>\n",
       "      <td>0.0</td>\n",
       "      <td>0.0</td>\n",
       "      <td>0.0</td>\n",
       "    </tr>\n",
       "    <tr>\n",
       "      <th>41731</th>\n",
       "      <td>2021-01-13</td>\n",
       "      <td>12800.0</td>\n",
       "      <td>129.0</td>\n",
       "      <td>379614.0</td>\n",
       "      <td>44</td>\n",
       "      <td>5479</td>\n",
       "      <td>1.0</td>\n",
       "      <td>0.0</td>\n",
       "      <td>0.0</td>\n",
       "      <td>0.0</td>\n",
       "      <td>1.0</td>\n",
       "      <td>0.0</td>\n",
       "      <td>0.0</td>\n",
       "      <td>0.0</td>\n",
       "    </tr>\n",
       "    <tr>\n",
       "      <th>41993</th>\n",
       "      <td>2021-01-20</td>\n",
       "      <td>9000000.0</td>\n",
       "      <td>129.0</td>\n",
       "      <td>129.0</td>\n",
       "      <td>44</td>\n",
       "      <td>5479</td>\n",
       "      <td>1.0</td>\n",
       "      <td>0.0</td>\n",
       "      <td>0.0</td>\n",
       "      <td>0.0</td>\n",
       "      <td>1.0</td>\n",
       "      <td>0.0</td>\n",
       "      <td>0.0</td>\n",
       "      <td>0.0</td>\n",
       "    </tr>\n",
       "    <tr>\n",
       "      <th>42290</th>\n",
       "      <td>2021-01-28</td>\n",
       "      <td>15000.0</td>\n",
       "      <td>129.0</td>\n",
       "      <td>587548.0</td>\n",
       "      <td>44</td>\n",
       "      <td>5479</td>\n",
       "      <td>1.0</td>\n",
       "      <td>0.0</td>\n",
       "      <td>0.0</td>\n",
       "      <td>0.0</td>\n",
       "      <td>1.0</td>\n",
       "      <td>0.0</td>\n",
       "      <td>0.0</td>\n",
       "      <td>0.0</td>\n",
       "    </tr>\n",
       "    <tr>\n",
       "      <th>42562</th>\n",
       "      <td>2021-02-03</td>\n",
       "      <td>8827.1</td>\n",
       "      <td>129.0</td>\n",
       "      <td>3021.0</td>\n",
       "      <td>44</td>\n",
       "      <td>5479</td>\n",
       "      <td>1.0</td>\n",
       "      <td>0.0</td>\n",
       "      <td>0.0</td>\n",
       "      <td>0.0</td>\n",
       "      <td>1.0</td>\n",
       "      <td>0.0</td>\n",
       "      <td>0.0</td>\n",
       "      <td>0.0</td>\n",
       "    </tr>\n",
       "  </tbody>\n",
       "</table>\n",
       "</div>"
      ],
      "text/plain": [
       "         date_key     amount  client_inn  partner_inn years Длина_Отн_в_днях  \\\n",
       "41659  2021-01-12    20970.0       129.0    1036317.0    44             5479   \n",
       "41731  2021-01-13    12800.0       129.0     379614.0    44             5479   \n",
       "41993  2021-01-20  9000000.0       129.0        129.0    44             5479   \n",
       "42290  2021-01-28    15000.0       129.0     587548.0    44             5479   \n",
       "42562  2021-02-03     8827.1       129.0       3021.0    44             5479   \n",
       "\n",
       "       Клиент_Сегмент_КБ  Клиент_Сегмент_МБ  Клиент_Сегмент_МКП  \\\n",
       "41659                1.0                0.0                 0.0   \n",
       "41731                1.0                0.0                 0.0   \n",
       "41993                1.0                0.0                 0.0   \n",
       "42290                1.0                0.0                 0.0   \n",
       "42562                1.0                0.0                 0.0   \n",
       "\n",
       "       Клиент_Сегмент_СБ  Клиент_НаличиеЗПпроекта_Д  \\\n",
       "41659                0.0                        1.0   \n",
       "41731                0.0                        1.0   \n",
       "41993                0.0                        1.0   \n",
       "42290                0.0                        1.0   \n",
       "42562                0.0                        1.0   \n",
       "\n",
       "       Клиент_НаличиеЗПпроекта_Н  Fraud_presence  Reject_presence  \n",
       "41659                        0.0             0.0              0.0  \n",
       "41731                        0.0             0.0              0.0  \n",
       "41993                        0.0             0.0              0.0  \n",
       "42290                        0.0             0.0              0.0  \n",
       "42562                        0.0             0.0              0.0  "
      ]
     },
     "execution_count": 182,
     "metadata": {},
     "output_type": "execute_result"
    }
   ],
   "source": [
    "Year_2021 = Year_2021.drop(Year_2021.query('Fraud_presence == 0').sample(n = 2933531).index)\n",
    "Year_2021.head()"
   ]
  },
  {
   "cell_type": "code",
   "execution_count": 183,
   "id": "af4cb840-cb19-4496-adc3-f7bb3e1532d8",
   "metadata": {},
   "outputs": [
    {
     "data": {
      "text/plain": [
       "29163"
      ]
     },
     "execution_count": 183,
     "metadata": {},
     "output_type": "execute_result"
    }
   ],
   "source": [
    "Year_2021.shape[0]"
   ]
  },
  {
   "cell_type": "code",
   "execution_count": 184,
   "id": "41b9242c-e6c7-41c4-a471-4c0ae1b44e55",
   "metadata": {},
   "outputs": [
    {
     "data": {
      "text/html": [
       "<div>\n",
       "<style scoped>\n",
       "    .dataframe tbody tr th:only-of-type {\n",
       "        vertical-align: middle;\n",
       "    }\n",
       "\n",
       "    .dataframe tbody tr th {\n",
       "        vertical-align: top;\n",
       "    }\n",
       "\n",
       "    .dataframe thead th {\n",
       "        text-align: right;\n",
       "    }\n",
       "</style>\n",
       "<table border=\"1\" class=\"dataframe\">\n",
       "  <thead>\n",
       "    <tr style=\"text-align: right;\">\n",
       "      <th></th>\n",
       "      <th>Fraud_presence</th>\n",
       "      <th>count</th>\n",
       "    </tr>\n",
       "  </thead>\n",
       "  <tbody>\n",
       "    <tr>\n",
       "      <th>0</th>\n",
       "      <td>0.0</td>\n",
       "      <td>14944</td>\n",
       "    </tr>\n",
       "    <tr>\n",
       "      <th>1</th>\n",
       "      <td>1.0</td>\n",
       "      <td>14219</td>\n",
       "    </tr>\n",
       "  </tbody>\n",
       "</table>\n",
       "</div>"
      ],
      "text/plain": [
       "   Fraud_presence  count\n",
       "0             0.0  14944\n",
       "1             1.0  14219"
      ]
     },
     "execution_count": 184,
     "metadata": {},
     "output_type": "execute_result"
    }
   ],
   "source": [
    "Year_2021_count = Year_2021.groupby(['Fraud_presence'])['Fraud_presence'].count().reset_index(name='count')\n",
    "Year_2021_count"
   ]
  },
  {
   "cell_type": "markdown",
   "id": "35911400-698e-4ee5-943b-9c2df4b9fc59",
   "metadata": {},
   "source": [
    "---\n",
    "---"
   ]
  },
  {
   "cell_type": "markdown",
   "id": "60e5ad88-3f07-40cc-8304-72b42069993e",
   "metadata": {},
   "source": [
    "Random Forest"
   ]
  },
  {
   "cell_type": "code",
   "execution_count": 185,
   "id": "df9326d5-28cf-4697-81f9-afaee9309282",
   "metadata": {},
   "outputs": [],
   "source": [
    "from sklearn.model_selection import  learning_curve\n",
    "from sklearn.ensemble import RandomForestClassifier\n",
    "from sklearn import metrics\n",
    "from sklearn.model_selection import GridSearchCV"
   ]
  },
  {
   "cell_type": "code",
   "execution_count": 186,
   "id": "b6eea773-86e2-4908-9dd5-3a7346474574",
   "metadata": {},
   "outputs": [],
   "source": [
    "rf = RandomForestClassifier(random_state = 1, n_jobs=-1)"
   ]
  },
  {
   "cell_type": "code",
   "execution_count": 187,
   "id": "fcb7ef56-43ad-4a71-9b52-cebb41d1a873",
   "metadata": {},
   "outputs": [],
   "source": [
    "param_grid = {\n",
    "    'max_depth': [1,2,3,4,5,6,7,8,9,10],\n",
    "    'n_estimators': [10,20,30,40,50,60,70,80,90,100]\n",
    "}"
   ]
  },
  {
   "cell_type": "markdown",
   "id": "c4b6c12f-537c-491f-b8ac-5eea23ee99ff",
   "metadata": {},
   "source": [
    "Для 6/1"
   ]
  },
  {
   "cell_type": "code",
   "execution_count": 188,
   "id": "20a66d6e-0386-47b9-8181-3d168635f749",
   "metadata": {},
   "outputs": [],
   "source": [
    "train6 = pd.concat([Year_2018_P1, Year_2018_P2, Year_2019_P1, Year_2019_P2, Year_2020_P1, Year_2020_P2], ignore_index=True)\n",
    "train6 = train6.drop(['date_key'], axis=1)\n",
    "train_data6 = train6.drop(['Fraud_presence', 'Reject_presence'], axis=1)\n",
    "train_labels6 = train6['Fraud_presence']\n",
    "test_data6 = Year_2021.drop(['Fraud_presence', 'Reject_presence', 'date_key'], axis=1)\n",
    "test_labels6 = Year_2021['Fraud_presence']"
   ]
  },
  {
   "cell_type": "code",
   "execution_count": 189,
   "id": "da44bf71-269a-46f6-8bb7-99e06648afb7",
   "metadata": {},
   "outputs": [
    {
     "data": {
      "text/plain": [
       "GridSearchCV(cv=3, error_score='raise-deprecating',\n",
       "       estimator=RandomForestClassifier(bootstrap=True, class_weight=None, criterion='gini',\n",
       "            max_depth=None, max_features='auto', max_leaf_nodes=None,\n",
       "            min_impurity_decrease=0.0, min_impurity_split=None,\n",
       "            min_samples_leaf=1, min_samples_split=2,\n",
       "            min_weight_fraction_leaf=0.0, n_estimators='warn', n_jobs=-1,\n",
       "            oob_score=False, random_state=1, verbose=0, warm_start=False),\n",
       "       fit_params=None, iid='warn', n_jobs=-1,\n",
       "       param_grid={'max_depth': [1, 2, 3, 4, 5, 6, 7, 8, 9, 10], 'n_estimators': [10, 20, 30, 40, 50, 60, 70, 80, 90, 100]},\n",
       "       pre_dispatch='2*n_jobs', refit=True, return_train_score='warn',\n",
       "       scoring=None, verbose=0)"
      ]
     },
     "execution_count": 189,
     "metadata": {},
     "output_type": "execute_result"
    }
   ],
   "source": [
    "CV_rfc = GridSearchCV(estimator=rf, param_grid=param_grid, cv=3, n_jobs=-1)\n",
    "CV_rfc.fit(train_data6, train_labels6)"
   ]
  },
  {
   "cell_type": "code",
   "execution_count": 190,
   "id": "69732cc0-4d30-4e2d-9f53-185d61b9c3a4",
   "metadata": {},
   "outputs": [
    {
     "data": {
      "text/plain": [
       "{'max_depth': 10, 'n_estimators': 70}"
      ]
     },
     "execution_count": 190,
     "metadata": {},
     "output_type": "execute_result"
    }
   ],
   "source": [
    "CV_rfc.best_params_"
   ]
  },
  {
   "cell_type": "code",
   "execution_count": 191,
   "id": "c56fa889-ca76-4e64-bcfb-a450b1b4e672",
   "metadata": {},
   "outputs": [],
   "source": [
    "rf_best_param=RandomForestClassifier(random_state = 1, max_depth=10, n_estimators=60, n_jobs=-1)"
   ]
  },
  {
   "cell_type": "code",
   "execution_count": 192,
   "id": "7a1822dc-8889-43b6-a242-c34abbc2ec23",
   "metadata": {},
   "outputs": [
    {
     "data": {
      "text/plain": [
       "RandomForestClassifier(bootstrap=True, class_weight=None, criterion='gini',\n",
       "            max_depth=10, max_features='auto', max_leaf_nodes=None,\n",
       "            min_impurity_decrease=0.0, min_impurity_split=None,\n",
       "            min_samples_leaf=1, min_samples_split=2,\n",
       "            min_weight_fraction_leaf=0.0, n_estimators=60, n_jobs=-1,\n",
       "            oob_score=False, random_state=1, verbose=0, warm_start=False)"
      ]
     },
     "execution_count": 192,
     "metadata": {},
     "output_type": "execute_result"
    }
   ],
   "source": [
    "rf_best_param.fit(train_data6, train_labels6)"
   ]
  },
  {
   "cell_type": "code",
   "execution_count": 193,
   "id": "36619b98-fb3e-4d3a-9453-1cbaa7900686",
   "metadata": {},
   "outputs": [
    {
     "data": {
      "text/plain": [
       "array([0., 0., 0., ..., 0., 0., 0.])"
      ]
     },
     "execution_count": 193,
     "metadata": {},
     "output_type": "execute_result"
    }
   ],
   "source": [
    "predictions_rf6 = rf_best_param.predict(test_data6)\n",
    "predictions_rf6"
   ]
  },
  {
   "cell_type": "code",
   "execution_count": 194,
   "id": "d625d08f-e7ee-47ff-a9ef-e197d421e7cc",
   "metadata": {},
   "outputs": [
    {
     "name": "stdout",
     "output_type": "stream",
     "text": [
      "Precision: 0.8827586206896552\n",
      "Recall:  0.9902243477037767\n",
      "Accuracy:  0.931111339711278\n",
      "F1-score:  0.9334084656435413\n",
      "Log_loss:  2.37938130592086\n"
     ]
    }
   ],
   "source": [
    "from sklearn.metrics import precision_score, recall_score, accuracy_score, f1_score, log_loss, roc_auc_score, roc_curve\n",
    "print(\"Precision:\", precision_score(test_labels6, predictions_rf6))\n",
    "print(\"Recall: \", recall_score(test_labels6, predictions_rf6))\n",
    "print(\"Accuracy: \", accuracy_score(test_labels6, predictions_rf6))\n",
    "print(\"F1-score: \", f1_score(test_labels6, predictions_rf6))\n",
    "print(\"Log_loss: \", log_loss(test_labels6, predictions_rf6))"
   ]
  },
  {
   "cell_type": "code",
   "execution_count": 195,
   "id": "96bff7b6-5dcc-40e7-9860-38183da661f6",
   "metadata": {},
   "outputs": [
    {
     "data": {
      "text/plain": [
       "array([[9.99310760e-01, 6.89239965e-04],\n",
       "       [9.99310760e-01, 6.89239965e-04],\n",
       "       [9.99536109e-01, 4.63890554e-04],\n",
       "       ...,\n",
       "       [8.45154278e-01, 1.54845722e-01],\n",
       "       [8.93275068e-01, 1.06724932e-01],\n",
       "       [9.99358255e-01, 6.41744548e-04]])"
      ]
     },
     "execution_count": 195,
     "metadata": {},
     "output_type": "execute_result"
    }
   ],
   "source": [
    "predict_proba_rf6 = rf_best_param.predict_proba(test_data6)\n",
    "predict_proba_rf6"
   ]
  },
  {
   "cell_type": "code",
   "execution_count": 196,
   "id": "67f1ddf2-4177-4bce-922d-a987e9716aa5",
   "metadata": {},
   "outputs": [],
   "source": [
    "predict_proba_rf6 = predict_proba_rf6[:, 1]"
   ]
  },
  {
   "cell_type": "code",
   "execution_count": 197,
   "id": "2b9a7183-62c5-4eb8-8c28-95fcdd7ae8e1",
   "metadata": {},
   "outputs": [
    {
     "name": "stdout",
     "output_type": "stream",
     "text": [
      "AUC:  0.9856490416508478\n"
     ]
    }
   ],
   "source": [
    "print(\"AUC: \", roc_auc_score (test_labels6, predict_proba_rf6))"
   ]
  },
  {
   "cell_type": "code",
   "execution_count": 198,
   "id": "d1f81171-70ca-4290-af7a-9cdefaf4c964",
   "metadata": {},
   "outputs": [
    {
     "data": {
      "text/plain": [
       "[-0.1, 1.1, -0.1, 1.1]"
      ]
     },
     "execution_count": 198,
     "metadata": {},
     "output_type": "execute_result"
    },
    {
     "data": {
      "image/png": "[encoded data removed]",
      "text/plain": [
       "<Figure size 432x288 with 1 Axes>"
      ]
     },
     "metadata": {
      "needs_background": "light"
     },
     "output_type": "display_data"
    }
   ],
   "source": [
    "aucs = \"\"\n",
    "fpr, tpr, thr = roc_curve(test_labels6, predict_proba_rf6)\n",
    "plt.plot(fpr, tpr, label=\"Random_Forest\")\n",
    "aucs += \"Random_Forest\" + \":%3f\"%roc_auc_score(test_labels6, predict_proba_rf6) + \"\\n\"\n",
    "plt.xlabel(\"false positive rate\")\n",
    "plt.ylabel(\"true positive rate\")\n",
    "plt.legend(loc=4)\n",
    "plt.axis([-0.1, 1.1, -0.1, 1.1])"
   ]
  },
  {
   "cell_type": "markdown",
   "id": "34d9ec73-31de-4670-9213-4fa91b4d7ffc",
   "metadata": {},
   "source": [
    "---\n",
    "---"
   ]
  },
  {
   "cell_type": "markdown",
   "id": "b1e06dc0-2950-43e8-bf50-9bd712e5e0f6",
   "metadata": {},
   "source": [
    "XGBoost"
   ]
  },
  {
   "cell_type": "code",
   "execution_count": 199,
   "id": "be153e5f-228a-42e1-8912-12a5a844c3b2",
   "metadata": {},
   "outputs": [],
   "source": [
    "from xgboost import XGBClassifier\n",
    "from sklearn.model_selection import  learning_curve\n",
    "from sklearn import metrics\n",
    "from sklearn.metrics import precision_score, recall_score, accuracy_score, f1_score, log_loss\n",
    "from sklearn.model_selection import GridSearchCV"
   ]
  },
  {
   "cell_type": "code",
   "execution_count": 227,
   "id": "5cff1371-390c-412c-996f-3d2a7189438a",
   "metadata": {},
   "outputs": [],
   "source": [
    "train7 = pd.concat([Year_2018_P1, Year_2018_P2, Year_2019_P1, Year_2019_P2, Year_2020_P1, Year_2020_P2], ignore_index=True)\n",
    "train7 = train7.drop(['date_key'], axis=1)\n",
    "train_data7 = train7.drop(['Fraud_presence', 'Reject_presence'], axis=1)\n",
    "train_labels7 = train7['Fraud_presence']\n",
    "test_data7 = Year_2021.drop(['Fraud_presence', 'Reject_presence', 'date_key'], axis=1)\n",
    "test_labels7 = Year_2021['Fraud_presence']"
   ]
  },
  {
   "cell_type": "code",
   "execution_count": 243,
   "id": "b7b44ef0-e259-4c38-ab9d-4d23672b4891",
   "metadata": {},
   "outputs": [
    {
     "data": {
      "text/html": [
       "<div>\n",
       "<style scoped>\n",
       "    .dataframe tbody tr th:only-of-type {\n",
       "        vertical-align: middle;\n",
       "    }\n",
       "\n",
       "    .dataframe tbody tr th {\n",
       "        vertical-align: top;\n",
       "    }\n",
       "\n",
       "    .dataframe thead th {\n",
       "        text-align: right;\n",
       "    }\n",
       "</style>\n",
       "<table border=\"1\" class=\"dataframe\">\n",
       "  <thead>\n",
       "    <tr style=\"text-align: right;\">\n",
       "      <th></th>\n",
       "      <th>amount</th>\n",
       "      <th>client_inn</th>\n",
       "      <th>partner_inn</th>\n",
       "      <th>years</th>\n",
       "      <th>Длина_Отн_в_днях</th>\n",
       "      <th>Клиент_Сегмент_КБ</th>\n",
       "      <th>Клиент_Сегмент_МБ</th>\n",
       "      <th>Клиент_Сегмент_МКП</th>\n",
       "      <th>Клиент_Сегмент_СБ</th>\n",
       "      <th>Клиент_НаличиеЗПпроекта_Д</th>\n",
       "      <th>Клиент_НаличиеЗПпроекта_Н</th>\n",
       "    </tr>\n",
       "  </thead>\n",
       "  <tbody>\n",
       "    <tr>\n",
       "      <th>41659</th>\n",
       "      <td>20970.0</td>\n",
       "      <td>129.0</td>\n",
       "      <td>1036317.0</td>\n",
       "      <td>44</td>\n",
       "      <td>5479</td>\n",
       "      <td>1.0</td>\n",
       "      <td>0.0</td>\n",
       "      <td>0.0</td>\n",
       "      <td>0.0</td>\n",
       "      <td>1.0</td>\n",
       "      <td>0.0</td>\n",
       "    </tr>\n",
       "    <tr>\n",
       "      <th>41731</th>\n",
       "      <td>12800.0</td>\n",
       "      <td>129.0</td>\n",
       "      <td>379614.0</td>\n",
       "      <td>44</td>\n",
       "      <td>5479</td>\n",
       "      <td>1.0</td>\n",
       "      <td>0.0</td>\n",
       "      <td>0.0</td>\n",
       "      <td>0.0</td>\n",
       "      <td>1.0</td>\n",
       "      <td>0.0</td>\n",
       "    </tr>\n",
       "    <tr>\n",
       "      <th>41993</th>\n",
       "      <td>9000000.0</td>\n",
       "      <td>129.0</td>\n",
       "      <td>129.0</td>\n",
       "      <td>44</td>\n",
       "      <td>5479</td>\n",
       "      <td>1.0</td>\n",
       "      <td>0.0</td>\n",
       "      <td>0.0</td>\n",
       "      <td>0.0</td>\n",
       "      <td>1.0</td>\n",
       "      <td>0.0</td>\n",
       "    </tr>\n",
       "    <tr>\n",
       "      <th>42290</th>\n",
       "      <td>15000.0</td>\n",
       "      <td>129.0</td>\n",
       "      <td>587548.0</td>\n",
       "      <td>44</td>\n",
       "      <td>5479</td>\n",
       "      <td>1.0</td>\n",
       "      <td>0.0</td>\n",
       "      <td>0.0</td>\n",
       "      <td>0.0</td>\n",
       "      <td>1.0</td>\n",
       "      <td>0.0</td>\n",
       "    </tr>\n",
       "    <tr>\n",
       "      <th>42562</th>\n",
       "      <td>8827.1</td>\n",
       "      <td>129.0</td>\n",
       "      <td>3021.0</td>\n",
       "      <td>44</td>\n",
       "      <td>5479</td>\n",
       "      <td>1.0</td>\n",
       "      <td>0.0</td>\n",
       "      <td>0.0</td>\n",
       "      <td>0.0</td>\n",
       "      <td>1.0</td>\n",
       "      <td>0.0</td>\n",
       "    </tr>\n",
       "  </tbody>\n",
       "</table>\n",
       "</div>"
      ],
      "text/plain": [
       "          amount  client_inn  partner_inn years Длина_Отн_в_днях  \\\n",
       "41659    20970.0       129.0    1036317.0    44             5479   \n",
       "41731    12800.0       129.0     379614.0    44             5479   \n",
       "41993  9000000.0       129.0        129.0    44             5479   \n",
       "42290    15000.0       129.0     587548.0    44             5479   \n",
       "42562     8827.1       129.0       3021.0    44             5479   \n",
       "\n",
       "       Клиент_Сегмент_КБ  Клиент_Сегмент_МБ  Клиент_Сегмент_МКП  \\\n",
       "41659                1.0                0.0                 0.0   \n",
       "41731                1.0                0.0                 0.0   \n",
       "41993                1.0                0.0                 0.0   \n",
       "42290                1.0                0.0                 0.0   \n",
       "42562                1.0                0.0                 0.0   \n",
       "\n",
       "       Клиент_Сегмент_СБ  Клиент_НаличиеЗПпроекта_Д  Клиент_НаличиеЗПпроекта_Н  \n",
       "41659                0.0                        1.0                        0.0  \n",
       "41731                0.0                        1.0                        0.0  \n",
       "41993                0.0                        1.0                        0.0  \n",
       "42290                0.0                        1.0                        0.0  \n",
       "42562                0.0                        1.0                        0.0  "
      ]
     },
     "execution_count": 243,
     "metadata": {},
     "output_type": "execute_result"
    }
   ],
   "source": [
    "test_data7.head()"
   ]
  },
  {
   "cell_type": "code",
   "execution_count": 244,
   "id": "a00f6727-2fc0-476a-a0f3-5987f2429d44",
   "metadata": {},
   "outputs": [
    {
     "data": {
      "text/plain": [
       "amount                       float64\n",
       "client_inn                   float64\n",
       "partner_inn                  float64\n",
       "years                         object\n",
       "Длина_Отн_в_днях              object\n",
       "Клиент_Сегмент_КБ            float64\n",
       "Клиент_Сегмент_МБ            float64\n",
       "Клиент_Сегмент_МКП           float64\n",
       "Клиент_Сегмент_СБ            float64\n",
       "Клиент_НаличиеЗПпроекта_Д    float64\n",
       "Клиент_НаличиеЗПпроекта_Н    float64\n",
       "dtype: object"
      ]
     },
     "execution_count": 244,
     "metadata": {},
     "output_type": "execute_result"
    }
   ],
   "source": [
    "test_data7.dtypes"
   ]
  },
  {
   "cell_type": "code",
   "execution_count": 245,
   "id": "5021c2bc-e230-450e-a9ea-e790b2515c3b",
   "metadata": {},
   "outputs": [],
   "source": [
    "test_data7['years']=test_data7['years'].astype(int)\n",
    "test_data7['Длина_Отн_в_днях']=test_data7['Длина_Отн_в_днях'].astype(int)"
   ]
  },
  {
   "cell_type": "code",
   "execution_count": 233,
   "id": "6f2ed846-006b-48e6-a2c4-08292225d443",
   "metadata": {},
   "outputs": [],
   "source": [
    "param_grid = {\n",
    "    \"learning_rate\": [0.001, 0.01, 0.1, 1],\n",
    "    'n_estimators': [100, 200, 300, 400]\n",
    "}"
   ]
  },
  {
   "cell_type": "code",
   "execution_count": 234,
   "id": "bb6264cc-d174-4cf4-83a7-889c8d2d0509",
   "metadata": {},
   "outputs": [],
   "source": [
    "xgbc = XGBClassifier(n_jobs=-1)"
   ]
  },
  {
   "cell_type": "code",
   "execution_count": 235,
   "id": "b3ef93e4-2b32-46b6-9f94-94ce97d6c496",
   "metadata": {},
   "outputs": [
    {
     "data": {
      "text/plain": [
       "GridSearchCV(cv=3, error_score='raise-deprecating',\n",
       "       estimator=XGBClassifier(base_score=0.5, booster='gbtree', colsample_bylevel=1,\n",
       "       colsample_bytree=1, gamma=0, learning_rate=0.1, max_delta_step=0,\n",
       "       max_depth=3, min_child_weight=1, missing=None, n_estimators=100,\n",
       "       n_jobs=-1, nthread=None, objective='binary:logistic',\n",
       "       random_state=0, reg_alpha=0, reg_lambda=1, scale_pos_weight=1,\n",
       "       seed=None, silent=True, subsample=1),\n",
       "       fit_params=None, iid='warn', n_jobs=-1,\n",
       "       param_grid={'n_estimators': [100, 200, 300, 400], 'learning_rate': [0.001, 0.01, 0.1, 1]},\n",
       "       pre_dispatch='2*n_jobs', refit=True, return_train_score='warn',\n",
       "       scoring=None, verbose=0)"
      ]
     },
     "execution_count": 235,
     "metadata": {},
     "output_type": "execute_result"
    }
   ],
   "source": [
    "CV_xgb = GridSearchCV(estimator=xgbc, param_grid=param_grid, cv=3, n_jobs=-1)\n",
    "CV_xgb.fit(train_data7, train_labels7)"
   ]
  },
  {
   "cell_type": "code",
   "execution_count": 236,
   "id": "cbf1f93b-1483-4ef6-9582-7b33a1cf88a6",
   "metadata": {},
   "outputs": [
    {
     "data": {
      "text/plain": [
       "{'learning_rate': 1, 'n_estimators': 200}"
      ]
     },
     "execution_count": 236,
     "metadata": {},
     "output_type": "execute_result"
    }
   ],
   "source": [
    "CV_xgb.best_params_"
   ]
  },
  {
   "cell_type": "code",
   "execution_count": 237,
   "id": "4c709638-b577-44f9-89eb-1d4b27996810",
   "metadata": {},
   "outputs": [],
   "source": [
    "xgb_best_param=XGBClassifier(learning_rate=1, n_estimators=200, n_jobs=-1)"
   ]
  },
  {
   "cell_type": "code",
   "execution_count": 238,
   "id": "4de9d1cc-aeb0-4834-ad32-7addba182ab0",
   "metadata": {},
   "outputs": [
    {
     "data": {
      "text/plain": [
       "XGBClassifier(base_score=0.5, booster='gbtree', colsample_bylevel=1,\n",
       "       colsample_bytree=1, gamma=0, learning_rate=1, max_delta_step=0,\n",
       "       max_depth=3, min_child_weight=1, missing=None, n_estimators=200,\n",
       "       n_jobs=-1, nthread=None, objective='binary:logistic',\n",
       "       random_state=0, reg_alpha=0, reg_lambda=1, scale_pos_weight=1,\n",
       "       seed=None, silent=True, subsample=1)"
      ]
     },
     "execution_count": 238,
     "metadata": {},
     "output_type": "execute_result"
    }
   ],
   "source": [
    "xgb_best_param.fit(train_data7, train_labels7)"
   ]
  },
  {
   "cell_type": "code",
   "execution_count": 246,
   "id": "9d07f79e-62ef-4ebd-aa16-a62c62a3da07",
   "metadata": {},
   "outputs": [],
   "source": [
    "predictions_xgb = xgb_best_param.predict(test_data7)"
   ]
  },
  {
   "cell_type": "code",
   "execution_count": 247,
   "id": "d10be4f2-69ff-4f2b-86a2-c80ac43f25fd",
   "metadata": {},
   "outputs": [
    {
     "name": "stdout",
     "output_type": "stream",
     "text": [
      "Precision: 0.9335192933519293\n",
      "Recall:  0.9885364652929179\n",
      "Accuracy:  0.9600864108630799\n",
      "F1-score:  0.9602404700095641\n",
      "Log_loss:  1.3785939759525319\n"
     ]
    }
   ],
   "source": [
    "print(\"Precision:\", precision_score(test_labels7, predictions_xgb))\n",
    "print(\"Recall: \", recall_score(test_labels7, predictions_xgb))\n",
    "print(\"Accuracy: \", accuracy_score(test_labels7, predictions_xgb))\n",
    "print(\"F1-score: \", f1_score(test_labels7, predictions_xgb))\n",
    "print(\"Log_loss: \", log_loss(test_labels7, predictions_xgb))"
   ]
  },
  {
   "cell_type": "code",
   "execution_count": 248,
   "id": "4ab6273e-76d4-4809-b5b9-c7e939f54c74",
   "metadata": {},
   "outputs": [
    {
     "data": {
      "text/plain": [
       "array([[1.0000000e+00, 0.0000000e+00],\n",
       "       [1.0000000e+00, 0.0000000e+00],\n",
       "       [1.0000000e+00, 0.0000000e+00],\n",
       "       ...,\n",
       "       [1.0000000e+00, 1.6778992e-10],\n",
       "       [9.9262846e-01, 7.3715495e-03],\n",
       "       [1.0000000e+00, 4.3450388e-14]], dtype=float32)"
      ]
     },
     "execution_count": 248,
     "metadata": {},
     "output_type": "execute_result"
    }
   ],
   "source": [
    "predict_proba_xgb7 = xgb_best_param.predict_proba(test_data7)\n",
    "predict_proba_xgb7"
   ]
  },
  {
   "cell_type": "code",
   "execution_count": 250,
   "id": "b25cfc72-1f5f-4c59-a7f6-e28ea16f6ea5",
   "metadata": {},
   "outputs": [],
   "source": [
    "predict_proba_xgb7 = predict_proba_xgb7[:, 1]"
   ]
  },
  {
   "cell_type": "code",
   "execution_count": 251,
   "id": "7b97dd5e-e44c-40d1-8876-91c8f03ad894",
   "metadata": {},
   "outputs": [
    {
     "name": "stdout",
     "output_type": "stream",
     "text": [
      "AUC:  0.9857327566765703\n"
     ]
    }
   ],
   "source": [
    "print(\"AUC: \", roc_auc_score (test_labels7, predict_proba_xgb7))"
   ]
  },
  {
   "cell_type": "code",
   "execution_count": 253,
   "id": "88cd4104-bde0-4048-9b25-909df4870d6b",
   "metadata": {},
   "outputs": [
    {
     "data": {
      "text/plain": [
       "[-0.1, 1.1, -0.1, 1.1]"
      ]
     },
     "execution_count": 253,
     "metadata": {},
     "output_type": "execute_result"
    },
    {
     "data": {
      "image/png": "[encoded data removed]",
      "text/plain": [
       "<Figure size 432x288 with 1 Axes>"
      ]
     },
     "metadata": {
      "needs_background": "light"
     },
     "output_type": "display_data"
    }
   ],
   "source": [
    "aucs = \"\"\n",
    "fpr, tpr, thr = roc_curve(test_labels7, predict_proba_xgb7)\n",
    "plt.plot(fpr, tpr, label=\"XGB\")\n",
    "aucs += \"XGB\" + \":%3f\"%roc_auc_score(test_labels7, predict_proba_xgb7) + \"\\n\"\n",
    "plt.xlabel(\"false positive rate\")\n",
    "plt.ylabel(\"true positive rate\")\n",
    "plt.legend(loc=4)\n",
    "plt.axis([-0.1, 1.1, -0.1, 1.1])"
   ]
  },
  {
   "cell_type": "code",
   "execution_count": null,
   "id": "af9b112d-12b4-4b1d-b509-639498a6591f",
   "metadata": {},
   "outputs": [],
   "source": []
  }
 ],
 "metadata": {
  "kernelspec": {
   "display_name": "Python [conda env:.conda-py310]",
   "language": "python",
   "name": "conda-env-.conda-py310-py"
  },
  "language_info": {
   "codemirror_mode": {
    "name": "ipython",
    "version": 3
   },
   "file_extension": ".py",
   "mimetype": "text/x-python",
   "name": "python",
   "nbconvert_exporter": "python",
   "pygments_lexer": "ipython3",
   "version": "3.10.9"
  }
 },
 "nbformat": 4,
 "nbformat_minor": 5
}
